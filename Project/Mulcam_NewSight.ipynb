{
 "cells": [
  {
   "cell_type": "markdown",
   "metadata": {},
   "source": [
    "주제별 하이퍼파라미터\n",
    "1. 각 문서별 주제 키워드가 몇개 나와야 관련 뉴스로 정의할 것인지, threshold\n",
    "2. 주제별 word2vec size 결정하기, size\n",
    "3. 주제별 doc2vec vectersize 결정하기, vecter_size\n",
    "4. tfidf의 DBSCAN eps 결정하기, eps\n",
    "5. doc2vec의 DBSCAN eps 결정하기, eps"
   ]
  },
  {
   "cell_type": "code",
   "execution_count": 7,
   "metadata": {},
   "outputs": [],
   "source": [
    "\"\"\"\n",
    "뉴스 자동분류 서비스\n",
    "1. 토큰화\n",
    "2. word2vec, bow\n",
    "3. 새로운 query를 포함한 문서 추출\n",
    "4. tf-idf, tf-idf 클러스터링, kmeans, dbscan, 시각화\n",
    "5. doc2vec, doc2vec 클러스터링, kmeans, dbscan, 시각화\n",
    "6. tf-idf+ count\n",
    "- 멀캠 뉴사이트\n",
    "\"\"\"\n",
    "import numpy as np\n",
    "import pandas as pd\n",
    "import matplotlib\n",
    "import matplotlib.pyplot as plt\n",
    "import pickle\n",
    "import datetime\n",
    "import re\n",
    "from ckonlpy.tag import Twitter\n",
    "from gensim.models import Word2Vec\n",
    "from sklearn.preprocessing import StandardScaler\n",
    "from sklearn.feature_extraction.text import TfidfVectorizer\n",
    "from sklearn.manifold import TSNE\n",
    "from sklearn.decomposition import PCA\n",
    "from gensim.models.doc2vec import Doc2Vec, TaggedDocument\n",
    "from sklearn.cluster import KMeans\n",
    "from sklearn.cluster import DBSCAN\n",
    "\n",
    "matplotlib.rc('font', family='NanumBarunGothic')\n",
    "plt.rcParams['axes.unicode_minus'] = False\n",
    "\n",
    "\n",
    "class MulCamNewSightTokenize:\n",
    "    def __init__(self, add_dict=None, stopwords=None):\n",
    "        self.reg_reporter = re.compile('[가-힣]+\\s[가-힣]*기자')  # 기자\n",
    "        self.reg_email = re.compile('[a-zA-Z0-9_.+-]+@[a-zA-Z0-9-]+\\.[a-zA-Z0-9-.]+$')  # 이메일\n",
    "        self.reg_eng = re.compile('[a-z]+')  # 소문자 알파벳, 이메일 제거용, 대문자는 남겨둔다\n",
    "        self.reg_chi = re.compile(\"[\\u4e00-\\u9fff]+\")  # 한자\n",
    "        self.reg_sc = re.compile(\"·|…|◆+|◇+|▶+|●+|▲+|“|”|‘|’|\\\"|\\'|\\(|\\)\")  # 특수문자\n",
    "        self.reg_date = re.compile('\\d+일|\\d+월|\\d+년|\\d+시|\\d+분|\\(현지시간\\)|\\(현지시각\\)|\\d+')  # 날짜,시간,숫자\n",
    "        self.add_dict = add_dict\n",
    "        self.stopwords = stopwords\n",
    "\n",
    "    def get_dataframe(self, data_name_with_route):\n",
    "        \"\"\"\n",
    "        load news data\n",
    "        \"\"\"\n",
    "        with open(data_name_with_route, 'rb') as file:\n",
    "            data_list = []\n",
    "            while True:\n",
    "                try:\n",
    "                    data = pickle.load(file)\n",
    "                except EOFError:\n",
    "                    break\n",
    "                data_list.append(data)\n",
    "        # construct lists for data frame\n",
    "        title = []\n",
    "        content = []\n",
    "        date = []\n",
    "        for news in data_list[0]['return_object']['documents']:\n",
    "            title.append(news['title'])\n",
    "            content.append(news['content'])\n",
    "            date.append(news['published_at'][:10])  # 시간 조정이 필요하면 바꾸기\n",
    "        # make lists as data frame\n",
    "        news_data = pd.DataFrame([])\n",
    "        news_data['date'] = date\n",
    "        news_data['title'] = title\n",
    "        news_data['content'] = content\n",
    "        news_data['date_tmp'] = news_data['date'].apply(lambda x: datetime.datetime.strptime(x, '%Y-%m-%d').toordinal())\n",
    "        return news_data\n",
    "\n",
    "    def get_dataframe_from_list(self, data_names):\n",
    "        \"\"\"\n",
    "        주소가 저장되어있는 리스트에서 data frame 만들기\n",
    "        \"\"\"\n",
    "        news_data_list = []\n",
    "        for data_name in data_names:\n",
    "            news_data = self.get_dataframe(data_name)\n",
    "            news_data_list.append(news_data)\n",
    "        data = pd.DataFrame([])\n",
    "        for news_data in news_data_list:\n",
    "            data = data.append(news_data)\n",
    "        data.reset_index(inplace=True)\n",
    "        data.drop(['index'], axis=1, inplace=True)\n",
    "        return data\n",
    "\n",
    "    def preprocessing(self, doc):\n",
    "        \"\"\"\n",
    "        정규표현식 전처리 함수\n",
    "        \"\"\"\n",
    "        tmp = re.sub(self.reg_reporter, '', doc)\n",
    "        tmp = re.sub(self.reg_email, '', tmp)\n",
    "        tmp = re.sub(self.reg_eng, '', tmp)\n",
    "        tmp = re.sub(self.reg_chi, '', tmp)\n",
    "        tmp = re.sub(self.reg_sc, ' ', tmp)\n",
    "        tmp = re.sub(self.reg_date, '', tmp)\n",
    "        return tmp\n",
    "\n",
    "    def make_content_re(self, data):\n",
    "        data['content_re'] = data['content'].apply(self.preprocessing)\n",
    "        return data\n",
    "\n",
    "    def show_add_dict(self):\n",
    "        print('add_dict: ', self.add_dict)\n",
    "\n",
    "    def show_stopwords(self):\n",
    "        print('stopwords: ', self.stopwords)\n",
    "\n",
    "    def tokenize(self, data):\n",
    "        print('add_dict:', self.add_dict)\n",
    "        print('불용어: ', self.stopwords)\n",
    "        twitter = Twitter()\n",
    "        twitter.add_dictionary(self.add_dict, 'Noun')\n",
    "        tokenized_doc = data['content_re'].apply(lambda x: twitter.nouns(x))\n",
    "        tokenized_doc_without_stopwords = tokenized_doc.apply(\n",
    "            lambda x: [item.lower() for item in x if item not in self.stopwords])\n",
    "        data[\"tokenized_doc\"] = tokenized_doc_without_stopwords\n",
    "        return data\n",
    "\n",
    "\n",
    "class GetSimilarWords(Word2Vec):\n",
    "    def get_model(self, tokenized_doc, size=300, window=5, min_count=5, workers=4, sg=1):\n",
    "        self.model = Word2Vec(sentences=tokenized_doc, size=size, window=window, min_count=min_count, workers=workers,\n",
    "                              sg=sg)\n",
    "\n",
    "    def get_similar_words(self, string):\n",
    "        for word, score in self.model.wv.most_similar(string):\n",
    "            print(word)\n",
    "\n",
    "\n",
    "class GetStopWords:\n",
    "    def get_bow(self, sentences):\n",
    "        self.tmp_list = []\n",
    "        for doc in sentences:\n",
    "            self.tmp_list.extend(doc)\n",
    "        self.word_count = pd.Series(self.tmp_list).value_counts()\n",
    "        self.word_count_idx = list(self.word_count.index)\n",
    "\n",
    "    def get_stop_words(self, number):\n",
    "        stop_words_candi = self.word_count_idx[:number] + self.word_count_idx[-number:]\n",
    "        for word in stop_words_candi:\n",
    "            print(word)\n",
    "\n",
    "\n",
    "class GetDocsFromQuery:\n",
    "    def __init__(self, query):\n",
    "        self.query = query\n",
    "\n",
    "    def select_news(self, tokenized_doc):\n",
    "        selected_news = []\n",
    "        for idx in range(len(tokenized_doc)):\n",
    "            if self.query in tokenized_doc.iloc[idx]:\n",
    "                selected_news.append(idx)\n",
    "        print(\"length of selected news: \", len(selected_news))\n",
    "        print(\"length of original data: \", len(tokenized_doc))\n",
    "        return tokenized_doc.iloc[selected_news]\n",
    "\n",
    "\n",
    "class Vectorizer:\n",
    "    def get_tfidf_vec(self, query_doc, max_feat=None):\n",
    "        query_doc = query_doc.apply(lambda x: ' '.join(x))\n",
    "        obj = TfidfVectorizer(max_features=max_feat)  # max_features for lda\n",
    "        x = obj.fit_transform(query_doc).toarray()\n",
    "        words = np.array(obj.get_feature_names())\n",
    "        return x, words\n",
    "\n",
    "    def get_doc2vec(self, query_doc,\n",
    "                    dm=1, dbow_words=1, window=8, vector_size=50, alpha=0.025,\n",
    "                    seed=42, min_count=5, min_alpha=0.025, workers=4, hs=0, negative=10,\n",
    "                    n_epochs=50, model_name='d2v.model'):\n",
    "        tagged_data = [TaggedDocument(words=_d, tags=[str(i)]) for i, _d in enumerate(query_doc)]\n",
    "        model = Doc2Vec(\n",
    "            dm=dm,  # PV-DBOW => 0 / default 1\n",
    "            dbow_words=dbow_words,  # w2v simultaneous with DBOW d2v / default 0\n",
    "            window=window,  # distance between the predicted word and context words\n",
    "            vector_size=vector_size,  # vector size\n",
    "            alpha=alpha,  # learning-rate\n",
    "            seed=seed,\n",
    "            min_count=min_count,  # ignore with freq lower\n",
    "            min_alpha=min_alpha,  # min learning-rate\n",
    "            workers=workers,  # multi cpu\n",
    "            hs=hs,  # hierarchical softmax / default 0\n",
    "            negative=negative,  # negative sampling / default 5\n",
    "        )\n",
    "        model.build_vocab(tagged_data)\n",
    "        print(\"corpus_count: \", model.corpus_count)\n",
    "\n",
    "        for epoch in range(n_epochs):\n",
    "            if epoch % 10 == 0:\n",
    "                print('epoch: ', epoch)\n",
    "            model.train(tagged_data,\n",
    "                        total_examples=model.corpus_count,\n",
    "                        epochs=model.epochs)\n",
    "            model.alpha -= 0.0002  # decrease the learning rate\n",
    "            model.min_alpha = model.alpha  # fix the learning rate, no decay\n",
    "        model.save(model_name)\n",
    "        print(\"Model Saved\")\n",
    "        model_loaded = Doc2Vec.load(model_name)\n",
    "        print(\"Load Model\")\n",
    "        x_doc2vec = []\n",
    "        for i in range(len(query_doc)):\n",
    "            x_doc2vec.append(model_loaded.docvecs[i])\n",
    "        x_doc2vec = np.array(x_doc2vec)\n",
    "        return x_doc2vec\n",
    "\n",
    "    def load_doc2vec_model(self, query_doc, model_name):\n",
    "        print(\"Load Model\")\n",
    "        model_loaded = Doc2Vec.load(model_name)\n",
    "        x_doc2vec = []\n",
    "        for i in range(len(query_doc)):\n",
    "            x_doc2vec.append(model_loaded.docvecs[i])\n",
    "        x_doc2vec = np.array(x_doc2vec)\n",
    "        return x_doc2vec\n",
    "\n",
    "\n",
    "class Get2DPlot:\n",
    "    def __init__(self, x, reduction_method=\"PCA\",\n",
    "                 learning_rate=200, init='pca', random_state=10,\n",
    "                 cluster_method=\"DBSCAN\", eps=7, min_sample=2, n_clusters=3):\n",
    "        self.reduction_method = reduction_method\n",
    "        self.learning_rate = learning_rate\n",
    "        self.init = init\n",
    "        self.random_state = random_state\n",
    "        self.cluster_method = cluster_method\n",
    "        self.eps = eps\n",
    "        self.min_sample = min_sample\n",
    "        self.n_clusters = n_clusters\n",
    "        self.x_scaled = StandardScaler().fit_transform(x)\n",
    "\n",
    "    def get_2D_vec(self):\n",
    "        if self.reduction_method == 'TSNE':\n",
    "            t_sne = TSNE(n_components=2, learning_rate=self.learning_rate, init=self.init,\n",
    "                         random_state=self.random_state)\n",
    "            self.vec = t_sne.fit_transform(self.x_scaled)\n",
    "        elif self.reduction_method == 'PCA':\n",
    "            pca = PCA(n_components=2)\n",
    "            self.vec = pca.fit_transform(self.x_scaled)\n",
    "        return self.vec\n",
    "\n",
    "    def get_cluster_labels(self):\n",
    "        if self.cluster_method == 'kmeans':\n",
    "            cluster = KMeans(n_clusters=self.n_clusters, random_state=self.random_state).fit(self.x_scaled)\n",
    "            self.cluster_labels = cluster.labels_\n",
    "        elif self.cluster_method == 'DBSCAN':\n",
    "            self.cluster_labels = DBSCAN(eps=self.eps, min_samples=self.min_sample).fit_predict(self.x_scaled)\n",
    "        vec_pd = np.c_[self.vec, self.cluster_labels]\n",
    "        self.vec_pd = pd.DataFrame(vec_pd, columns=['x', 'y', 'labels'])\n",
    "        print(self.cluster_labels)\n",
    "\n",
    "    def plot2D(self):\n",
    "        print(self.reduction_method, self.cluster_method)\n",
    "        groups = self.vec_pd.groupby('labels')\n",
    "        fig, ax = plt.subplots()\n",
    "        for name, group in groups:\n",
    "            ax.plot(group.x,\n",
    "                    group.y,\n",
    "                    marker='o',\n",
    "                    linestyle='',\n",
    "                    label=name)\n",
    "        # ax.legend(fontsize=12, loc='upper left') # legend position\n",
    "\n",
    "        plt.title('%s Plot of %s' % (self.reduction_method, self.cluster_method), fontsize=20)\n",
    "        plt.xlabel('x', fontsize=14)\n",
    "        plt.ylabel('y', fontsize=14)\n",
    "        plt.show()\n",
    "        \n",
    "class AnalyzingNewsData:\n",
    "    def get_n_data_per_cluster(self, cluster_labels):\n",
    "        tmp = pd.DataFrame(pd.Series(cluster_labels).value_counts(), columns=['counts'])\n",
    "        tmp.index.name = 'cluster'\n",
    "        return tmp\n",
    "\n",
    "    def print_news_per_cluster(self, data, clusters, content='title'):\n",
    "        for n in clusters:\n",
    "            print('=' * 100, n)\n",
    "            for i in range(len(data)):\n",
    "                try:\n",
    "                    print(data[data['labels'] == n][content].iloc[i])\n",
    "                    print('*' * 100)\n",
    "                except:\n",
    "                    break\n",
    "            print('=' * 100, n)"
   ]
  },
  {
   "cell_type": "code",
   "execution_count": 8,
   "metadata": {},
   "outputs": [],
   "source": [
    "add_dict = ['그리고',\n",
    "            '미래에셋',\n",
    "            '미래에셋대우',\n",
    "           'ibk',]\n",
    "stopwords = []\n",
    "roots = ['data/미래에셋대우/rawdata_미래에셋대우.pickle',]"
   ]
  },
  {
   "cell_type": "code",
   "execution_count": 9,
   "metadata": {},
   "outputs": [],
   "source": [
    "newsight = MulCamNewSightTokenize(add_dict, stopwords)"
   ]
  },
  {
   "cell_type": "code",
   "execution_count": 10,
   "metadata": {},
   "outputs": [
    {
     "data": {
      "text/html": [
       "<div>\n",
       "<style scoped>\n",
       "    .dataframe tbody tr th:only-of-type {\n",
       "        vertical-align: middle;\n",
       "    }\n",
       "\n",
       "    .dataframe tbody tr th {\n",
       "        vertical-align: top;\n",
       "    }\n",
       "\n",
       "    .dataframe thead th {\n",
       "        text-align: right;\n",
       "    }\n",
       "</style>\n",
       "<table border=\"1\" class=\"dataframe\">\n",
       "  <thead>\n",
       "    <tr style=\"text-align: right;\">\n",
       "      <th></th>\n",
       "      <th>date</th>\n",
       "      <th>title</th>\n",
       "      <th>content</th>\n",
       "      <th>date_tmp</th>\n",
       "    </tr>\n",
       "  </thead>\n",
       "  <tbody>\n",
       "    <tr>\n",
       "      <th>0</th>\n",
       "      <td>2019-04-19</td>\n",
       "      <td>NH투자證 `선택과 집중` 통했다…펀드설정액, 증권사 1위에 올라</td>\n",
       "      <td>지난해 말 조직개편을 통해 펀드 판매에 승부수를 띄운 NH투자증권이 올해 들어 금융...</td>\n",
       "      <td>737168</td>\n",
       "    </tr>\n",
       "    <tr>\n",
       "      <th>1</th>\n",
       "      <td>2019-04-19</td>\n",
       "      <td>2차전지 기업들, 속속 '코스닥 입성' 채비</td>\n",
       "      <td>코윈테크, 8월 코스닥 상장 추진 \\n \\n \\n[ 이우상 기자 ] 2차전지 생산용...</td>\n",
       "      <td>737168</td>\n",
       "    </tr>\n",
       "    <tr>\n",
       "      <th>2</th>\n",
       "      <td>2019-04-19</td>\n",
       "      <td>증시 호조에 증권株 `훨훨`…2분기 실적도 `맑음`</td>\n",
       "      <td>올해 들어 증시가 호조를 보이면서 증권주들이 1분기 양호한 성적표를 받아들었다. 이...</td>\n",
       "      <td>737168</td>\n",
       "    </tr>\n",
       "    <tr>\n",
       "      <th>3</th>\n",
       "      <td>2019-04-19</td>\n",
       "      <td>한화 LifePlus TDF 설정 1년, 4% 대 운용성과 달성</td>\n",
       "      <td>한화 라이프플러스 상장지수펀드(ETF)의 수익률이 설정 이후 양호한 수익률을 올리고...</td>\n",
       "      <td>737168</td>\n",
       "    </tr>\n",
       "    <tr>\n",
       "      <th>4</th>\n",
       "      <td>2019-04-19</td>\n",
       "      <td>미래에셋벤처투자의 사회적기업1호펀드, 72.4% 수익 올리고 청산돼</td>\n",
       "      <td>미래에셋벤처투자는 지난 2011년 42억원으로 결성했던 사회적기업1호펀드가 72.4...</td>\n",
       "      <td>737168</td>\n",
       "    </tr>\n",
       "  </tbody>\n",
       "</table>\n",
       "</div>"
      ],
      "text/plain": [
       "         date                                  title  \\\n",
       "0  2019-04-19   NH투자證 `선택과 집중` 통했다…펀드설정액, 증권사 1위에 올라   \n",
       "1  2019-04-19               2차전지 기업들, 속속 '코스닥 입성' 채비   \n",
       "2  2019-04-19           증시 호조에 증권株 `훨훨`…2분기 실적도 `맑음`   \n",
       "3  2019-04-19    한화 LifePlus TDF 설정 1년, 4% 대 운용성과 달성   \n",
       "4  2019-04-19  미래에셋벤처투자의 사회적기업1호펀드, 72.4% 수익 올리고 청산돼   \n",
       "\n",
       "                                             content  date_tmp  \n",
       "0  지난해 말 조직개편을 통해 펀드 판매에 승부수를 띄운 NH투자증권이 올해 들어 금융...    737168  \n",
       "1  코윈테크, 8월 코스닥 상장 추진 \\n \\n \\n[ 이우상 기자 ] 2차전지 생산용...    737168  \n",
       "2  올해 들어 증시가 호조를 보이면서 증권주들이 1분기 양호한 성적표를 받아들었다. 이...    737168  \n",
       "3  한화 라이프플러스 상장지수펀드(ETF)의 수익률이 설정 이후 양호한 수익률을 올리고...    737168  \n",
       "4  미래에셋벤처투자는 지난 2011년 42억원으로 결성했던 사회적기업1호펀드가 72.4...    737168  "
      ]
     },
     "metadata": {},
     "output_type": "display_data"
    },
    {
     "data": {
      "text/html": [
       "<div>\n",
       "<style scoped>\n",
       "    .dataframe tbody tr th:only-of-type {\n",
       "        vertical-align: middle;\n",
       "    }\n",
       "\n",
       "    .dataframe tbody tr th {\n",
       "        vertical-align: top;\n",
       "    }\n",
       "\n",
       "    .dataframe thead th {\n",
       "        text-align: right;\n",
       "    }\n",
       "</style>\n",
       "<table border=\"1\" class=\"dataframe\">\n",
       "  <thead>\n",
       "    <tr style=\"text-align: right;\">\n",
       "      <th></th>\n",
       "      <th>date</th>\n",
       "      <th>title</th>\n",
       "      <th>content</th>\n",
       "      <th>date_tmp</th>\n",
       "      <th>content_re</th>\n",
       "    </tr>\n",
       "  </thead>\n",
       "  <tbody>\n",
       "    <tr>\n",
       "      <th>0</th>\n",
       "      <td>2019-04-19</td>\n",
       "      <td>NH투자證 `선택과 집중` 통했다…펀드설정액, 증권사 1위에 올라</td>\n",
       "      <td>지난해 말 조직개편을 통해 펀드 판매에 승부수를 띄운 NH투자증권이 올해 들어 금융...</td>\n",
       "      <td>737168</td>\n",
       "      <td>지난해 말 조직개편을 통해 펀드 판매에 승부수를 띄운 NH투자증권이 올해 들어 금융...</td>\n",
       "    </tr>\n",
       "    <tr>\n",
       "      <th>1</th>\n",
       "      <td>2019-04-19</td>\n",
       "      <td>2차전지 기업들, 속속 '코스닥 입성' 채비</td>\n",
       "      <td>코윈테크, 8월 코스닥 상장 추진 \\n \\n \\n[ 이우상 기자 ] 2차전지 생산용...</td>\n",
       "      <td>737168</td>\n",
       "      <td>코윈테크,  코스닥 상장 추진 \\n \\n \\n[  ] 차전지 생산용 설비 제조 기업...</td>\n",
       "    </tr>\n",
       "    <tr>\n",
       "      <th>2</th>\n",
       "      <td>2019-04-19</td>\n",
       "      <td>증시 호조에 증권株 `훨훨`…2분기 실적도 `맑음`</td>\n",
       "      <td>올해 들어 증시가 호조를 보이면서 증권주들이 1분기 양호한 성적표를 받아들었다. 이...</td>\n",
       "      <td>737168</td>\n",
       "      <td>올해 들어 증시가 호조를 보이면서 증권주들이 기 양호한 성적표를 받아들었다. 이에 ...</td>\n",
       "    </tr>\n",
       "    <tr>\n",
       "      <th>3</th>\n",
       "      <td>2019-04-19</td>\n",
       "      <td>한화 LifePlus TDF 설정 1년, 4% 대 운용성과 달성</td>\n",
       "      <td>한화 라이프플러스 상장지수펀드(ETF)의 수익률이 설정 이후 양호한 수익률을 올리고...</td>\n",
       "      <td>737168</td>\n",
       "      <td>한화 라이프플러스 상장지수펀드 ETF 의 수익률이 설정 이후 양호한 수익률을 올리고...</td>\n",
       "    </tr>\n",
       "    <tr>\n",
       "      <th>4</th>\n",
       "      <td>2019-04-19</td>\n",
       "      <td>미래에셋벤처투자의 사회적기업1호펀드, 72.4% 수익 올리고 청산돼</td>\n",
       "      <td>미래에셋벤처투자는 지난 2011년 42억원으로 결성했던 사회적기업1호펀드가 72.4...</td>\n",
       "      <td>737168</td>\n",
       "      <td>미래에셋벤처투자는 지난  억원으로 결성했던 사회적기업호펀드가 .%의 수익을 올린 뒤...</td>\n",
       "    </tr>\n",
       "  </tbody>\n",
       "</table>\n",
       "</div>"
      ],
      "text/plain": [
       "         date                                  title  \\\n",
       "0  2019-04-19   NH투자證 `선택과 집중` 통했다…펀드설정액, 증권사 1위에 올라   \n",
       "1  2019-04-19               2차전지 기업들, 속속 '코스닥 입성' 채비   \n",
       "2  2019-04-19           증시 호조에 증권株 `훨훨`…2분기 실적도 `맑음`   \n",
       "3  2019-04-19    한화 LifePlus TDF 설정 1년, 4% 대 운용성과 달성   \n",
       "4  2019-04-19  미래에셋벤처투자의 사회적기업1호펀드, 72.4% 수익 올리고 청산돼   \n",
       "\n",
       "                                             content  date_tmp  \\\n",
       "0  지난해 말 조직개편을 통해 펀드 판매에 승부수를 띄운 NH투자증권이 올해 들어 금융...    737168   \n",
       "1  코윈테크, 8월 코스닥 상장 추진 \\n \\n \\n[ 이우상 기자 ] 2차전지 생산용...    737168   \n",
       "2  올해 들어 증시가 호조를 보이면서 증권주들이 1분기 양호한 성적표를 받아들었다. 이...    737168   \n",
       "3  한화 라이프플러스 상장지수펀드(ETF)의 수익률이 설정 이후 양호한 수익률을 올리고...    737168   \n",
       "4  미래에셋벤처투자는 지난 2011년 42억원으로 결성했던 사회적기업1호펀드가 72.4...    737168   \n",
       "\n",
       "                                          content_re  \n",
       "0  지난해 말 조직개편을 통해 펀드 판매에 승부수를 띄운 NH투자증권이 올해 들어 금융...  \n",
       "1  코윈테크,  코스닥 상장 추진 \\n \\n \\n[  ] 차전지 생산용 설비 제조 기업...  \n",
       "2  올해 들어 증시가 호조를 보이면서 증권주들이 기 양호한 성적표를 받아들었다. 이에 ...  \n",
       "3  한화 라이프플러스 상장지수펀드 ETF 의 수익률이 설정 이후 양호한 수익률을 올리고...  \n",
       "4  미래에셋벤처투자는 지난  억원으로 결성했던 사회적기업호펀드가 .%의 수익을 올린 뒤...  "
      ]
     },
     "metadata": {},
     "output_type": "display_data"
    },
    {
     "name": "stdout",
     "output_type": "stream",
     "text": [
      "add_dict: ['그리고', '미래에셋', '미래에셋대우', 'ibk']\n",
      "불용어:  []\n"
     ]
    },
    {
     "name": "stderr",
     "output_type": "stream",
     "text": [
      "c:\\python\\lib\\site-packages\\konlpy\\tag\\_okt.py:16: UserWarning: \"Twitter\" has changed to \"Okt\" since KoNLPy v0.4.5.\n",
      "  warn('\"Twitter\" has changed to \"Okt\" since KoNLPy v0.4.5.')\n"
     ]
    },
    {
     "data": {
      "text/html": [
       "<div>\n",
       "<style scoped>\n",
       "    .dataframe tbody tr th:only-of-type {\n",
       "        vertical-align: middle;\n",
       "    }\n",
       "\n",
       "    .dataframe tbody tr th {\n",
       "        vertical-align: top;\n",
       "    }\n",
       "\n",
       "    .dataframe thead th {\n",
       "        text-align: right;\n",
       "    }\n",
       "</style>\n",
       "<table border=\"1\" class=\"dataframe\">\n",
       "  <thead>\n",
       "    <tr style=\"text-align: right;\">\n",
       "      <th></th>\n",
       "      <th>date</th>\n",
       "      <th>title</th>\n",
       "      <th>content</th>\n",
       "      <th>date_tmp</th>\n",
       "      <th>content_re</th>\n",
       "      <th>tokenized_doc</th>\n",
       "    </tr>\n",
       "  </thead>\n",
       "  <tbody>\n",
       "    <tr>\n",
       "      <th>0</th>\n",
       "      <td>2019-04-19</td>\n",
       "      <td>NH투자證 `선택과 집중` 통했다…펀드설정액, 증권사 1위에 올라</td>\n",
       "      <td>지난해 말 조직개편을 통해 펀드 판매에 승부수를 띄운 NH투자증권이 올해 들어 금융...</td>\n",
       "      <td>737168</td>\n",
       "      <td>지난해 말 조직개편을 통해 펀드 판매에 승부수를 띄운 NH투자증권이 올해 들어 금융...</td>\n",
       "      <td>[지난해, 말, 조직개편, 통해, 펀드, 판매, 승, 부수, 투자, 증권, 올해, ...</td>\n",
       "    </tr>\n",
       "    <tr>\n",
       "      <th>1</th>\n",
       "      <td>2019-04-19</td>\n",
       "      <td>2차전지 기업들, 속속 '코스닥 입성' 채비</td>\n",
       "      <td>코윈테크, 8월 코스닥 상장 추진 \\n \\n \\n[ 이우상 기자 ] 2차전지 생산용...</td>\n",
       "      <td>737168</td>\n",
       "      <td>코윈테크,  코스닥 상장 추진 \\n \\n \\n[  ] 차전지 생산용 설비 제조 기업...</td>\n",
       "      <td>[코윈, 테크, 코스닥, 상장, 추진, 차, 전지, 생산, 용, 설비, 제조, 기업...</td>\n",
       "    </tr>\n",
       "    <tr>\n",
       "      <th>2</th>\n",
       "      <td>2019-04-19</td>\n",
       "      <td>증시 호조에 증권株 `훨훨`…2분기 실적도 `맑음`</td>\n",
       "      <td>올해 들어 증시가 호조를 보이면서 증권주들이 1분기 양호한 성적표를 받아들었다. 이...</td>\n",
       "      <td>737168</td>\n",
       "      <td>올해 들어 증시가 호조를 보이면서 증권주들이 기 양호한 성적표를 받아들었다. 이에 ...</td>\n",
       "      <td>[올해, 증시, 호조, 보이, 면서, 증권, 주, 기, 양호, 성적표, 아들, 었다...</td>\n",
       "    </tr>\n",
       "    <tr>\n",
       "      <th>3</th>\n",
       "      <td>2019-04-19</td>\n",
       "      <td>한화 LifePlus TDF 설정 1년, 4% 대 운용성과 달성</td>\n",
       "      <td>한화 라이프플러스 상장지수펀드(ETF)의 수익률이 설정 이후 양호한 수익률을 올리고...</td>\n",
       "      <td>737168</td>\n",
       "      <td>한화 라이프플러스 상장지수펀드 ETF 의 수익률이 설정 이후 양호한 수익률을 올리고...</td>\n",
       "      <td>[한화, 라이프, 플러스, 상, 장지수, 펀드, 의, 수익률, 설정, 이후, 양호,...</td>\n",
       "    </tr>\n",
       "    <tr>\n",
       "      <th>4</th>\n",
       "      <td>2019-04-19</td>\n",
       "      <td>미래에셋벤처투자의 사회적기업1호펀드, 72.4% 수익 올리고 청산돼</td>\n",
       "      <td>미래에셋벤처투자는 지난 2011년 42억원으로 결성했던 사회적기업1호펀드가 72.4...</td>\n",
       "      <td>737168</td>\n",
       "      <td>미래에셋벤처투자는 지난  억원으로 결성했던 사회적기업호펀드가 .%의 수익을 올린 뒤...</td>\n",
       "      <td>[미래에셋, 처, 투자, 지난, 억원, 결성, 사회, 적기, 업호, 펀드, 의, 수...</td>\n",
       "    </tr>\n",
       "  </tbody>\n",
       "</table>\n",
       "</div>"
      ],
      "text/plain": [
       "         date                                  title  \\\n",
       "0  2019-04-19   NH투자證 `선택과 집중` 통했다…펀드설정액, 증권사 1위에 올라   \n",
       "1  2019-04-19               2차전지 기업들, 속속 '코스닥 입성' 채비   \n",
       "2  2019-04-19           증시 호조에 증권株 `훨훨`…2분기 실적도 `맑음`   \n",
       "3  2019-04-19    한화 LifePlus TDF 설정 1년, 4% 대 운용성과 달성   \n",
       "4  2019-04-19  미래에셋벤처투자의 사회적기업1호펀드, 72.4% 수익 올리고 청산돼   \n",
       "\n",
       "                                             content  date_tmp  \\\n",
       "0  지난해 말 조직개편을 통해 펀드 판매에 승부수를 띄운 NH투자증권이 올해 들어 금융...    737168   \n",
       "1  코윈테크, 8월 코스닥 상장 추진 \\n \\n \\n[ 이우상 기자 ] 2차전지 생산용...    737168   \n",
       "2  올해 들어 증시가 호조를 보이면서 증권주들이 1분기 양호한 성적표를 받아들었다. 이...    737168   \n",
       "3  한화 라이프플러스 상장지수펀드(ETF)의 수익률이 설정 이후 양호한 수익률을 올리고...    737168   \n",
       "4  미래에셋벤처투자는 지난 2011년 42억원으로 결성했던 사회적기업1호펀드가 72.4...    737168   \n",
       "\n",
       "                                          content_re  \\\n",
       "0  지난해 말 조직개편을 통해 펀드 판매에 승부수를 띄운 NH투자증권이 올해 들어 금융...   \n",
       "1  코윈테크,  코스닥 상장 추진 \\n \\n \\n[  ] 차전지 생산용 설비 제조 기업...   \n",
       "2  올해 들어 증시가 호조를 보이면서 증권주들이 기 양호한 성적표를 받아들었다. 이에 ...   \n",
       "3  한화 라이프플러스 상장지수펀드 ETF 의 수익률이 설정 이후 양호한 수익률을 올리고...   \n",
       "4  미래에셋벤처투자는 지난  억원으로 결성했던 사회적기업호펀드가 .%의 수익을 올린 뒤...   \n",
       "\n",
       "                                       tokenized_doc  \n",
       "0  [지난해, 말, 조직개편, 통해, 펀드, 판매, 승, 부수, 투자, 증권, 올해, ...  \n",
       "1  [코윈, 테크, 코스닥, 상장, 추진, 차, 전지, 생산, 용, 설비, 제조, 기업...  \n",
       "2  [올해, 증시, 호조, 보이, 면서, 증권, 주, 기, 양호, 성적표, 아들, 었다...  \n",
       "3  [한화, 라이프, 플러스, 상, 장지수, 펀드, 의, 수익률, 설정, 이후, 양호,...  \n",
       "4  [미래에셋, 처, 투자, 지난, 억원, 결성, 사회, 적기, 업호, 펀드, 의, 수...  "
      ]
     },
     "metadata": {},
     "output_type": "display_data"
    },
    {
     "name": "stdout",
     "output_type": "stream",
     "text": [
      "add_dict:  ['그리고', '미래에셋', '미래에셋대우', 'ibk']\n",
      "stopwords:  []\n"
     ]
    }
   ],
   "source": [
    "data = newsight.get_dataframe_from_list(roots)\n",
    "display(data.head())\n",
    "#data = data[:10].copy()\n",
    "\n",
    "data = newsight.make_content_re(data)\n",
    "display(data.head())\n",
    "data = newsight.tokenize(data)\n",
    "display(data.head())\n",
    "\n",
    "newsight.show_add_dict()\n",
    "newsight.show_stopwords()"
   ]
  },
  {
   "cell_type": "code",
   "execution_count": 11,
   "metadata": {},
   "outputs": [],
   "source": [
    "def count_topic(tokenized_doc, topic):\n",
    "    counting = []\n",
    "    for news in data.tokenized_doc:\n",
    "        counting.append(news.count(topic))\n",
    "    return counting\n",
    "\n",
    "def plot_hist(counting):\n",
    "    counting_pd = pd.Series(counting)\n",
    "    bins = len(counting_pd.value_counts())\n",
    "    counting_pd.hist(figsize=(16, 12), bins=bins*3)\n",
    "    plt.xlabel(\"counting\", fontsize=14)\n",
    "    plt.show()\n",
    "\n",
    "def get_proper_news(data, counting, threshold):\n",
    "    select = np.array(counting) >= threshold\n",
    "    print('number of total data:', len(data))\n",
    "    print('number of proper data:', sum(select))\n",
    "    return data[select].copy()"
   ]
  },
  {
   "cell_type": "code",
   "execution_count": 12,
   "metadata": {},
   "outputs": [
    {
     "data": {
      "image/png": "[encoded data removed]",
      "text/plain": [
       "<Figure size 1152x864 with 1 Axes>"
      ]
     },
     "metadata": {
      "needs_background": "light"
     },
     "output_type": "display_data"
    }
   ],
   "source": [
    "counting = count_topic(data.tokenized_doc, \"미래에셋대우\")\n",
    "plot_hist(counting)"
   ]
  },
  {
   "cell_type": "code",
   "execution_count": 13,
   "metadata": {},
   "outputs": [
    {
     "name": "stdout",
     "output_type": "stream",
     "text": [
      "number of total data: 10\n",
      "number of proper data: 3\n"
     ]
    }
   ],
   "source": [
    "data = get_proper_news(data, counting, threshold=3)\n",
    "#### 주제별로 다르게"
   ]
  },
  {
   "cell_type": "code",
   "execution_count": 14,
   "metadata": {},
   "outputs": [
    {
     "name": "stdout",
     "output_type": "stream",
     "text": [
      "최근\n",
      "를\n",
      "수\n",
      "대비\n",
      "금융업\n",
      "개인\n",
      "업종\n",
      "순\n",
      "수준\n",
      "패밀리\n"
     ]
    }
   ],
   "source": [
    "word2vec = GetSimilarWords()\n",
    "word2vec.get_model(data.tokenized_doc, size=300)\n",
    "word2vec.get_similar_words('미래에셋대우')"
   ]
  },
  {
   "cell_type": "code",
   "execution_count": 15,
   "metadata": {
    "scrolled": true
   },
   "outputs": [
    {
     "name": "stdout",
     "output_type": "stream",
     "text": [
      "주가\n",
      "대비\n",
      "원\n",
      "업종\n",
      "거래\n",
      "미래에셋대우\n",
      "현재\n",
      "주\n",
      "로\n",
      "기업\n",
      "뒤\n",
      "자리\n",
      "내리락\n",
      "성과\n",
      "식\n",
      "공공\n",
      "눈\n",
      "시장\n",
      "정적\n",
      "접근\n"
     ]
    }
   ],
   "source": [
    "getstopwords = GetStopWords()\n",
    "getstopwords.get_bow(data.tokenized_doc)\n",
    "getstopwords.get_stop_words(10)"
   ]
  },
  {
   "cell_type": "code",
   "execution_count": 16,
   "metadata": {},
   "outputs": [
    {
     "name": "stdout",
     "output_type": "stream",
     "text": [
      "length of selected news:  3\n",
      "length of original data:  3\n"
     ]
    }
   ],
   "source": [
    "getdoc = GetDocsFromQuery(query='미래에셋대우') \n",
    "query_docs = getdoc.select_news(data.tokenized_doc)"
   ]
  },
  {
   "cell_type": "code",
   "execution_count": 17,
   "metadata": {},
   "outputs": [
    {
     "name": "stdout",
     "output_type": "stream",
     "text": [
      "corpus_count:  3\n",
      "epoch:  0\n",
      "epoch:  10\n",
      "epoch:  20\n",
      "epoch:  30\n",
      "epoch:  40\n",
      "Model Saved\n",
      "Load Model\n"
     ]
    }
   ],
   "source": [
    "vectorizer = Vectorizer()\n",
    "Tfidfvec, words = vectorizer.get_tfidf_vec(query_docs)\n",
    "doc2vec = vectorizer.get_doc2vec(query_docs, vector_size=50, n_epochs=50,\n",
    "                                model_name='d2v.model')\n",
    "## vector_size 조절하기!!!!!"
   ]
  },
  {
   "cell_type": "markdown",
   "metadata": {},
   "source": [
    "# 뉴스 데이터 분석하기"
   ]
  },
  {
   "cell_type": "markdown",
   "metadata": {},
   "source": [
    "## tfidf"
   ]
  },
  {
   "cell_type": "code",
   "execution_count": 18,
   "metadata": {},
   "outputs": [
    {
     "name": "stdout",
     "output_type": "stream",
     "text": [
      "[0 0 0]\n",
      "PCA DBSCAN\n"
     ]
    },
    {
     "data": {
      "image/png": "[encoded data removed]",
      "text/plain": [
       "<Figure size 432x288 with 1 Axes>"
      ]
     },
     "metadata": {
      "needs_background": "light"
     },
     "output_type": "display_data"
    }
   ],
   "source": [
    "get_2d_plot = Get2DPlot(Tfidfvec, reduction_method=\"PCA\",\n",
    "                      cluster_method=\"DBSCAN\", eps=70, min_sample=3, n_clusters=3)\n",
    "## eps 크기 조정하기!!!!\n",
    "Tfidf_2D_vec = get_2d_plot.get_2D_vec()\n",
    "get_2d_plot.get_cluster_labels()\n",
    "get_2d_plot.plot2D()"
   ]
  },
  {
   "cell_type": "code",
   "execution_count": 25,
   "metadata": {},
   "outputs": [
    {
     "data": {
      "text/html": [
       "<div>\n",
       "<style scoped>\n",
       "    .dataframe tbody tr th:only-of-type {\n",
       "        vertical-align: middle;\n",
       "    }\n",
       "\n",
       "    .dataframe tbody tr th {\n",
       "        vertical-align: top;\n",
       "    }\n",
       "\n",
       "    .dataframe thead th {\n",
       "        text-align: right;\n",
       "    }\n",
       "</style>\n",
       "<table border=\"1\" class=\"dataframe\">\n",
       "  <thead>\n",
       "    <tr style=\"text-align: right;\">\n",
       "      <th></th>\n",
       "      <th>counts</th>\n",
       "    </tr>\n",
       "    <tr>\n",
       "      <th>cluster</th>\n",
       "      <th></th>\n",
       "    </tr>\n",
       "  </thead>\n",
       "  <tbody>\n",
       "    <tr>\n",
       "      <th>0</th>\n",
       "      <td>3</td>\n",
       "    </tr>\n",
       "  </tbody>\n",
       "</table>\n",
       "</div>"
      ],
      "text/plain": [
       "         counts\n",
       "cluster        \n",
       "0             3"
      ]
     },
     "metadata": {},
     "output_type": "display_data"
    }
   ],
   "source": [
    "clusters = sorted(list(set(get_2d_plot.cluster_labels)))\n",
    "new_data = data.loc[query_docs.index].copy()\n",
    "new_data['labels'] = get_2d_plot.cluster_labels\n",
    "analyzer = AnalyzingNewsData()\n",
    "display(analyzer.get_n_data_per_cluster(get_2d_plot.cluster_labels))"
   ]
  },
  {
   "cell_type": "code",
   "execution_count": 29,
   "metadata": {
    "scrolled": false
   },
   "outputs": [
    {
     "name": "stdout",
     "output_type": "stream",
     "text": [
      "==================================================================================================== 0\n",
      "미래에셋대우-에트리홀딩스, 중소·벤처기업 성장지원 업무 협약\n",
      "****************************************************************************************************\n",
      "미래에셋대우, 에트리홀딩스와 `중소·벤처기업 성장 지원` MOU 체결\n",
      "****************************************************************************************************\n",
      "[ET투자뉴스]GS_거래비중 기관 39.68%, 외국인 39.95%\n",
      "****************************************************************************************************\n",
      "==================================================================================================== 0\n"
     ]
    }
   ],
   "source": [
    "analyzer.print_news_per_cluster(new_data, analyzer.get_n_data_per_cluster(get_2d_plot.cluster_labels)[0:10].index, 'title')"
   ]
  },
  {
   "cell_type": "markdown",
   "metadata": {},
   "source": [
    "### 이상치 탐색 추가하기"
   ]
  },
  {
   "cell_type": "markdown",
   "metadata": {},
   "source": [
    "## doc2vec"
   ]
  },
  {
   "cell_type": "code",
   "execution_count": 30,
   "metadata": {},
   "outputs": [
    {
     "name": "stdout",
     "output_type": "stream",
     "text": [
      "[-1 -1 -1]\n",
      "PCA DBSCAN\n"
     ]
    },
    {
     "data": {
      "image/png": "[encoded data removed]",
      "text/plain": [
       "<Figure size 432x288 with 1 Axes>"
      ]
     },
     "metadata": {
      "needs_background": "light"
     },
     "output_type": "display_data"
    }
   ],
   "source": [
    "get_2d_plot = Get2DPlot(doc2vec, reduction_method=\"PCA\",\n",
    "                      cluster_method=\"DBSCAN\", eps=6, min_sample=3, n_clusters=3)\n",
    "## eps 조정하기!!!!\n",
    "doc2vec_2D_vec = get_2d_plot.get_2D_vec()\n",
    "get_2d_plot.get_cluster_labels()\n",
    "get_2d_plot.plot2D()"
   ]
  },
  {
   "cell_type": "code",
   "execution_count": 31,
   "metadata": {
    "scrolled": false
   },
   "outputs": [
    {
     "data": {
      "text/html": [
       "<div>\n",
       "<style scoped>\n",
       "    .dataframe tbody tr th:only-of-type {\n",
       "        vertical-align: middle;\n",
       "    }\n",
       "\n",
       "    .dataframe tbody tr th {\n",
       "        vertical-align: top;\n",
       "    }\n",
       "\n",
       "    .dataframe thead th {\n",
       "        text-align: right;\n",
       "    }\n",
       "</style>\n",
       "<table border=\"1\" class=\"dataframe\">\n",
       "  <thead>\n",
       "    <tr style=\"text-align: right;\">\n",
       "      <th></th>\n",
       "      <th>counts</th>\n",
       "    </tr>\n",
       "    <tr>\n",
       "      <th>cluster</th>\n",
       "      <th></th>\n",
       "    </tr>\n",
       "  </thead>\n",
       "  <tbody>\n",
       "    <tr>\n",
       "      <th>-1</th>\n",
       "      <td>3</td>\n",
       "    </tr>\n",
       "  </tbody>\n",
       "</table>\n",
       "</div>"
      ],
      "text/plain": [
       "         counts\n",
       "cluster        \n",
       "-1            3"
      ]
     },
     "metadata": {},
     "output_type": "display_data"
    }
   ],
   "source": [
    "clusters = sorted(list(set(get_2d_plot.cluster_labels)))\n",
    "new_data = data.loc[query_docs.index].copy()\n",
    "new_data['labels'] = get_2d_plot.cluster_labels\n",
    "display(analyzer.get_n_data_per_cluster(get_2d_plot.cluster_labels))"
   ]
  },
  {
   "cell_type": "code",
   "execution_count": 34,
   "metadata": {
    "scrolled": false
   },
   "outputs": [
    {
     "name": "stdout",
     "output_type": "stream",
     "text": [
      "==================================================================================================== -1\n",
      "미래에셋대우-에트리홀딩스, 중소·벤처기업 성장지원 업무 협약\n",
      "****************************************************************************************************\n",
      "미래에셋대우, 에트리홀딩스와 `중소·벤처기업 성장 지원` MOU 체결\n",
      "****************************************************************************************************\n",
      "[ET투자뉴스]GS_거래비중 기관 39.68%, 외국인 39.95%\n",
      "****************************************************************************************************\n",
      "==================================================================================================== -1\n"
     ]
    }
   ],
   "source": [
    "analyzer.print_news_per_cluster(new_data, analyzer.get_n_data_per_cluster(get_2d_plot.cluster_labels)[0:10].index, 'title')"
   ]
  },
  {
   "cell_type": "markdown",
   "metadata": {},
   "source": [
    "### 이상치 탐색 추가하기"
   ]
  },
  {
   "cell_type": "markdown",
   "metadata": {},
   "source": [
    "# 시도해볼 방법들"
   ]
  },
  {
   "cell_type": "markdown",
   "metadata": {},
   "source": [
    "1. 주제와 관련된 뉴스 찾기 아마 주제별로 다를듯? - 주제 키워드 등장 횟수\n",
    "2. TFIDF와 Doc2vec 주제에 따라 둘 중 하나가  잘맞을 듯 - 주제 별로 시도하기\n",
    "3. 정규표현식 전처리 할 때 공백으로 바꾸는게 낫지 않나? - 승현이형이랑 얘기하기\n",
    "4. 키워드 추출은 제목이 더 나을 듯? - 승현이형이 어렵다함"
   ]
  },
  {
   "cell_type": "markdown",
   "metadata": {},
   "source": [
    "# 해야할 일들\n",
    "1. 클러스터 별 키워드 추출\n",
    "2. 각 클러스터 별 핵심 뉴스 선택방식, BM25 score, TFIDF score\n",
    "3. UI 논의하기"
   ]
  },
  {
   "cell_type": "code",
   "execution_count": null,
   "metadata": {},
   "outputs": [],
   "source": []
  }
 ],
 "metadata": {
  "kernelspec": {
   "display_name": "Python 3",
   "language": "python",
   "name": "python3"
  },
  "language_info": {
   "codemirror_mode": {
    "name": "ipython",
    "version": 3
   },
   "file_extension": ".py",
   "mimetype": "text/x-python",
   "name": "python",
   "nbconvert_exporter": "python",
   "pygments_lexer": "ipython3",
   "version": "3.6.4"
  }
 },
 "nbformat": 4,
 "nbformat_minor": 2
}
