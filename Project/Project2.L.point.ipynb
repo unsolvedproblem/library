{
 "cells": [
  {
   "cell_type": "markdown",
   "metadata": {},
   "source": [
    "0. 기본설정"
   ]
  },
  {
   "cell_type": "code",
   "execution_count": 1,
   "metadata": {},
   "outputs": [],
   "source": [
    "import numpy as np ##배열, 3장에서는 DataFrame은 다루지 않음\n",
    "import os\n",
    "import matplotlib ##그림용\n",
    "import matplotlib.pyplot as plt ##그림용\n",
    "import sklearn ##사이킷런\n",
    "import pandas as pd\n",
    "\n",
    "np.random.seed(42) ##랜덤시드 \n",
    "\n",
    "matplotlib.rc('font', family='NanumBarunGothic') ##matplotlib 한글을 위해\n",
    "plt.rcParams['axes.unicode_minus'] = False ##한글을 위해"
   ]
  },
  {
   "cell_type": "markdown",
   "metadata": {},
   "source": [
    "1. 데이터 불러오기"
   ]
  },
  {
   "cell_type": "code",
   "execution_count": 2,
   "metadata": {},
   "outputs": [],
   "source": [
    "LPOINT_PATH = 'datasets/Lpoint'\n",
    "\n",
    "def load_Lpoint_data_product(Lpoint_path=LPOINT_PATH):\n",
    "    csv_path = os.path.join(Lpoint_path, \"01.Pruduct.csv\")\n",
    "    return pd.read_csv(csv_path)\n",
    "\n",
    "def load_Lpoint_data_search1(Lpoint_path=LPOINT_PATH):\n",
    "    csv_path = os.path.join(Lpoint_path, \"02.Search1.csv\")\n",
    "    return pd.read_csv(csv_path)\n",
    "\n",
    "def load_Lpoint_data_search2(Lpoint_path=LPOINT_PATH):\n",
    "    csv_path = os.path.join(Lpoint_path, \"03.Search2.csv\")\n",
    "    return pd.read_csv(csv_path)\n",
    "\n",
    "def load_Lpoint_data_custom(Lpoint_path=LPOINT_PATH):\n",
    "    csv_path = os.path.join(Lpoint_path, \"04.Custom.csv\")\n",
    "    return pd.read_csv(csv_path)\n",
    "\n",
    "def load_Lpoint_data_session(Lpoint_path=LPOINT_PATH):\n",
    "    csv_path = os.path.join(Lpoint_path, \"05.Session.csv\")\n",
    "    return pd.read_csv(csv_path)\n",
    "\n",
    "def load_Lpoint_data_master(Lpoint_path=LPOINT_PATH):\n",
    "    csv_path = os.path.join(Lpoint_path, \"06.Master.csv\")\n",
    "    return pd.read_csv(csv_path)"
   ]
  },
  {
   "cell_type": "code",
   "execution_count": 3,
   "metadata": {},
   "outputs": [
    {
     "name": "stderr",
     "output_type": "stream",
     "text": [
      "c:\\python\\lib\\site-packages\\IPython\\core\\interactiveshell.py:3185: DtypeWarning: Columns (7) have mixed types. Specify dtype option on import or set low_memory=False.\n",
      "  if (yield from self.run_code(code, result)):\n"
     ]
    }
   ],
   "source": [
    "product = load_Lpoint_data_product()\n",
    "search1 = load_Lpoint_data_search1()\n",
    "search2 = load_Lpoint_data_search2()\n",
    "custom = load_Lpoint_data_custom()\n",
    "session = load_Lpoint_data_session()\n",
    "master = load_Lpoint_data_master()"
   ]
  },
  {
   "cell_type": "code",
   "execution_count": 4,
   "metadata": {
    "scrolled": true
   },
   "outputs": [
    {
     "data": {
      "text/html": [
       "<div>\n",
       "<style scoped>\n",
       "    .dataframe tbody tr th:only-of-type {\n",
       "        vertical-align: middle;\n",
       "    }\n",
       "\n",
       "    .dataframe tbody tr th {\n",
       "        vertical-align: top;\n",
       "    }\n",
       "\n",
       "    .dataframe thead th {\n",
       "        text-align: right;\n",
       "    }\n",
       "</style>\n",
       "<table border=\"1\" class=\"dataframe\">\n",
       "  <thead>\n",
       "    <tr style=\"text-align: right;\">\n",
       "      <th></th>\n",
       "      <th>CLNT_ID</th>\n",
       "      <th>SESS_ID</th>\n",
       "      <th>HITS_SEQ</th>\n",
       "      <th>PD_C</th>\n",
       "      <th>PD_ADD_NM</th>\n",
       "      <th>PD_BRA_NM</th>\n",
       "      <th>PD_BUY_AM</th>\n",
       "      <th>PD_BUY_CT</th>\n",
       "    </tr>\n",
       "  </thead>\n",
       "  <tbody>\n",
       "    <tr>\n",
       "      <th>0</th>\n",
       "      <td>4139680</td>\n",
       "      <td>7605037</td>\n",
       "      <td>12</td>\n",
       "      <td>642112</td>\n",
       "      <td>색상:워터멜론</td>\n",
       "      <td>[바비브라운]</td>\n",
       "      <td>39,000</td>\n",
       "      <td>1</td>\n",
       "    </tr>\n",
       "    <tr>\n",
       "      <th>1</th>\n",
       "      <td>4140076</td>\n",
       "      <td>10189797</td>\n",
       "      <td>13</td>\n",
       "      <td>570603</td>\n",
       "      <td>색상:BLK0_(BLK0)BLACK|사이즈:120 / 2개</td>\n",
       "      <td>데상트</td>\n",
       "      <td>39,000</td>\n",
       "      <td>2</td>\n",
       "    </tr>\n",
       "    <tr>\n",
       "      <th>2</th>\n",
       "      <td>4142395</td>\n",
       "      <td>6158159</td>\n",
       "      <td>85</td>\n",
       "      <td>179538</td>\n",
       "      <td>(not set)</td>\n",
       "      <td>[아베다]</td>\n",
       "      <td>39,000</td>\n",
       "      <td>1</td>\n",
       "    </tr>\n",
       "    <tr>\n",
       "      <th>3</th>\n",
       "      <td>4144914</td>\n",
       "      <td>7935714</td>\n",
       "      <td>12</td>\n",
       "      <td>554336</td>\n",
       "      <td>색상:블랙|사이즈:160cm(12~13세) / 1개</td>\n",
       "      <td>아디다스 키즈</td>\n",
       "      <td>39,000</td>\n",
       "      <td>1</td>\n",
       "    </tr>\n",
       "    <tr>\n",
       "      <th>4</th>\n",
       "      <td>4144917</td>\n",
       "      <td>6406509</td>\n",
       "      <td>78</td>\n",
       "      <td>190306</td>\n",
       "      <td>5개</td>\n",
       "      <td>데코르테</td>\n",
       "      <td>39,000</td>\n",
       "      <td>5</td>\n",
       "    </tr>\n",
       "  </tbody>\n",
       "</table>\n",
       "</div>"
      ],
      "text/plain": [
       "   CLNT_ID   SESS_ID  HITS_SEQ    PD_C                         PD_ADD_NM  \\\n",
       "0  4139680   7605037        12  642112                           색상:워터멜론   \n",
       "1  4140076  10189797        13  570603  색상:BLK0_(BLK0)BLACK|사이즈:120 / 2개   \n",
       "2  4142395   6158159        85  179538                         (not set)   \n",
       "3  4144914   7935714        12  554336      색상:블랙|사이즈:160cm(12~13세) / 1개   \n",
       "4  4144917   6406509        78  190306                                5개   \n",
       "\n",
       "  PD_BRA_NM PD_BUY_AM PD_BUY_CT  \n",
       "0   [바비브라운]    39,000         1  \n",
       "1       데상트    39,000         2  \n",
       "2     [아베다]    39,000         1  \n",
       "3   아디다스 키즈    39,000         1  \n",
       "4      데코르테    39,000         5  "
      ]
     },
     "execution_count": 4,
     "metadata": {},
     "output_type": "execute_result"
    }
   ],
   "source": [
    "product.head()"
   ]
  },
  {
   "cell_type": "code",
   "execution_count": 5,
   "metadata": {},
   "outputs": [
    {
     "data": {
      "text/html": [
       "<div>\n",
       "<style scoped>\n",
       "    .dataframe tbody tr th:only-of-type {\n",
       "        vertical-align: middle;\n",
       "    }\n",
       "\n",
       "    .dataframe tbody tr th {\n",
       "        vertical-align: top;\n",
       "    }\n",
       "\n",
       "    .dataframe thead th {\n",
       "        text-align: right;\n",
       "    }\n",
       "</style>\n",
       "<table border=\"1\" class=\"dataframe\">\n",
       "  <thead>\n",
       "    <tr style=\"text-align: right;\">\n",
       "      <th></th>\n",
       "      <th>CLNT_ID</th>\n",
       "      <th>SESS_ID</th>\n",
       "      <th>KWD_NM</th>\n",
       "      <th>SEARCH_CNT</th>\n",
       "    </tr>\n",
       "  </thead>\n",
       "  <tbody>\n",
       "    <tr>\n",
       "      <th>0</th>\n",
       "      <td>5607714</td>\n",
       "      <td>7112876</td>\n",
       "      <td>빌리프 아이크림</td>\n",
       "      <td>6</td>\n",
       "    </tr>\n",
       "    <tr>\n",
       "      <th>1</th>\n",
       "      <td>5607714</td>\n",
       "      <td>4090791</td>\n",
       "      <td>프리메라 마스크팩</td>\n",
       "      <td>3</td>\n",
       "    </tr>\n",
       "    <tr>\n",
       "      <th>2</th>\n",
       "      <td>5607714</td>\n",
       "      <td>4090791</td>\n",
       "      <td>여성청결제</td>\n",
       "      <td>1</td>\n",
       "    </tr>\n",
       "    <tr>\n",
       "      <th>3</th>\n",
       "      <td>5612428</td>\n",
       "      <td>1876482</td>\n",
       "      <td>명품가방</td>\n",
       "      <td>1</td>\n",
       "    </tr>\n",
       "    <tr>\n",
       "      <th>4</th>\n",
       "      <td>5612428</td>\n",
       "      <td>658123</td>\n",
       "      <td>콩순이 아이스크림</td>\n",
       "      <td>1</td>\n",
       "    </tr>\n",
       "  </tbody>\n",
       "</table>\n",
       "</div>"
      ],
      "text/plain": [
       "   CLNT_ID  SESS_ID     KWD_NM  SEARCH_CNT\n",
       "0  5607714  7112876   빌리프 아이크림           6\n",
       "1  5607714  4090791  프리메라 마스크팩           3\n",
       "2  5607714  4090791      여성청결제           1\n",
       "3  5612428  1876482       명품가방           1\n",
       "4  5612428   658123  콩순이 아이스크림           1"
      ]
     },
     "execution_count": 5,
     "metadata": {},
     "output_type": "execute_result"
    }
   ],
   "source": [
    "search1.head()"
   ]
  },
  {
   "cell_type": "code",
   "execution_count": 6,
   "metadata": {},
   "outputs": [
    {
     "data": {
      "text/html": [
       "<div>\n",
       "<style scoped>\n",
       "    .dataframe tbody tr th:only-of-type {\n",
       "        vertical-align: middle;\n",
       "    }\n",
       "\n",
       "    .dataframe tbody tr th {\n",
       "        vertical-align: top;\n",
       "    }\n",
       "\n",
       "    .dataframe thead th {\n",
       "        text-align: right;\n",
       "    }\n",
       "</style>\n",
       "<table border=\"1\" class=\"dataframe\">\n",
       "  <thead>\n",
       "    <tr style=\"text-align: right;\">\n",
       "      <th></th>\n",
       "      <th>SESS_DT</th>\n",
       "      <th>KWD_NM</th>\n",
       "      <th>SEARCH_CNT</th>\n",
       "    </tr>\n",
       "  </thead>\n",
       "  <tbody>\n",
       "    <tr>\n",
       "      <th>0</th>\n",
       "      <td>20180407</td>\n",
       "      <td>닥스원피스</td>\n",
       "      <td>8</td>\n",
       "    </tr>\n",
       "    <tr>\n",
       "      <th>1</th>\n",
       "      <td>20180407</td>\n",
       "      <td>닥터지 브라이트닝</td>\n",
       "      <td>1</td>\n",
       "    </tr>\n",
       "    <tr>\n",
       "      <th>2</th>\n",
       "      <td>20180407</td>\n",
       "      <td>달팡 인트랄</td>\n",
       "      <td>2</td>\n",
       "    </tr>\n",
       "    <tr>\n",
       "      <th>3</th>\n",
       "      <td>20180407</td>\n",
       "      <td>대상트</td>\n",
       "      <td>1</td>\n",
       "    </tr>\n",
       "    <tr>\n",
       "      <th>4</th>\n",
       "      <td>20180407</td>\n",
       "      <td>더블유닷</td>\n",
       "      <td>6</td>\n",
       "    </tr>\n",
       "  </tbody>\n",
       "</table>\n",
       "</div>"
      ],
      "text/plain": [
       "    SESS_DT     KWD_NM SEARCH_CNT\n",
       "0  20180407      닥스원피스          8\n",
       "1  20180407  닥터지 브라이트닝          1\n",
       "2  20180407     달팡 인트랄          2\n",
       "3  20180407        대상트          1\n",
       "4  20180407       더블유닷          6"
      ]
     },
     "execution_count": 6,
     "metadata": {},
     "output_type": "execute_result"
    }
   ],
   "source": [
    "search2.head()"
   ]
  },
  {
   "cell_type": "code",
   "execution_count": 7,
   "metadata": {},
   "outputs": [
    {
     "data": {
      "text/html": [
       "<div>\n",
       "<style scoped>\n",
       "    .dataframe tbody tr th:only-of-type {\n",
       "        vertical-align: middle;\n",
       "    }\n",
       "\n",
       "    .dataframe tbody tr th {\n",
       "        vertical-align: top;\n",
       "    }\n",
       "\n",
       "    .dataframe thead th {\n",
       "        text-align: right;\n",
       "    }\n",
       "</style>\n",
       "<table border=\"1\" class=\"dataframe\">\n",
       "  <thead>\n",
       "    <tr style=\"text-align: right;\">\n",
       "      <th></th>\n",
       "      <th>CLNT_ID</th>\n",
       "      <th>CLNT_GENDER</th>\n",
       "      <th>CLNT_AGE</th>\n",
       "    </tr>\n",
       "  </thead>\n",
       "  <tbody>\n",
       "    <tr>\n",
       "      <th>0</th>\n",
       "      <td>4830726</td>\n",
       "      <td>F</td>\n",
       "      <td>30</td>\n",
       "    </tr>\n",
       "    <tr>\n",
       "      <th>1</th>\n",
       "      <td>4830874</td>\n",
       "      <td>F</td>\n",
       "      <td>40</td>\n",
       "    </tr>\n",
       "    <tr>\n",
       "      <th>2</th>\n",
       "      <td>4830975</td>\n",
       "      <td>F</td>\n",
       "      <td>30</td>\n",
       "    </tr>\n",
       "    <tr>\n",
       "      <th>3</th>\n",
       "      <td>4831275</td>\n",
       "      <td>F</td>\n",
       "      <td>30</td>\n",
       "    </tr>\n",
       "    <tr>\n",
       "      <th>4</th>\n",
       "      <td>4825325</td>\n",
       "      <td>F</td>\n",
       "      <td>30</td>\n",
       "    </tr>\n",
       "  </tbody>\n",
       "</table>\n",
       "</div>"
      ],
      "text/plain": [
       "   CLNT_ID CLNT_GENDER  CLNT_AGE\n",
       "0  4830726           F        30\n",
       "1  4830874           F        40\n",
       "2  4830975           F        30\n",
       "3  4831275           F        30\n",
       "4  4825325           F        30"
      ]
     },
     "execution_count": 7,
     "metadata": {},
     "output_type": "execute_result"
    }
   ],
   "source": [
    "custom.head()"
   ]
  },
  {
   "cell_type": "code",
   "execution_count": 8,
   "metadata": {},
   "outputs": [
    {
     "data": {
      "text/html": [
       "<div>\n",
       "<style scoped>\n",
       "    .dataframe tbody tr th:only-of-type {\n",
       "        vertical-align: middle;\n",
       "    }\n",
       "\n",
       "    .dataframe tbody tr th {\n",
       "        vertical-align: top;\n",
       "    }\n",
       "\n",
       "    .dataframe thead th {\n",
       "        text-align: right;\n",
       "    }\n",
       "</style>\n",
       "<table border=\"1\" class=\"dataframe\">\n",
       "  <thead>\n",
       "    <tr style=\"text-align: right;\">\n",
       "      <th></th>\n",
       "      <th>CLNT_ID</th>\n",
       "      <th>SESS_ID</th>\n",
       "      <th>SESS_SEQ</th>\n",
       "      <th>SESS_DT</th>\n",
       "      <th>TOT_PAG_VIEW_CT</th>\n",
       "      <th>TOT_SESS_HR_V</th>\n",
       "      <th>DVC_CTG_NM</th>\n",
       "      <th>ZON_NM</th>\n",
       "      <th>CITY_NM</th>\n",
       "    </tr>\n",
       "  </thead>\n",
       "  <tbody>\n",
       "    <tr>\n",
       "      <th>0</th>\n",
       "      <td>5873599</td>\n",
       "      <td>8641867</td>\n",
       "      <td>9</td>\n",
       "      <td>20180509</td>\n",
       "      <td>82.0</td>\n",
       "      <td>1,890</td>\n",
       "      <td>mobile</td>\n",
       "      <td>Daejeon</td>\n",
       "      <td>Daejeon</td>\n",
       "    </tr>\n",
       "    <tr>\n",
       "      <th>1</th>\n",
       "      <td>5873599</td>\n",
       "      <td>6616320</td>\n",
       "      <td>21</td>\n",
       "      <td>20180611</td>\n",
       "      <td>105.0</td>\n",
       "      <td>1,604</td>\n",
       "      <td>mobile</td>\n",
       "      <td>Busan</td>\n",
       "      <td>Busan</td>\n",
       "    </tr>\n",
       "    <tr>\n",
       "      <th>2</th>\n",
       "      <td>5873599</td>\n",
       "      <td>5886172</td>\n",
       "      <td>40</td>\n",
       "      <td>20180624</td>\n",
       "      <td>41.0</td>\n",
       "      <td>632</td>\n",
       "      <td>mobile</td>\n",
       "      <td>Daejeon</td>\n",
       "      <td>Daejeon</td>\n",
       "    </tr>\n",
       "    <tr>\n",
       "      <th>3</th>\n",
       "      <td>5873884</td>\n",
       "      <td>1050889</td>\n",
       "      <td>15</td>\n",
       "      <td>20180913</td>\n",
       "      <td>160.0</td>\n",
       "      <td>1,035</td>\n",
       "      <td>mobile</td>\n",
       "      <td>Gyeonggi-do</td>\n",
       "      <td>Anyang</td>\n",
       "    </tr>\n",
       "    <tr>\n",
       "      <th>4</th>\n",
       "      <td>5874461</td>\n",
       "      <td>10298270</td>\n",
       "      <td>5</td>\n",
       "      <td>20180412</td>\n",
       "      <td>13.0</td>\n",
       "      <td>298</td>\n",
       "      <td>mobile</td>\n",
       "      <td>Seoul</td>\n",
       "      <td>Seoul</td>\n",
       "    </tr>\n",
       "  </tbody>\n",
       "</table>\n",
       "</div>"
      ],
      "text/plain": [
       "   CLNT_ID   SESS_ID  SESS_SEQ   SESS_DT  TOT_PAG_VIEW_CT TOT_SESS_HR_V  \\\n",
       "0  5873599   8641867         9  20180509             82.0         1,890   \n",
       "1  5873599   6616320        21  20180611            105.0         1,604   \n",
       "2  5873599   5886172        40  20180624             41.0           632   \n",
       "3  5873884   1050889        15  20180913            160.0         1,035   \n",
       "4  5874461  10298270         5  20180412             13.0           298   \n",
       "\n",
       "  DVC_CTG_NM       ZON_NM  CITY_NM  \n",
       "0     mobile      Daejeon  Daejeon  \n",
       "1     mobile        Busan    Busan  \n",
       "2     mobile      Daejeon  Daejeon  \n",
       "3     mobile  Gyeonggi-do   Anyang  \n",
       "4     mobile        Seoul    Seoul  "
      ]
     },
     "execution_count": 8,
     "metadata": {},
     "output_type": "execute_result"
    }
   ],
   "source": [
    "session.head()"
   ]
  },
  {
   "cell_type": "code",
   "execution_count": 9,
   "metadata": {},
   "outputs": [
    {
     "data": {
      "text/html": [
       "<div>\n",
       "<style scoped>\n",
       "    .dataframe tbody tr th:only-of-type {\n",
       "        vertical-align: middle;\n",
       "    }\n",
       "\n",
       "    .dataframe tbody tr th {\n",
       "        vertical-align: top;\n",
       "    }\n",
       "\n",
       "    .dataframe thead th {\n",
       "        text-align: right;\n",
       "    }\n",
       "</style>\n",
       "<table border=\"1\" class=\"dataframe\">\n",
       "  <thead>\n",
       "    <tr style=\"text-align: right;\">\n",
       "      <th></th>\n",
       "      <th>PD_C</th>\n",
       "      <th>PD_NM</th>\n",
       "      <th>CLAC1_NM</th>\n",
       "      <th>CLAC2_NM</th>\n",
       "      <th>CLAC3_NM</th>\n",
       "    </tr>\n",
       "  </thead>\n",
       "  <tbody>\n",
       "    <tr>\n",
       "      <th>0</th>\n",
       "      <td>64382</td>\n",
       "      <td>언더아머 남성 UA HG 아머 모크 LS 1289559-001 - 블랙 / MD[95]</td>\n",
       "      <td>스포츠패션</td>\n",
       "      <td>남성일반스포츠의류</td>\n",
       "      <td>남성스포츠티셔츠</td>\n",
       "    </tr>\n",
       "    <tr>\n",
       "      <th>1</th>\n",
       "      <td>62282</td>\n",
       "      <td>여자 플라워덧신 2족선물세트 17403-2set</td>\n",
       "      <td>속옷/양말/홈웨어</td>\n",
       "      <td>여성양말류</td>\n",
       "      <td>여성일반양말</td>\n",
       "    </tr>\n",
       "    <tr>\n",
       "      <th>2</th>\n",
       "      <td>61729</td>\n",
       "      <td>88A2933253배트맨스웨트티 - 블랙 / 130</td>\n",
       "      <td>유아동의류</td>\n",
       "      <td>유아의류상의</td>\n",
       "      <td>영유아티셔츠/탑</td>\n",
       "    </tr>\n",
       "    <tr>\n",
       "      <th>3</th>\n",
       "      <td>61537</td>\n",
       "      <td>닥터마틴 아드리안 블랙, 체리레드 - 02_체리레드 / 250mm(6)</td>\n",
       "      <td>패션잡화</td>\n",
       "      <td>남성화</td>\n",
       "      <td>남성부츠</td>\n",
       "    </tr>\n",
       "    <tr>\n",
       "      <th>4</th>\n",
       "      <td>58820</td>\n",
       "      <td>여성 그레이 스트라이프 퍼프 소매 블라우스 (128865YQ33) - 회색(앤틱실버...</td>\n",
       "      <td>남성의류</td>\n",
       "      <td>남성의류상의</td>\n",
       "      <td>남성남방셔츠</td>\n",
       "    </tr>\n",
       "  </tbody>\n",
       "</table>\n",
       "</div>"
      ],
      "text/plain": [
       "    PD_C                                              PD_NM   CLAC1_NM  \\\n",
       "0  64382   언더아머 남성 UA HG 아머 모크 LS 1289559-001 - 블랙 / MD[95]      스포츠패션   \n",
       "1  62282                         여자 플라워덧신 2족선물세트 17403-2set  속옷/양말/홈웨어   \n",
       "2  61729                       88A2933253배트맨스웨트티 - 블랙 / 130      유아동의류   \n",
       "3  61537            닥터마틴 아드리안 블랙, 체리레드 - 02_체리레드 / 250mm(6)       패션잡화   \n",
       "4  58820  여성 그레이 스트라이프 퍼프 소매 블라우스 (128865YQ33) - 회색(앤틱실버...       남성의류   \n",
       "\n",
       "    CLAC2_NM  CLAC3_NM  \n",
       "0  남성일반스포츠의류  남성스포츠티셔츠  \n",
       "1      여성양말류    여성일반양말  \n",
       "2     유아의류상의  영유아티셔츠/탑  \n",
       "3        남성화      남성부츠  \n",
       "4     남성의류상의    남성남방셔츠  "
      ]
     },
     "execution_count": 9,
     "metadata": {},
     "output_type": "execute_result"
    }
   ],
   "source": [
    "master.head()"
   ]
  },
  {
   "cell_type": "code",
   "execution_count": 10,
   "metadata": {},
   "outputs": [
    {
     "name": "stdout",
     "output_type": "stream",
     "text": [
      "<class 'pandas.core.frame.DataFrame'>\n",
      "RangeIndex: 5024906 entries, 0 to 5024905\n",
      "Data columns (total 8 columns):\n",
      "CLNT_ID      int64\n",
      "SESS_ID      int64\n",
      "HITS_SEQ     int64\n",
      "PD_C         int64\n",
      "PD_ADD_NM    object\n",
      "PD_BRA_NM    object\n",
      "PD_BUY_AM    object\n",
      "PD_BUY_CT    object\n",
      "dtypes: int64(4), object(4)\n",
      "memory usage: 306.7+ MB\n"
     ]
    }
   ],
   "source": [
    "product.info()"
   ]
  },
  {
   "cell_type": "code",
   "execution_count": 11,
   "metadata": {},
   "outputs": [
    {
     "name": "stdout",
     "output_type": "stream",
     "text": [
      "<class 'pandas.core.frame.DataFrame'>\n",
      "RangeIndex: 2884943 entries, 0 to 2884942\n",
      "Data columns (total 4 columns):\n",
      "CLNT_ID       int64\n",
      "SESS_ID       int64\n",
      "KWD_NM        object\n",
      "SEARCH_CNT    int64\n",
      "dtypes: int64(3), object(1)\n",
      "memory usage: 88.0+ MB\n"
     ]
    }
   ],
   "source": [
    "search1.info()"
   ]
  },
  {
   "cell_type": "code",
   "execution_count": 12,
   "metadata": {},
   "outputs": [
    {
     "name": "stdout",
     "output_type": "stream",
     "text": [
      "<class 'pandas.core.frame.DataFrame'>\n",
      "RangeIndex: 8051172 entries, 0 to 8051171\n",
      "Data columns (total 3 columns):\n",
      "SESS_DT       int64\n",
      "KWD_NM        object\n",
      "SEARCH_CNT    object\n",
      "dtypes: int64(1), object(2)\n",
      "memory usage: 184.3+ MB\n"
     ]
    }
   ],
   "source": [
    "search2.info()"
   ]
  },
  {
   "cell_type": "code",
   "execution_count": 13,
   "metadata": {},
   "outputs": [
    {
     "name": "stdout",
     "output_type": "stream",
     "text": [
      "<class 'pandas.core.frame.DataFrame'>\n",
      "RangeIndex: 671679 entries, 0 to 671678\n",
      "Data columns (total 3 columns):\n",
      "CLNT_ID        671679 non-null int64\n",
      "CLNT_GENDER    671679 non-null object\n",
      "CLNT_AGE       671679 non-null int64\n",
      "dtypes: int64(2), object(1)\n",
      "memory usage: 15.4+ MB\n"
     ]
    }
   ],
   "source": [
    "custom.info()"
   ]
  },
  {
   "cell_type": "code",
   "execution_count": 14,
   "metadata": {},
   "outputs": [
    {
     "name": "stdout",
     "output_type": "stream",
     "text": [
      "<class 'pandas.core.frame.DataFrame'>\n",
      "RangeIndex: 2712907 entries, 0 to 2712906\n",
      "Data columns (total 9 columns):\n",
      "CLNT_ID            int64\n",
      "SESS_ID            int64\n",
      "SESS_SEQ           int64\n",
      "SESS_DT            int64\n",
      "TOT_PAG_VIEW_CT    float64\n",
      "TOT_SESS_HR_V      object\n",
      "DVC_CTG_NM         object\n",
      "ZON_NM             object\n",
      "CITY_NM            object\n",
      "dtypes: float64(1), int64(4), object(4)\n",
      "memory usage: 186.3+ MB\n"
     ]
    }
   ],
   "source": [
    "session.info()"
   ]
  },
  {
   "cell_type": "code",
   "execution_count": 15,
   "metadata": {},
   "outputs": [
    {
     "name": "stdout",
     "output_type": "stream",
     "text": [
      "<class 'pandas.core.frame.DataFrame'>\n",
      "RangeIndex: 847652 entries, 0 to 847651\n",
      "Data columns (total 5 columns):\n",
      "PD_C        847652 non-null int64\n",
      "PD_NM       847652 non-null object\n",
      "CLAC1_NM    847652 non-null object\n",
      "CLAC2_NM    847652 non-null object\n",
      "CLAC3_NM    847652 non-null object\n",
      "dtypes: int64(1), object(4)\n",
      "memory usage: 32.3+ MB\n"
     ]
    }
   ],
   "source": [
    "master.info()"
   ]
  },
  {
   "cell_type": "code",
   "execution_count": 16,
   "metadata": {},
   "outputs": [
    {
     "data": {
      "text/html": [
       "<div>\n",
       "<style scoped>\n",
       "    .dataframe tbody tr th:only-of-type {\n",
       "        vertical-align: middle;\n",
       "    }\n",
       "\n",
       "    .dataframe tbody tr th {\n",
       "        vertical-align: top;\n",
       "    }\n",
       "\n",
       "    .dataframe thead th {\n",
       "        text-align: right;\n",
       "    }\n",
       "</style>\n",
       "<table border=\"1\" class=\"dataframe\">\n",
       "  <thead>\n",
       "    <tr style=\"text-align: right;\">\n",
       "      <th></th>\n",
       "      <th>CLNT_ID</th>\n",
       "      <th>SESS_ID</th>\n",
       "      <th>HITS_SEQ</th>\n",
       "      <th>PD_C</th>\n",
       "    </tr>\n",
       "  </thead>\n",
       "  <tbody>\n",
       "    <tr>\n",
       "      <th>count</th>\n",
       "      <td>5.024906e+06</td>\n",
       "      <td>5.024906e+06</td>\n",
       "      <td>5.024906e+06</td>\n",
       "      <td>5.024906e+06</td>\n",
       "    </tr>\n",
       "    <tr>\n",
       "      <th>mean</th>\n",
       "      <td>3.324521e+06</td>\n",
       "      <td>5.837411e+06</td>\n",
       "      <td>8.125631e+01</td>\n",
       "      <td>4.634718e+05</td>\n",
       "    </tr>\n",
       "    <tr>\n",
       "      <th>std</th>\n",
       "      <td>1.915823e+06</td>\n",
       "      <td>3.100258e+06</td>\n",
       "      <td>8.593581e+01</td>\n",
       "      <td>2.436654e+05</td>\n",
       "    </tr>\n",
       "    <tr>\n",
       "      <th>min</th>\n",
       "      <td>8.000000e+00</td>\n",
       "      <td>2.600000e+01</td>\n",
       "      <td>1.000000e+00</td>\n",
       "      <td>1.000000e+00</td>\n",
       "    </tr>\n",
       "    <tr>\n",
       "      <th>25%</th>\n",
       "      <td>1.661354e+06</td>\n",
       "      <td>3.261247e+06</td>\n",
       "      <td>2.400000e+01</td>\n",
       "      <td>2.631752e+05</td>\n",
       "    </tr>\n",
       "    <tr>\n",
       "      <th>50%</th>\n",
       "      <td>3.326272e+06</td>\n",
       "      <td>6.046904e+06</td>\n",
       "      <td>5.000000e+01</td>\n",
       "      <td>4.740850e+05</td>\n",
       "    </tr>\n",
       "    <tr>\n",
       "      <th>75%</th>\n",
       "      <td>4.992865e+06</td>\n",
       "      <td>8.467387e+06</td>\n",
       "      <td>1.040000e+02</td>\n",
       "      <td>6.844500e+05</td>\n",
       "    </tr>\n",
       "    <tr>\n",
       "      <th>max</th>\n",
       "      <td>6.592554e+06</td>\n",
       "      <td>1.097794e+07</td>\n",
       "      <td>5.000000e+02</td>\n",
       "      <td>8.476520e+05</td>\n",
       "    </tr>\n",
       "  </tbody>\n",
       "</table>\n",
       "</div>"
      ],
      "text/plain": [
       "            CLNT_ID       SESS_ID      HITS_SEQ          PD_C\n",
       "count  5.024906e+06  5.024906e+06  5.024906e+06  5.024906e+06\n",
       "mean   3.324521e+06  5.837411e+06  8.125631e+01  4.634718e+05\n",
       "std    1.915823e+06  3.100258e+06  8.593581e+01  2.436654e+05\n",
       "min    8.000000e+00  2.600000e+01  1.000000e+00  1.000000e+00\n",
       "25%    1.661354e+06  3.261247e+06  2.400000e+01  2.631752e+05\n",
       "50%    3.326272e+06  6.046904e+06  5.000000e+01  4.740850e+05\n",
       "75%    4.992865e+06  8.467387e+06  1.040000e+02  6.844500e+05\n",
       "max    6.592554e+06  1.097794e+07  5.000000e+02  8.476520e+05"
      ]
     },
     "execution_count": 16,
     "metadata": {},
     "output_type": "execute_result"
    }
   ],
   "source": [
    "product.describe()"
   ]
  },
  {
   "cell_type": "code",
   "execution_count": 17,
   "metadata": {},
   "outputs": [
    {
     "data": {
      "text/plain": [
       "array([[<matplotlib.axes._subplots.AxesSubplot object at 0x000002DD86FC50F0>,\n",
       "        <matplotlib.axes._subplots.AxesSubplot object at 0x000002DD8703A400>],\n",
       "       [<matplotlib.axes._subplots.AxesSubplot object at 0x000002DD87062668>,\n",
       "        <matplotlib.axes._subplots.AxesSubplot object at 0x000002DD8708B8D0>]],\n",
       "      dtype=object)"
      ]
     },
     "execution_count": 17,
     "metadata": {},
     "output_type": "execute_result"
    },
    {
     "data": {
      "image/png": "[encoded data removed]",
      "text/plain": [
       "<Figure size 1440x1080 with 4 Axes>"
      ]
     },
     "metadata": {
      "needs_background": "light"
     },
     "output_type": "display_data"
    }
   ],
   "source": [
    "product.hist(bins=50, figsize=(20,15))"
   ]
  },
  {
   "cell_type": "code",
   "execution_count": null,
   "metadata": {},
   "outputs": [],
   "source": []
  }
 ],
 "metadata": {
  "kernelspec": {
   "display_name": "Python 3",
   "language": "python",
   "name": "python3"
  },
  "language_info": {
   "codemirror_mode": {
    "name": "ipython",
    "version": 3
   },
   "file_extension": ".py",
   "mimetype": "text/x-python",
   "name": "python",
   "nbconvert_exporter": "python",
   "pygments_lexer": "ipython3",
   "version": "3.6.4"
  }
 },
 "nbformat": 4,
 "nbformat_minor": 2
}
