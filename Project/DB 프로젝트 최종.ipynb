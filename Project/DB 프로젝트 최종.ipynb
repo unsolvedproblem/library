{
 "cells": [
  {
   "cell_type": "markdown",
   "metadata": {},
   "source": [
    "# 비상장 중소기업의 상장 후 주가 예측 프로젝트\n",
    "\n",
    "이 프로젝트는 비상장 중소기업의 상장 후 주가 예측 프로젝트이다. 과거 중소기업의 데이터와 상장 후 주가의 산술평균 데이터를 이용할 것이다. 중소기업의 데이터는 기업 내 재무재표와 거시정보를 이용한다."
   ]
  },
  {
   "cell_type": "markdown",
   "metadata": {},
   "source": [
    "기본설정"
   ]
  },
  {
   "cell_type": "code",
   "execution_count": 706,
   "metadata": {},
   "outputs": [],
   "source": [
    "import numpy as np \n",
    "import os  \n",
    "import matplotlib ##그림용\n",
    "import matplotlib.pyplot as plt ##그림용\n",
    "import sklearn ##사이킷런\n",
    "import pandas as pd\n",
    "\n",
    "np.random.seed(42) ##랜덤시드 \n",
    "\n",
    "matplotlib.rc('font', family='NanumBarunGothic') ##matplotlib 한글을 위해\n",
    "plt.rcParams['axes.unicode_minus'] = False ##한글을 위해"
   ]
  },
  {
   "cell_type": "code",
   "execution_count": 707,
   "metadata": {},
   "outputs": [],
   "source": [
    "DATA = pd.read_csv('datasets//DB//DB_data.csv', engine='python')"
   ]
  },
  {
   "cell_type": "markdown",
   "metadata": {},
   "source": [
    "# 기업규모명\n",
    "\n",
    "우리가 예측하고 싶은 대상은 중소기업이므로 중소기업만 관찰한다."
   ]
  },
  {
   "cell_type": "code",
   "execution_count": 708,
   "metadata": {},
   "outputs": [
    {
     "data": {
      "text/plain": [
       "count    4.545400e+04\n",
       "mean     2.766833e+04\n",
       "std      1.039126e+05\n",
       "min      9.400000e+01\n",
       "25%      2.905250e+03\n",
       "50%      6.297000e+03\n",
       "75%      1.675775e+04\n",
       "max      3.039182e+06\n",
       "Name: 산술평균, dtype: float64"
      ]
     },
     "execution_count": 708,
     "metadata": {},
     "output_type": "execute_result"
    }
   ],
   "source": [
    "data = DATA[DATA[\"기업규모명\"] == '중소기업']\n",
    "data[\"산술평균\"].describe()"
   ]
  },
  {
   "cell_type": "markdown",
   "metadata": {},
   "source": [
    "우리의 타겟값인 산술평균의 경우 평균은 8000이지만 최댓값은 604000이다. 주어진 데이터에 이상치가 많다고 판단되어 산술평균이 15000 이내의 데이터만 사용하도록 한다."
   ]
  },
  {
   "cell_type": "code",
   "execution_count": 775,
   "metadata": {},
   "outputs": [
    {
     "data": {
      "text/plain": [
       "count    2.246000e+03\n",
       "mean     3.175805e+05\n",
       "std      3.528391e+05\n",
       "min      1.000620e+05\n",
       "25%      1.322050e+05\n",
       "50%      1.860360e+05\n",
       "75%      3.131668e+05\n",
       "max      3.039182e+06\n",
       "Name: 산술평균, dtype: float64"
      ]
     },
     "execution_count": 775,
     "metadata": {},
     "output_type": "execute_result"
    }
   ],
   "source": [
    "data = data[data[\"산술평균\"] > 100000]\n",
    "data[\"산술평균\"].describe()"
   ]
  },
  {
   "cell_type": "code",
   "execution_count": 709,
   "metadata": {},
   "outputs": [
    {
     "name": "stdout",
     "output_type": "stream",
     "text": [
      "<class 'pandas.core.frame.DataFrame'>\n",
      "Int64Index: 45454 entries, 0 to 47878\n",
      "Data columns (total 41 columns):\n",
      "회사명                  45454 non-null object\n",
      "회계년도                 45454 non-null object\n",
      "산업명                  45454 non-null object\n",
      "소속코드                 45454 non-null float64\n",
      "설립일                  45454 non-null object\n",
      "종업원                  45454 non-null float64\n",
      "당좌자산(*)              44838 non-null float64\n",
      "재고자산(*)              44838 non-null float64\n",
      "비유동자산(*)             44838 non-null float64\n",
      "유동부채(*)              44838 non-null float64\n",
      "비유동부채(*)             44838 non-null float64\n",
      "자본금(*)               44838 non-null float64\n",
      "자본잉여금(*)             44838 non-null float64\n",
      "자본조정(*)              44838 non-null float64\n",
      "기타포괄손익누계액(*)         44838 non-null float64\n",
      "이익잉여금(*)             44838 non-null float64\n",
      "매출액(영업수익)(*)         44838 non-null float64\n",
      "매출원가(*)              44838 non-null float64\n",
      "매출총이익(손실)            44838 non-null float64\n",
      "판매비와관리비(영업비용)(*)     44838 non-null float64\n",
      "영업이익(손실)             44838 non-null float64\n",
      "영업외수익(*)             44838 non-null float64\n",
      "영업외비용(*)             44838 non-null float64\n",
      "법인세비용차감전(계속사업)손익     44838 non-null float64\n",
      "(계속사업손익)법인세비용        44838 non-null float64\n",
      "계속사업이익(손실)           44838 non-null float64\n",
      "당기순이익(순손실)           44838 non-null float64\n",
      "영업활동으로 인한 현금흐름(*)    44838 non-null float64\n",
      "투자활동으로 인한 현금흐름(*)    44838 non-null float64\n",
      "재무활동으로 인한 현금흐름(*)    44838 non-null float64\n",
      "환율변동으로 인한 차이조정       44838 non-null float64\n",
      "현금의 증가(감소)(*)        44838 non-null float64\n",
      "기업규모명                45454 non-null object\n",
      "산술평균                 45454 non-null float64\n",
      "  경제성장률              45454 non-null float64\n",
      "  총저축률               45454 non-null float64\n",
      "  제조업 평균가동률          45454 non-null float64\n",
      "  실업률                45454 non-null float64\n",
      " 코스피지수               45454 non-null float64\n",
      "  경상수지               45454 non-null float64\n",
      "발행주식수                45403 non-null float64\n",
      "dtypes: float64(36), object(5)\n",
      "memory usage: 14.6+ MB\n"
     ]
    }
   ],
   "source": [
    "data = data[-(data[\"산술평균\"].isnull())]\n",
    "data.info()"
   ]
  },
  {
   "cell_type": "code",
   "execution_count": 710,
   "metadata": {},
   "outputs": [
    {
     "data": {
      "text/plain": [
       "count    4.545400e+04\n",
       "mean     2.766833e+04\n",
       "std      1.039126e+05\n",
       "min      9.400000e+01\n",
       "25%      2.905250e+03\n",
       "50%      6.297000e+03\n",
       "75%      1.675775e+04\n",
       "max      3.039182e+06\n",
       "Name: 산술평균, dtype: float64"
      ]
     },
     "execution_count": 710,
     "metadata": {},
     "output_type": "execute_result"
    }
   ],
   "source": [
    "data[\"산술평균\"].describe()"
   ]
  },
  {
   "cell_type": "markdown",
   "metadata": {},
   "source": [
    "평균은 8766에서 8169로 줄어들었지만, 최댓값은 149179다."
   ]
  },
  {
   "cell_type": "code",
   "execution_count": 711,
   "metadata": {},
   "outputs": [
    {
     "data": {
      "image/png": "[encoded data removed]",
      "text/plain": [
       "<Figure size 864x576 with 1 Axes>"
      ]
     },
     "metadata": {
      "needs_background": "light"
     },
     "output_type": "display_data"
    }
   ],
   "source": [
    "import seaborn as sns\n",
    "\n",
    "plt.figure(figsize=(12,8))\n",
    "sns.distplot(data[\"산술평균\"], color='red')\n",
    "plt.title('평균 주가')\n",
    "plt.show()"
   ]
  },
  {
   "cell_type": "markdown",
   "metadata": {},
   "source": [
    "주어진 데이터의 오른쪽 꼬리가 길게 뻗어있다."
   ]
  },
  {
   "cell_type": "code",
   "execution_count": 712,
   "metadata": {
    "scrolled": false
   },
   "outputs": [
    {
     "data": {
      "image/png": "[encoded data removed]",
      "text/plain": [
       "<Figure size 864x576 with 1 Axes>"
      ]
     },
     "metadata": {
      "needs_background": "light"
     },
     "output_type": "display_data"
    }
   ],
   "source": [
    "plt.figure(figsize=(12,8))\n",
    "sns.distplot(np.log(data[\"산술평균\"]+ 0.1), color='red')\n",
    "plt.title('평균 주가 로그화')\n",
    "plt.show()"
   ]
  },
  {
   "cell_type": "markdown",
   "metadata": {},
   "source": [
    "주어진 타겟값을 log화하니, 정규분포의 모습과 상당히 비슷해졌다. 나중에 타겟값을 나중에 log화 해야한다."
   ]
  },
  {
   "cell_type": "markdown",
   "metadata": {},
   "source": [
    "# 데이터 구조 훑어보기\n",
    "\n",
    "우리의 데이터를 간략하게 살펴보자."
   ]
  },
  {
   "cell_type": "code",
   "execution_count": 713,
   "metadata": {},
   "outputs": [
    {
     "data": {
      "text/html": [
       "<div>\n",
       "<style scoped>\n",
       "    .dataframe tbody tr th:only-of-type {\n",
       "        vertical-align: middle;\n",
       "    }\n",
       "\n",
       "    .dataframe tbody tr th {\n",
       "        vertical-align: top;\n",
       "    }\n",
       "\n",
       "    .dataframe thead th {\n",
       "        text-align: right;\n",
       "    }\n",
       "</style>\n",
       "<table border=\"1\" class=\"dataframe\">\n",
       "  <thead>\n",
       "    <tr style=\"text-align: right;\">\n",
       "      <th></th>\n",
       "      <th>회사명</th>\n",
       "      <th>회계년도</th>\n",
       "      <th>산업명</th>\n",
       "      <th>소속코드</th>\n",
       "      <th>설립일</th>\n",
       "      <th>종업원</th>\n",
       "      <th>당좌자산(*)</th>\n",
       "      <th>재고자산(*)</th>\n",
       "      <th>비유동자산(*)</th>\n",
       "      <th>유동부채(*)</th>\n",
       "      <th>...</th>\n",
       "      <th>현금의 증가(감소)(*)</th>\n",
       "      <th>기업규모명</th>\n",
       "      <th>산술평균</th>\n",
       "      <th>경제성장률</th>\n",
       "      <th>총저축률</th>\n",
       "      <th>제조업 평균가동률</th>\n",
       "      <th>실업률</th>\n",
       "      <th>코스피지수</th>\n",
       "      <th>경상수지</th>\n",
       "      <th>발행주식수</th>\n",
       "    </tr>\n",
       "  </thead>\n",
       "  <tbody>\n",
       "    <tr>\n",
       "      <th>0</th>\n",
       "      <td>(주)CMG제약</td>\n",
       "      <td>2011-03-01</td>\n",
       "      <td>의료용 물질 및 의약품 제조업</td>\n",
       "      <td>5.0</td>\n",
       "      <td>2001-08-01</td>\n",
       "      <td>213.0</td>\n",
       "      <td>9917659.0</td>\n",
       "      <td>3104211.0</td>\n",
       "      <td>15477735.0</td>\n",
       "      <td>4969819.0</td>\n",
       "      <td>...</td>\n",
       "      <td>-265171.0</td>\n",
       "      <td>중소기업</td>\n",
       "      <td>873.0</td>\n",
       "      <td>1.0</td>\n",
       "      <td>34.1</td>\n",
       "      <td>81.3</td>\n",
       "      <td>4.2</td>\n",
       "      <td>1939.30</td>\n",
       "      <td>-4253.0</td>\n",
       "      <td>108887244.0</td>\n",
       "    </tr>\n",
       "    <tr>\n",
       "      <th>1</th>\n",
       "      <td>(주)CMG제약</td>\n",
       "      <td>2011-06-01</td>\n",
       "      <td>의료용 물질 및 의약품 제조업</td>\n",
       "      <td>5.0</td>\n",
       "      <td>2001-08-01</td>\n",
       "      <td>213.0</td>\n",
       "      <td>11341653.0</td>\n",
       "      <td>3071427.0</td>\n",
       "      <td>14731279.0</td>\n",
       "      <td>5976935.0</td>\n",
       "      <td>...</td>\n",
       "      <td>-1160724.0</td>\n",
       "      <td>중소기업</td>\n",
       "      <td>577.0</td>\n",
       "      <td>0.6</td>\n",
       "      <td>34.1</td>\n",
       "      <td>80.6</td>\n",
       "      <td>3.4</td>\n",
       "      <td>2142.47</td>\n",
       "      <td>-2470.6</td>\n",
       "      <td>108887244.0</td>\n",
       "    </tr>\n",
       "    <tr>\n",
       "      <th>2</th>\n",
       "      <td>(주)CMG제약</td>\n",
       "      <td>2011-09-01</td>\n",
       "      <td>의료용 물질 및 의약품 제조업</td>\n",
       "      <td>5.0</td>\n",
       "      <td>2001-08-01</td>\n",
       "      <td>213.0</td>\n",
       "      <td>11407699.0</td>\n",
       "      <td>3352328.0</td>\n",
       "      <td>14717723.0</td>\n",
       "      <td>6389723.0</td>\n",
       "      <td>...</td>\n",
       "      <td>-1961689.0</td>\n",
       "      <td>중소기업</td>\n",
       "      <td>993.0</td>\n",
       "      <td>0.7</td>\n",
       "      <td>34.8</td>\n",
       "      <td>80.9</td>\n",
       "      <td>3.1</td>\n",
       "      <td>1880.11</td>\n",
       "      <td>11405.6</td>\n",
       "      <td>108887244.0</td>\n",
       "    </tr>\n",
       "    <tr>\n",
       "      <th>3</th>\n",
       "      <td>(주)CMG제약</td>\n",
       "      <td>2011-12-01</td>\n",
       "      <td>의료용 물질 및 의약품 제조업</td>\n",
       "      <td>5.0</td>\n",
       "      <td>2001-08-01</td>\n",
       "      <td>213.0</td>\n",
       "      <td>12521782.0</td>\n",
       "      <td>2743103.0</td>\n",
       "      <td>12283654.0</td>\n",
       "      <td>7620349.0</td>\n",
       "      <td>...</td>\n",
       "      <td>-1294857.0</td>\n",
       "      <td>중소기업</td>\n",
       "      <td>775.0</td>\n",
       "      <td>0.6</td>\n",
       "      <td>35.2</td>\n",
       "      <td>79.3</td>\n",
       "      <td>2.9</td>\n",
       "      <td>1847.51</td>\n",
       "      <td>11956.2</td>\n",
       "      <td>108887244.0</td>\n",
       "    </tr>\n",
       "    <tr>\n",
       "      <th>4</th>\n",
       "      <td>(주)CMG제약</td>\n",
       "      <td>2012-03-01</td>\n",
       "      <td>의료용 물질 및 의약품 제조업</td>\n",
       "      <td>5.0</td>\n",
       "      <td>2001-08-01</td>\n",
       "      <td>213.0</td>\n",
       "      <td>13370740.0</td>\n",
       "      <td>3654331.0</td>\n",
       "      <td>12100895.0</td>\n",
       "      <td>8146944.0</td>\n",
       "      <td>...</td>\n",
       "      <td>435947.0</td>\n",
       "      <td>중소기업</td>\n",
       "      <td>892.0</td>\n",
       "      <td>0.5</td>\n",
       "      <td>34.3</td>\n",
       "      <td>79.7</td>\n",
       "      <td>3.8</td>\n",
       "      <td>2045.08</td>\n",
       "      <td>-1292.0</td>\n",
       "      <td>108887244.0</td>\n",
       "    </tr>\n",
       "  </tbody>\n",
       "</table>\n",
       "<p>5 rows × 41 columns</p>\n",
       "</div>"
      ],
      "text/plain": [
       "        회사명        회계년도                 산업명  소속코드         설립일    종업원  \\\n",
       "0  (주)CMG제약  2011-03-01    의료용 물질 및 의약품 제조업   5.0  2001-08-01  213.0   \n",
       "1  (주)CMG제약  2011-06-01    의료용 물질 및 의약품 제조업   5.0  2001-08-01  213.0   \n",
       "2  (주)CMG제약  2011-09-01    의료용 물질 및 의약품 제조업   5.0  2001-08-01  213.0   \n",
       "3  (주)CMG제약  2011-12-01    의료용 물질 및 의약품 제조업   5.0  2001-08-01  213.0   \n",
       "4  (주)CMG제약  2012-03-01    의료용 물질 및 의약품 제조업   5.0  2001-08-01  213.0   \n",
       "\n",
       "      당좌자산(*)    재고자산(*)    비유동자산(*)    유동부채(*)     ...       현금의 증가(감소)(*)  \\\n",
       "0   9917659.0  3104211.0  15477735.0  4969819.0     ...           -265171.0   \n",
       "1  11341653.0  3071427.0  14731279.0  5976935.0     ...          -1160724.0   \n",
       "2  11407699.0  3352328.0  14717723.0  6389723.0     ...          -1961689.0   \n",
       "3  12521782.0  2743103.0  12283654.0  7620349.0     ...          -1294857.0   \n",
       "4  13370740.0  3654331.0  12100895.0  8146944.0     ...            435947.0   \n",
       "\n",
       "   기업규모명   산술평균    경제성장률    총저축률    제조업 평균가동률    실업률    코스피지수     경상수지  \\\n",
       "0   중소기업  873.0      1.0    34.1         81.3    4.2  1939.30  -4253.0   \n",
       "1   중소기업  577.0      0.6    34.1         80.6    3.4  2142.47  -2470.6   \n",
       "2   중소기업  993.0      0.7    34.8         80.9    3.1  1880.11  11405.6   \n",
       "3   중소기업  775.0      0.6    35.2         79.3    2.9  1847.51  11956.2   \n",
       "4   중소기업  892.0      0.5    34.3         79.7    3.8  2045.08  -1292.0   \n",
       "\n",
       "         발행주식수  \n",
       "0  108887244.0  \n",
       "1  108887244.0  \n",
       "2  108887244.0  \n",
       "3  108887244.0  \n",
       "4  108887244.0  \n",
       "\n",
       "[5 rows x 41 columns]"
      ]
     },
     "execution_count": 713,
     "metadata": {},
     "output_type": "execute_result"
    }
   ],
   "source": [
    "data.head()"
   ]
  },
  {
   "cell_type": "code",
   "execution_count": 714,
   "metadata": {},
   "outputs": [
    {
     "name": "stdout",
     "output_type": "stream",
     "text": [
      "<class 'pandas.core.frame.DataFrame'>\n",
      "Int64Index: 45454 entries, 0 to 47878\n",
      "Data columns (total 41 columns):\n",
      "회사명                  45454 non-null object\n",
      "회계년도                 45454 non-null object\n",
      "산업명                  45454 non-null object\n",
      "소속코드                 45454 non-null float64\n",
      "설립일                  45454 non-null object\n",
      "종업원                  45454 non-null float64\n",
      "당좌자산(*)              44838 non-null float64\n",
      "재고자산(*)              44838 non-null float64\n",
      "비유동자산(*)             44838 non-null float64\n",
      "유동부채(*)              44838 non-null float64\n",
      "비유동부채(*)             44838 non-null float64\n",
      "자본금(*)               44838 non-null float64\n",
      "자본잉여금(*)             44838 non-null float64\n",
      "자본조정(*)              44838 non-null float64\n",
      "기타포괄손익누계액(*)         44838 non-null float64\n",
      "이익잉여금(*)             44838 non-null float64\n",
      "매출액(영업수익)(*)         44838 non-null float64\n",
      "매출원가(*)              44838 non-null float64\n",
      "매출총이익(손실)            44838 non-null float64\n",
      "판매비와관리비(영업비용)(*)     44838 non-null float64\n",
      "영업이익(손실)             44838 non-null float64\n",
      "영업외수익(*)             44838 non-null float64\n",
      "영업외비용(*)             44838 non-null float64\n",
      "법인세비용차감전(계속사업)손익     44838 non-null float64\n",
      "(계속사업손익)법인세비용        44838 non-null float64\n",
      "계속사업이익(손실)           44838 non-null float64\n",
      "당기순이익(순손실)           44838 non-null float64\n",
      "영업활동으로 인한 현금흐름(*)    44838 non-null float64\n",
      "투자활동으로 인한 현금흐름(*)    44838 non-null float64\n",
      "재무활동으로 인한 현금흐름(*)    44838 non-null float64\n",
      "환율변동으로 인한 차이조정       44838 non-null float64\n",
      "현금의 증가(감소)(*)        44838 non-null float64\n",
      "기업규모명                45454 non-null object\n",
      "산술평균                 45454 non-null float64\n",
      "  경제성장률              45454 non-null float64\n",
      "  총저축률               45454 non-null float64\n",
      "  제조업 평균가동률          45454 non-null float64\n",
      "  실업률                45454 non-null float64\n",
      " 코스피지수               45454 non-null float64\n",
      "  경상수지               45454 non-null float64\n",
      "발행주식수                45403 non-null float64\n",
      "dtypes: float64(36), object(5)\n",
      "memory usage: 14.6+ MB\n"
     ]
    }
   ],
   "source": [
    "data.info()"
   ]
  },
  {
   "cell_type": "markdown",
   "metadata": {},
   "source": [
    "1. 데이터에는 결측치가 몇 개 보인다.\n",
    "2. 데이터 타입이 object인 데이터는, 회사명, 회계년도, 산업명, 설립일이 있다.\n",
    "    - 회사명의 경우 각 데이터의 identity column이므로 나중에 삭제한다.\n",
    "    - 회계년도의 경우 나중에 분기(03, 06, 09, 12)만 얻어서 명목형 변수로 변환한다.\n",
    "    - 설립일의 경우년도만 얻어서 수치형 자료로 사용하겠다.\n",
    "3. 소속코드의 경우 산술 평균과 연관있는 데이터이므로 나중에 삭제해야한다."
   ]
  },
  {
   "cell_type": "markdown",
   "metadata": {},
   "source": [
    "# 파일 정제"
   ]
  },
  {
   "cell_type": "markdown",
   "metadata": {},
   "source": [
    "결측치가 몇 개 보인다. 산술평균의 경우 우리의 타겟값이므로 산술평균에 결측치가 있는 경우 객체를 버린다."
   ]
  },
  {
   "cell_type": "code",
   "execution_count": 715,
   "metadata": {},
   "outputs": [
    {
     "name": "stdout",
     "output_type": "stream",
     "text": [
      "<class 'pandas.core.frame.DataFrame'>\n",
      "Int64Index: 45454 entries, 0 to 47878\n",
      "Data columns (total 41 columns):\n",
      "회사명                  45454 non-null object\n",
      "회계년도                 45454 non-null object\n",
      "산업명                  45454 non-null object\n",
      "소속코드                 45454 non-null float64\n",
      "설립일                  45454 non-null object\n",
      "종업원                  45454 non-null float64\n",
      "당좌자산(*)              44838 non-null float64\n",
      "재고자산(*)              44838 non-null float64\n",
      "비유동자산(*)             44838 non-null float64\n",
      "유동부채(*)              44838 non-null float64\n",
      "비유동부채(*)             44838 non-null float64\n",
      "자본금(*)               44838 non-null float64\n",
      "자본잉여금(*)             44838 non-null float64\n",
      "자본조정(*)              44838 non-null float64\n",
      "기타포괄손익누계액(*)         44838 non-null float64\n",
      "이익잉여금(*)             44838 non-null float64\n",
      "매출액(영업수익)(*)         44838 non-null float64\n",
      "매출원가(*)              44838 non-null float64\n",
      "매출총이익(손실)            44838 non-null float64\n",
      "판매비와관리비(영업비용)(*)     44838 non-null float64\n",
      "영업이익(손실)             44838 non-null float64\n",
      "영업외수익(*)             44838 non-null float64\n",
      "영업외비용(*)             44838 non-null float64\n",
      "법인세비용차감전(계속사업)손익     44838 non-null float64\n",
      "(계속사업손익)법인세비용        44838 non-null float64\n",
      "계속사업이익(손실)           44838 non-null float64\n",
      "당기순이익(순손실)           44838 non-null float64\n",
      "영업활동으로 인한 현금흐름(*)    44838 non-null float64\n",
      "투자활동으로 인한 현금흐름(*)    44838 non-null float64\n",
      "재무활동으로 인한 현금흐름(*)    44838 non-null float64\n",
      "환율변동으로 인한 차이조정       44838 non-null float64\n",
      "현금의 증가(감소)(*)        44838 non-null float64\n",
      "기업규모명                45454 non-null object\n",
      "산술평균                 45454 non-null float64\n",
      "  경제성장률              45454 non-null float64\n",
      "  총저축률               45454 non-null float64\n",
      "  제조업 평균가동률          45454 non-null float64\n",
      "  실업률                45454 non-null float64\n",
      " 코스피지수               45454 non-null float64\n",
      "  경상수지               45454 non-null float64\n",
      "발행주식수                45403 non-null float64\n",
      "dtypes: float64(36), object(5)\n",
      "memory usage: 14.6+ MB\n"
     ]
    }
   ],
   "source": [
    "data = data[-(data[\"산술평균\"].isnull())]\n",
    "data.info()"
   ]
  },
  {
   "cell_type": "markdown",
   "metadata": {},
   "source": [
    "데이터의 특성중 당좌좌산(\\*)부터 현금의 증가(감소)(\\*)의 경우 결측치의 개수가 일정한 것으로보아, 이 중 한 특성에서 결측치가 발생한 경우, 다른 특성에도 결측치가 발생한 것으로 추론할 수 있다."
   ]
  },
  {
   "cell_type": "code",
   "execution_count": 716,
   "metadata": {},
   "outputs": [
    {
     "name": "stdout",
     "output_type": "stream",
     "text": [
      "<class 'pandas.core.frame.DataFrame'>\n",
      "Int64Index: 44838 entries, 0 to 47878\n",
      "Data columns (total 41 columns):\n",
      "회사명                  44838 non-null object\n",
      "회계년도                 44838 non-null object\n",
      "산업명                  44838 non-null object\n",
      "소속코드                 44838 non-null float64\n",
      "설립일                  44838 non-null object\n",
      "종업원                  44838 non-null float64\n",
      "당좌자산(*)              44838 non-null float64\n",
      "재고자산(*)              44838 non-null float64\n",
      "비유동자산(*)             44838 non-null float64\n",
      "유동부채(*)              44838 non-null float64\n",
      "비유동부채(*)             44838 non-null float64\n",
      "자본금(*)               44838 non-null float64\n",
      "자본잉여금(*)             44838 non-null float64\n",
      "자본조정(*)              44838 non-null float64\n",
      "기타포괄손익누계액(*)         44838 non-null float64\n",
      "이익잉여금(*)             44838 non-null float64\n",
      "매출액(영업수익)(*)         44838 non-null float64\n",
      "매출원가(*)              44838 non-null float64\n",
      "매출총이익(손실)            44838 non-null float64\n",
      "판매비와관리비(영업비용)(*)     44838 non-null float64\n",
      "영업이익(손실)             44838 non-null float64\n",
      "영업외수익(*)             44838 non-null float64\n",
      "영업외비용(*)             44838 non-null float64\n",
      "법인세비용차감전(계속사업)손익     44838 non-null float64\n",
      "(계속사업손익)법인세비용        44838 non-null float64\n",
      "계속사업이익(손실)           44838 non-null float64\n",
      "당기순이익(순손실)           44838 non-null float64\n",
      "영업활동으로 인한 현금흐름(*)    44838 non-null float64\n",
      "투자활동으로 인한 현금흐름(*)    44838 non-null float64\n",
      "재무활동으로 인한 현금흐름(*)    44838 non-null float64\n",
      "환율변동으로 인한 차이조정       44838 non-null float64\n",
      "현금의 증가(감소)(*)        44838 non-null float64\n",
      "기업규모명                44838 non-null object\n",
      "산술평균                 44838 non-null float64\n",
      "  경제성장률              44838 non-null float64\n",
      "  총저축률               44838 non-null float64\n",
      "  제조업 평균가동률          44838 non-null float64\n",
      "  실업률                44838 non-null float64\n",
      " 코스피지수               44838 non-null float64\n",
      "  경상수지               44838 non-null float64\n",
      "발행주식수                44808 non-null float64\n",
      "dtypes: float64(36), object(5)\n",
      "memory usage: 14.4+ MB\n"
     ]
    }
   ],
   "source": [
    "data = data[-data[\"당좌자산(*)\"].isnull()]\n",
    "data.info()"
   ]
  },
  {
   "cell_type": "markdown",
   "metadata": {},
   "source": [
    "이 중 발행주식수에 결측치가 있는 샘플이 있는데 샘플의 개수가 적어서 객체를 버리는 것이 좋을 것 같다."
   ]
  },
  {
   "cell_type": "code",
   "execution_count": 717,
   "metadata": {},
   "outputs": [
    {
     "name": "stdout",
     "output_type": "stream",
     "text": [
      "<class 'pandas.core.frame.DataFrame'>\n",
      "Int64Index: 44808 entries, 0 to 47878\n",
      "Data columns (total 41 columns):\n",
      "회사명                  44808 non-null object\n",
      "회계년도                 44808 non-null object\n",
      "산업명                  44808 non-null object\n",
      "소속코드                 44808 non-null float64\n",
      "설립일                  44808 non-null object\n",
      "종업원                  44808 non-null float64\n",
      "당좌자산(*)              44808 non-null float64\n",
      "재고자산(*)              44808 non-null float64\n",
      "비유동자산(*)             44808 non-null float64\n",
      "유동부채(*)              44808 non-null float64\n",
      "비유동부채(*)             44808 non-null float64\n",
      "자본금(*)               44808 non-null float64\n",
      "자본잉여금(*)             44808 non-null float64\n",
      "자본조정(*)              44808 non-null float64\n",
      "기타포괄손익누계액(*)         44808 non-null float64\n",
      "이익잉여금(*)             44808 non-null float64\n",
      "매출액(영업수익)(*)         44808 non-null float64\n",
      "매출원가(*)              44808 non-null float64\n",
      "매출총이익(손실)            44808 non-null float64\n",
      "판매비와관리비(영업비용)(*)     44808 non-null float64\n",
      "영업이익(손실)             44808 non-null float64\n",
      "영업외수익(*)             44808 non-null float64\n",
      "영업외비용(*)             44808 non-null float64\n",
      "법인세비용차감전(계속사업)손익     44808 non-null float64\n",
      "(계속사업손익)법인세비용        44808 non-null float64\n",
      "계속사업이익(손실)           44808 non-null float64\n",
      "당기순이익(순손실)           44808 non-null float64\n",
      "영업활동으로 인한 현금흐름(*)    44808 non-null float64\n",
      "투자활동으로 인한 현금흐름(*)    44808 non-null float64\n",
      "재무활동으로 인한 현금흐름(*)    44808 non-null float64\n",
      "환율변동으로 인한 차이조정       44808 non-null float64\n",
      "현금의 증가(감소)(*)        44808 non-null float64\n",
      "기업규모명                44808 non-null object\n",
      "산술평균                 44808 non-null float64\n",
      "  경제성장률              44808 non-null float64\n",
      "  총저축률               44808 non-null float64\n",
      "  제조업 평균가동률          44808 non-null float64\n",
      "  실업률                44808 non-null float64\n",
      " 코스피지수               44808 non-null float64\n",
      "  경상수지               44808 non-null float64\n",
      "발행주식수                44808 non-null float64\n",
      "dtypes: float64(36), object(5)\n",
      "memory usage: 14.4+ MB\n"
     ]
    }
   ],
   "source": [
    "data = data[-data[\"발행주식수\"].isnull()]\n",
    "data.info()"
   ]
  },
  {
   "cell_type": "markdown",
   "metadata": {},
   "source": [
    "이제 우리의 데이터에 결측치가 있는 샘플이 없어졌다."
   ]
  },
  {
   "cell_type": "markdown",
   "metadata": {},
   "source": [
    "# 데이터 구조"
   ]
  },
  {
   "cell_type": "markdown",
   "metadata": {},
   "source": [
    "## 명목형 변수"
   ]
  },
  {
   "cell_type": "markdown",
   "metadata": {},
   "source": [
    "### 산업명"
   ]
  },
  {
   "cell_type": "markdown",
   "metadata": {},
   "source": [
    "각 산업명의 경우에 얼마나 샘플이 속해있는지 살펴보자."
   ]
  },
  {
   "cell_type": "code",
   "execution_count": 718,
   "metadata": {},
   "outputs": [
    {
     "data": {
      "text/plain": [
       "  전자부품, 컴퓨터, 영상, 음향 및 통신장비 제조업    6617\n",
       "  기타 기계 및 장비 제조업                  3570\n",
       "  화학물질 및 화학제품 제조업; 의약품 제외         2939\n",
       "  의료용 물질 및 의약품 제조업                2484\n",
       "  도매 및 상품 중개업                     2473\n",
       "  자동차 및 트레일러 제조업                  2296\n",
       "  출판업                             2123\n",
       "  전문 서비스업                         2043\n",
       "  1차 금속 제조업                       1972\n",
       "  전기장비 제조업                        1389\n",
       "  식료품 제조업                         1218\n",
       "  고무 및 플라스틱제품 제조업                 1127\n",
       "  의료, 정밀, 광학기기 및 시계 제조업           1127\n",
       "  금속가공제품 제조업; 기계 및 가구 제외          1082\n",
       "  종합 건설업                          1025\n",
       "  비금속 광물제품 제조업                     883\n",
       "  컴퓨터 프로그래밍, 시스템 통합 및 관리업          794\n",
       "  펄프, 종이 및 종이제품 제조업                740\n",
       "  소매업; 자동차 제외                      725\n",
       "  정보서비스업                           635\n",
       "  의복, 의복 액세서리 및 모피제품 제조업           629\n",
       "  기타 운송장비 제조업                      540\n",
       "  영상ㆍ오디오 기록물 제작 및 배급업              538\n",
       "  사업지원 서비스업                        441\n",
       "  섬유제품 제조업; 의복제외                   431\n",
       "  건축기술, 엔지니어링 및 기타 과학기술 서비스업       380\n",
       "  전문직별 공사업                         349\n",
       "  육상운송 및 파이프라인 운송업                 348\n",
       "  우편 및 통신업                         322\n",
       "  전기, 가스, 증기 및 공기조절 공급업            307\n",
       "  연구개발업                            304\n",
       "  방송업                              278\n",
       "  음료 제조업                           276\n",
       "  교육 서비스업                          240\n",
       "  가구 제조업                           212\n",
       "  스포츠 및 오락관련 서비스업                  182\n",
       "  기타 전문, 과학 및 기술 서비스업              180\n",
       "  기타 제품 제조업                        165\n",
       "  창고 및 운송관련 서비스업                   140\n",
       "  수상 운송업                           140\n",
       "  어업                               130\n",
       "  코크스, 연탄 및 석유정제품 제조업              128\n",
       "  폐기물 수집, 운반, 처리 및 원료 재생업          118\n",
       "  목재 및 나무제품 제조업; 가구 제외             102\n",
       "  가죽, 가방 및 신발 제조업                  102\n",
       "  부동산업                              97\n",
       "  인쇄 및 기록매체 복제업                     88\n",
       "  항공 운송업                            66\n",
       "  음식점 및 주점업                         47\n",
       "  자동차 및 부품 판매업                      37\n",
       "  창작, 예술 및 여가관련 서비스업                34\n",
       "  임대업; 부동산 제외                       32\n",
       "  담배 제조업                            28\n",
       "  기타 개인 서비스업                        28\n",
       "  비금속광물 광업; 연료용 제외                  27\n",
       "  석탄, 원유 및 천연가스 광업                  24\n",
       "  농업                                19\n",
       "  환경 정화 및 복원업                       18\n",
       "  사업시설 관리 및 조경 서비스업                 13\n",
       "  숙박업                                6\n",
       "Name: 산업명, dtype: int64"
      ]
     },
     "execution_count": 718,
     "metadata": {},
     "output_type": "execute_result"
    }
   ],
   "source": [
    "data[\"산업명\"].value_counts()"
   ]
  },
  {
   "cell_type": "markdown",
   "metadata": {},
   "source": [
    "이 데이터를 시각화 해보자."
   ]
  },
  {
   "cell_type": "code",
   "execution_count": 719,
   "metadata": {
    "scrolled": false
   },
   "outputs": [
    {
     "data": {
      "image/png": "[encoded data removed]",
      "text/plain": [
       "<Figure size 864x576 with 1 Axes>"
      ]
     },
     "metadata": {
      "needs_background": "light"
     },
     "output_type": "display_data"
    }
   ],
   "source": [
    "tmp = data[[\"산업명\",\"산술평균\"]].copy()\n",
    "tmp.columns = [\"field\", \"price\"]\n",
    "\n",
    "tmp.groupby(['field']).mean().plot.bar(figsize=(12,8), color='mediumspringgreen')\n",
    "plt.title('산업별 평균 주가')\n",
    "plt.show()"
   ]
  },
  {
   "cell_type": "markdown",
   "metadata": {},
   "source": [
    "### 특징 설명하기"
   ]
  },
  {
   "cell_type": "markdown",
   "metadata": {},
   "source": [
    "## 수치형 데이터"
   ]
  },
  {
   "cell_type": "markdown",
   "metadata": {},
   "source": [
    "### 설립일\n",
    "\n",
    "설립일에 따른 산술 평균"
   ]
  },
  {
   "cell_type": "code",
   "execution_count": 720,
   "metadata": {
    "scrolled": false
   },
   "outputs": [
    {
     "data": {
      "image/png": "[encoded data removed]",
      "text/plain": [
       "<Figure size 864x576 with 1 Axes>"
      ]
     },
     "metadata": {
      "needs_background": "light"
     },
     "output_type": "display_data"
    }
   ],
   "source": [
    "data_est_stock = data[[\"설립일\", '산술평균']].copy()\n",
    "data_est_stock[\"설립일\"] = data_est_stock[\"설립일\"].str.split('-', n=2, expand=True)[0]\n",
    "\n",
    "data_est_stock.groupby(\"설립일\").mean().plot.bar(figsize=(12,8), color='mediumspringgreen')\n",
    "plt.title('설립일별 평균 주가')\n",
    "plt.show()"
   ]
  },
  {
   "cell_type": "code",
   "execution_count": 721,
   "metadata": {},
   "outputs": [
    {
     "data": {
      "image/png": "[encoded data removed]",
      "text/plain": [
       "<Figure size 864x576 with 1 Axes>"
      ]
     },
     "metadata": {
      "needs_background": "light"
     },
     "output_type": "display_data"
    }
   ],
   "source": [
    "data_est_stock[\"설립일\"].astype('float').hist(bins=50, figsize=(12,8), color='slateblue')\n",
    "plt.title('설립일 도수분포표')\n",
    "plt.show()"
   ]
  },
  {
   "cell_type": "markdown",
   "metadata": {},
   "source": [
    "왼쪽 꼬리에 있는 데이터의 산술평균의 값이 크다."
   ]
  },
  {
   "cell_type": "markdown",
   "metadata": {},
   "source": [
    "### 다른 수치형 데이터"
   ]
  },
  {
   "cell_type": "code",
   "execution_count": 722,
   "metadata": {},
   "outputs": [
    {
     "data": {
      "text/html": [
       "<div>\n",
       "<style scoped>\n",
       "    .dataframe tbody tr th:only-of-type {\n",
       "        vertical-align: middle;\n",
       "    }\n",
       "\n",
       "    .dataframe tbody tr th {\n",
       "        vertical-align: top;\n",
       "    }\n",
       "\n",
       "    .dataframe thead th {\n",
       "        text-align: right;\n",
       "    }\n",
       "</style>\n",
       "<table border=\"1\" class=\"dataframe\">\n",
       "  <thead>\n",
       "    <tr style=\"text-align: right;\">\n",
       "      <th></th>\n",
       "      <th>소속코드</th>\n",
       "      <th>종업원</th>\n",
       "      <th>당좌자산(*)</th>\n",
       "      <th>재고자산(*)</th>\n",
       "      <th>비유동자산(*)</th>\n",
       "      <th>유동부채(*)</th>\n",
       "      <th>비유동부채(*)</th>\n",
       "      <th>자본금(*)</th>\n",
       "      <th>자본잉여금(*)</th>\n",
       "      <th>자본조정(*)</th>\n",
       "      <th>기타포괄손익누계액(*)</th>\n",
       "      <th>이익잉여금(*)</th>\n",
       "      <th>매출액(영업수익)(*)</th>\n",
       "      <th>매출원가(*)</th>\n",
       "      <th>매출총이익(손실)</th>\n",
       "      <th>판매비와관리비(영업비용)(*)</th>\n",
       "    </tr>\n",
       "  </thead>\n",
       "  <tbody>\n",
       "    <tr>\n",
       "      <th>count</th>\n",
       "      <td>44808.000000</td>\n",
       "      <td>44808.000000</td>\n",
       "      <td>4.480800e+04</td>\n",
       "      <td>4.480800e+04</td>\n",
       "      <td>4.480800e+04</td>\n",
       "      <td>4.480800e+04</td>\n",
       "      <td>4.480800e+04</td>\n",
       "      <td>4.480800e+04</td>\n",
       "      <td>4.480800e+04</td>\n",
       "      <td>4.480800e+04</td>\n",
       "      <td>4.480800e+04</td>\n",
       "      <td>4.480800e+04</td>\n",
       "      <td>4.480800e+04</td>\n",
       "      <td>4.480800e+04</td>\n",
       "      <td>4.480800e+04</td>\n",
       "      <td>4.480800e+04</td>\n",
       "    </tr>\n",
       "    <tr>\n",
       "      <th>mean</th>\n",
       "      <td>3.409503</td>\n",
       "      <td>856.737391</td>\n",
       "      <td>2.611041e+08</td>\n",
       "      <td>5.990340e+07</td>\n",
       "      <td>6.354019e+08</td>\n",
       "      <td>2.547639e+08</td>\n",
       "      <td>1.691825e+08</td>\n",
       "      <td>4.595837e+07</td>\n",
       "      <td>1.064379e+08</td>\n",
       "      <td>-1.512461e+07</td>\n",
       "      <td>1.273028e+07</td>\n",
       "      <td>3.824739e+08</td>\n",
       "      <td>4.760478e+08</td>\n",
       "      <td>3.753848e+08</td>\n",
       "      <td>1.006631e+08</td>\n",
       "      <td>7.097468e+07</td>\n",
       "    </tr>\n",
       "    <tr>\n",
       "      <th>std</th>\n",
       "      <td>1.981362</td>\n",
       "      <td>3978.854465</td>\n",
       "      <td>1.602775e+09</td>\n",
       "      <td>2.885296e+08</td>\n",
       "      <td>4.104474e+09</td>\n",
       "      <td>1.242300e+09</td>\n",
       "      <td>1.265648e+09</td>\n",
       "      <td>1.972258e+08</td>\n",
       "      <td>4.160067e+08</td>\n",
       "      <td>3.922651e+08</td>\n",
       "      <td>1.235203e+08</td>\n",
       "      <td>3.634313e+09</td>\n",
       "      <td>3.173518e+09</td>\n",
       "      <td>2.459679e+09</td>\n",
       "      <td>9.006740e+08</td>\n",
       "      <td>5.997196e+08</td>\n",
       "    </tr>\n",
       "    <tr>\n",
       "      <th>min</th>\n",
       "      <td>1.000000</td>\n",
       "      <td>2.000000</td>\n",
       "      <td>0.000000e+00</td>\n",
       "      <td>0.000000e+00</td>\n",
       "      <td>0.000000e+00</td>\n",
       "      <td>0.000000e+00</td>\n",
       "      <td>-8.267000e+03</td>\n",
       "      <td>0.000000e+00</td>\n",
       "      <td>-2.552957e+09</td>\n",
       "      <td>-1.168197e+10</td>\n",
       "      <td>-1.484043e+09</td>\n",
       "      <td>-4.329456e+09</td>\n",
       "      <td>0.000000e+00</td>\n",
       "      <td>0.000000e+00</td>\n",
       "      <td>-4.123609e+09</td>\n",
       "      <td>-3.188634e+06</td>\n",
       "    </tr>\n",
       "    <tr>\n",
       "      <th>25%</th>\n",
       "      <td>1.000000</td>\n",
       "      <td>100.000000</td>\n",
       "      <td>2.212634e+07</td>\n",
       "      <td>2.226129e+06</td>\n",
       "      <td>3.189294e+07</td>\n",
       "      <td>1.283784e+07</td>\n",
       "      <td>2.376688e+06</td>\n",
       "      <td>5.475000e+06</td>\n",
       "      <td>1.053639e+07</td>\n",
       "      <td>-4.383834e+06</td>\n",
       "      <td>0.000000e+00</td>\n",
       "      <td>1.040592e+07</td>\n",
       "      <td>2.045689e+07</td>\n",
       "      <td>1.253418e+07</td>\n",
       "      <td>3.843675e+06</td>\n",
       "      <td>3.243011e+06</td>\n",
       "    </tr>\n",
       "    <tr>\n",
       "      <th>50%</th>\n",
       "      <td>5.000000</td>\n",
       "      <td>211.000000</td>\n",
       "      <td>4.516625e+07</td>\n",
       "      <td>9.646722e+06</td>\n",
       "      <td>6.684714e+07</td>\n",
       "      <td>3.616978e+07</td>\n",
       "      <td>8.948252e+06</td>\n",
       "      <td>9.852021e+06</td>\n",
       "      <td>2.421164e+07</td>\n",
       "      <td>-8.137300e+05</td>\n",
       "      <td>0.000000e+00</td>\n",
       "      <td>3.845713e+07</td>\n",
       "      <td>5.486654e+07</td>\n",
       "      <td>3.900852e+07</td>\n",
       "      <td>1.055281e+07</td>\n",
       "      <td>7.485700e+06</td>\n",
       "    </tr>\n",
       "    <tr>\n",
       "      <th>75%</th>\n",
       "      <td>5.000000</td>\n",
       "      <td>453.000000</td>\n",
       "      <td>1.056791e+08</td>\n",
       "      <td>2.969662e+07</td>\n",
       "      <td>1.869590e+08</td>\n",
       "      <td>1.020843e+08</td>\n",
       "      <td>3.064321e+07</td>\n",
       "      <td>2.214416e+07</td>\n",
       "      <td>5.509354e+07</td>\n",
       "      <td>0.000000e+00</td>\n",
       "      <td>7.898818e+05</td>\n",
       "      <td>1.088283e+08</td>\n",
       "      <td>1.628895e+08</td>\n",
       "      <td>1.245439e+08</td>\n",
       "      <td>3.011197e+07</td>\n",
       "      <td>2.003993e+07</td>\n",
       "    </tr>\n",
       "    <tr>\n",
       "      <th>max</th>\n",
       "      <td>6.000000</td>\n",
       "      <td>103023.000000</td>\n",
       "      <td>6.543064e+10</td>\n",
       "      <td>7.837144e+09</td>\n",
       "      <td>1.280860e+11</td>\n",
       "      <td>4.449508e+10</td>\n",
       "      <td>4.218336e+10</td>\n",
       "      <td>3.657652e+09</td>\n",
       "      <td>1.003965e+10</td>\n",
       "      <td>1.329510e+10</td>\n",
       "      <td>8.581563e+09</td>\n",
       "      <td>1.509290e+11</td>\n",
       "      <td>1.619150e+11</td>\n",
       "      <td>1.107320e+11</td>\n",
       "      <td>6.051535e+10</td>\n",
       "      <td>2.583356e+10</td>\n",
       "    </tr>\n",
       "  </tbody>\n",
       "</table>\n",
       "</div>"
      ],
      "text/plain": [
       "               소속코드            종업원       당좌자산(*)       재고자산(*)      비유동자산(*)  \\\n",
       "count  44808.000000   44808.000000  4.480800e+04  4.480800e+04  4.480800e+04   \n",
       "mean       3.409503     856.737391  2.611041e+08  5.990340e+07  6.354019e+08   \n",
       "std        1.981362    3978.854465  1.602775e+09  2.885296e+08  4.104474e+09   \n",
       "min        1.000000       2.000000  0.000000e+00  0.000000e+00  0.000000e+00   \n",
       "25%        1.000000     100.000000  2.212634e+07  2.226129e+06  3.189294e+07   \n",
       "50%        5.000000     211.000000  4.516625e+07  9.646722e+06  6.684714e+07   \n",
       "75%        5.000000     453.000000  1.056791e+08  2.969662e+07  1.869590e+08   \n",
       "max        6.000000  103023.000000  6.543064e+10  7.837144e+09  1.280860e+11   \n",
       "\n",
       "            유동부채(*)      비유동부채(*)        자본금(*)      자본잉여금(*)       자본조정(*)  \\\n",
       "count  4.480800e+04  4.480800e+04  4.480800e+04  4.480800e+04  4.480800e+04   \n",
       "mean   2.547639e+08  1.691825e+08  4.595837e+07  1.064379e+08 -1.512461e+07   \n",
       "std    1.242300e+09  1.265648e+09  1.972258e+08  4.160067e+08  3.922651e+08   \n",
       "min    0.000000e+00 -8.267000e+03  0.000000e+00 -2.552957e+09 -1.168197e+10   \n",
       "25%    1.283784e+07  2.376688e+06  5.475000e+06  1.053639e+07 -4.383834e+06   \n",
       "50%    3.616978e+07  8.948252e+06  9.852021e+06  2.421164e+07 -8.137300e+05   \n",
       "75%    1.020843e+08  3.064321e+07  2.214416e+07  5.509354e+07  0.000000e+00   \n",
       "max    4.449508e+10  4.218336e+10  3.657652e+09  1.003965e+10  1.329510e+10   \n",
       "\n",
       "       기타포괄손익누계액(*)      이익잉여금(*)  매출액(영업수익)(*)       매출원가(*)     매출총이익(손실)  \\\n",
       "count  4.480800e+04  4.480800e+04  4.480800e+04  4.480800e+04  4.480800e+04   \n",
       "mean   1.273028e+07  3.824739e+08  4.760478e+08  3.753848e+08  1.006631e+08   \n",
       "std    1.235203e+08  3.634313e+09  3.173518e+09  2.459679e+09  9.006740e+08   \n",
       "min   -1.484043e+09 -4.329456e+09  0.000000e+00  0.000000e+00 -4.123609e+09   \n",
       "25%    0.000000e+00  1.040592e+07  2.045689e+07  1.253418e+07  3.843675e+06   \n",
       "50%    0.000000e+00  3.845713e+07  5.486654e+07  3.900852e+07  1.055281e+07   \n",
       "75%    7.898818e+05  1.088283e+08  1.628895e+08  1.245439e+08  3.011197e+07   \n",
       "max    8.581563e+09  1.509290e+11  1.619150e+11  1.107320e+11  6.051535e+10   \n",
       "\n",
       "       판매비와관리비(영업비용)(*)  \n",
       "count      4.480800e+04  \n",
       "mean       7.097468e+07  \n",
       "std        5.997196e+08  \n",
       "min       -3.188634e+06  \n",
       "25%        3.243011e+06  \n",
       "50%        7.485700e+06  \n",
       "75%        2.003993e+07  \n",
       "max        2.583356e+10  "
      ]
     },
     "execution_count": 722,
     "metadata": {},
     "output_type": "execute_result"
    }
   ],
   "source": [
    "data.iloc[:, :20].describe()"
   ]
  },
  {
   "cell_type": "code",
   "execution_count": 723,
   "metadata": {},
   "outputs": [
    {
     "data": {
      "text/html": [
       "<div>\n",
       "<style scoped>\n",
       "    .dataframe tbody tr th:only-of-type {\n",
       "        vertical-align: middle;\n",
       "    }\n",
       "\n",
       "    .dataframe tbody tr th {\n",
       "        vertical-align: top;\n",
       "    }\n",
       "\n",
       "    .dataframe thead th {\n",
       "        text-align: right;\n",
       "    }\n",
       "</style>\n",
       "<table border=\"1\" class=\"dataframe\">\n",
       "  <thead>\n",
       "    <tr style=\"text-align: right;\">\n",
       "      <th></th>\n",
       "      <th>영업이익(손실)</th>\n",
       "      <th>영업외수익(*)</th>\n",
       "      <th>영업외비용(*)</th>\n",
       "      <th>법인세비용차감전(계속사업)손익</th>\n",
       "      <th>(계속사업손익)법인세비용</th>\n",
       "      <th>계속사업이익(손실)</th>\n",
       "      <th>당기순이익(순손실)</th>\n",
       "      <th>영업활동으로 인한 현금흐름(*)</th>\n",
       "      <th>투자활동으로 인한 현금흐름(*)</th>\n",
       "      <th>재무활동으로 인한 현금흐름(*)</th>\n",
       "      <th>환율변동으로 인한 차이조정</th>\n",
       "      <th>현금의 증가(감소)(*)</th>\n",
       "      <th>산술평균</th>\n",
       "      <th>경제성장률</th>\n",
       "      <th>총저축률</th>\n",
       "      <th>제조업 평균가동률</th>\n",
       "      <th>실업률</th>\n",
       "      <th>코스피지수</th>\n",
       "      <th>경상수지</th>\n",
       "      <th>발행주식수</th>\n",
       "    </tr>\n",
       "  </thead>\n",
       "  <tbody>\n",
       "    <tr>\n",
       "      <th>count</th>\n",
       "      <td>4.480800e+04</td>\n",
       "      <td>4.480800e+04</td>\n",
       "      <td>4.480800e+04</td>\n",
       "      <td>4.480800e+04</td>\n",
       "      <td>4.480800e+04</td>\n",
       "      <td>4.480800e+04</td>\n",
       "      <td>4.480800e+04</td>\n",
       "      <td>4.480800e+04</td>\n",
       "      <td>4.480800e+04</td>\n",
       "      <td>4.480800e+04</td>\n",
       "      <td>4.480800e+04</td>\n",
       "      <td>4.480800e+04</td>\n",
       "      <td>4.480800e+04</td>\n",
       "      <td>44808.000000</td>\n",
       "      <td>44808.000000</td>\n",
       "      <td>44808.000000</td>\n",
       "      <td>44808.000000</td>\n",
       "      <td>44808.000000</td>\n",
       "      <td>44808.000000</td>\n",
       "      <td>4.480800e+04</td>\n",
       "    </tr>\n",
       "    <tr>\n",
       "      <th>mean</th>\n",
       "      <td>2.968838e+07</td>\n",
       "      <td>2.504034e+07</td>\n",
       "      <td>2.383518e+07</td>\n",
       "      <td>3.089354e+07</td>\n",
       "      <td>6.721418e+06</td>\n",
       "      <td>2.417202e+07</td>\n",
       "      <td>2.562470e+07</td>\n",
       "      <td>3.992536e+07</td>\n",
       "      <td>-3.701241e+07</td>\n",
       "      <td>-8.630578e+05</td>\n",
       "      <td>-2.349838e+04</td>\n",
       "      <td>1.844157e+06</td>\n",
       "      <td>2.802684e+04</td>\n",
       "      <td>0.702551</td>\n",
       "      <td>35.142693</td>\n",
       "      <td>75.728232</td>\n",
       "      <td>3.458516</td>\n",
       "      <td>2036.053069</td>\n",
       "      <td>18392.150768</td>\n",
       "      <td>4.236067e+07</td>\n",
       "    </tr>\n",
       "    <tr>\n",
       "      <th>std</th>\n",
       "      <td>3.735805e+08</td>\n",
       "      <td>1.906462e+08</td>\n",
       "      <td>1.512029e+08</td>\n",
       "      <td>4.215106e+08</td>\n",
       "      <td>8.608674e+07</td>\n",
       "      <td>3.390456e+08</td>\n",
       "      <td>3.440693e+08</td>\n",
       "      <td>4.902063e+08</td>\n",
       "      <td>3.916451e+08</td>\n",
       "      <td>1.901429e+08</td>\n",
       "      <td>3.332839e+06</td>\n",
       "      <td>7.543943e+07</td>\n",
       "      <td>1.046151e+05</td>\n",
       "      <td>0.313017</td>\n",
       "      <td>0.944520</td>\n",
       "      <td>2.787587</td>\n",
       "      <td>0.438387</td>\n",
       "      <td>153.125284</td>\n",
       "      <td>8647.826096</td>\n",
       "      <td>1.930909e+08</td>\n",
       "    </tr>\n",
       "    <tr>\n",
       "      <th>min</th>\n",
       "      <td>-4.695036e+09</td>\n",
       "      <td>-5.388529e+06</td>\n",
       "      <td>-5.367481e+06</td>\n",
       "      <td>-5.818763e+09</td>\n",
       "      <td>-1.450958e+09</td>\n",
       "      <td>-4.367805e+09</td>\n",
       "      <td>-4.367805e+09</td>\n",
       "      <td>-2.678869e+09</td>\n",
       "      <td>-2.811881e+10</td>\n",
       "      <td>-1.180199e+10</td>\n",
       "      <td>-1.293088e+08</td>\n",
       "      <td>-1.867711e+09</td>\n",
       "      <td>9.400000e+01</td>\n",
       "      <td>-0.200000</td>\n",
       "      <td>33.700000</td>\n",
       "      <td>71.800000</td>\n",
       "      <td>2.800000</td>\n",
       "      <td>1843.470000</td>\n",
       "      <td>-4253.000000</td>\n",
       "      <td>4.075920e+05</td>\n",
       "    </tr>\n",
       "    <tr>\n",
       "      <th>25%</th>\n",
       "      <td>1.466165e+05</td>\n",
       "      <td>5.633152e+05</td>\n",
       "      <td>5.701110e+05</td>\n",
       "      <td>-1.268718e+05</td>\n",
       "      <td>0.000000e+00</td>\n",
       "      <td>-1.509590e+05</td>\n",
       "      <td>-1.441155e+05</td>\n",
       "      <td>-1.126466e+06</td>\n",
       "      <td>-1.162654e+07</td>\n",
       "      <td>-3.120000e+06</td>\n",
       "      <td>-4.498250e+03</td>\n",
       "      <td>-2.662433e+06</td>\n",
       "      <td>2.988000e+03</td>\n",
       "      <td>0.600000</td>\n",
       "      <td>34.300000</td>\n",
       "      <td>73.400000</td>\n",
       "      <td>3.100000</td>\n",
       "      <td>1939.300000</td>\n",
       "      <td>12833.000000</td>\n",
       "      <td>1.142672e+07</td>\n",
       "    </tr>\n",
       "    <tr>\n",
       "      <th>50%</th>\n",
       "      <td>2.521986e+06</td>\n",
       "      <td>1.650021e+06</td>\n",
       "      <td>1.820646e+06</td>\n",
       "      <td>2.486277e+06</td>\n",
       "      <td>3.875690e+05</td>\n",
       "      <td>2.064600e+06</td>\n",
       "      <td>2.076532e+06</td>\n",
       "      <td>2.350960e+06</td>\n",
       "      <td>-3.000000e+06</td>\n",
       "      <td>0.000000e+00</td>\n",
       "      <td>0.000000e+00</td>\n",
       "      <td>5.587500e+03</td>\n",
       "      <td>6.423000e+03</td>\n",
       "      <td>0.700000</td>\n",
       "      <td>34.900000</td>\n",
       "      <td>75.500000</td>\n",
       "      <td>3.400000</td>\n",
       "      <td>1991.970000</td>\n",
       "      <td>21472.900000</td>\n",
       "      <td>2.085682e+07</td>\n",
       "    </tr>\n",
       "    <tr>\n",
       "      <th>75%</th>\n",
       "      <td>9.392068e+06</td>\n",
       "      <td>5.406402e+06</td>\n",
       "      <td>5.822912e+06</td>\n",
       "      <td>9.778532e+06</td>\n",
       "      <td>1.944774e+06</td>\n",
       "      <td>7.940403e+06</td>\n",
       "      <td>8.013559e+06</td>\n",
       "      <td>1.048880e+07</td>\n",
       "      <td>-1.420948e+05</td>\n",
       "      <td>4.908356e+06</td>\n",
       "      <td>1.610000e+02</td>\n",
       "      <td>3.068445e+06</td>\n",
       "      <td>1.704025e+04</td>\n",
       "      <td>0.900000</td>\n",
       "      <td>36.000000</td>\n",
       "      <td>77.300000</td>\n",
       "      <td>3.800000</td>\n",
       "      <td>2068.540000</td>\n",
       "      <td>25944.500000</td>\n",
       "      <td>4.000000e+07</td>\n",
       "    </tr>\n",
       "    <tr>\n",
       "      <th>max</th>\n",
       "      <td>3.485709e+10</td>\n",
       "      <td>1.022012e+10</td>\n",
       "      <td>6.911713e+09</td>\n",
       "      <td>3.653355e+10</td>\n",
       "      <td>7.732715e+09</td>\n",
       "      <td>2.880084e+10</td>\n",
       "      <td>2.880084e+10</td>\n",
       "      <td>3.890619e+10</td>\n",
       "      <td>2.676584e+09</td>\n",
       "      <td>6.113317e+09</td>\n",
       "      <td>5.030681e+08</td>\n",
       "      <td>4.011573e+09</td>\n",
       "      <td>3.039182e+06</td>\n",
       "      <td>1.400000</td>\n",
       "      <td>37.000000</td>\n",
       "      <td>81.300000</td>\n",
       "      <td>4.300000</td>\n",
       "      <td>2476.370000</td>\n",
       "      <td>28086.900000</td>\n",
       "      <td>7.322954e+09</td>\n",
       "    </tr>\n",
       "  </tbody>\n",
       "</table>\n",
       "</div>"
      ],
      "text/plain": [
       "           영업이익(손실)      영업외수익(*)      영업외비용(*)  법인세비용차감전(계속사업)손익  \\\n",
       "count  4.480800e+04  4.480800e+04  4.480800e+04      4.480800e+04   \n",
       "mean   2.968838e+07  2.504034e+07  2.383518e+07      3.089354e+07   \n",
       "std    3.735805e+08  1.906462e+08  1.512029e+08      4.215106e+08   \n",
       "min   -4.695036e+09 -5.388529e+06 -5.367481e+06     -5.818763e+09   \n",
       "25%    1.466165e+05  5.633152e+05  5.701110e+05     -1.268718e+05   \n",
       "50%    2.521986e+06  1.650021e+06  1.820646e+06      2.486277e+06   \n",
       "75%    9.392068e+06  5.406402e+06  5.822912e+06      9.778532e+06   \n",
       "max    3.485709e+10  1.022012e+10  6.911713e+09      3.653355e+10   \n",
       "\n",
       "       (계속사업손익)법인세비용    계속사업이익(손실)    당기순이익(순손실)  영업활동으로 인한 현금흐름(*)  \\\n",
       "count   4.480800e+04  4.480800e+04  4.480800e+04       4.480800e+04   \n",
       "mean    6.721418e+06  2.417202e+07  2.562470e+07       3.992536e+07   \n",
       "std     8.608674e+07  3.390456e+08  3.440693e+08       4.902063e+08   \n",
       "min    -1.450958e+09 -4.367805e+09 -4.367805e+09      -2.678869e+09   \n",
       "25%     0.000000e+00 -1.509590e+05 -1.441155e+05      -1.126466e+06   \n",
       "50%     3.875690e+05  2.064600e+06  2.076532e+06       2.350960e+06   \n",
       "75%     1.944774e+06  7.940403e+06  8.013559e+06       1.048880e+07   \n",
       "max     7.732715e+09  2.880084e+10  2.880084e+10       3.890619e+10   \n",
       "\n",
       "       투자활동으로 인한 현금흐름(*)  재무활동으로 인한 현금흐름(*)  환율변동으로 인한 차이조정  현금의 증가(감소)(*)  \\\n",
       "count       4.480800e+04       4.480800e+04    4.480800e+04   4.480800e+04   \n",
       "mean       -3.701241e+07      -8.630578e+05   -2.349838e+04   1.844157e+06   \n",
       "std         3.916451e+08       1.901429e+08    3.332839e+06   7.543943e+07   \n",
       "min        -2.811881e+10      -1.180199e+10   -1.293088e+08  -1.867711e+09   \n",
       "25%        -1.162654e+07      -3.120000e+06   -4.498250e+03  -2.662433e+06   \n",
       "50%        -3.000000e+06       0.000000e+00    0.000000e+00   5.587500e+03   \n",
       "75%        -1.420948e+05       4.908356e+06    1.610000e+02   3.068445e+06   \n",
       "max         2.676584e+09       6.113317e+09    5.030681e+08   4.011573e+09   \n",
       "\n",
       "               산술평균         경제성장률          총저축률     제조업 평균가동률           실업률  \\\n",
       "count  4.480800e+04  44808.000000  44808.000000  44808.000000  44808.000000   \n",
       "mean   2.802684e+04      0.702551     35.142693     75.728232      3.458516   \n",
       "std    1.046151e+05      0.313017      0.944520      2.787587      0.438387   \n",
       "min    9.400000e+01     -0.200000     33.700000     71.800000      2.800000   \n",
       "25%    2.988000e+03      0.600000     34.300000     73.400000      3.100000   \n",
       "50%    6.423000e+03      0.700000     34.900000     75.500000      3.400000   \n",
       "75%    1.704025e+04      0.900000     36.000000     77.300000      3.800000   \n",
       "max    3.039182e+06      1.400000     37.000000     81.300000      4.300000   \n",
       "\n",
       "              코스피지수          경상수지         발행주식수  \n",
       "count  44808.000000  44808.000000  4.480800e+04  \n",
       "mean    2036.053069  18392.150768  4.236067e+07  \n",
       "std      153.125284   8647.826096  1.930909e+08  \n",
       "min     1843.470000  -4253.000000  4.075920e+05  \n",
       "25%     1939.300000  12833.000000  1.142672e+07  \n",
       "50%     1991.970000  21472.900000  2.085682e+07  \n",
       "75%     2068.540000  25944.500000  4.000000e+07  \n",
       "max     2476.370000  28086.900000  7.322954e+09  "
      ]
     },
     "execution_count": 723,
     "metadata": {},
     "output_type": "execute_result"
    }
   ],
   "source": [
    "data.iloc[:, 20:].describe()"
   ]
  },
  {
   "cell_type": "code",
   "execution_count": 724,
   "metadata": {
    "scrolled": false
   },
   "outputs": [
    {
     "data": {
      "image/png": "[encoded data removed]",
      "text/plain": [
       "<Figure size 864x576 with 16 Axes>"
      ]
     },
     "metadata": {
      "needs_background": "light"
     },
     "output_type": "display_data"
    }
   ],
   "source": [
    "data.iloc[:,:20].hist(bins=50, figsize=(12,8), color='slateblue')\n",
    "plt.show()"
   ]
  },
  {
   "cell_type": "code",
   "execution_count": 725,
   "metadata": {},
   "outputs": [
    {
     "data": {
      "image/png": "[encoded data removed]",
      "text/plain": [
       "<Figure size 864x576 with 20 Axes>"
      ]
     },
     "metadata": {
      "needs_background": "light"
     },
     "output_type": "display_data"
    }
   ],
   "source": [
    "data.iloc[:,20:].hist(bins=50, figsize=(12,8),color='slateblue')\n",
    "plt.show()"
   ]
  },
  {
   "cell_type": "markdown",
   "metadata": {},
   "source": [
    "왼쪽에 데이터가 몰려있는 경우가 많으니 몇 특성들을 골라서 log변환을 해야한다.\n",
    "- 특성들\n",
    "    - 당좌자산(\\*), 매출액(영업수익)(\\*), 매출원가(\\*), 매출총이익(손실), 비유동부채(\\*), 비유동자산(\\*)\n",
    "    - 유동부채(\\*) 자본금(\\*) 자본잉여금(\\*) 재고자산(\\*) 종업원 판매비와관리비(영업비용)(\\*)\n",
    "    - 발행주식수 영업외비용(\\*) 재무활동으로 인한 현금흐름(\\*)"
   ]
  },
  {
   "cell_type": "markdown",
   "metadata": {},
   "source": [
    "# 상관관계 조사"
   ]
  },
  {
   "cell_type": "code",
   "execution_count": 726,
   "metadata": {},
   "outputs": [
    {
     "data": {
      "text/plain": [
       "산술평균                 1.000000\n",
       "이익잉여금(*)             0.396240\n",
       "당좌자산(*)              0.364451\n",
       "영업이익(손실)             0.355714\n",
       "종업원                  0.351358\n",
       "매출총이익(손실)            0.351300\n",
       "법인세비용차감전(계속사업)손익     0.343791\n",
       "당기순이익(순손실)           0.341330\n",
       "계속사업이익(손실)           0.341233\n",
       "(계속사업손익)법인세비용        0.339405\n",
       "매출액(영업수익)(*)         0.335271\n",
       "재고자산(*)              0.332106\n",
       "영업활동으로 인한 현금흐름(*)    0.326965\n",
       "비유동자산(*)             0.325296\n",
       "유동부채(*)              0.311331\n",
       "발행주식수                0.310722\n",
       "판매비와관리비(영업비용)(*)     0.306008\n",
       "매출원가(*)              0.303935\n",
       "영업외수익(*)             0.247885\n",
       "자본잉여금(*)             0.239567\n",
       "영업외비용(*)             0.233027\n",
       "기타포괄손익누계액(*)         0.205806\n",
       "비유동부채(*)             0.099602\n",
       "현금의 증가(감소)(*)        0.087819\n",
       "자본금(*)               0.075501\n",
       "  경상수지               0.017314\n",
       "  총저축률               0.011498\n",
       "  실업률                0.009394\n",
       " 코스피지수               0.006466\n",
       "환율변동으로 인한 차이조정       0.004291\n",
       "  경제성장률             -0.000736\n",
       "  제조업 평균가동률         -0.017009\n",
       "재무활동으로 인한 현금흐름(*)   -0.192920\n",
       "자본조정(*)             -0.198181\n",
       "소속코드                -0.204418\n",
       "투자활동으로 인한 현금흐름(*)   -0.297999\n",
       "Name: 산술평균, dtype: float64"
      ]
     },
     "execution_count": 726,
     "metadata": {},
     "output_type": "execute_result"
    }
   ],
   "source": [
    "corr_matrix = data.corr()\n",
    "corr_matrix[\"산술평균\"].sort_values(ascending=False)"
   ]
  },
  {
   "cell_type": "markdown",
   "metadata": {},
   "source": [
    "상관 관계가 높은 특성들은 \"산술평균\", \"영업이익(손실)\", \"당좌자산(\\*)\", \"법인세비용차감전(계속사업)손익\", \"자본금(\\*)\", \"산술평균\", \"당기순이익(순손실)\", \"계속사업이익(손실)\", \"매출총이익(손실)\"이다.\n",
    "\n",
    "이를 산점도로 그려보자"
   ]
  },
  {
   "cell_type": "code",
   "execution_count": 727,
   "metadata": {},
   "outputs": [
    {
     "data": {
      "image/png": "[encoded data removed]",
      "text/plain": [
       "<Figure size 864x576 with 25 Axes>"
      ]
     },
     "metadata": {
      "needs_background": "light"
     },
     "output_type": "display_data"
    }
   ],
   "source": [
    "from pandas.plotting import scatter_matrix\n",
    "\n",
    "attributes1 = [\"산술평균\",\"영업이익(손실)\", \"당좌자산(*)\", \"법인세비용차감전(계속사업)손익\", \"자본금(*)\"]\n",
    "scatter_matrix(data[attributes1], figsize=(12, 8))\n",
    "plt.show()"
   ]
  },
  {
   "cell_type": "code",
   "execution_count": 728,
   "metadata": {},
   "outputs": [
    {
     "data": {
      "image/png": "[encoded data removed]",
      "text/plain": [
       "<Figure size 864x576 with 16 Axes>"
      ]
     },
     "metadata": {
      "needs_background": "light"
     },
     "output_type": "display_data"
    }
   ],
   "source": [
    "attributes2 = [\"산술평균\",\"당기순이익(순손실)\", \"계속사업이익(손실)\", \"매출총이익(손실)\"]\n",
    "scatter_matrix(data[attributes2], figsize=(12, 8))\n",
    "plt.show()"
   ]
  },
  {
   "cell_type": "markdown",
   "metadata": {},
   "source": [
    "상관 관계를 조사해본 결과, 각 특성들끼리 상관도가 굉장히 높다. 이런 경우를 해결하기 위해 PCA 전처리를 추가해야한다."
   ]
  },
  {
   "cell_type": "markdown",
   "metadata": {},
   "source": [
    "#### 수치형 데이터 log화와 PCA"
   ]
  },
  {
   "cell_type": "markdown",
   "metadata": {},
   "source": [
    "log화가 필요한 데이터들\n",
    "    - 당좌자산(\\*), 매출액(영업수익)(\\*), 매출원가(\\*), 매출총이익(손실), 비유동부채(\\*), 비유동자산(\\*)\n",
    "    - 유동부채(\\*), 자본금(\\*), 자본잉여금(\\*), 재고자산(\\*), 종업원 판매비와관리비(영업비용)(\\*)\n",
    "    - 발행주식수 영업외비용(\\*), 재무활동으로 인한 현금흐름(\\*)  \n",
    "PCA를 할 데이터들\n",
    "    - 당좌자산(\\*)~현금의 증가(감소)(\\*)\n",
    "    -   경제성장률 ~ 경상수지"
   ]
  },
  {
   "cell_type": "markdown",
   "metadata": {},
   "source": [
    "#### log화"
   ]
  },
  {
   "cell_type": "code",
   "execution_count": 729,
   "metadata": {},
   "outputs": [],
   "source": [
    "log_data = [\"당좌자산(*)\", \"매출액(영업수익)(*)\", \"매출원가(*)\", \"매출총이익(손실)\", \"비유동부채(*)\", \"비유동자산(*)\", \"유동부채(*)\" ,\n",
    "     \"자본금(*)\", \"자본잉여금(*)\", \"재고자산(*)\", \"종업원\", \"판매비와관리비(영업비용)(*)\",\n",
    "    \"발행주식수\", \"영업외비용(*)\", \"재무활동으로 인한 현금흐름(*)\"  ]\n",
    "data_log = data[log_data].copy()\n",
    "for i in log_data:\n",
    "    data_log.loc[:, i] = data_log[i] - data_log[i].min() + 1\n",
    "data_log = np.log(data_log)"
   ]
  },
  {
   "cell_type": "code",
   "execution_count": 730,
   "metadata": {},
   "outputs": [],
   "source": [
    "data_final = data.drop(log_data, axis=1).join(data_log).copy()"
   ]
  },
  {
   "cell_type": "markdown",
   "metadata": {},
   "source": [
    "#### PCA"
   ]
  },
  {
   "cell_type": "code",
   "execution_count": 731,
   "metadata": {},
   "outputs": [],
   "source": [
    "micro_att = ['당좌자산(*)','재고자산(*)','비유동자산(*)','유동부채(*)','비유동부채(*)',\n",
    "        '자본금(*)','자본잉여금(*)','자본조정(*)','기타포괄손익누계액(*)',\n",
    "        '이익잉여금(*)','매출액(영업수익)(*)','매출원가(*)','매출총이익(손실)',\n",
    "        '판매비와관리비(영업비용)(*)','영업이익(손실)','영업외수익(*)','영업외비용(*)',\n",
    "        '법인세비용차감전(계속사업)손익','(계속사업손익)법인세비용','계속사업이익(손실)',\n",
    "        '당기순이익(순손실)','영업활동으로 인한 현금흐름(*)',\n",
    "        '투자활동으로 인한 현금흐름(*)','재무활동으로 인한 현금흐름(*)',\n",
    "       '환율변동으로 인한 차이조정','현금의 증가(감소)(*)']\n",
    "\n",
    "macro_att = ['  경제성장률','  총저축률','  제조업 평균가동률','  실업률',\n",
    "            ' 코스피지수','  경상수지']\n",
    "\n",
    "PCA_micro = data_final[micro_att].copy()\n",
    "PCA_macro = data_final[macro_att].copy()"
   ]
  },
  {
   "cell_type": "markdown",
   "metadata": {},
   "source": [
    "먼저 주어진 데이터를 95%이상 설명가능한 차원의 수를 각각 구하자."
   ]
  },
  {
   "cell_type": "code",
   "execution_count": 732,
   "metadata": {},
   "outputs": [
    {
     "data": {
      "text/plain": [
       "(array([[-4.34042782e+08],\n",
       "        [-4.33210011e+08],\n",
       "        [-4.33015805e+08],\n",
       "        ...,\n",
       "        [-3.20498114e+08],\n",
       "        [-3.32918389e+08],\n",
       "        [-3.72796808e+08]]), 1)"
      ]
     },
     "execution_count": 732,
     "metadata": {},
     "output_type": "execute_result"
    }
   ],
   "source": [
    "from sklearn.decomposition import PCA\n",
    "\n",
    "pca1 = PCA()\n",
    "pca1.fit(PCA_micro)\n",
    "cumsum = np.cumsum(pca1.explained_variance_ratio_) ## 모든 배열의 원소들을 누적으로 다 더한 놈들 반환\n",
    "d1 = np.argmax(cumsum>=0.90)+1 ## argmax는 제일 큰 수의 index를 1차원 배열로 봤을 때의 index로 반환\n",
    "\n",
    "pca1 = PCA(n_components=d1)\n",
    "\n",
    "pca1.fit_transform(PCA_micro), d1"
   ]
  },
  {
   "cell_type": "code",
   "execution_count": 733,
   "metadata": {},
   "outputs": [
    {
     "data": {
      "text/html": [
       "<div>\n",
       "<style scoped>\n",
       "    .dataframe tbody tr th:only-of-type {\n",
       "        vertical-align: middle;\n",
       "    }\n",
       "\n",
       "    .dataframe tbody tr th {\n",
       "        vertical-align: top;\n",
       "    }\n",
       "\n",
       "    .dataframe thead th {\n",
       "        text-align: right;\n",
       "    }\n",
       "</style>\n",
       "<table border=\"1\" class=\"dataframe\">\n",
       "  <thead>\n",
       "    <tr style=\"text-align: right;\">\n",
       "      <th></th>\n",
       "      <th>pca1_0</th>\n",
       "    </tr>\n",
       "  </thead>\n",
       "  <tbody>\n",
       "    <tr>\n",
       "      <th>0</th>\n",
       "      <td>-4.340428e+08</td>\n",
       "    </tr>\n",
       "    <tr>\n",
       "      <th>1</th>\n",
       "      <td>-4.332100e+08</td>\n",
       "    </tr>\n",
       "    <tr>\n",
       "      <th>2</th>\n",
       "      <td>-4.330158e+08</td>\n",
       "    </tr>\n",
       "    <tr>\n",
       "      <th>3</th>\n",
       "      <td>-4.355545e+08</td>\n",
       "    </tr>\n",
       "    <tr>\n",
       "      <th>4</th>\n",
       "      <td>-4.351588e+08</td>\n",
       "    </tr>\n",
       "  </tbody>\n",
       "</table>\n",
       "</div>"
      ],
      "text/plain": [
       "         pca1_0\n",
       "0 -4.340428e+08\n",
       "1 -4.332100e+08\n",
       "2 -4.330158e+08\n",
       "3 -4.355545e+08\n",
       "4 -4.351588e+08"
      ]
     },
     "execution_count": 733,
     "metadata": {},
     "output_type": "execute_result"
    }
   ],
   "source": [
    "index_micro = PCA_micro.index\n",
    "        \n",
    "col = []\n",
    "for i in range(d1):\n",
    "    col.append('pca1_%s' %i)\n",
    "        \n",
    "XdD1 = pd.DataFrame(pca1.transform(PCA_micro), \n",
    "                    index=index_micro, columns = col)\n",
    "XdD1.head()"
   ]
  },
  {
   "cell_type": "code",
   "execution_count": 734,
   "metadata": {},
   "outputs": [
    {
     "data": {
      "text/plain": [
       "(array([[22645.20994138],\n",
       "        [20862.67725537],\n",
       "        [ 6986.65230718],\n",
       "        ...,\n",
       "        [ 3936.9452325 ],\n",
       "        [-7552.56219834],\n",
       "        [ -458.93816693]]), 1)"
      ]
     },
     "execution_count": 734,
     "metadata": {},
     "output_type": "execute_result"
    }
   ],
   "source": [
    "pca2 = PCA()\n",
    "pca2.fit(PCA_macro)\n",
    "cumsum = np.cumsum(pca2.explained_variance_ratio_) ## 모든 배열의 원소들을 누적으로 다 더한 놈들 반환\n",
    "d2 = np.argmax(cumsum>=0.95)+1 ## argmax는 제일 큰 수의 index를 1차원 배열로 봤을 때의 index로 반환\n",
    "\n",
    "pca2 = PCA(n_components=d2)\n",
    "\n",
    "pca2.fit_transform(PCA_macro), d2"
   ]
  },
  {
   "cell_type": "code",
   "execution_count": 735,
   "metadata": {},
   "outputs": [
    {
     "data": {
      "text/html": [
       "<div>\n",
       "<style scoped>\n",
       "    .dataframe tbody tr th:only-of-type {\n",
       "        vertical-align: middle;\n",
       "    }\n",
       "\n",
       "    .dataframe tbody tr th {\n",
       "        vertical-align: top;\n",
       "    }\n",
       "\n",
       "    .dataframe thead th {\n",
       "        text-align: right;\n",
       "    }\n",
       "</style>\n",
       "<table border=\"1\" class=\"dataframe\">\n",
       "  <thead>\n",
       "    <tr style=\"text-align: right;\">\n",
       "      <th></th>\n",
       "      <th>pca2_0</th>\n",
       "    </tr>\n",
       "  </thead>\n",
       "  <tbody>\n",
       "    <tr>\n",
       "      <th>0</th>\n",
       "      <td>22645.209941</td>\n",
       "    </tr>\n",
       "    <tr>\n",
       "      <th>1</th>\n",
       "      <td>20862.677255</td>\n",
       "    </tr>\n",
       "    <tr>\n",
       "      <th>2</th>\n",
       "      <td>6986.652307</td>\n",
       "    </tr>\n",
       "    <tr>\n",
       "      <th>3</th>\n",
       "      <td>6436.073393</td>\n",
       "    </tr>\n",
       "    <tr>\n",
       "      <th>4</th>\n",
       "      <td>19684.141062</td>\n",
       "    </tr>\n",
       "  </tbody>\n",
       "</table>\n",
       "</div>"
      ],
      "text/plain": [
       "         pca2_0\n",
       "0  22645.209941\n",
       "1  20862.677255\n",
       "2   6986.652307\n",
       "3   6436.073393\n",
       "4  19684.141062"
      ]
     },
     "execution_count": 735,
     "metadata": {},
     "output_type": "execute_result"
    }
   ],
   "source": [
    "index_macro = PCA_macro.index\n",
    "        \n",
    "col = []\n",
    "for i in range(d2):\n",
    "    col.append('pca2_%s' %i)\n",
    "        \n",
    "XdD2 = pd.DataFrame(pca2.transform(PCA_macro), \n",
    "                    index=index_macro, columns = col)\n",
    "XdD2.head()"
   ]
  },
  {
   "cell_type": "markdown",
   "metadata": {},
   "source": [
    "#### 데이터 log화와 PCA"
   ]
  },
  {
   "cell_type": "code",
   "execution_count": 736,
   "metadata": {},
   "outputs": [],
   "source": [
    "data_final = data.drop(log_data, axis=1).join(data_log).copy()"
   ]
  },
  {
   "cell_type": "code",
   "execution_count": 737,
   "metadata": {},
   "outputs": [],
   "source": [
    "data_final.drop(PCA_micro, axis=1, inplace=True)\n",
    "data_final.drop(PCA_macro, axis=1, inplace=True)"
   ]
  },
  {
   "cell_type": "code",
   "execution_count": 738,
   "metadata": {},
   "outputs": [],
   "source": [
    "data_final = data_final.join(XdD1)\n",
    "data_final = data_final.join(XdD2)"
   ]
  },
  {
   "cell_type": "code",
   "execution_count": 739,
   "metadata": {},
   "outputs": [],
   "source": [
    "log = data_final[\"산술평균\"] - data_final[\"산술평균\"].min() + 0.01"
   ]
  },
  {
   "cell_type": "code",
   "execution_count": 740,
   "metadata": {
    "scrolled": true
   },
   "outputs": [],
   "source": [
    "log_labels = np.log(data_final[\"산술평균\"].copy())\n",
    "data_final[\"log_labels\"] = log_labels"
   ]
  },
  {
   "cell_type": "markdown",
   "metadata": {},
   "source": [
    "#### 실험 시각화"
   ]
  },
  {
   "cell_type": "code",
   "execution_count": 741,
   "metadata": {},
   "outputs": [
    {
     "data": {
      "image/png": "[encoded data removed]",
      "text/plain": [
       "<Figure size 864x576 with 9 Axes>"
      ]
     },
     "metadata": {
      "needs_background": "light"
     },
     "output_type": "display_data"
    }
   ],
   "source": [
    "data_final.hist(bins=50, figsize=(12,8), color='slateblue')\n",
    "plt.show()"
   ]
  },
  {
   "cell_type": "code",
   "execution_count": 742,
   "metadata": {
    "scrolled": true
   },
   "outputs": [
    {
     "data": {
      "text/plain": [
       "log_labels    1.000000\n",
       "산술평균          0.544147\n",
       "종업원           0.402847\n",
       "pca1_0        0.220909\n",
       "pca2_0       -0.064862\n",
       "소속코드         -0.309209\n",
       "발행주식수        -0.327087\n",
       "Name: log_labels, dtype: float64"
      ]
     },
     "execution_count": 742,
     "metadata": {},
     "output_type": "execute_result"
    }
   ],
   "source": [
    "corr_matrix = data_final.corr()\n",
    "corr_matrix[\"log_labels\"].sort_values(ascending=False)"
   ]
  },
  {
   "cell_type": "code",
   "execution_count": 743,
   "metadata": {},
   "outputs": [
    {
     "ename": "KeyError",
     "evalue": "\"['pca1_1'] not in index\"",
     "output_type": "error",
     "traceback": [
      "\u001b[1;31m---------------------------------------------------------------------------\u001b[0m",
      "\u001b[1;31mKeyError\u001b[0m                                  Traceback (most recent call last)",
      "\u001b[1;32m<ipython-input-743-6329d22f12cb>\u001b[0m in \u001b[0;36m<module>\u001b[1;34m\u001b[0m\n\u001b[0;32m      1\u001b[0m \u001b[0mattributes\u001b[0m \u001b[1;33m=\u001b[0m \u001b[1;33m[\u001b[0m\u001b[1;34m\"log_labels\"\u001b[0m\u001b[1;33m,\u001b[0m\u001b[1;34m\"종업원\"\u001b[0m\u001b[1;33m,\u001b[0m \u001b[1;34m\"pca1_1\"\u001b[0m\u001b[1;33m,\u001b[0m \u001b[1;34m\"발행주식수\"\u001b[0m\u001b[1;33m,\u001b[0m \u001b[1;34m\"pca1_0\"\u001b[0m\u001b[1;33m]\u001b[0m\u001b[1;33m\u001b[0m\u001b[0m\n\u001b[1;32m----> 2\u001b[1;33m \u001b[0mscatter_matrix\u001b[0m\u001b[1;33m(\u001b[0m\u001b[0mdata_final\u001b[0m\u001b[1;33m[\u001b[0m\u001b[0mattributes\u001b[0m\u001b[1;33m]\u001b[0m\u001b[1;33m,\u001b[0m \u001b[0mfigsize\u001b[0m\u001b[1;33m=\u001b[0m\u001b[1;33m(\u001b[0m\u001b[1;36m12\u001b[0m\u001b[1;33m,\u001b[0m \u001b[1;36m8\u001b[0m\u001b[1;33m)\u001b[0m\u001b[1;33m)\u001b[0m\u001b[1;33m\u001b[0m\u001b[0m\n\u001b[0m\u001b[0;32m      3\u001b[0m \u001b[0mplt\u001b[0m\u001b[1;33m.\u001b[0m\u001b[0mshow\u001b[0m\u001b[1;33m(\u001b[0m\u001b[1;33m)\u001b[0m\u001b[1;33m\u001b[0m\u001b[0m\n",
      "\u001b[1;32mc:\\python\\lib\\site-packages\\pandas\\core\\frame.py\u001b[0m in \u001b[0;36m__getitem__\u001b[1;34m(self, key)\u001b[0m\n\u001b[0;32m   2680\u001b[0m         \u001b[1;32mif\u001b[0m \u001b[0misinstance\u001b[0m\u001b[1;33m(\u001b[0m\u001b[0mkey\u001b[0m\u001b[1;33m,\u001b[0m \u001b[1;33m(\u001b[0m\u001b[0mSeries\u001b[0m\u001b[1;33m,\u001b[0m \u001b[0mnp\u001b[0m\u001b[1;33m.\u001b[0m\u001b[0mndarray\u001b[0m\u001b[1;33m,\u001b[0m \u001b[0mIndex\u001b[0m\u001b[1;33m,\u001b[0m \u001b[0mlist\u001b[0m\u001b[1;33m)\u001b[0m\u001b[1;33m)\u001b[0m\u001b[1;33m:\u001b[0m\u001b[1;33m\u001b[0m\u001b[0m\n\u001b[0;32m   2681\u001b[0m             \u001b[1;31m# either boolean or fancy integer index\u001b[0m\u001b[1;33m\u001b[0m\u001b[1;33m\u001b[0m\u001b[0m\n\u001b[1;32m-> 2682\u001b[1;33m             \u001b[1;32mreturn\u001b[0m \u001b[0mself\u001b[0m\u001b[1;33m.\u001b[0m\u001b[0m_getitem_array\u001b[0m\u001b[1;33m(\u001b[0m\u001b[0mkey\u001b[0m\u001b[1;33m)\u001b[0m\u001b[1;33m\u001b[0m\u001b[0m\n\u001b[0m\u001b[0;32m   2683\u001b[0m         \u001b[1;32melif\u001b[0m \u001b[0misinstance\u001b[0m\u001b[1;33m(\u001b[0m\u001b[0mkey\u001b[0m\u001b[1;33m,\u001b[0m \u001b[0mDataFrame\u001b[0m\u001b[1;33m)\u001b[0m\u001b[1;33m:\u001b[0m\u001b[1;33m\u001b[0m\u001b[0m\n\u001b[0;32m   2684\u001b[0m             \u001b[1;32mreturn\u001b[0m \u001b[0mself\u001b[0m\u001b[1;33m.\u001b[0m\u001b[0m_getitem_frame\u001b[0m\u001b[1;33m(\u001b[0m\u001b[0mkey\u001b[0m\u001b[1;33m)\u001b[0m\u001b[1;33m\u001b[0m\u001b[0m\n",
      "\u001b[1;32mc:\\python\\lib\\site-packages\\pandas\\core\\frame.py\u001b[0m in \u001b[0;36m_getitem_array\u001b[1;34m(self, key)\u001b[0m\n\u001b[0;32m   2724\u001b[0m             \u001b[1;32mreturn\u001b[0m \u001b[0mself\u001b[0m\u001b[1;33m.\u001b[0m\u001b[0m_take\u001b[0m\u001b[1;33m(\u001b[0m\u001b[0mindexer\u001b[0m\u001b[1;33m,\u001b[0m \u001b[0maxis\u001b[0m\u001b[1;33m=\u001b[0m\u001b[1;36m0\u001b[0m\u001b[1;33m)\u001b[0m\u001b[1;33m\u001b[0m\u001b[0m\n\u001b[0;32m   2725\u001b[0m         \u001b[1;32melse\u001b[0m\u001b[1;33m:\u001b[0m\u001b[1;33m\u001b[0m\u001b[0m\n\u001b[1;32m-> 2726\u001b[1;33m             \u001b[0mindexer\u001b[0m \u001b[1;33m=\u001b[0m \u001b[0mself\u001b[0m\u001b[1;33m.\u001b[0m\u001b[0mloc\u001b[0m\u001b[1;33m.\u001b[0m\u001b[0m_convert_to_indexer\u001b[0m\u001b[1;33m(\u001b[0m\u001b[0mkey\u001b[0m\u001b[1;33m,\u001b[0m \u001b[0maxis\u001b[0m\u001b[1;33m=\u001b[0m\u001b[1;36m1\u001b[0m\u001b[1;33m)\u001b[0m\u001b[1;33m\u001b[0m\u001b[0m\n\u001b[0m\u001b[0;32m   2727\u001b[0m             \u001b[1;32mreturn\u001b[0m \u001b[0mself\u001b[0m\u001b[1;33m.\u001b[0m\u001b[0m_take\u001b[0m\u001b[1;33m(\u001b[0m\u001b[0mindexer\u001b[0m\u001b[1;33m,\u001b[0m \u001b[0maxis\u001b[0m\u001b[1;33m=\u001b[0m\u001b[1;36m1\u001b[0m\u001b[1;33m)\u001b[0m\u001b[1;33m\u001b[0m\u001b[0m\n\u001b[0;32m   2728\u001b[0m \u001b[1;33m\u001b[0m\u001b[0m\n",
      "\u001b[1;32mc:\\python\\lib\\site-packages\\pandas\\core\\indexing.py\u001b[0m in \u001b[0;36m_convert_to_indexer\u001b[1;34m(self, obj, axis, is_setter)\u001b[0m\n\u001b[0;32m   1325\u001b[0m                 \u001b[1;32mif\u001b[0m \u001b[0mmask\u001b[0m\u001b[1;33m.\u001b[0m\u001b[0many\u001b[0m\u001b[1;33m(\u001b[0m\u001b[1;33m)\u001b[0m\u001b[1;33m:\u001b[0m\u001b[1;33m\u001b[0m\u001b[0m\n\u001b[0;32m   1326\u001b[0m                     raise KeyError('{mask} not in index'\n\u001b[1;32m-> 1327\u001b[1;33m                                    .format(mask=objarr[mask]))\n\u001b[0m\u001b[0;32m   1328\u001b[0m \u001b[1;33m\u001b[0m\u001b[0m\n\u001b[0;32m   1329\u001b[0m                 \u001b[1;32mreturn\u001b[0m \u001b[0mcom\u001b[0m\u001b[1;33m.\u001b[0m\u001b[0m_values_from_object\u001b[0m\u001b[1;33m(\u001b[0m\u001b[0mindexer\u001b[0m\u001b[1;33m)\u001b[0m\u001b[1;33m\u001b[0m\u001b[0m\n",
      "\u001b[1;31mKeyError\u001b[0m: \"['pca1_1'] not in index\""
     ]
    }
   ],
   "source": [
    "attributes = [\"log_labels\",\"종업원\", \"pca1_1\", \"발행주식수\", \"pca1_0\"]\n",
    "scatter_matrix(data_final[attributes], figsize=(12, 8))\n",
    "plt.show()"
   ]
  },
  {
   "cell_type": "markdown",
   "metadata": {},
   "source": [
    "#### 분기 추가"
   ]
  },
  {
   "cell_type": "markdown",
   "metadata": {},
   "source": [
    "분기별 산술평균의 차이는 두드러지지 않지만, 1분기와 나머지 분기를 나눌 수 있을 것 같다."
   ]
  },
  {
   "cell_type": "code",
   "execution_count": 744,
   "metadata": {},
   "outputs": [],
   "source": [
    "data_final[\"분기\"] = data_final[\"회계년도\"].str.split(\"-\", n=2, expand=True)[1]\n",
    "data_quater = data_final[[\"분기\", \"산술평균\"]]"
   ]
  },
  {
   "cell_type": "code",
   "execution_count": 745,
   "metadata": {},
   "outputs": [
    {
     "data": {
      "text/html": [
       "<div>\n",
       "<style scoped>\n",
       "    .dataframe tbody tr th:only-of-type {\n",
       "        vertical-align: middle;\n",
       "    }\n",
       "\n",
       "    .dataframe tbody tr th {\n",
       "        vertical-align: top;\n",
       "    }\n",
       "\n",
       "    .dataframe thead th {\n",
       "        text-align: right;\n",
       "    }\n",
       "</style>\n",
       "<table border=\"1\" class=\"dataframe\">\n",
       "  <thead>\n",
       "    <tr style=\"text-align: right;\">\n",
       "      <th></th>\n",
       "      <th>산술평균</th>\n",
       "    </tr>\n",
       "    <tr>\n",
       "      <th>분기</th>\n",
       "      <th></th>\n",
       "    </tr>\n",
       "  </thead>\n",
       "  <tbody>\n",
       "    <tr>\n",
       "      <th>03</th>\n",
       "      <td>28000.954290</td>\n",
       "    </tr>\n",
       "    <tr>\n",
       "      <th>06</th>\n",
       "      <td>28355.839578</td>\n",
       "    </tr>\n",
       "    <tr>\n",
       "      <th>09</th>\n",
       "      <td>28121.435348</td>\n",
       "    </tr>\n",
       "    <tr>\n",
       "      <th>12</th>\n",
       "      <td>27639.001926</td>\n",
       "    </tr>\n",
       "  </tbody>\n",
       "</table>\n",
       "</div>"
      ],
      "text/plain": [
       "            산술평균\n",
       "분기              \n",
       "03  28000.954290\n",
       "06  28355.839578\n",
       "09  28121.435348\n",
       "12  27639.001926"
      ]
     },
     "metadata": {},
     "output_type": "display_data"
    },
    {
     "data": {
      "text/plain": [
       "<matplotlib.axes._subplots.AxesSubplot at 0x202e247c208>"
      ]
     },
     "metadata": {},
     "output_type": "display_data"
    },
    {
     "data": {
      "image/png": "[encoded data removed]",
      "text/plain": [
       "<Figure size 432x288 with 1 Axes>"
      ]
     },
     "metadata": {
      "needs_background": "light"
     },
     "output_type": "display_data"
    }
   ],
   "source": [
    "display(data_quater.groupby(\"분기\").mean())\n",
    "display(data_quater.groupby(\"분기\").mean().plot.bar())"
   ]
  },
  {
   "cell_type": "markdown",
   "metadata": {},
   "source": [
    "# 머신러닝 알고리즘에 학습시키기 위해 데이터를 전처리하자."
   ]
  },
  {
   "cell_type": "markdown",
   "metadata": {},
   "source": [
    "1. train set, test set 나누기\n",
    "2. 특성값, 타겟값 log화\n",
    "3. PCA\n",
    "4. 설립일에서 연도만 추출하기\n",
    "5. 회계년도에서 분기 추출하기(명목화)"
   ]
  },
  {
   "cell_type": "code",
   "execution_count": 746,
   "metadata": {
    "scrolled": true
   },
   "outputs": [
    {
     "data": {
      "text/html": [
       "<div>\n",
       "<style scoped>\n",
       "    .dataframe tbody tr th:only-of-type {\n",
       "        vertical-align: middle;\n",
       "    }\n",
       "\n",
       "    .dataframe tbody tr th {\n",
       "        vertical-align: top;\n",
       "    }\n",
       "\n",
       "    .dataframe thead th {\n",
       "        text-align: right;\n",
       "    }\n",
       "</style>\n",
       "<table border=\"1\" class=\"dataframe\">\n",
       "  <thead>\n",
       "    <tr style=\"text-align: right;\">\n",
       "      <th></th>\n",
       "      <th>회사명</th>\n",
       "      <th>회계년도</th>\n",
       "      <th>산업명</th>\n",
       "      <th>소속코드</th>\n",
       "      <th>설립일</th>\n",
       "      <th>기업규모명</th>\n",
       "      <th>산술평균</th>\n",
       "      <th>종업원</th>\n",
       "      <th>발행주식수</th>\n",
       "      <th>pca1_0</th>\n",
       "      <th>pca2_0</th>\n",
       "      <th>log_labels</th>\n",
       "      <th>분기</th>\n",
       "    </tr>\n",
       "  </thead>\n",
       "  <tbody>\n",
       "    <tr>\n",
       "      <th>0</th>\n",
       "      <td>(주)CMG제약</td>\n",
       "      <td>2011-03-01</td>\n",
       "      <td>의료용 물질 및 의약품 제조업</td>\n",
       "      <td>5.0</td>\n",
       "      <td>2001-08-01</td>\n",
       "      <td>중소기업</td>\n",
       "      <td>873.0</td>\n",
       "      <td>5.356586</td>\n",
       "      <td>18.502073</td>\n",
       "      <td>-4.340428e+08</td>\n",
       "      <td>22645.209941</td>\n",
       "      <td>6.771936</td>\n",
       "      <td>03</td>\n",
       "    </tr>\n",
       "    <tr>\n",
       "      <th>1</th>\n",
       "      <td>(주)CMG제약</td>\n",
       "      <td>2011-06-01</td>\n",
       "      <td>의료용 물질 및 의약품 제조업</td>\n",
       "      <td>5.0</td>\n",
       "      <td>2001-08-01</td>\n",
       "      <td>중소기업</td>\n",
       "      <td>577.0</td>\n",
       "      <td>5.356586</td>\n",
       "      <td>18.502073</td>\n",
       "      <td>-4.332100e+08</td>\n",
       "      <td>20862.677255</td>\n",
       "      <td>6.357842</td>\n",
       "      <td>06</td>\n",
       "    </tr>\n",
       "    <tr>\n",
       "      <th>2</th>\n",
       "      <td>(주)CMG제약</td>\n",
       "      <td>2011-09-01</td>\n",
       "      <td>의료용 물질 및 의약품 제조업</td>\n",
       "      <td>5.0</td>\n",
       "      <td>2001-08-01</td>\n",
       "      <td>중소기업</td>\n",
       "      <td>993.0</td>\n",
       "      <td>5.356586</td>\n",
       "      <td>18.502073</td>\n",
       "      <td>-4.330158e+08</td>\n",
       "      <td>6986.652307</td>\n",
       "      <td>6.900731</td>\n",
       "      <td>09</td>\n",
       "    </tr>\n",
       "    <tr>\n",
       "      <th>3</th>\n",
       "      <td>(주)CMG제약</td>\n",
       "      <td>2011-12-01</td>\n",
       "      <td>의료용 물질 및 의약품 제조업</td>\n",
       "      <td>5.0</td>\n",
       "      <td>2001-08-01</td>\n",
       "      <td>중소기업</td>\n",
       "      <td>775.0</td>\n",
       "      <td>5.356586</td>\n",
       "      <td>18.502073</td>\n",
       "      <td>-4.355545e+08</td>\n",
       "      <td>6436.073393</td>\n",
       "      <td>6.652863</td>\n",
       "      <td>12</td>\n",
       "    </tr>\n",
       "    <tr>\n",
       "      <th>4</th>\n",
       "      <td>(주)CMG제약</td>\n",
       "      <td>2012-03-01</td>\n",
       "      <td>의료용 물질 및 의약품 제조업</td>\n",
       "      <td>5.0</td>\n",
       "      <td>2001-08-01</td>\n",
       "      <td>중소기업</td>\n",
       "      <td>892.0</td>\n",
       "      <td>5.356586</td>\n",
       "      <td>18.502073</td>\n",
       "      <td>-4.351588e+08</td>\n",
       "      <td>19684.141062</td>\n",
       "      <td>6.793466</td>\n",
       "      <td>03</td>\n",
       "    </tr>\n",
       "  </tbody>\n",
       "</table>\n",
       "</div>"
      ],
      "text/plain": [
       "        회사명        회계년도                 산업명  소속코드         설립일 기업규모명   산술평균  \\\n",
       "0  (주)CMG제약  2011-03-01    의료용 물질 및 의약품 제조업   5.0  2001-08-01  중소기업  873.0   \n",
       "1  (주)CMG제약  2011-06-01    의료용 물질 및 의약품 제조업   5.0  2001-08-01  중소기업  577.0   \n",
       "2  (주)CMG제약  2011-09-01    의료용 물질 및 의약품 제조업   5.0  2001-08-01  중소기업  993.0   \n",
       "3  (주)CMG제약  2011-12-01    의료용 물질 및 의약품 제조업   5.0  2001-08-01  중소기업  775.0   \n",
       "4  (주)CMG제약  2012-03-01    의료용 물질 및 의약품 제조업   5.0  2001-08-01  중소기업  892.0   \n",
       "\n",
       "        종업원      발행주식수        pca1_0        pca2_0  log_labels  분기  \n",
       "0  5.356586  18.502073 -4.340428e+08  22645.209941    6.771936  03  \n",
       "1  5.356586  18.502073 -4.332100e+08  20862.677255    6.357842  06  \n",
       "2  5.356586  18.502073 -4.330158e+08   6986.652307    6.900731  09  \n",
       "3  5.356586  18.502073 -4.355545e+08   6436.073393    6.652863  12  \n",
       "4  5.356586  18.502073 -4.351588e+08  19684.141062    6.793466  03  "
      ]
     },
     "execution_count": 746,
     "metadata": {},
     "output_type": "execute_result"
    }
   ],
   "source": [
    "data_final.head()"
   ]
  },
  {
   "cell_type": "code",
   "execution_count": 747,
   "metadata": {},
   "outputs": [
    {
     "name": "stdout",
     "output_type": "stream",
     "text": [
      "<class 'pandas.core.frame.DataFrame'>\n",
      "Int64Index: 44808 entries, 0 to 47878\n",
      "Data columns (total 13 columns):\n",
      "회사명           44808 non-null object\n",
      "회계년도          44808 non-null object\n",
      "산업명           44808 non-null object\n",
      "소속코드          44808 non-null float64\n",
      "설립일           44808 non-null object\n",
      "기업규모명         44808 non-null object\n",
      "산술평균          44808 non-null float64\n",
      "종업원           44808 non-null float64\n",
      "발행주식수         44808 non-null float64\n",
      "pca1_0        44808 non-null float64\n",
      "pca2_0        44808 non-null float64\n",
      "log_labels    44808 non-null float64\n",
      "분기            44808 non-null object\n",
      "dtypes: float64(7), object(6)\n",
      "memory usage: 6.0+ MB\n"
     ]
    }
   ],
   "source": [
    "data_final.info()"
   ]
  },
  {
   "cell_type": "markdown",
   "metadata": {},
   "source": [
    "## 1. train 데이터와 test 데이터 나누기"
   ]
  },
  {
   "cell_type": "code",
   "execution_count": 748,
   "metadata": {},
   "outputs": [
    {
     "name": "stderr",
     "output_type": "stream",
     "text": [
      "c:\\python\\lib\\site-packages\\pandas\\core\\frame.py:3697: SettingWithCopyWarning: \n",
      "A value is trying to be set on a copy of a slice from a DataFrame\n",
      "\n",
      "See the caveats in the documentation: http://pandas.pydata.org/pandas-docs/stable/indexing.html#indexing-view-versus-copy\n",
      "  errors=errors)\n"
     ]
    }
   ],
   "source": [
    "from sklearn.model_selection import train_test_split\n",
    "\n",
    "train,test = train_test_split(data, test_size=0.2, random_state=42)\n",
    "\n",
    "labels = train[\"산술평균\"]\n",
    "log_labels = np.log(labels)\n",
    "train.drop([\"산술평균\"], axis=1, inplace=True)"
   ]
  },
  {
   "cell_type": "markdown",
   "metadata": {},
   "source": [
    "## 2. 특성값 log화"
   ]
  },
  {
   "cell_type": "markdown",
   "metadata": {},
   "source": [
    "train set, test set 나누기\n",
    "특성값, 타겟값 log화\n",
    "설립일에서 연도만 추출하기\n",
    "회계년도에서 분기 추출하기(명목화)"
   ]
  },
  {
   "cell_type": "code",
   "execution_count": 749,
   "metadata": {},
   "outputs": [],
   "source": [
    "from sklearn.base import BaseEstimator, TransformerMixin"
   ]
  },
  {
   "cell_type": "code",
   "execution_count": 750,
   "metadata": {},
   "outputs": [],
   "source": [
    "class numeric_log(BaseEstimator, TransformerMixin):\n",
    "    def fit(self, X, y=None):\n",
    "        return self\n",
    "    def transform(self, X, y=None):\n",
    "        X_log = X[log_data].copy()\n",
    "        for i in log_data:\n",
    "            X_log.loc[:, i] = X_log[i] - X_log[i].min() + 1\n",
    "        X_log = X_log - X_log.min().min() + 1\n",
    "        X_log = np.log(X_log)\n",
    "        tmp = X.drop(log_data, axis=1)\n",
    "        \n",
    "        \n",
    "        return tmp.join(X_log)"
   ]
  },
  {
   "cell_type": "markdown",
   "metadata": {},
   "source": [
    "## 3. PCA"
   ]
  },
  {
   "cell_type": "code",
   "execution_count": 751,
   "metadata": {},
   "outputs": [],
   "source": [
    "class numeric_PCA(BaseEstimator, TransformerMixin):\n",
    "    def fit(self, X, y=None):\n",
    "        PCA_micro = X[micro_att].copy()\n",
    "        PCA_macro = X[macro_att].copy()\n",
    "        \n",
    "        ## micro\n",
    "        pca1 = PCA()\n",
    "        pca1.fit(PCA_micro)\n",
    "        cumsum = np.cumsum(pca1.explained_variance_ratio_) ## 모든 배열의 원소들을 누적으로 다 더한 놈들 반환\n",
    "        d1 = np.argmax(cumsum>=0.90)+1 ## argmax는 제일 큰 수의 index를 1차원 배열로 봤을 때의 index로 반환\n",
    "\n",
    "        pca1 = PCA(n_components=d1)\n",
    "        pca1.fit(PCA_micro)\n",
    "        \n",
    "        ## macro\n",
    "        pca2 = PCA()\n",
    "        pca2.fit(PCA_macro)\n",
    "        cumsum = np.cumsum(pca2.explained_variance_ratio_) ## 모든 배열의 원소들을 누적으로 다 더한 놈들 반환\n",
    "        d2 = np.argmax(cumsum>=0.95)+1 ## argmax는 제일 큰 수의 index를 1차원 배열로 봤을 때의 index로 반환\n",
    "\n",
    "        pca2 = PCA(n_components=d2)\n",
    "        pca1.fit(PCA_macro)\n",
    "        \n",
    "        return self\n",
    "    \n",
    "    def transform(self, X, y=None):\n",
    "        ## micro\n",
    "        self.PCA_micro = X[micro_att].copy()\n",
    "        self.PCA_macro = X[macro_att].copy()\n",
    "        \n",
    "        self.index_micro = self.PCA_micro.index\n",
    "        self.col = []\n",
    "        for i in range(d1):\n",
    "            self.col.append('pca1_%s' %i)\n",
    "        \n",
    "        XdD1 = pd.DataFrame(pca1.transform(self.PCA_micro), \n",
    "                                index=self.index_micro, columns = self.col)\n",
    "        \n",
    "        ## macro\n",
    "        self.index_macro = self.PCA_macro.index\n",
    "        \n",
    "        self.col = []\n",
    "        for i in range(d2):\n",
    "            self.col.append('pca2_%s' %i)\n",
    "        \n",
    "        XdD2 = pd.DataFrame(pca2.transform(self.PCA_macro), \n",
    "                            index=self.index_macro, columns = self.col)\n",
    "        \n",
    "        X.drop(self.PCA_micro, axis=1, inplace=True)\n",
    "        X.drop(self.PCA_macro, axis=1, inplace=True)        \n",
    "    \n",
    "        \n",
    "        X = X.join(XdD1)\n",
    "        X = X.join(XdD2)\n",
    "        \n",
    "        return X"
   ]
  },
  {
   "cell_type": "markdown",
   "metadata": {},
   "source": [
    "## 4. 설립일에서 연도만 추출하기"
   ]
  },
  {
   "cell_type": "code",
   "execution_count": 752,
   "metadata": {},
   "outputs": [],
   "source": [
    "class cat_date_of_establish(BaseEstimator, TransformerMixin):\n",
    "    def fit(self, X, y=None):\n",
    "        return self\n",
    "    def transform(self, X, y=None):\n",
    "        X[\"설립일\"] = X[\"설립일\"].str.split('-', n = 1, expand=True)[0].astype(\"float\")\n",
    "        return X"
   ]
  },
  {
   "cell_type": "markdown",
   "metadata": {},
   "source": [
    "## 5. 회계년도 분기 추출"
   ]
  },
  {
   "cell_type": "code",
   "execution_count": 753,
   "metadata": {},
   "outputs": [],
   "source": [
    "class cat_add_quater(BaseEstimator, TransformerMixin):\n",
    "    def fit(self, X, y=None):\n",
    "        return self\n",
    "    def transform(self, X, y=None):\n",
    "        X[\"분기\"] = X[\"회계년도\"].str.split(\"-\", n=2, expand=True)[1]\n",
    "        X.drop([\"회계년도\"], axis=1, inplace=True)\n",
    "        return X"
   ]
  },
  {
   "cell_type": "markdown",
   "metadata": {},
   "source": [
    "## 6. 회사명, 기업규모명, 소속코드 지우기"
   ]
  },
  {
   "cell_type": "code",
   "execution_count": 754,
   "metadata": {},
   "outputs": [],
   "source": [
    "class cat_drop_some_attributes(BaseEstimator, TransformerMixin):\n",
    "    def fit(self, X, y=None):\n",
    "        return self\n",
    "    def transform(self, X, y=None):\n",
    "        return X.drop([\"회사명\", \"기업규모명\", \"소속코드\"], axis=1)"
   ]
  },
  {
   "cell_type": "markdown",
   "metadata": {},
   "source": [
    "## 파이프라인 구축"
   ]
  },
  {
   "cell_type": "code",
   "execution_count": 755,
   "metadata": {},
   "outputs": [],
   "source": [
    "from sklearn.pipeline import Pipeline\n",
    "from sklearn.preprocessing import StandardScaler\n",
    "from sklearn.preprocessing import OneHotEncoder\n",
    "\n",
    "cat_attributes = [\"회사명\", \"기업규모명\", \"소속코드\", \"산업명\", '회계년도']\n",
    "num_attributes = []\n",
    "for i in train.columns:\n",
    "    if i not in cat_attributes:\n",
    "        num_attributes.append(i)"
   ]
  },
  {
   "cell_type": "code",
   "execution_count": 756,
   "metadata": {},
   "outputs": [],
   "source": [
    "num_pipeline = Pipeline([\n",
    "        ('log',numeric_log()),\n",
    "        ('PCA',numeric_PCA()),\n",
    "        ('data_of_establish', cat_date_of_establish()),\n",
    "        ('StandardScaler',StandardScaler()),\n",
    "    ])"
   ]
  },
  {
   "cell_type": "code",
   "execution_count": 757,
   "metadata": {},
   "outputs": [],
   "source": [
    "cat_pipeline = Pipeline([\n",
    "\n",
    "        ('add_quater', cat_add_quater()),\n",
    "        ('drop_some_attributes',cat_drop_some_attributes()),\n",
    "        ('onehotencoder',OneHotEncoder(categories='auto')),\n",
    "    ])"
   ]
  },
  {
   "cell_type": "code",
   "execution_count": 758,
   "metadata": {},
   "outputs": [],
   "source": [
    "from sklearn.compose import ColumnTransformer\n",
    "\n",
    "full_pipeline = ColumnTransformer([\n",
    "        (\"num\", num_pipeline, num_attributes),\n",
    "        (\"cat\", cat_pipeline, cat_attributes),\n",
    "    ])"
   ]
  },
  {
   "cell_type": "code",
   "execution_count": 759,
   "metadata": {},
   "outputs": [
    {
     "data": {
      "text/plain": [
       "(35846, 69)"
      ]
     },
     "execution_count": 759,
     "metadata": {},
     "output_type": "execute_result"
    }
   ],
   "source": [
    "train_prepared = full_pipeline.fit_transform(train)\n",
    "train_prepared.shape"
   ]
  },
  {
   "cell_type": "markdown",
   "metadata": {},
   "source": [
    "## 머신러닝 트레이닝"
   ]
  },
  {
   "cell_type": "code",
   "execution_count": 760,
   "metadata": {},
   "outputs": [],
   "source": [
    "from sklearn.metrics import mean_squared_error"
   ]
  },
  {
   "cell_type": "markdown",
   "metadata": {},
   "source": [
    "### LinearRegression"
   ]
  },
  {
   "cell_type": "code",
   "execution_count": 761,
   "metadata": {},
   "outputs": [
    {
     "data": {
      "text/plain": [
       "840297.1949276915"
      ]
     },
     "execution_count": 761,
     "metadata": {},
     "output_type": "execute_result"
    }
   ],
   "source": [
    "from sklearn.linear_model import LinearRegression\n",
    "lin_reg = LinearRegression()\n",
    "lin_reg.fit(train_prepared, log_labels)\n",
    "\n",
    "train_predictions = lin_reg.predict(train_prepared)\n",
    "real_train_predictions = np.exp(train_predictions)\n",
    "lin_mse = mean_squared_error(labels, real_train_predictions)\n",
    "lin_rmse = np.sqrt(lin_mse)\n",
    "lin_rmse"
   ]
  },
  {
   "cell_type": "markdown",
   "metadata": {},
   "source": [
    "### DecisionTreeRegressor"
   ]
  },
  {
   "cell_type": "code",
   "execution_count": 762,
   "metadata": {},
   "outputs": [
    {
     "data": {
      "text/plain": [
       "10.7298151836889"
      ]
     },
     "execution_count": 762,
     "metadata": {},
     "output_type": "execute_result"
    }
   ],
   "source": [
    "from sklearn.tree import DecisionTreeRegressor\n",
    "tree_reg = DecisionTreeRegressor(random_state=42, max_depth=40)\n",
    "tree_reg.fit(train_prepared, log_labels)\n",
    "\n",
    "train_predictions = tree_reg.predict(train_prepared)\n",
    "real_train_predictions = np.exp(train_predictions)\n",
    "tree_mse = mean_squared_error(labels, real_train_predictions)\n",
    "tree_rmse = np.sqrt(tree_mse)\n",
    "tree_rmse"
   ]
  },
  {
   "cell_type": "markdown",
   "metadata": {},
   "source": [
    "### RandomForestRegressor"
   ]
  },
  {
   "cell_type": "markdown",
   "metadata": {},
   "source": [
    "from sklearn.ensemble import RandomForestRegressor\n",
    "forest_reg = RandomForestRegressor(n_estimators=55, random_state=42, max_depth=40)\n",
    "forest_reg.fit(train_prepared, log_labels)\n",
    "\n",
    "train_predictions = forest_reg.predict(train_prepared)\n",
    "real_train_predictions = np.exp(train_predictions)\n",
    "forest_mse = mean_squared_error(labels, real_train_predictions)\n",
    "forest_rmse = np.sqrt(forest_mse)\n",
    "forest_rmse"
   ]
  },
  {
   "cell_type": "markdown",
   "metadata": {},
   "source": [
    "## cross_val_score"
   ]
  },
  {
   "cell_type": "markdown",
   "metadata": {},
   "source": [
    "모델 선정"
   ]
  },
  {
   "cell_type": "markdown",
   "metadata": {},
   "source": [
    "from sklearn.model_selection import cross_val_score\n",
    "\n",
    "def display_scores(scores):\n",
    "    print('Scores:', scores)\n",
    "    print('Mean:', scores.mean())\n",
    "    print('Standard deviation:', scores.std())"
   ]
  },
  {
   "cell_type": "markdown",
   "metadata": {},
   "source": [
    "### Linear regression"
   ]
  },
  {
   "cell_type": "markdown",
   "metadata": {},
   "source": [
    "scores = cross_val_score(lin_reg, train_prepared, log_labels,\n",
    "scoring=\"neg_mean_squared_error\", cv=10)\n",
    "tree_rmse_scores = np.sqrt(-scores)\n",
    "display_scores(tree_rmse_scores)"
   ]
  },
  {
   "cell_type": "markdown",
   "metadata": {},
   "source": [
    "### DecisionTreeRegressor"
   ]
  },
  {
   "cell_type": "markdown",
   "metadata": {},
   "source": [
    "scores = cross_val_score(tree_reg, train_prepared, labels,\n",
    "scoring=\"neg_mean_squared_error\", cv=10)\n",
    "tree_rmse_scores = np.sqrt(-scores)\n",
    "display_scores(tree_rmse_scores)"
   ]
  },
  {
   "cell_type": "markdown",
   "metadata": {},
   "source": [
    "### RandomForestRegressor"
   ]
  },
  {
   "cell_type": "markdown",
   "metadata": {},
   "source": [
    "scores = cross_val_score(forest_reg, train_prepared, labels,\n",
    "scoring=\"neg_mean_squared_error\", cv=10)\n",
    "forest_rmse_scores = np.sqrt(-scores)\n",
    "display_scores(forest_rmse_scores)"
   ]
  },
  {
   "cell_type": "markdown",
   "metadata": {},
   "source": [
    "### 랜덤 그리드 탐색"
   ]
  },
  {
   "cell_type": "markdown",
   "metadata": {},
   "source": [
    "from sklearn.model_selection import RandomizedSearchCV\n",
    "from scipy.stats import randint as sp_randint"
   ]
  },
  {
   "cell_type": "markdown",
   "metadata": {},
   "source": [
    "param_dist = {'n_estimators': [55],\n",
    "                \"max_depth\": [40],\n",
    "              \"max_features\": sp_randint(1, 11),\n",
    "              \"min_samples_split\": sp_randint(2, 11),\n",
    "              \"bootstrap\": [True, False],\n",
    "              \"criterion\": [\"mse\"]}\n",
    "\n",
    "n_iter_search = 20\n",
    "random_search = RandomizedSearchCV(forest_reg, param_distributions=param_dist,\n",
    "                                   n_iter=n_iter_search, cv=5)\n",
    "random_search.fit(train_prepared, log_labels)"
   ]
  },
  {
   "cell_type": "markdown",
   "metadata": {},
   "source": [
    "cvres = random_search.cv_results_\n",
    "for mean_score, params in zip(cvres[\"mean_test_score\"], cvres[\"params\"]):\n",
    "    print(np.sqrt(mean_score), params)"
   ]
  },
  {
   "cell_type": "markdown",
   "metadata": {},
   "source": [
    "random_search.best_estimator_"
   ]
  },
  {
   "cell_type": "markdown",
   "metadata": {},
   "source": [
    "### 랜덤 포레스트 마지막 "
   ]
  },
  {
   "cell_type": "code",
   "execution_count": 763,
   "metadata": {},
   "outputs": [
    {
     "data": {
      "text/plain": [
       "219.7907980660371"
      ]
     },
     "execution_count": 763,
     "metadata": {},
     "output_type": "execute_result"
    }
   ],
   "source": [
    "from sklearn.ensemble import RandomForestRegressor\n",
    "forest_reg = RandomForestRegressor(bootstrap=False, criterion='mse', max_depth=40,\n",
    "           max_features=10, max_leaf_nodes=None, min_impurity_decrease=0.0,\n",
    "           min_impurity_split=None, min_samples_leaf=1,\n",
    "           min_samples_split=2, min_weight_fraction_leaf=0.0,\n",
    "           n_estimators=55, n_jobs=None, oob_score=False, random_state=42,\n",
    "           verbose=0, warm_start=False)\n",
    "forest_reg.fit(train_prepared, log_labels)\n",
    "\n",
    "train_predictions = forest_reg.predict(train_prepared)\n",
    "real_train_predictions = np.exp(train_predictions)\n",
    "forest_mse = mean_squared_error(labels, real_train_predictions)\n",
    "forest_rmse = np.sqrt(forest_mse)\n",
    "forest_rmse"
   ]
  },
  {
   "cell_type": "markdown",
   "metadata": {},
   "source": [
    "### DesicionTree Regressor 마지막"
   ]
  },
  {
   "cell_type": "code",
   "execution_count": 764,
   "metadata": {},
   "outputs": [
    {
     "data": {
      "text/plain": [
       "996.2477863495631"
      ]
     },
     "execution_count": 764,
     "metadata": {},
     "output_type": "execute_result"
    }
   ],
   "source": [
    "from sklearn.tree import DecisionTreeRegressor\n",
    "tree_reg = DecisionTreeRegressor(max_depth=40,\n",
    "           max_features=10, max_leaf_nodes=None, min_impurity_decrease=0.0,\n",
    "           min_impurity_split=None, min_samples_leaf=1,\n",
    "           min_samples_split=2, min_weight_fraction_leaf=0.0,\n",
    "           random_state=42)\n",
    "tree_reg.fit(train_prepared, log_labels)\n",
    "\n",
    "train_predictions = tree_reg.predict(train_prepared)\n",
    "real_train_predictions = np.exp(train_predictions)\n",
    "tree_mse = mean_squared_error(labels, real_train_predictions)\n",
    "tree_rmse = np.sqrt(tree_mse)\n",
    "tree_rmse"
   ]
  },
  {
   "cell_type": "markdown",
   "metadata": {},
   "source": [
    "# 테스트"
   ]
  },
  {
   "cell_type": "code",
   "execution_count": 765,
   "metadata": {
    "scrolled": true
   },
   "outputs": [
    {
     "name": "stderr",
     "output_type": "stream",
     "text": [
      "c:\\python\\lib\\site-packages\\pandas\\core\\frame.py:3697: SettingWithCopyWarning: \n",
      "A value is trying to be set on a copy of a slice from a DataFrame\n",
      "\n",
      "See the caveats in the documentation: http://pandas.pydata.org/pandas-docs/stable/indexing.html#indexing-view-versus-copy\n",
      "  errors=errors)\n"
     ]
    }
   ],
   "source": [
    "test_labels = test[\"산술평균\"]\n",
    "log_test_labels = np.log(test_labels)\n",
    "test.drop([\"산술평균\"], axis=1, inplace=True)"
   ]
  },
  {
   "cell_type": "code",
   "execution_count": 766,
   "metadata": {},
   "outputs": [
    {
     "data": {
      "text/plain": [
       "(8962, 69)"
      ]
     },
     "execution_count": 766,
     "metadata": {},
     "output_type": "execute_result"
    }
   ],
   "source": [
    "test_prepared = full_pipeline.transform(test)\n",
    "test_prepared.shape"
   ]
  },
  {
   "cell_type": "code",
   "execution_count": 767,
   "metadata": {},
   "outputs": [
    {
     "data": {
      "text/plain": [
       "38908.93927076883"
      ]
     },
     "execution_count": 767,
     "metadata": {},
     "output_type": "execute_result"
    }
   ],
   "source": [
    "test_predictions = forest_reg.predict(test_prepared)\n",
    "real_test_predictions = np.exp(test_predictions)\n",
    "forest_mse = mean_squared_error(test_labels, real_test_predictions)\n",
    "forest_rmse = np.sqrt(forest_mse)\n",
    "forest_rmse"
   ]
  },
  {
   "cell_type": "markdown",
   "metadata": {},
   "source": [
    "노리미트 ->  13691  \n",
    "10만원 -> 6107  \n",
    "75만원 -> 13691  \n",
    "7만5천 -> 5260  \n",
    "5만 -> 5003  \n",
    "4만 -> 4138  \n",
    "3만 -> 3305  \n",
    "\n",
    "전체 데이터 38908"
   ]
  },
  {
   "cell_type": "code",
   "execution_count": 768,
   "metadata": {},
   "outputs": [
    {
     "data": {
      "text/plain": [
       "51409.0577634006"
      ]
     },
     "execution_count": 768,
     "metadata": {},
     "output_type": "execute_result"
    }
   ],
   "source": [
    "test_predictions = tree_reg.predict(test_prepared)\n",
    "real_test_predictions = np.exp(test_predictions)\n",
    "tree_mse = mean_squared_error(test_labels, real_test_predictions)\n",
    "tree_rmse = np.sqrt(tree_mse)\n",
    "tree_rmse"
   ]
  },
  {
   "cell_type": "markdown",
   "metadata": {},
   "source": [
    "# 제출"
   ]
  },
  {
   "cell_type": "code",
   "execution_count": 769,
   "metadata": {},
   "outputs": [],
   "source": [
    "submission = pd.read_csv('datasets//DB//submission.csv', engine='python')\n",
    "submission = submission[data.columns]"
   ]
  },
  {
   "cell_type": "code",
   "execution_count": 770,
   "metadata": {},
   "outputs": [],
   "source": [
    "submission_labels = submission[\"산술평균\"]\n",
    "log_submission_labels = np.log(submission_labels)\n",
    "submission.drop([\"산술평균\"], axis=1, inplace=True)"
   ]
  },
  {
   "cell_type": "code",
   "execution_count": 771,
   "metadata": {},
   "outputs": [
    {
     "name": "stdout",
     "output_type": "stream",
     "text": [
      "<class 'pandas.core.frame.DataFrame'>\n",
      "RangeIndex: 24 entries, 0 to 23\n",
      "Data columns (total 40 columns):\n",
      "회사명                  24 non-null object\n",
      "회계년도                 24 non-null object\n",
      "산업명                  24 non-null object\n",
      "소속코드                 24 non-null int64\n",
      "설립일                  24 non-null object\n",
      "종업원                  24 non-null float64\n",
      "당좌자산(*)              24 non-null float64\n",
      "재고자산(*)              24 non-null float64\n",
      "비유동자산(*)             24 non-null float64\n",
      "유동부채(*)              24 non-null float64\n",
      "비유동부채(*)             24 non-null float64\n",
      "자본금(*)               24 non-null float64\n",
      "자본잉여금(*)             24 non-null float64\n",
      "자본조정(*)              24 non-null float64\n",
      "기타포괄손익누계액(*)         24 non-null float64\n",
      "이익잉여금(*)             24 non-null float64\n",
      "매출액(영업수익)(*)         24 non-null float64\n",
      "매출원가(*)              24 non-null float64\n",
      "매출총이익(손실)            24 non-null float64\n",
      "판매비와관리비(영업비용)(*)     24 non-null float64\n",
      "영업이익(손실)             24 non-null float64\n",
      "영업외수익(*)             24 non-null float64\n",
      "영업외비용(*)             24 non-null float64\n",
      "법인세비용차감전(계속사업)손익     24 non-null float64\n",
      "(계속사업손익)법인세비용        24 non-null float64\n",
      "계속사업이익(손실)           24 non-null float64\n",
      "당기순이익(순손실)           24 non-null float64\n",
      "영업활동으로 인한 현금흐름(*)    24 non-null float64\n",
      "투자활동으로 인한 현금흐름(*)    24 non-null float64\n",
      "재무활동으로 인한 현금흐름(*)    24 non-null float64\n",
      "환율변동으로 인한 차이조정       24 non-null float64\n",
      "현금의 증가(감소)(*)        24 non-null float64\n",
      "기업규모명                24 non-null int64\n",
      "  경제성장률              24 non-null float64\n",
      "  총저축률               24 non-null float64\n",
      "  제조업 평균가동률          24 non-null float64\n",
      "  실업률                24 non-null float64\n",
      " 코스피지수               24 non-null float64\n",
      "  경상수지               24 non-null float64\n",
      "발행주식수                24 non-null float64\n",
      "dtypes: float64(34), int64(2), object(4)\n",
      "memory usage: 7.6+ KB\n"
     ]
    }
   ],
   "source": [
    "submission.info()"
   ]
  },
  {
   "cell_type": "code",
   "execution_count": 772,
   "metadata": {
    "scrolled": false
   },
   "outputs": [
    {
     "data": {
      "text/plain": [
       "(24, 69)"
      ]
     },
     "execution_count": 772,
     "metadata": {},
     "output_type": "execute_result"
    }
   ],
   "source": [
    "submission_prepared = full_pipeline.transform(submission)\n",
    "submission_prepared.shape"
   ]
  },
  {
   "cell_type": "code",
   "execution_count": 773,
   "metadata": {
    "scrolled": true
   },
   "outputs": [
    {
     "data": {
      "text/plain": [
       "12699.912783121646"
      ]
     },
     "execution_count": 773,
     "metadata": {},
     "output_type": "execute_result"
    }
   ],
   "source": [
    "submission_predictions = forest_reg.predict(submission_prepared)\n",
    "real_submission_predictions = np.exp(submission_predictions)\n",
    "forest_mse = mean_squared_error(submission_labels, real_submission_predictions)\n",
    "forest_rmse = np.sqrt(forest_mse)\n",
    "forest_rmse"
   ]
  },
  {
   "cell_type": "code",
   "execution_count": 774,
   "metadata": {
    "scrolled": true
   },
   "outputs": [
    {
     "data": {
      "text/plain": [
       "47494.36258125798"
      ]
     },
     "execution_count": 774,
     "metadata": {},
     "output_type": "execute_result"
    }
   ],
   "source": [
    "submission_predictions = tree_reg.predict(submission_prepared)\n",
    "real_submission_predictions = np.exp(submission_predictions)\n",
    "tree_mse = mean_squared_error(submission_labels, real_submission_predictions)\n",
    "tree_rmse = np.sqrt(tree_mse)\n",
    "tree_rmse"
   ]
  },
  {
   "cell_type": "code",
   "execution_count": null,
   "metadata": {},
   "outputs": [],
   "source": []
  }
 ],
 "metadata": {
  "kernelspec": {
   "display_name": "Python 3",
   "language": "python",
   "name": "python3"
  },
  "language_info": {
   "codemirror_mode": {
    "name": "ipython",
    "version": 3
   },
   "file_extension": ".py",
   "mimetype": "text/x-python",
   "name": "python",
   "nbconvert_exporter": "python",
   "pygments_lexer": "ipython3",
   "version": "3.6.4"
  }
 },
 "nbformat": 4,
 "nbformat_minor": 2
}
