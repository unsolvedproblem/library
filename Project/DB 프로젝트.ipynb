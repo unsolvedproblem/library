{
 "cells": [
  {
   "cell_type": "markdown",
   "metadata": {},
   "source": [
    "# 비상장 중소기업의 상장 후 주가 예측 프로젝트"
   ]
  },
  {
   "cell_type": "markdown",
   "metadata": {},
   "source": [
    "이 프로젝트는 비상장 중소기업의 상장 후 주가 예측 프로젝트다. 과거 중소기업이 상장 후 주가의 산술평균을 타겟값으로 지도 학습 알고리즘을 사용할 것이다."
   ]
  },
  {
   "cell_type": "markdown",
   "metadata": {},
   "source": [
    "기본설정"
   ]
  },
  {
   "cell_type": "code",
   "execution_count": 1,
   "metadata": {},
   "outputs": [],
   "source": [
    "import numpy as np \n",
    "import os  \n",
    "import matplotlib ##그림용\n",
    "import matplotlib.pyplot as plt ##그림용\n",
    "import sklearn ##사이킷런\n",
    "import pandas as pd\n",
    "\n",
    "np.random.seed(42) ##랜덤시드 \n",
    "\n",
    "matplotlib.rc('font', family='NanumBarunGothic') ##matplotlib 한글을 위해\n",
    "plt.rcParams['axes.unicode_minus'] = False ##한글을 위해"
   ]
  },
  {
   "cell_type": "code",
   "execution_count": 2,
   "metadata": {},
   "outputs": [],
   "source": [
    "data = pd.read_csv('datasets//DB//DB_data.csv', engine='python')"
   ]
  },
  {
   "cell_type": "markdown",
   "metadata": {},
   "source": [
    "## 기업규모명"
   ]
  },
  {
   "cell_type": "markdown",
   "metadata": {},
   "source": [
    "우리가 예측하고 싶은 대상은 중소기업이므로 중소기업만 관찰한다."
   ]
  },
  {
   "cell_type": "code",
   "execution_count": 3,
   "metadata": {},
   "outputs": [],
   "source": [
    "data = data[data[\"기업규모명\"] == '중소기업']"
   ]
  },
  {
   "cell_type": "markdown",
   "metadata": {},
   "source": [
    "데이터를 간략하게 살펴보자"
   ]
  },
  {
   "cell_type": "code",
   "execution_count": 4,
   "metadata": {
    "scrolled": true
   },
   "outputs": [
    {
     "data": {
      "text/html": [
       "<div>\n",
       "<style scoped>\n",
       "    .dataframe tbody tr th:only-of-type {\n",
       "        vertical-align: middle;\n",
       "    }\n",
       "\n",
       "    .dataframe tbody tr th {\n",
       "        vertical-align: top;\n",
       "    }\n",
       "\n",
       "    .dataframe thead th {\n",
       "        text-align: right;\n",
       "    }\n",
       "</style>\n",
       "<table border=\"1\" class=\"dataframe\">\n",
       "  <thead>\n",
       "    <tr style=\"text-align: right;\">\n",
       "      <th></th>\n",
       "      <th>회사명</th>\n",
       "      <th>회계년도</th>\n",
       "      <th>산업명</th>\n",
       "      <th>소속코드</th>\n",
       "      <th>설립일</th>\n",
       "      <th>종업원</th>\n",
       "      <th>당좌자산(*)</th>\n",
       "      <th>재고자산(*)</th>\n",
       "      <th>비유동자산(*)</th>\n",
       "      <th>유동부채(*)</th>\n",
       "      <th>...</th>\n",
       "      <th>환율변동으로 인한 차이조정</th>\n",
       "      <th>현금의 증가(감소)(*)</th>\n",
       "      <th>기업규모명</th>\n",
       "      <th>산술평균</th>\n",
       "      <th>경제성장률</th>\n",
       "      <th>총저축률</th>\n",
       "      <th>제조업 평균가동률</th>\n",
       "      <th>실업률</th>\n",
       "      <th>코스피지수</th>\n",
       "      <th>경상수지</th>\n",
       "    </tr>\n",
       "  </thead>\n",
       "  <tbody>\n",
       "    <tr>\n",
       "      <th>0</th>\n",
       "      <td>(주)CMG제약</td>\n",
       "      <td>2011-03-01</td>\n",
       "      <td>의료용 물질 및 의약품 제조업</td>\n",
       "      <td>5.0</td>\n",
       "      <td>2001-08-01</td>\n",
       "      <td>213.0</td>\n",
       "      <td>9917659.0</td>\n",
       "      <td>3104211.0</td>\n",
       "      <td>15477735.0</td>\n",
       "      <td>4969819.0</td>\n",
       "      <td>...</td>\n",
       "      <td>0.0</td>\n",
       "      <td>-265171.0</td>\n",
       "      <td>중소기업</td>\n",
       "      <td>873.0</td>\n",
       "      <td>1.0</td>\n",
       "      <td>34.1</td>\n",
       "      <td>81.3</td>\n",
       "      <td>4.2</td>\n",
       "      <td>1939.30</td>\n",
       "      <td>-4253.0</td>\n",
       "    </tr>\n",
       "    <tr>\n",
       "      <th>1</th>\n",
       "      <td>(주)CMG제약</td>\n",
       "      <td>2011-06-01</td>\n",
       "      <td>의료용 물질 및 의약품 제조업</td>\n",
       "      <td>5.0</td>\n",
       "      <td>2001-08-01</td>\n",
       "      <td>213.0</td>\n",
       "      <td>11341653.0</td>\n",
       "      <td>3071427.0</td>\n",
       "      <td>14731279.0</td>\n",
       "      <td>5976935.0</td>\n",
       "      <td>...</td>\n",
       "      <td>0.0</td>\n",
       "      <td>-1160724.0</td>\n",
       "      <td>중소기업</td>\n",
       "      <td>577.0</td>\n",
       "      <td>0.6</td>\n",
       "      <td>34.1</td>\n",
       "      <td>80.6</td>\n",
       "      <td>3.4</td>\n",
       "      <td>2142.47</td>\n",
       "      <td>-2470.6</td>\n",
       "    </tr>\n",
       "    <tr>\n",
       "      <th>2</th>\n",
       "      <td>(주)CMG제약</td>\n",
       "      <td>2011-09-01</td>\n",
       "      <td>의료용 물질 및 의약품 제조업</td>\n",
       "      <td>5.0</td>\n",
       "      <td>2001-08-01</td>\n",
       "      <td>213.0</td>\n",
       "      <td>11407699.0</td>\n",
       "      <td>3352328.0</td>\n",
       "      <td>14717723.0</td>\n",
       "      <td>6389723.0</td>\n",
       "      <td>...</td>\n",
       "      <td>0.0</td>\n",
       "      <td>-1961689.0</td>\n",
       "      <td>중소기업</td>\n",
       "      <td>993.0</td>\n",
       "      <td>0.7</td>\n",
       "      <td>34.8</td>\n",
       "      <td>80.9</td>\n",
       "      <td>3.1</td>\n",
       "      <td>1880.11</td>\n",
       "      <td>11405.6</td>\n",
       "    </tr>\n",
       "    <tr>\n",
       "      <th>3</th>\n",
       "      <td>(주)CMG제약</td>\n",
       "      <td>2011-12-01</td>\n",
       "      <td>의료용 물질 및 의약품 제조업</td>\n",
       "      <td>5.0</td>\n",
       "      <td>2001-08-01</td>\n",
       "      <td>213.0</td>\n",
       "      <td>12521782.0</td>\n",
       "      <td>2743103.0</td>\n",
       "      <td>12283654.0</td>\n",
       "      <td>7620349.0</td>\n",
       "      <td>...</td>\n",
       "      <td>-14.0</td>\n",
       "      <td>-1294857.0</td>\n",
       "      <td>중소기업</td>\n",
       "      <td>775.0</td>\n",
       "      <td>0.6</td>\n",
       "      <td>35.2</td>\n",
       "      <td>79.3</td>\n",
       "      <td>2.9</td>\n",
       "      <td>1847.51</td>\n",
       "      <td>11956.2</td>\n",
       "    </tr>\n",
       "    <tr>\n",
       "      <th>4</th>\n",
       "      <td>(주)CMG제약</td>\n",
       "      <td>2012-03-01</td>\n",
       "      <td>의료용 물질 및 의약품 제조업</td>\n",
       "      <td>5.0</td>\n",
       "      <td>2001-08-01</td>\n",
       "      <td>213.0</td>\n",
       "      <td>13370740.0</td>\n",
       "      <td>3654331.0</td>\n",
       "      <td>12100895.0</td>\n",
       "      <td>8146944.0</td>\n",
       "      <td>...</td>\n",
       "      <td>-306.0</td>\n",
       "      <td>435947.0</td>\n",
       "      <td>중소기업</td>\n",
       "      <td>892.0</td>\n",
       "      <td>0.5</td>\n",
       "      <td>34.3</td>\n",
       "      <td>79.7</td>\n",
       "      <td>3.8</td>\n",
       "      <td>2045.08</td>\n",
       "      <td>-1292.0</td>\n",
       "    </tr>\n",
       "  </tbody>\n",
       "</table>\n",
       "<p>5 rows × 40 columns</p>\n",
       "</div>"
      ],
      "text/plain": [
       "        회사명        회계년도                 산업명  소속코드         설립일    종업원  \\\n",
       "0  (주)CMG제약  2011-03-01    의료용 물질 및 의약품 제조업   5.0  2001-08-01  213.0   \n",
       "1  (주)CMG제약  2011-06-01    의료용 물질 및 의약품 제조업   5.0  2001-08-01  213.0   \n",
       "2  (주)CMG제약  2011-09-01    의료용 물질 및 의약품 제조업   5.0  2001-08-01  213.0   \n",
       "3  (주)CMG제약  2011-12-01    의료용 물질 및 의약품 제조업   5.0  2001-08-01  213.0   \n",
       "4  (주)CMG제약  2012-03-01    의료용 물질 및 의약품 제조업   5.0  2001-08-01  213.0   \n",
       "\n",
       "      당좌자산(*)    재고자산(*)    비유동자산(*)    유동부채(*)   ...     환율변동으로 인한 차이조정  \\\n",
       "0   9917659.0  3104211.0  15477735.0  4969819.0   ...                0.0   \n",
       "1  11341653.0  3071427.0  14731279.0  5976935.0   ...                0.0   \n",
       "2  11407699.0  3352328.0  14717723.0  6389723.0   ...                0.0   \n",
       "3  12521782.0  2743103.0  12283654.0  7620349.0   ...              -14.0   \n",
       "4  13370740.0  3654331.0  12100895.0  8146944.0   ...             -306.0   \n",
       "\n",
       "   현금의 증가(감소)(*)  기업규모명   산술평균    경제성장률    총저축률    제조업 평균가동률    실업률    코스피지수  \\\n",
       "0      -265171.0   중소기업  873.0      1.0    34.1         81.3    4.2  1939.30   \n",
       "1     -1160724.0   중소기업  577.0      0.6    34.1         80.6    3.4  2142.47   \n",
       "2     -1961689.0   중소기업  993.0      0.7    34.8         80.9    3.1  1880.11   \n",
       "3     -1294857.0   중소기업  775.0      0.6    35.2         79.3    2.9  1847.51   \n",
       "4       435947.0   중소기업  892.0      0.5    34.3         79.7    3.8  2045.08   \n",
       "\n",
       "      경상수지  \n",
       "0  -4253.0  \n",
       "1  -2470.6  \n",
       "2  11405.6  \n",
       "3  11956.2  \n",
       "4  -1292.0  \n",
       "\n",
       "[5 rows x 40 columns]"
      ]
     },
     "execution_count": 4,
     "metadata": {},
     "output_type": "execute_result"
    }
   ],
   "source": [
    "data.head()"
   ]
  },
  {
   "cell_type": "code",
   "execution_count": 5,
   "metadata": {
    "scrolled": false
   },
   "outputs": [
    {
     "name": "stdout",
     "output_type": "stream",
     "text": [
      "<class 'pandas.core.frame.DataFrame'>\n",
      "Int64Index: 21047 entries, 0 to 47822\n",
      "Data columns (total 40 columns):\n",
      "회사명                  21047 non-null object\n",
      "회계년도                 21047 non-null object\n",
      "산업명                  20908 non-null object\n",
      "소속코드                 20908 non-null float64\n",
      "설립일                  20908 non-null object\n",
      "종업원                  20908 non-null float64\n",
      "당좌자산(*)              20615 non-null float64\n",
      "재고자산(*)              20615 non-null float64\n",
      "비유동자산(*)             20615 non-null float64\n",
      "유동부채(*)              20615 non-null float64\n",
      "비유동부채(*)             20615 non-null float64\n",
      "자본금(*)               20615 non-null float64\n",
      "자본잉여금(*)             20615 non-null float64\n",
      "자본조정(*)              20615 non-null float64\n",
      "기타포괄손익누계액(*)         20615 non-null float64\n",
      "이익잉여금(*)             20615 non-null float64\n",
      "매출액(영업수익)(*)         20615 non-null float64\n",
      "매출원가(*)              20615 non-null float64\n",
      "매출총이익(손실)            20615 non-null float64\n",
      "판매비와관리비(영업비용)(*)     20615 non-null float64\n",
      "영업이익(손실)             20615 non-null float64\n",
      "영업외수익(*)             20615 non-null float64\n",
      "영업외비용(*)             20615 non-null float64\n",
      "법인세비용차감전(계속사업)손익     20615 non-null float64\n",
      "(계속사업손익)법인세비용        20615 non-null float64\n",
      "계속사업이익(손실)           20615 non-null float64\n",
      "당기순이익(순손실)           20615 non-null float64\n",
      "영업활동으로 인한 현금흐름(*)    20615 non-null float64\n",
      "투자활동으로 인한 현금흐름(*)    20615 non-null float64\n",
      "재무활동으로 인한 현금흐름(*)    20615 non-null float64\n",
      "환율변동으로 인한 차이조정       20615 non-null float64\n",
      "현금의 증가(감소)(*)        20615 non-null float64\n",
      "기업규모명                21047 non-null object\n",
      "산술평균                 19416 non-null float64\n",
      "  경제성장률              20873 non-null float64\n",
      "  총저축률               20873 non-null float64\n",
      "  제조업 평균가동률          20873 non-null float64\n",
      "  실업률                20873 non-null float64\n",
      " 코스피지수               20873 non-null float64\n",
      "  경상수지               20873 non-null float64\n",
      "dtypes: float64(35), object(5)\n",
      "memory usage: 6.6+ MB\n"
     ]
    }
   ],
   "source": [
    "data.info()"
   ]
  },
  {
   "cell_type": "markdown",
   "metadata": {},
   "source": [
    "## 파일 정제"
   ]
  },
  {
   "cell_type": "markdown",
   "metadata": {},
   "source": [
    "결측치가 몇 개 보인다.  산술평균에 경우 우리의 타겟값이므로 산술평균의 결측치가 있는 경우 객체를 버린다."
   ]
  },
  {
   "cell_type": "code",
   "execution_count": 6,
   "metadata": {},
   "outputs": [
    {
     "name": "stdout",
     "output_type": "stream",
     "text": [
      "<class 'pandas.core.frame.DataFrame'>\n",
      "Int64Index: 19416 entries, 0 to 47822\n",
      "Data columns (total 40 columns):\n",
      "회사명                  19416 non-null object\n",
      "회계년도                 19416 non-null object\n",
      "산업명                  19416 non-null object\n",
      "소속코드                 19416 non-null float64\n",
      "설립일                  19416 non-null object\n",
      "종업원                  19416 non-null float64\n",
      "당좌자산(*)              19145 non-null float64\n",
      "재고자산(*)              19145 non-null float64\n",
      "비유동자산(*)             19145 non-null float64\n",
      "유동부채(*)              19145 non-null float64\n",
      "비유동부채(*)             19145 non-null float64\n",
      "자본금(*)               19145 non-null float64\n",
      "자본잉여금(*)             19145 non-null float64\n",
      "자본조정(*)              19145 non-null float64\n",
      "기타포괄손익누계액(*)         19145 non-null float64\n",
      "이익잉여금(*)             19145 non-null float64\n",
      "매출액(영업수익)(*)         19145 non-null float64\n",
      "매출원가(*)              19145 non-null float64\n",
      "매출총이익(손실)            19145 non-null float64\n",
      "판매비와관리비(영업비용)(*)     19145 non-null float64\n",
      "영업이익(손실)             19145 non-null float64\n",
      "영업외수익(*)             19145 non-null float64\n",
      "영업외비용(*)             19145 non-null float64\n",
      "법인세비용차감전(계속사업)손익     19145 non-null float64\n",
      "(계속사업손익)법인세비용        19145 non-null float64\n",
      "계속사업이익(손실)           19145 non-null float64\n",
      "당기순이익(순손실)           19145 non-null float64\n",
      "영업활동으로 인한 현금흐름(*)    19145 non-null float64\n",
      "투자활동으로 인한 현금흐름(*)    19145 non-null float64\n",
      "재무활동으로 인한 현금흐름(*)    19145 non-null float64\n",
      "환율변동으로 인한 차이조정       19145 non-null float64\n",
      "현금의 증가(감소)(*)        19145 non-null float64\n",
      "기업규모명                19416 non-null object\n",
      "산술평균                 19416 non-null float64\n",
      "  경제성장률              19416 non-null float64\n",
      "  총저축률               19416 non-null float64\n",
      "  제조업 평균가동률          19416 non-null float64\n",
      "  실업률                19416 non-null float64\n",
      " 코스피지수               19416 non-null float64\n",
      "  경상수지               19416 non-null float64\n",
      "dtypes: float64(35), object(5)\n",
      "memory usage: 6.1+ MB\n"
     ]
    }
   ],
   "source": [
    "data = data[-(data[\"산술평균\"].isnull())]\n",
    "data.info()"
   ]
  },
  {
   "cell_type": "markdown",
   "metadata": {},
   "source": [
    "이 경우 결측치가 있는 데이터가 소수일 것이라 생각되어 결측치가 있는 데이터를 버리는 것이 좋을 것 같다."
   ]
  },
  {
   "cell_type": "code",
   "execution_count": 7,
   "metadata": {},
   "outputs": [
    {
     "name": "stdout",
     "output_type": "stream",
     "text": [
      "<class 'pandas.core.frame.DataFrame'>\n",
      "Int64Index: 19145 entries, 0 to 47822\n",
      "Data columns (total 40 columns):\n",
      "회사명                  19145 non-null object\n",
      "회계년도                 19145 non-null object\n",
      "산업명                  19145 non-null object\n",
      "소속코드                 19145 non-null float64\n",
      "설립일                  19145 non-null object\n",
      "종업원                  19145 non-null float64\n",
      "당좌자산(*)              19145 non-null float64\n",
      "재고자산(*)              19145 non-null float64\n",
      "비유동자산(*)             19145 non-null float64\n",
      "유동부채(*)              19145 non-null float64\n",
      "비유동부채(*)             19145 non-null float64\n",
      "자본금(*)               19145 non-null float64\n",
      "자본잉여금(*)             19145 non-null float64\n",
      "자본조정(*)              19145 non-null float64\n",
      "기타포괄손익누계액(*)         19145 non-null float64\n",
      "이익잉여금(*)             19145 non-null float64\n",
      "매출액(영업수익)(*)         19145 non-null float64\n",
      "매출원가(*)              19145 non-null float64\n",
      "매출총이익(손실)            19145 non-null float64\n",
      "판매비와관리비(영업비용)(*)     19145 non-null float64\n",
      "영업이익(손실)             19145 non-null float64\n",
      "영업외수익(*)             19145 non-null float64\n",
      "영업외비용(*)             19145 non-null float64\n",
      "법인세비용차감전(계속사업)손익     19145 non-null float64\n",
      "(계속사업손익)법인세비용        19145 non-null float64\n",
      "계속사업이익(손실)           19145 non-null float64\n",
      "당기순이익(순손실)           19145 non-null float64\n",
      "영업활동으로 인한 현금흐름(*)    19145 non-null float64\n",
      "투자활동으로 인한 현금흐름(*)    19145 non-null float64\n",
      "재무활동으로 인한 현금흐름(*)    19145 non-null float64\n",
      "환율변동으로 인한 차이조정       19145 non-null float64\n",
      "현금의 증가(감소)(*)        19145 non-null float64\n",
      "기업규모명                19145 non-null object\n",
      "산술평균                 19145 non-null float64\n",
      "  경제성장률              19145 non-null float64\n",
      "  총저축률               19145 non-null float64\n",
      "  제조업 평균가동률          19145 non-null float64\n",
      "  실업률                19145 non-null float64\n",
      " 코스피지수               19145 non-null float64\n",
      "  경상수지               19145 non-null float64\n",
      "dtypes: float64(35), object(5)\n",
      "memory usage: 6.0+ MB\n"
     ]
    }
   ],
   "source": [
    "data = data[-data[\"당좌자산(*)\"].isnull()]\n",
    "data.info()"
   ]
  },
  {
   "cell_type": "markdown",
   "metadata": {},
   "source": [
    "결측치가 있는 데이터가 없다."
   ]
  },
  {
   "cell_type": "markdown",
   "metadata": {},
   "source": [
    "## 머신러닝에 넣기 위해 데이터를 전처리하자."
   ]
  },
  {
   "cell_type": "markdown",
   "metadata": {},
   "source": [
    "train 데이터와 test 데이터를 나누자."
   ]
  },
  {
   "cell_type": "code",
   "execution_count": 8,
   "metadata": {},
   "outputs": [],
   "source": [
    "from sklearn.model_selection import train_test_split\n",
    "\n",
    "train,test = train_test_split(data, test_size=0.2, random_state=42)"
   ]
  },
  {
   "cell_type": "markdown",
   "metadata": {},
   "source": [
    "test의 경우 나중에 모델을 평가할 때 사용하자."
   ]
  },
  {
   "cell_type": "code",
   "execution_count": 9,
   "metadata": {},
   "outputs": [
    {
     "name": "stderr",
     "output_type": "stream",
     "text": [
      "c:\\users\\student\\documents\\lib\\site-packages\\pandas\\core\\frame.py:3697: SettingWithCopyWarning: \n",
      "A value is trying to be set on a copy of a slice from a DataFrame\n",
      "\n",
      "See the caveats in the documentation: http://pandas.pydata.org/pandas-docs/stable/indexing.html#indexing-view-versus-copy\n",
      "  errors=errors)\n"
     ]
    }
   ],
   "source": [
    "labels = train[\"산술평균\"]\n",
    "train.drop([\"산술평균\"], axis=1, inplace=True)"
   ]
  },
  {
   "cell_type": "markdown",
   "metadata": {},
   "source": [
    "주어진 미시 변수에 경우 서로의 상관관계가 높을 것이라 생각되어, PCA알고리즘을 이용하여 차원을 줄이도록 하자."
   ]
  },
  {
   "cell_type": "code",
   "execution_count": 13,
   "metadata": {
    "scrolled": true
   },
   "outputs": [],
   "source": [
    "micro_val = ['당좌자산(*)','재고자산(*)','비유동자산(*)','유동부채(*)','비유동부채(*)',\n",
    "        '자본금(*)','자본잉여금(*)','자본조정(*)','기타포괄손익누계액(*)',\n",
    "        '이익잉여금(*)','매출액(영업수익)(*)','매출원가(*)','매출총이익(손실)',\n",
    "        '판매비와관리비(영업비용)(*)','영업이익(손실)','영업외수익(*)','영업외비용(*)',\n",
    "        '법인세비용차감전(계속사업)손익','(계속사업손익)법인세비용','계속사업이익(손실)',\n",
    "        '당기순이익(순손실)','영업활동으로 인한 현금흐름(*)',\n",
    "        '투자활동으로 인한 현금흐름(*)','재무활동으로 인한 현금흐름(*)',\n",
    "       '환율변동으로 인한 차이조정','현금의 증가(감소)(*)']\n",
    "\n",
    "X = train[micro_val]"
   ]
  },
  {
   "cell_type": "markdown",
   "metadata": {},
   "source": [
    "먼저 주어진 데이터를 95%이상 설명가능한 차원의 수를 구하자."
   ]
  },
  {
   "cell_type": "code",
   "execution_count": 14,
   "metadata": {},
   "outputs": [],
   "source": [
    "from sklearn.decomposition import PCA"
   ]
  },
  {
   "cell_type": "code",
   "execution_count": 16,
   "metadata": {},
   "outputs": [
    {
     "data": {
      "text/plain": [
       "array([[-48247380.59715018,  -4110257.20172153,  20321826.26031258, ...,\n",
       "           816100.10330276,   -703788.93327897,  -6149054.05429247],\n",
       "       [-65519713.17816956,  36031202.3647343 ,  10882457.36927509, ...,\n",
       "         -6349581.07681948,  -3072808.2049037 ,  -3979152.47781669],\n",
       "       [ 48216688.23799605,  -8666658.01688782,  21388001.6828212 , ...,\n",
       "         49953950.22736988, -13569728.93089772,  15282197.55573998],\n",
       "       ...,\n",
       "       [-46611561.54191081,   -295671.43795167,  10516326.30378189, ...,\n",
       "         -1339417.61911492,  10913521.77510528,   4838790.40477581],\n",
       "       [-33783775.29316445,  13367791.86737388,   4226772.413175  , ...,\n",
       "          8829791.57599485,  15498847.19026309, -10215953.21786739],\n",
       "       [-26906873.37997736, -42350844.83762661, -13730224.72023512, ...,\n",
       "         -2918177.5756186 ,   2037637.41883306,   -514914.51555043]])"
      ]
     },
     "execution_count": 16,
     "metadata": {},
     "output_type": "execute_result"
    }
   ],
   "source": [
    "pca = PCA()\n",
    "pca.fit(X)\n",
    "cumsum = np.cumsum(pca.explained_variance_ratio_) ## 모든 배열의 원소들을 누적으로 다 더한 놈들 반환\n",
    "d = np.argmax(cumsum>=0.95)+1 ## argmax는 제일 큰 수의 index를 1차원 배열로 봤을 때의 index로 반환\n",
    "# d = 9\n",
    "## 9차원이면 주어진 데이터를 95%이상 설명할 수 있다.\n",
    "pca = PCA(n_components=d)\n",
    "\n",
    "pca.fit_transform(X)"
   ]
  },
  {
   "cell_type": "code",
   "execution_count": 17,
   "metadata": {},
   "outputs": [],
   "source": [
    "from sklearn.base import BaseEstimator, TransformerMixin\n",
    "\n",
    "class drop_some_attributes(BaseEstimator, TransformerMixin):\n",
    "    def fit(self, X, y=None):\n",
    "        return self\n",
    "    def transform(self, X, y=None):\n",
    "        return X.drop([\"회계년도\",\"회사명\"], axis=1)\n",
    "\n",
    "class PCA_K2H(BaseEstimator, TransformerMixin):\n",
    "    def fit(self, X, y=None):\n",
    "        pca.fit(X[micro_val])\n",
    "        return self\n",
    "    def transform(self, X, y=None):\n",
    "        self.index_ = X.index\n",
    "        \n",
    "        col = []\n",
    "        for i in range(9):\n",
    "            col.append('pca%s' %i)\n",
    "        \n",
    "        X9D = pd.DataFrame(pca.transform(X[micro_val]), \n",
    "                          index=self.index_, columns = col)\n",
    "        \n",
    "        X.drop(micro_val, axis=1, inplace=True)\n",
    "        return X.join(X9D)\n",
    "    \n",
    "class date_of_establish(BaseEstimator, TransformerMixin):\n",
    "    def fit(self, X, y=None):\n",
    "        return self\n",
    "    def transform(self, X, y=None):\n",
    "        X[\"설립일\"] = X[\"설립일\"].str.split('-', n = 1, expand=True)[0]\n",
    "        return X"
   ]
  },
  {
   "cell_type": "markdown",
   "metadata": {},
   "source": [
    "파이프라인 준비"
   ]
  },
  {
   "cell_type": "code",
   "execution_count": 18,
   "metadata": {},
   "outputs": [],
   "source": [
    "from sklearn.pipeline import Pipeline\n",
    "from sklearn.preprocessing import StandardScaler\n",
    "from sklearn.preprocessing import OneHotEncoder\n",
    "\n",
    "cat_attributes = [\"산업명\", \"소속코드\", \"기업규모명\",\"설립일\"]\n",
    "num_attributes = []\n",
    "for i in train.columns:\n",
    "    if i not in cat_attributes:\n",
    "        num_attributes.append(i)"
   ]
  },
  {
   "cell_type": "code",
   "execution_count": 19,
   "metadata": {},
   "outputs": [],
   "source": [
    "num_pipeline = Pipeline([\n",
    "        ('drop회사년도,회사명',drop_some_attributes()),\n",
    "        ('PCA_micro_att',PCA_K2H()),\n",
    "        ('StandardScaler',StandardScaler()),\n",
    "    ])"
   ]
  },
  {
   "cell_type": "code",
   "execution_count": 20,
   "metadata": {},
   "outputs": [],
   "source": [
    "cat_pipeline = Pipeline([\n",
    "        ('설립일',date_of_establish()),\n",
    "        ('onehotencoder',OneHotEncoder(categories='auto')),\n",
    "    ])"
   ]
  },
  {
   "cell_type": "code",
   "execution_count": 21,
   "metadata": {},
   "outputs": [],
   "source": [
    "from sklearn.compose import ColumnTransformer\n",
    "\n",
    "full_pipeline = ColumnTransformer([\n",
    "        (\"num\", num_pipeline, num_attributes),\n",
    "        (\"cat\", cat_pipeline, cat_attributes),\n",
    "    ])"
   ]
  },
  {
   "cell_type": "code",
   "execution_count": 22,
   "metadata": {
    "scrolled": false
   },
   "outputs": [
    {
     "data": {
      "text/plain": [
       "(15316, 144)"
      ]
     },
     "execution_count": 22,
     "metadata": {},
     "output_type": "execute_result"
    }
   ],
   "source": [
    "train_prepared = full_pipeline.fit_transform(train)\n",
    "train_prepared.shape"
   ]
  },
  {
   "cell_type": "markdown",
   "metadata": {},
   "source": [
    "## 머신러닝 트레이닝"
   ]
  },
  {
   "cell_type": "code",
   "execution_count": 23,
   "metadata": {},
   "outputs": [],
   "source": [
    "from sklearn.metrics import mean_squared_error"
   ]
  },
  {
   "cell_type": "markdown",
   "metadata": {},
   "source": [
    "### LinearRegression"
   ]
  },
  {
   "cell_type": "code",
   "execution_count": 24,
   "metadata": {},
   "outputs": [
    {
     "data": {
      "text/plain": [
       "17637.336321723575"
      ]
     },
     "execution_count": 24,
     "metadata": {},
     "output_type": "execute_result"
    }
   ],
   "source": [
    "from sklearn.linear_model import LinearRegression\n",
    "lin_reg = LinearRegression()\n",
    "lin_reg.fit(train_prepared, labels)\n",
    "\n",
    "train_predictions = lin_reg.predict(train_prepared)\n",
    "lin_mse = mean_squared_error(labels, train_predictions)\n",
    "lin_rmse = np.sqrt(lin_mse)\n",
    "lin_rmse"
   ]
  },
  {
   "cell_type": "markdown",
   "metadata": {},
   "source": [
    "### DecisionTreeRegressor"
   ]
  },
  {
   "cell_type": "code",
   "execution_count": 25,
   "metadata": {},
   "outputs": [
    {
     "data": {
      "text/plain": [
       "8318.801689755004"
      ]
     },
     "execution_count": 25,
     "metadata": {},
     "output_type": "execute_result"
    }
   ],
   "source": [
    "from sklearn.tree import DecisionTreeRegressor\n",
    "tree_reg = DecisionTreeRegressor(random_state=42, max_depth=10)\n",
    "\n",
    "tree_reg.fit(train_prepared, labels)\n",
    "\n",
    "train_predictions = tree_reg.predict(train_prepared)\n",
    "tree_mse = mean_squared_error(labels, train_predictions)\n",
    "tree_rmse = np.sqrt(tree_mse)\n",
    "tree_rmse"
   ]
  },
  {
   "cell_type": "markdown",
   "metadata": {},
   "source": [
    "### RandomForestRegressor"
   ]
  },
  {
   "cell_type": "code",
   "execution_count": 26,
   "metadata": {
    "scrolled": true
   },
   "outputs": [
    {
     "data": {
      "text/plain": [
       "4864.16902739291"
      ]
     },
     "execution_count": 26,
     "metadata": {},
     "output_type": "execute_result"
    }
   ],
   "source": [
    "from sklearn.ensemble import RandomForestRegressor\n",
    "forest_reg = RandomForestRegressor(n_estimators=30, random_state=42, max_depth=50)\n",
    "forest_reg.fit(train_prepared, labels)\n",
    "\n",
    "train_predictions = forest_reg.predict(train_prepared)\n",
    "forest_mse = mean_squared_error(labels, train_predictions)\n",
    "forest_rmse = np.sqrt(forest_mse)\n",
    "forest_rmse"
   ]
  },
  {
   "cell_type": "markdown",
   "metadata": {},
   "source": [
    "## cross_val_score"
   ]
  },
  {
   "cell_type": "code",
   "execution_count": 27,
   "metadata": {},
   "outputs": [],
   "source": [
    "from sklearn.model_selection import cross_val_score\n",
    "\n",
    "def display_scores(scores):\n",
    "    print('Scores:', scores)\n",
    "    print('Mean:', scores.mean())\n",
    "    print('Standard deviation:', scores.std())"
   ]
  },
  {
   "cell_type": "code",
   "execution_count": 28,
   "metadata": {},
   "outputs": [
    {
     "name": "stdout",
     "output_type": "stream",
     "text": [
      "Scores: [11148.39729631 16094.9442026  18321.29935333 15519.20745056\n",
      " 18009.34374014 21351.43859114 14504.19878886 19403.22183731\n",
      " 23775.4409792  17627.58032478]\n",
      "Mean: 17575.507256422356\n",
      "Standard deviation: 3375.583234666946\n"
     ]
    }
   ],
   "source": [
    "scores = cross_val_score(lin_reg, train_prepared, labels,\n",
    "scoring=\"neg_mean_squared_error\", cv=10)\n",
    "tree_rmse_scores = np.sqrt(-scores)\n",
    "display_scores(tree_rmse_scores)"
   ]
  },
  {
   "cell_type": "code",
   "execution_count": 29,
   "metadata": {},
   "outputs": [
    {
     "name": "stdout",
     "output_type": "stream",
     "text": [
      "Scores: [10245.35672567  9124.76838498 27911.43710175 13346.94350456\n",
      " 20247.70660104 11032.28057673  9849.54896253 11572.81724435\n",
      " 22786.56067992 21321.87776733]\n",
      "Mean: 15743.929754886227\n",
      "Standard deviation: 6349.638442095996\n"
     ]
    }
   ],
   "source": [
    "scores = cross_val_score(tree_reg, train_prepared, labels,\n",
    "scoring=\"neg_mean_squared_error\", cv=10)\n",
    "tree_rmse_scores = np.sqrt(-scores)\n",
    "display_scores(tree_rmse_scores)"
   ]
  },
  {
   "cell_type": "code",
   "execution_count": 30,
   "metadata": {
    "scrolled": true
   },
   "outputs": [
    {
     "name": "stdout",
     "output_type": "stream",
     "text": [
      "Scores: [ 8068.15526746  8325.20707376 18057.72046368  9303.48669195\n",
      " 17277.76946136  8626.63650852  7414.11577374 11708.18588735\n",
      " 18265.50553566  9071.91643272]\n",
      "Mean: 11611.869909620087\n",
      "Standard deviation: 4237.975601132525\n"
     ]
    }
   ],
   "source": [
    "scores = cross_val_score(forest_reg, train_prepared, labels,\n",
    "scoring=\"neg_mean_squared_error\", cv=10)\n",
    "forest_rmse_scores = np.sqrt(-scores)\n",
    "display_scores(forest_rmse_scores)"
   ]
  },
  {
   "cell_type": "markdown",
   "metadata": {},
   "source": [
    "### 그리드 탐색"
   ]
  },
  {
   "cell_type": "code",
   "execution_count": 31,
   "metadata": {},
   "outputs": [
    {
     "data": {
      "text/plain": [
       "GridSearchCV(cv=5, error_score='raise-deprecating',\n",
       "       estimator=RandomForestRegressor(bootstrap=True, criterion='mse', max_depth=None,\n",
       "           max_features='auto', max_leaf_nodes=None,\n",
       "           min_impurity_decrease=0.0, min_impurity_split=None,\n",
       "           min_samples_leaf=1, min_samples_split=2,\n",
       "           min_weight_fraction_leaf=0.0, n_estimators='warn', n_jobs=None,\n",
       "           oob_score=False, random_state=42, verbose=0, warm_start=False),\n",
       "       fit_params=None, iid='warn', n_jobs=None,\n",
       "       param_grid=[{'n_estimators': [3, 10, 30], 'max_features': [2, 4, 6, 8]}, {'bootstrap': [False], 'n_estimators': [3, 10], 'max_features': [2, 3, 4]}],\n",
       "       pre_dispatch='2*n_jobs', refit=True, return_train_score=True,\n",
       "       scoring='neg_mean_squared_error', verbose=0)"
      ]
     },
     "execution_count": 31,
     "metadata": {},
     "output_type": "execute_result"
    }
   ],
   "source": [
    "from sklearn.model_selection import GridSearchCV\n",
    "\n",
    "param_grid = [\n",
    "    {'n_estimators': [3, 10, 30], 'max_features': [2, 4, 6, 8]},\n",
    "    {'bootstrap': [False], 'n_estimators': [3, 10], 'max_features': [2, 3, 4]},\n",
    "    ]\n",
    "\n",
    "forest_reg = RandomForestRegressor(random_state=42)\n",
    "grid_search = GridSearchCV(forest_reg, param_grid, cv=5,\n",
    "                        scoring='neg_mean_squared_error', return_train_score=True)\n",
    "grid_search.fit(train_prepared, labels)"
   ]
  },
  {
   "cell_type": "code",
   "execution_count": 32,
   "metadata": {},
   "outputs": [
    {
     "data": {
      "text/plain": [
       "{'max_features': 6, 'n_estimators': 30}"
      ]
     },
     "execution_count": 32,
     "metadata": {},
     "output_type": "execute_result"
    }
   ],
   "source": [
    "grid_search.best_params_"
   ]
  },
  {
   "cell_type": "code",
   "execution_count": 33,
   "metadata": {},
   "outputs": [
    {
     "data": {
      "text/plain": [
       "RandomForestRegressor(bootstrap=True, criterion='mse', max_depth=None,\n",
       "           max_features=6, max_leaf_nodes=None, min_impurity_decrease=0.0,\n",
       "           min_impurity_split=None, min_samples_leaf=1,\n",
       "           min_samples_split=2, min_weight_fraction_leaf=0.0,\n",
       "           n_estimators=30, n_jobs=None, oob_score=False, random_state=42,\n",
       "           verbose=0, warm_start=False)"
      ]
     },
     "execution_count": 33,
     "metadata": {},
     "output_type": "execute_result"
    }
   ],
   "source": [
    "grid_search.best_estimator_"
   ]
  },
  {
   "cell_type": "code",
   "execution_count": 34,
   "metadata": {},
   "outputs": [
    {
     "name": "stdout",
     "output_type": "stream",
     "text": [
      "17481.992433041483 {'max_features': 2, 'n_estimators': 3}\n",
      "15576.524890490266 {'max_features': 2, 'n_estimators': 10}\n",
      "14664.19296948055 {'max_features': 2, 'n_estimators': 30}\n",
      "17245.778455728778 {'max_features': 4, 'n_estimators': 3}\n",
      "15470.978550536618 {'max_features': 4, 'n_estimators': 10}\n",
      "14313.870839609357 {'max_features': 4, 'n_estimators': 30}\n",
      "18935.89668386161 {'max_features': 6, 'n_estimators': 3}\n",
      "14739.66586719307 {'max_features': 6, 'n_estimators': 10}\n",
      "14174.98888253793 {'max_features': 6, 'n_estimators': 30}\n",
      "17433.177811351205 {'max_features': 8, 'n_estimators': 3}\n",
      "15328.218252252318 {'max_features': 8, 'n_estimators': 10}\n",
      "14355.427411210085 {'max_features': 8, 'n_estimators': 30}\n",
      "16910.356384607152 {'bootstrap': False, 'max_features': 2, 'n_estimators': 3}\n",
      "14773.895862641964 {'bootstrap': False, 'max_features': 2, 'n_estimators': 10}\n",
      "18809.01787218176 {'bootstrap': False, 'max_features': 3, 'n_estimators': 3}\n",
      "15300.829567993866 {'bootstrap': False, 'max_features': 3, 'n_estimators': 10}\n",
      "16056.112343431716 {'bootstrap': False, 'max_features': 4, 'n_estimators': 3}\n",
      "14438.079294744979 {'bootstrap': False, 'max_features': 4, 'n_estimators': 10}\n"
     ]
    }
   ],
   "source": [
    "cvres = grid_search.cv_results_\n",
    "for mean_score, params in zip(cvres[\"mean_test_score\"], cvres[\"params\"]):\n",
    "    print(np.sqrt(-mean_score), params)"
   ]
  },
  {
   "cell_type": "code",
   "execution_count": 35,
   "metadata": {},
   "outputs": [
    {
     "data": {
      "text/plain": [
       "4503.191601011734"
      ]
     },
     "execution_count": 35,
     "metadata": {},
     "output_type": "execute_result"
    }
   ],
   "source": [
    "from sklearn.ensemble import RandomForestRegressor\n",
    "forest_reg = RandomForestRegressor(n_estimators=46, random_state=42, max_depth=45)\n",
    "forest_reg.fit(train_prepared, labels)\n",
    "\n",
    "train_predictions = forest_reg.predict(train_prepared)\n",
    "forest_mse = mean_squared_error(labels, train_predictions)\n",
    "forest_rmse = np.sqrt(forest_mse)\n",
    "forest_rmse"
   ]
  },
  {
   "cell_type": "code",
   "execution_count": 36,
   "metadata": {
    "scrolled": true
   },
   "outputs": [
    {
     "name": "stdout",
     "output_type": "stream",
     "text": [
      "Scores: [ 8126.40309802  8436.25508976 18052.47552142  9137.54178308\n",
      " 17291.12287264  8970.88627758  7294.04561124 11564.69809008\n",
      " 16996.84760568  9440.89117046]\n",
      "Mean: 11531.116711996068\n",
      "Standard deviation: 4016.9288268782766\n"
     ]
    }
   ],
   "source": [
    "scores = cross_val_score(forest_reg, train_prepared, labels,\n",
    "        scoring=\"neg_mean_squared_error\", cv=10)\n",
    "forest_rmse_scores = np.sqrt(-scores)\n",
    "display_scores(forest_rmse_scores)"
   ]
  },
  {
   "cell_type": "markdown",
   "metadata": {},
   "source": [
    "### 랜덤 그리드 탐색"
   ]
  },
  {
   "cell_type": "code",
   "execution_count": 37,
   "metadata": {},
   "outputs": [],
   "source": [
    "from sklearn.model_selection import RandomizedSearchCV"
   ]
  },
  {
   "cell_type": "code",
   "execution_count": 38,
   "metadata": {},
   "outputs": [],
   "source": [
    "from scipy.stats import randint as sp_randint"
   ]
  },
  {
   "cell_type": "code",
   "execution_count": 39,
   "metadata": {},
   "outputs": [
    {
     "data": {
      "text/plain": [
       "RandomizedSearchCV(cv=5, error_score='raise-deprecating',\n",
       "          estimator=RandomForestRegressor(bootstrap=True, criterion='mse', max_depth=45,\n",
       "           max_features='auto', max_leaf_nodes=None,\n",
       "           min_impurity_decrease=0.0, min_impurity_split=None,\n",
       "           min_samples_leaf=1, min_samples_split=2,\n",
       "           min_weight_fraction_leaf=0.0, n_estimators=46, n_jobs=None,\n",
       "           oob_score=False, random_state=42, verbose=0, warm_start=False),\n",
       "          fit_params=None, iid='warn', n_iter=20, n_jobs=None,\n",
       "          param_distributions={'max_depth': [3, None], 'max_features': <scipy.stats._distn_infrastructure.rv_frozen object at 0x00000000182CFC18>, 'min_samples_split': <scipy.stats._distn_infrastructure.rv_frozen object at 0x00000000182CC940>, 'bootstrap': [True, False], 'criterion': ['mse']},\n",
       "          pre_dispatch='2*n_jobs', random_state=None, refit=True,\n",
       "          return_train_score='warn', scoring=None, verbose=0)"
      ]
     },
     "execution_count": 39,
     "metadata": {},
     "output_type": "execute_result"
    }
   ],
   "source": [
    "param_dist = {\"max_depth\": [3, None],\n",
    "              \"max_features\": sp_randint(1, 11),\n",
    "              \"min_samples_split\": sp_randint(2, 11),\n",
    "              \"bootstrap\": [True, False],\n",
    "              \"criterion\": [\"mse\"]}\n",
    "\n",
    "n_iter_search = 20\n",
    "random_search = RandomizedSearchCV(forest_reg, param_distributions=param_dist,\n",
    "                                   n_iter=n_iter_search, cv=5)\n",
    "random_search.fit(train_prepared, labels)"
   ]
  },
  {
   "cell_type": "code",
   "execution_count": 40,
   "metadata": {},
   "outputs": [
    {
     "name": "stdout",
     "output_type": "stream",
     "text": [
      "0.69139934047037 {'bootstrap': True, 'criterion': 'mse', 'max_depth': None, 'max_features': 4, 'min_samples_split': 5}\n",
      "0.7676059479677879 {'bootstrap': False, 'criterion': 'mse', 'max_depth': None, 'max_features': 8, 'min_samples_split': 7}\n",
      "0.7085746331342629 {'bootstrap': True, 'criterion': 'mse', 'max_depth': None, 'max_features': 5, 'min_samples_split': 7}\n",
      "0.700773139069213 {'bootstrap': True, 'criterion': 'mse', 'max_depth': None, 'max_features': 8, 'min_samples_split': 8}\n",
      "0.7120625187916523 {'bootstrap': True, 'criterion': 'mse', 'max_depth': None, 'max_features': 6, 'min_samples_split': 5}\n",
      "0.2702706413554317 {'bootstrap': False, 'criterion': 'mse', 'max_depth': 3, 'max_features': 4, 'min_samples_split': 2}\n",
      "0.26684204420119656 {'bootstrap': True, 'criterion': 'mse', 'max_depth': 3, 'max_features': 4, 'min_samples_split': 4}\n",
      "0.38171257346123283 {'bootstrap': False, 'criterion': 'mse', 'max_depth': 3, 'max_features': 10, 'min_samples_split': 8}\n",
      "0.7565406908448685 {'bootstrap': False, 'criterion': 'mse', 'max_depth': None, 'max_features': 8, 'min_samples_split': 9}\n",
      "0.7421522316879977 {'bootstrap': False, 'criterion': 'mse', 'max_depth': None, 'max_features': 2, 'min_samples_split': 4}\n",
      "0.705055344015677 {'bootstrap': True, 'criterion': 'mse', 'max_depth': None, 'max_features': 3, 'min_samples_split': 2}\n",
      "0.6974653630205234 {'bootstrap': True, 'criterion': 'mse', 'max_depth': None, 'max_features': 3, 'min_samples_split': 7}\n",
      "0.3849787963884383 {'bootstrap': False, 'criterion': 'mse', 'max_depth': 3, 'max_features': 10, 'min_samples_split': 7}\n",
      "0.26684204420119656 {'bootstrap': True, 'criterion': 'mse', 'max_depth': 3, 'max_features': 4, 'min_samples_split': 4}\n",
      "0.2695600113090467 {'bootstrap': False, 'criterion': 'mse', 'max_depth': 3, 'max_features': 4, 'min_samples_split': 8}\n",
      "0.12425406092749855 {'bootstrap': True, 'criterion': 'mse', 'max_depth': 3, 'max_features': 1, 'min_samples_split': 3}\n",
      "0.6742459981040257 {'bootstrap': True, 'criterion': 'mse', 'max_depth': None, 'max_features': 1, 'min_samples_split': 10}\n",
      "0.7652041530243301 {'bootstrap': False, 'criterion': 'mse', 'max_depth': None, 'max_features': 1, 'min_samples_split': 2}\n",
      "0.7448073375034642 {'bootstrap': False, 'criterion': 'mse', 'max_depth': None, 'max_features': 4, 'min_samples_split': 7}\n",
      "0.681471368843152 {'bootstrap': True, 'criterion': 'mse', 'max_depth': None, 'max_features': 7, 'min_samples_split': 10}\n"
     ]
    }
   ],
   "source": [
    "cvres = random_search.cv_results_\n",
    "for mean_score, params in zip(cvres[\"mean_test_score\"], cvres[\"params\"]):\n",
    "    print(np.sqrt(mean_score), params)"
   ]
  },
  {
   "cell_type": "code",
   "execution_count": 41,
   "metadata": {},
   "outputs": [
    {
     "data": {
      "text/plain": [
       "RandomForestRegressor(bootstrap=False, criterion='mse', max_depth=None,\n",
       "           max_features=8, max_leaf_nodes=None, min_impurity_decrease=0.0,\n",
       "           min_impurity_split=None, min_samples_leaf=1,\n",
       "           min_samples_split=7, min_weight_fraction_leaf=0.0,\n",
       "           n_estimators=46, n_jobs=None, oob_score=False, random_state=42,\n",
       "           verbose=0, warm_start=False)"
      ]
     },
     "execution_count": 41,
     "metadata": {},
     "output_type": "execute_result"
    }
   ],
   "source": [
    "random_search.best_estimator_"
   ]
  },
  {
   "cell_type": "markdown",
   "metadata": {},
   "source": [
    "#### 랜덤 포레스트 마지막 "
   ]
  },
  {
   "cell_type": "code",
   "execution_count": 42,
   "metadata": {},
   "outputs": [
    {
     "data": {
      "text/plain": [
       "8890.279315748237"
      ]
     },
     "execution_count": 42,
     "metadata": {},
     "output_type": "execute_result"
    }
   ],
   "source": [
    "labels.mean()"
   ]
  },
  {
   "cell_type": "code",
   "execution_count": 43,
   "metadata": {},
   "outputs": [
    {
     "data": {
      "text/plain": [
       "1471.6147125584"
      ]
     },
     "execution_count": 43,
     "metadata": {},
     "output_type": "execute_result"
    }
   ],
   "source": [
    "forest_reg = RandomForestRegressor(bootstrap=False, criterion='mse', max_depth=45,\n",
    "           max_features=9, max_leaf_nodes=None, min_impurity_decrease=0.0,\n",
    "           min_impurity_split=None, min_samples_leaf=1,\n",
    "           min_samples_split=3, min_weight_fraction_leaf=0.0,\n",
    "           n_estimators=46, n_jobs=None, oob_score=False, random_state=42,\n",
    "           verbose=0, warm_start=False)\n",
    "forest_reg.fit(train_prepared, labels)\n",
    "\n",
    "train_predictions = forest_reg.predict(train_prepared)\n",
    "forest_mse = mean_squared_error(labels, train_predictions)\n",
    "forest_rmse = np.sqrt(forest_mse)\n",
    "forest_rmse"
   ]
  },
  {
   "cell_type": "code",
   "execution_count": 44,
   "metadata": {},
   "outputs": [
    {
     "name": "stdout",
     "output_type": "stream",
     "text": [
      "Scores: [ 8361.25335322  9018.7355717  12788.22630729  9948.97575157\n",
      " 16022.36551421 10757.09421144  8447.33202661 12093.90445442\n",
      " 19541.2558265  10693.97626021]\n",
      "Mean: 11767.311927717608\n",
      "Standard deviation: 3396.258572233329\n"
     ]
    }
   ],
   "source": [
    "scores = cross_val_score(forest_reg, train_prepared, labels,\n",
    "        scoring=\"neg_mean_squared_error\", cv=10)\n",
    "forest_rmse_scores = np.sqrt(-scores)\n",
    "display_scores(forest_rmse_scores)"
   ]
  },
  {
   "cell_type": "markdown",
   "metadata": {},
   "source": [
    "## 딥러닝"
   ]
  },
  {
   "cell_type": "code",
   "execution_count": 57,
   "metadata": {},
   "outputs": [],
   "source": [
    "import tensorflow as tf\n",
    "\n",
    "from keras.models import Sequential\n",
    "from keras.layers import Dense\n",
    "import random\n",
    "\n",
    "def reset_graph(seed=42): ## 그래프에 변수가 쌓이는 것을 방지\n",
    "    tf.reset_default_graph()\n",
    "    tf.set_random_seed(seed)\n",
    "    np.random.seed(seed)"
   ]
  },
  {
   "cell_type": "code",
   "execution_count": 58,
   "metadata": {},
   "outputs": [
    {
     "data": {
      "text/plain": [
       "(15316, 144)"
      ]
     },
     "execution_count": 58,
     "metadata": {},
     "output_type": "execute_result"
    }
   ],
   "source": [
    "train_prepared.shape"
   ]
  },
  {
   "cell_type": "code",
   "execution_count": 85,
   "metadata": {},
   "outputs": [],
   "source": [
    "model = Sequential()\n",
    "model.add(Dense(86, input_dim=144, activation='elu')) ## input * 2/3\n",
    "model.add(Dense(86, activation='elu'))\n",
    "model.add(Dense(40, activation='elu'))\n",
    "model.add(Dense(10, activation='elu'))\n",
    "model.add(Dense(1))"
   ]
  },
  {
   "cell_type": "code",
   "execution_count": 86,
   "metadata": {},
   "outputs": [],
   "source": [
    "from keras import optimizers"
   ]
  },
  {
   "cell_type": "code",
   "execution_count": 87,
   "metadata": {},
   "outputs": [],
   "source": [
    "sgd = optimizers.SGD(lr=0.0001, clipnorm=1.)"
   ]
  },
  {
   "cell_type": "code",
   "execution_count": 88,
   "metadata": {},
   "outputs": [],
   "source": [
    "model.compile(optimizer='adam', loss='mean_squared_error')"
   ]
  },
  {
   "cell_type": "code",
   "execution_count": 89,
   "metadata": {
    "scrolled": true
   },
   "outputs": [
    {
     "name": "stdout",
     "output_type": "stream",
     "text": [
      "Epoch 1/500\n",
      "15316/15316 [==============================] - 0s 26us/step - loss: 507074463.1392\n",
      "Epoch 2/500\n",
      "15316/15316 [==============================] - 0s 8us/step - loss: 506476899.9237\n",
      "Epoch 3/500\n",
      "15316/15316 [==============================] - 0s 8us/step - loss: 502611505.7926\n",
      "Epoch 4/500\n",
      "15316/15316 [==============================] - 0s 8us/step - loss: 487787645.0541\n",
      "Epoch 5/500\n",
      "15316/15316 [==============================] - 0s 8us/step - loss: 449027377.5336\n",
      "Epoch 6/500\n",
      "15316/15316 [==============================] - 0s 8us/step - loss: 397206602.9564\n",
      "Epoch 7/500\n",
      "15316/15316 [==============================] - 0s 8us/step - loss: 374264559.6574\n",
      "Epoch 8/500\n",
      "15316/15316 [==============================] - 0s 8us/step - loss: 362012847.5362\n",
      "Epoch 9/500\n",
      "15316/15316 [==============================] - 0s 8us/step - loss: 351756319.0222\n",
      "Epoch 10/500\n",
      "15316/15316 [==============================] - 0s 8us/step - loss: 342658678.1635\n",
      "Epoch 11/500\n",
      "15316/15316 [==============================] - 0s 8us/step - loss: 334351963.0943\n",
      "Epoch 12/500\n",
      "15316/15316 [==============================] - 0s 8us/step - loss: 327529936.1546\n",
      "Epoch 13/500\n",
      "15316/15316 [==============================] - 0s 8us/step - loss: 321832642.4278\n",
      "Epoch 14/500\n",
      "15316/15316 [==============================] - 0s 8us/step - loss: 316541454.7882\n",
      "Epoch 15/500\n",
      "15316/15316 [==============================] - 0s 8us/step - loss: 312400460.6487\n",
      "Epoch 16/500\n",
      "15316/15316 [==============================] - 0s 8us/step - loss: 308746561.3204\n",
      "Epoch 17/500\n",
      "15316/15316 [==============================] - 0s 9us/step - loss: 305251012.3291\n",
      "Epoch 18/500\n",
      "15316/15316 [==============================] - 0s 9us/step - loss: 302139935.6741\n",
      "Epoch 19/500\n",
      "15316/15316 [==============================] - 0s 9us/step - loss: 299695578.7307\n",
      "Epoch 20/500\n",
      "15316/15316 [==============================] - 0s 9us/step - loss: 296633502.7381\n",
      "Epoch 21/500\n",
      "15316/15316 [==============================] - 0s 9us/step - loss: 294044419.9948\n",
      "Epoch 22/500\n",
      "15316/15316 [==============================] - 0s 9us/step - loss: 292166556.0052\n",
      "Epoch 23/500\n",
      "15316/15316 [==============================] - 0s 8us/step - loss: 290202063.8161\n",
      "Epoch 24/500\n",
      "15316/15316 [==============================] - 0s 8us/step - loss: 289256688.8483\n",
      "Epoch 25/500\n",
      "15316/15316 [==============================] - 0s 9us/step - loss: 286754288.6226\n",
      "Epoch 26/500\n",
      "15316/15316 [==============================] - 0s 9us/step - loss: 284939909.3925\n",
      "Epoch 27/500\n",
      "15316/15316 [==============================] - 0s 9us/step - loss: 283494338.4570\n",
      "Epoch 28/500\n",
      "15316/15316 [==============================] - 0s 9us/step - loss: 282224551.4860\n",
      "Epoch 29/500\n",
      "15316/15316 [==============================] - 0s 8us/step - loss: 280242644.4879\n",
      "Epoch 30/500\n",
      "15316/15316 [==============================] - 0s 9us/step - loss: 278856009.2766\n",
      "Epoch 31/500\n",
      "15316/15316 [==============================] - 0s 8us/step - loss: 277302354.0935\n",
      "Epoch 32/500\n",
      "15316/15316 [==============================] - 0s 9us/step - loss: 275567593.3393\n",
      "Epoch 33/500\n",
      "15316/15316 [==============================] - 0s 8us/step - loss: 274073691.9509\n",
      "Epoch 34/500\n",
      "15316/15316 [==============================] - 0s 8us/step - loss: 272516407.1747\n",
      "Epoch 35/500\n",
      "15316/15316 [==============================] - 0s 9us/step - loss: 270986039.3523\n",
      "Epoch 36/500\n",
      "15316/15316 [==============================] - 0s 8us/step - loss: 269294595.8193\n",
      "Epoch 37/500\n",
      "15316/15316 [==============================] - 0s 9us/step - loss: 267689892.3291\n",
      "Epoch 38/500\n",
      "15316/15316 [==============================] - 0s 9us/step - loss: 267776004.3959\n",
      "Epoch 39/500\n",
      "15316/15316 [==============================] - 0s 9us/step - loss: 264873338.4424\n",
      "Epoch 40/500\n",
      "15316/15316 [==============================] - 0s 8us/step - loss: 263287810.4570\n",
      "Epoch 41/500\n",
      "15316/15316 [==============================] - 0s 9us/step - loss: 261156178.4863\n",
      "Epoch 42/500\n",
      "15316/15316 [==============================] - 0s 9us/step - loss: 259150156.8869\n",
      "Epoch 43/500\n",
      "15316/15316 [==============================] - 0s 9us/step - loss: 258293721.5064\n",
      "Epoch 44/500\n",
      "15316/15316 [==============================] - 0s 9us/step - loss: 256565432.5056\n",
      "Epoch 45/500\n",
      "15316/15316 [==============================] - 0s 9us/step - loss: 253866156.7783\n",
      "Epoch 46/500\n",
      "15316/15316 [==============================] - 0s 9us/step - loss: 251673468.4022\n",
      "Epoch 47/500\n",
      "15316/15316 [==============================] - 0s 9us/step - loss: 249911857.8093\n",
      "Epoch 48/500\n",
      "15316/15316 [==============================] - 0s 9us/step - loss: 247594985.4771\n",
      "Epoch 49/500\n",
      "15316/15316 [==============================] - 0s 8us/step - loss: 246195838.0862\n",
      "Epoch 50/500\n",
      "15316/15316 [==============================] - 0s 9us/step - loss: 243426090.0956\n",
      "Epoch 51/500\n",
      "15316/15316 [==============================] - 0s 8us/step - loss: 241216566.7485\n",
      "Epoch 52/500\n",
      "15316/15316 [==============================] - 0s 9us/step - loss: 239145406.0340\n",
      "Epoch 53/500\n",
      "15316/15316 [==============================] - 0s 8us/step - loss: 236774134.0548\n",
      "Epoch 54/500\n",
      "15316/15316 [==============================] - 0s 9us/step - loss: 234046524.4335\n",
      "Epoch 55/500\n",
      "15316/15316 [==============================] - 0s 8us/step - loss: 231582040.7793\n",
      "Epoch 56/500\n",
      "15316/15316 [==============================] - 0s 9us/step - loss: 229306470.9741\n",
      "Epoch 57/500\n",
      "15316/15316 [==============================] - 0s 9us/step - loss: 226350367.6406\n",
      "Epoch 58/500\n",
      "15316/15316 [==============================] - 0s 8us/step - loss: 224918174.9888\n",
      "Epoch 59/500\n",
      "15316/15316 [==============================] - 0s 8us/step - loss: 222576130.1645\n",
      "Epoch 60/500\n",
      "15316/15316 [==============================] - 0s 8us/step - loss: 222394522.7140\n",
      "Epoch 61/500\n",
      "15316/15316 [==============================] - 0s 8us/step - loss: 217188960.1692\n",
      "Epoch 62/500\n",
      "15316/15316 [==============================] - 0s 8us/step - loss: 214913158.0214\n",
      "Epoch 63/500\n",
      "15316/15316 [==============================] - 0s 9us/step - loss: 215089590.4100\n",
      "Epoch 64/500\n",
      "15316/15316 [==============================] - 0s 9us/step - loss: 211059812.8911\n",
      "Epoch 65/500\n",
      "15316/15316 [==============================] - 0s 9us/step - loss: 207868051.2008\n",
      "Epoch 66/500\n",
      "15316/15316 [==============================] - 0s 8us/step - loss: 206400627.0546\n",
      "Epoch 67/500\n",
      "15316/15316 [==============================] - 0s 9us/step - loss: 203439823.7033\n",
      "Epoch 68/500\n",
      "15316/15316 [==============================] - 0s 9us/step - loss: 201323038.6378\n",
      "Epoch 69/500\n",
      "15316/15316 [==============================] - 0s 9us/step - loss: 199327877.6767\n",
      "Epoch 70/500\n",
      "15316/15316 [==============================] - 0s 9us/step - loss: 198067267.8235\n",
      "Epoch 71/500\n",
      "15316/15316 [==============================] - 0s 9us/step - loss: 195684951.6135\n",
      "Epoch 72/500\n",
      "15316/15316 [==============================] - 0s 9us/step - loss: 193664357.5179\n",
      "Epoch 73/500\n",
      "15316/15316 [==============================] - 0s 9us/step - loss: 191635664.3761\n",
      "Epoch 74/500\n",
      "15316/15316 [==============================] - 0s 9us/step - loss: 189517123.5560\n",
      "Epoch 75/500\n",
      "15316/15316 [==============================] - 0s 9us/step - loss: 188427026.8749\n",
      "Epoch 76/500\n",
      "15316/15316 [==============================] - 0s 8us/step - loss: 187278093.1084\n",
      "Epoch 77/500\n",
      "15316/15316 [==============================] - 0s 9us/step - loss: 185659548.8075\n",
      "Epoch 78/500\n",
      "15316/15316 [==============================] - 0s 8us/step - loss: 182569646.7569\n",
      "Epoch 79/500\n",
      "15316/15316 [==============================] - 0s 9us/step - loss: 180605160.6498\n",
      "Epoch 80/500\n",
      "15316/15316 [==============================] - 0s 9us/step - loss: 179388554.6158\n",
      "Epoch 81/500\n",
      "15316/15316 [==============================] - 0s 9us/step - loss: 177359513.3372\n",
      "Epoch 82/500\n",
      "15316/15316 [==============================] - 0s 8us/step - loss: 176131483.5665\n",
      "Epoch 83/500\n",
      "15316/15316 [==============================] - 0s 8us/step - loss: 173907514.7851\n",
      "Epoch 84/500\n",
      "15316/15316 [==============================] - 0s 8us/step - loss: 172338413.1752\n",
      "Epoch 85/500\n",
      "15316/15316 [==============================] - 0s 9us/step - loss: 170756811.5121\n",
      "Epoch 86/500\n",
      "15316/15316 [==============================] - 0s 9us/step - loss: 169731667.5247\n",
      "Epoch 87/500\n"
     ]
    },
    {
     "name": "stdout",
     "output_type": "stream",
     "text": [
      "15316/15316 [==============================] - 0s 9us/step - loss: 168327563.3387\n",
      "Epoch 88/500\n",
      "15316/15316 [==============================] - 0s 8us/step - loss: 167691339.0650\n",
      "Epoch 89/500\n",
      "15316/15316 [==============================] - 0s 8us/step - loss: 165548593.6756\n",
      "Epoch 90/500\n",
      "15316/15316 [==============================] - 0s 8us/step - loss: 163372312.7877\n",
      "Epoch 91/500\n",
      "15316/15316 [==============================] - 0s 8us/step - loss: 161702469.2505\n",
      "Epoch 92/500\n",
      "15316/15316 [==============================] - 0s 9us/step - loss: 160674771.7211\n",
      "Epoch 93/500\n",
      "15316/15316 [==============================] - 0s 8us/step - loss: 158701888.5516\n",
      "Epoch 94/500\n",
      "15316/15316 [==============================] - 0s 8us/step - loss: 158111896.4638\n",
      "Epoch 95/500\n",
      "15316/15316 [==============================] - 0s 8us/step - loss: 156148286.4247\n",
      "Epoch 96/500\n",
      "15316/15316 [==============================] - 0s 8us/step - loss: 154662190.4205\n",
      "Epoch 97/500\n",
      "15316/15316 [==============================] - 0s 8us/step - loss: 153222355.4892\n",
      "Epoch 98/500\n",
      "15316/15316 [==============================] - 0s 8us/step - loss: 151393871.5111\n",
      "Epoch 99/500\n",
      "15316/15316 [==============================] - 0s 8us/step - loss: 149819414.5229\n",
      "Epoch 100/500\n",
      "15316/15316 [==============================] - 0s 8us/step - loss: 148582011.7545\n",
      "Epoch 101/500\n",
      "15316/15316 [==============================] - 0s 8us/step - loss: 147389091.1799\n",
      "Epoch 102/500\n",
      "15316/15316 [==============================] - 0s 8us/step - loss: 145558243.2196\n",
      "Epoch 103/500\n",
      "15316/15316 [==============================] - 0s 8us/step - loss: 144684943.2520\n",
      "Epoch 104/500\n",
      "15316/15316 [==============================] - 0s 8us/step - loss: 142739408.9026\n",
      "Epoch 105/500\n",
      "15316/15316 [==============================] - 0s 8us/step - loss: 141453747.4892\n",
      "Epoch 106/500\n",
      "15316/15316 [==============================] - 0s 8us/step - loss: 140184534.0528\n",
      "Epoch 107/500\n",
      "15316/15316 [==============================] - 0s 8us/step - loss: 138893535.4171\n",
      "Epoch 108/500\n",
      "15316/15316 [==============================] - 0s 8us/step - loss: 138276454.7819\n",
      "Epoch 109/500\n",
      "15316/15316 [==============================] - 0s 8us/step - loss: 136714499.3304\n",
      "Epoch 110/500\n",
      "15316/15316 [==============================] - 0s 8us/step - loss: 134785711.3774\n",
      "Epoch 111/500\n",
      "15316/15316 [==============================] - 0s 8us/step - loss: 133480695.6511\n",
      "Epoch 112/500\n",
      "15316/15316 [==============================] - 0s 8us/step - loss: 131691096.5955\n",
      "Epoch 113/500\n",
      "15316/15316 [==============================] - 0s 8us/step - loss: 131043030.3160\n",
      "Epoch 114/500\n",
      "15316/15316 [==============================] - 0s 8us/step - loss: 128479402.2335\n",
      "Epoch 115/500\n",
      "15316/15316 [==============================] - 0s 8us/step - loss: 125739146.4153\n",
      "Epoch 116/500\n",
      "15316/15316 [==============================] - 0s 8us/step - loss: 119771592.8378\n",
      "Epoch 117/500\n",
      "15316/15316 [==============================] - 0s 8us/step - loss: 115584860.1619A: 0s - loss: 120271061.037\n",
      "Epoch 118/500\n",
      "15316/15316 [==============================] - 0s 8us/step - loss: 113957009.9096\n",
      "Epoch 119/500\n",
      "15316/15316 [==============================] - 0s 8us/step - loss: 112734155.5247\n",
      "Epoch 120/500\n",
      "15316/15316 [==============================] - 0s 8us/step - loss: 111471310.8279\n",
      "Epoch 121/500\n",
      "15316/15316 [==============================] - 0s 8us/step - loss: 110487785.1888\n",
      "Epoch 122/500\n",
      "15316/15316 [==============================] - 0s 8us/step - loss: 108695362.2397\n",
      "Epoch 123/500\n",
      "15316/15316 [==============================] - 0s 8us/step - loss: 107631700.0909\n",
      "Epoch 124/500\n",
      "15316/15316 [==============================] - 0s 8us/step - loss: 106702705.1533\n",
      "Epoch 125/500\n",
      "15316/15316 [==============================] - 0s 8us/step - loss: 105199993.2808\n",
      "Epoch 126/500\n",
      "15316/15316 [==============================] - 0s 8us/step - loss: 103595363.9551\n",
      "Epoch 127/500\n",
      "15316/15316 [==============================] - 0s 8us/step - loss: 102317676.4210\n",
      "Epoch 128/500\n",
      "15316/15316 [==============================] - 0s 8us/step - loss: 101133884.4335\n",
      "Epoch 129/500\n",
      "15316/15316 [==============================] - 0s 9us/step - loss: 99042898.3881\n",
      "Epoch 130/500\n",
      "15316/15316 [==============================] - 0s 9us/step - loss: 97454557.0864\n",
      "Epoch 131/500\n",
      "15316/15316 [==============================] - 0s 8us/step - loss: 96696341.8626\n",
      "Epoch 132/500\n",
      "15316/15316 [==============================] - 0s 9us/step - loss: 95590464.4680\n",
      "Epoch 133/500\n",
      "15316/15316 [==============================] - 0s 9us/step - loss: 94463144.0773\n",
      "Epoch 134/500\n",
      "15316/15316 [==============================] - 0s 8us/step - loss: 93480709.5336\n",
      "Epoch 135/500\n",
      "15316/15316 [==============================] - 0s 8us/step - loss: 91967001.3225\n",
      "Epoch 136/500\n",
      "15316/15316 [==============================] - 0s 9us/step - loss: 91450942.4278\n",
      "Epoch 137/500\n",
      "15316/15316 [==============================] - 0s 8us/step - loss: 90707887.3262\n",
      "Epoch 138/500\n",
      "15316/15316 [==============================] - 0s 8us/step - loss: 89717839.7399\n",
      "Epoch 139/500\n",
      "15316/15316 [==============================] - 0s 8us/step - loss: 88443956.9141\n",
      "Epoch 140/500\n",
      "15316/15316 [==============================] - 0s 8us/step - loss: 88160839.0034\n",
      "Epoch 141/500\n",
      "15316/15316 [==============================] - 0s 8us/step - loss: 87153938.5573\n",
      "Epoch 142/500\n",
      "15316/15316 [==============================] - 0s 8us/step - loss: 85922104.9486\n",
      "Epoch 143/500\n",
      "15316/15316 [==============================] - 0s 9us/step - loss: 85241352.3082\n",
      "Epoch 144/500\n",
      "15316/15316 [==============================] - 0s 9us/step - loss: 83889169.3695\n",
      "Epoch 145/500\n",
      "15316/15316 [==============================] - 0s 9us/step - loss: 83310767.3920\n",
      "Epoch 146/500\n",
      "15316/15316 [==============================] - 0s 9us/step - loss: 82096532.9872\n",
      "Epoch 147/500\n",
      "15316/15316 [==============================] - 0s 9us/step - loss: 81780280.1504\n",
      "Epoch 148/500\n",
      "15316/15316 [==============================] - 0s 9us/step - loss: 80256145.8992\n",
      "Epoch 149/500\n",
      "15316/15316 [==============================] - 0s 9us/step - loss: 80106971.7712\n",
      "Epoch 150/500\n",
      "15316/15316 [==============================] - 0s 9us/step - loss: 78438440.5411\n",
      "Epoch 151/500\n",
      "15316/15316 [==============================] - 0s 8us/step - loss: 77844523.8120\n",
      "Epoch 152/500\n",
      "15316/15316 [==============================] - 0s 9us/step - loss: 77456313.8804\n",
      "Epoch 153/500\n",
      "15316/15316 [==============================] - 0s 8us/step - loss: 76971367.1664\n",
      "Epoch 154/500\n",
      "15316/15316 [==============================] - 0s 9us/step - loss: 75531669.0593\n",
      "Epoch 155/500\n",
      "15316/15316 [==============================] - 0s 8us/step - loss: 75376572.3729\n",
      "Epoch 156/500\n",
      "15316/15316 [==============================] - 0s 8us/step - loss: 74407921.2327\n",
      "Epoch 157/500\n",
      "15316/15316 [==============================] - 0s 8us/step - loss: 73718845.9086\n",
      "Epoch 158/500\n",
      "15316/15316 [==============================] - 0s 8us/step - loss: 72918406.5782\n",
      "Epoch 159/500\n",
      "15316/15316 [==============================] - 0s 8us/step - loss: 72304334.3066\n",
      "Epoch 160/500\n",
      "15316/15316 [==============================] - 0s 8us/step - loss: 71638292.1807\n",
      "Epoch 161/500\n",
      "15316/15316 [==============================] - 0s 9us/step - loss: 71239523.8360\n",
      "Epoch 162/500\n",
      "15316/15316 [==============================] - 0s 9us/step - loss: 70291328.7730\n",
      "Epoch 163/500\n",
      "15316/15316 [==============================] - 0s 8us/step - loss: 69955491.1235\n",
      "Epoch 164/500\n",
      "15316/15316 [==============================] - 0s 8us/step - loss: 69511782.6858\n",
      "Epoch 165/500\n",
      "15316/15316 [==============================] - 0s 8us/step - loss: 68106975.9634\n",
      "Epoch 166/500\n",
      "15316/15316 [==============================] - 0s 10us/step - loss: 68489928.0303\n",
      "Epoch 167/500\n",
      "15316/15316 [==============================] - 0s 9us/step - loss: 66964116.0460\n",
      "Epoch 168/500\n",
      "15316/15316 [==============================] - 0s 8us/step - loss: 66941551.8151\n",
      "Epoch 169/500\n",
      "15316/15316 [==============================] - 0s 9us/step - loss: 66010704.6205\n",
      "Epoch 170/500\n",
      "15316/15316 [==============================] - 0s 9us/step - loss: 65447940.5934\n",
      "Epoch 171/500\n",
      "15316/15316 [==============================] - 0s 9us/step - loss: 64405007.6574\n",
      "Epoch 172/500\n"
     ]
    },
    {
     "name": "stdout",
     "output_type": "stream",
     "text": [
      "15316/15316 [==============================] - 0s 9us/step - loss: 64025967.1225\n",
      "Epoch 173/500\n",
      "15316/15316 [==============================] - 0s 8us/step - loss: 63948215.3481\n",
      "Epoch 174/500\n",
      "15316/15316 [==============================] - 0s 8us/step - loss: 62864161.1826\n",
      "Epoch 175/500\n",
      "15316/15316 [==============================] - 0s 9us/step - loss: 62166903.5362\n",
      "Epoch 176/500\n",
      "15316/15316 [==============================] - 0s 9us/step - loss: 63244195.2280\n",
      "Epoch 177/500\n",
      "15316/15316 [==============================] - 0s 8us/step - loss: 61532413.3967\n",
      "Epoch 178/500\n",
      "15316/15316 [==============================] - 0s 8us/step - loss: 62004354.0131\n",
      "Epoch 179/500\n",
      "15316/15316 [==============================] - 0s 8us/step - loss: 60420942.8707\n",
      "Epoch 180/500\n",
      "15316/15316 [==============================] - 0s 8us/step - loss: 60240042.4811\n",
      "Epoch 181/500\n",
      "15316/15316 [==============================] - 0s 8us/step - loss: 60371809.8417\n",
      "Epoch 182/500\n",
      "15316/15316 [==============================] - 0s 8us/step - loss: 59691329.9890\n",
      "Epoch 183/500\n",
      "15316/15316 [==============================] - 0s 8us/step - loss: 59890331.6970\n",
      "Epoch 184/500\n",
      "15316/15316 [==============================] - 0s 8us/step - loss: 57953311.5989\n",
      "Epoch 185/500\n",
      "15316/15316 [==============================] - 0s 8us/step - loss: 57739863.5529\n",
      "Epoch 186/500\n",
      "15316/15316 [==============================] - 0s 8us/step - loss: 57483694.5908\n",
      "Epoch 187/500\n",
      "15316/15316 [==============================] - 0s 9us/step - loss: 56987819.0609\n",
      "Epoch 188/500\n",
      "15316/15316 [==============================] - 0s 9us/step - loss: 56968306.7579\n",
      "Epoch 189/500\n",
      "15316/15316 [==============================] - 0s 9us/step - loss: 55885910.5855\n",
      "Epoch 190/500\n",
      "15316/15316 [==============================] - 0s 9us/step - loss: 55779092.3604\n",
      "Epoch 191/500\n",
      "15316/15316 [==============================] - 0s 9us/step - loss: 57420140.4168\n",
      "Epoch 192/500\n",
      "15316/15316 [==============================] - 0s 9us/step - loss: 54869791.1308\n",
      "Epoch 193/500\n",
      "15316/15316 [==============================] - 0s 8us/step - loss: 54417950.1729\n",
      "Epoch 194/500\n",
      "15316/15316 [==============================] - 0s 8us/step - loss: 54466827.6406\n",
      "Epoch 195/500\n",
      "15316/15316 [==============================] - 0s 8us/step - loss: 53647913.9326\n",
      "Epoch 196/500\n",
      "15316/15316 [==============================] - 0s 8us/step - loss: 53194434.3317\n",
      "Epoch 197/500\n",
      "15316/15316 [==============================] - 0s 8us/step - loss: 52881502.0831\n",
      "Epoch 198/500\n",
      "15316/15316 [==============================] - 0s 8us/step - loss: 52947901.0457\n",
      "Epoch 199/500\n",
      "15316/15316 [==============================] - 0s 8us/step - loss: 52649384.9966\n",
      "Epoch 200/500\n",
      "15316/15316 [==============================] - 0s 8us/step - loss: 52588124.3541\n",
      "Epoch 201/500\n",
      "15316/15316 [==============================] - 0s 8us/step - loss: 51837598.7631\n",
      "Epoch 202/500\n",
      "15316/15316 [==============================] - 0s 8us/step - loss: 51355526.6816\n",
      "Epoch 203/500\n",
      "15316/15316 [==============================] - 0s 9us/step - loss: 50857846.1948\n",
      "Epoch 204/500\n",
      "15316/15316 [==============================] - 0s 8us/step - loss: 50084004.6843\n",
      "Epoch 205/500\n",
      "15316/15316 [==============================] - 0s 8us/step - loss: 50103718.9679\n",
      "Epoch 206/500\n",
      "15316/15316 [==============================] - 0s 8us/step - loss: 49867704.5735\n",
      "Epoch 207/500\n",
      "15316/15316 [==============================] - 0s 9us/step - loss: 49622960.7730\n",
      "Epoch 208/500\n",
      "15316/15316 [==============================] - 0s 9us/step - loss: 49355186.8540\n",
      "Epoch 209/500\n",
      "15316/15316 [==============================] - 0s 8us/step - loss: 48805152.1828\n",
      "Epoch 210/500\n",
      "15316/15316 [==============================] - 0s 8us/step - loss: 48550698.7600\n",
      "Epoch 211/500\n",
      "15316/15316 [==============================] - 0s 9us/step - loss: 48265936.7814\n",
      "Epoch 212/500\n",
      "15316/15316 [==============================] - 0s 8us/step - loss: 48307355.1507\n",
      "Epoch 213/500\n",
      "15316/15316 [==============================] - 0s 8us/step - loss: 47298716.2006\n",
      "Epoch 214/500\n",
      "15316/15316 [==============================] - 0s 8us/step - loss: 47395127.6626\n",
      "Epoch 215/500\n",
      "15316/15316 [==============================] - 0s 8us/step - loss: 47262906.4602\n",
      "Epoch 216/500\n",
      "15316/15316 [==============================] - 0s 9us/step - loss: 46604399.7733\n",
      "Epoch 217/500\n",
      "15316/15316 [==============================] - 0s 9us/step - loss: 46569765.9901\n",
      "Epoch 218/500\n",
      "15316/15316 [==============================] - 0s 9us/step - loss: 47273015.4610\n",
      "Epoch 219/500\n",
      "15316/15316 [==============================] - 0s 9us/step - loss: 45447768.5819\n",
      "Epoch 220/500\n",
      "15316/15316 [==============================] - 0s 9us/step - loss: 45516402.1677\n",
      "Epoch 221/500\n",
      "15316/15316 [==============================] - 0s 9us/step - loss: 44898590.3265\n",
      "Epoch 222/500\n",
      "15316/15316 [==============================] - 0s 9us/step - loss: 44748390.8227\n",
      "Epoch 223/500\n",
      "15316/15316 [==============================] - 0s 9us/step - loss: 44499744.9799\n",
      "Epoch 224/500\n",
      "15316/15316 [==============================] - 0s 9us/step - loss: 44247084.3400\n",
      "Epoch 225/500\n",
      "15316/15316 [==============================] - 0s 8us/step - loss: 44341371.3356\n",
      "Epoch 226/500\n",
      "15316/15316 [==============================] - 0s 8us/step - loss: 43799137.3069\n",
      "Epoch 227/500\n",
      "15316/15316 [==============================] - 0s 9us/step - loss: 43713936.7908\n",
      "Epoch 228/500\n",
      "15316/15316 [==============================] - 0s 9us/step - loss: 43222571.7587\n",
      "Epoch 229/500\n",
      "15316/15316 [==============================] - 0s 8us/step - loss: 43037096.0585\n",
      "Epoch 230/500\n",
      "15316/15316 [==============================] - 0s 8us/step - loss: 44350490.7213\n",
      "Epoch 231/500\n",
      "15316/15316 [==============================] - 0s 8us/step - loss: 44895592.5756\n",
      "Epoch 232/500\n",
      "15316/15316 [==============================] - 0s 9us/step - loss: 42852871.8282\n",
      "Epoch 233/500\n",
      "15316/15316 [==============================] - 0s 9us/step - loss: 42013393.7545\n",
      "Epoch 234/500\n",
      "15316/15316 [==============================] - 0s 8us/step - loss: 41702804.0439\n",
      "Epoch 235/500\n",
      "15316/15316 [==============================] - 0s 9us/step - loss: 42283867.2614\n",
      "Epoch 236/500\n",
      "15316/15316 [==============================] - 0s 8us/step - loss: 41780039.2384\n",
      "Epoch 237/500\n",
      "15316/15316 [==============================] - 0s 8us/step - loss: 41194384.3615\n",
      "Epoch 238/500\n",
      "15316/15316 [==============================] - 0s 9us/step - loss: 41256361.7394\n",
      "Epoch 239/500\n",
      "15316/15316 [==============================] - 0s 9us/step - loss: 40948684.0167\n",
      "Epoch 240/500\n",
      "15316/15316 [==============================] - 0s 8us/step - loss: 39969797.6568\n",
      "Epoch 241/500\n",
      "15316/15316 [==============================] - 0s 8us/step - loss: 40106137.0676\n",
      "Epoch 242/500\n",
      "15316/15316 [==============================] - 0s 8us/step - loss: 39915364.8399\n",
      "Epoch 243/500\n",
      "15316/15316 [==============================] - 0s 9us/step - loss: 40261821.9812\n",
      "Epoch 244/500\n",
      "15316/15316 [==============================] - 0s 9us/step - loss: 39470888.0919\n",
      "Epoch 245/500\n",
      "15316/15316 [==============================] - 0s 8us/step - loss: 40348674.5876\n",
      "Epoch 246/500\n",
      "15316/15316 [==============================] - 0s 9us/step - loss: 39105611.1726\n",
      "Epoch 247/500\n",
      "15316/15316 [==============================] - 0s 9us/step - loss: 39015126.6148\n",
      "Epoch 248/500\n",
      "15316/15316 [==============================] - 0s 8us/step - loss: 38626785.6678\n",
      "Epoch 249/500\n",
      "15316/15316 [==============================] - 0s 8us/step - loss: 38582030.7433\n",
      "Epoch 250/500\n",
      "15316/15316 [==============================] - 0s 9us/step - loss: 39736018.4999\n",
      "Epoch 251/500\n",
      "15316/15316 [==============================] - 0s 9us/step - loss: 38790913.1282\n",
      "Epoch 252/500\n",
      "15316/15316 [==============================] - 0s 9us/step - loss: 38123635.0535\n",
      "Epoch 253/500\n",
      "15316/15316 [==============================] - 0s 8us/step - loss: 37725185.2160\n",
      "Epoch 254/500\n",
      "15316/15316 [==============================] - 0s 9us/step - loss: 37887372.7647\n",
      "Epoch 255/500\n",
      "15316/15316 [==============================] - 0s 9us/step - loss: 37851318.6399\n",
      "Epoch 256/500\n",
      "15316/15316 [==============================] - 0s 9us/step - loss: 37595129.8344\n",
      "Epoch 257/500\n",
      "15316/15316 [==============================] - 0s 9us/step - loss: 36920595.8746\n",
      "Epoch 258/500\n"
     ]
    },
    {
     "name": "stdout",
     "output_type": "stream",
     "text": [
      "15316/15316 [==============================] - 0s 8us/step - loss: 37008212.1295\n",
      "Epoch 259/500\n",
      "15316/15316 [==============================] - 0s 8us/step - loss: 36760651.2536\n",
      "Epoch 260/500\n",
      "15316/15316 [==============================] - 0s 8us/step - loss: 36458041.4432\n",
      "Epoch 261/500\n",
      "15316/15316 [==============================] - 0s 9us/step - loss: 36034521.4808\n",
      "Epoch 262/500\n",
      "15316/15316 [==============================] - 0s 8us/step - loss: 36391809.9044\n",
      "Epoch 263/500\n",
      "15316/15316 [==============================] - 0s 9us/step - loss: 36708604.0251\n",
      "Epoch 264/500\n",
      "15316/15316 [==============================] - 0s 8us/step - loss: 36740902.1259\n",
      "Epoch 265/500\n",
      "15316/15316 [==============================] - 0s 8us/step - loss: 36545612.0000\n",
      "Epoch 266/500\n",
      "15316/15316 [==============================] - 0s 9us/step - loss: 35881836.6968\n",
      "Epoch 267/500\n",
      "15316/15316 [==============================] - 0s 8us/step - loss: 35775668.2100\n",
      "Epoch 268/500\n",
      "15316/15316 [==============================] - 0s 8us/step - loss: 35704819.7430: 0s - loss: 34963552.\n",
      "Epoch 269/500\n",
      "15316/15316 [==============================] - 0s 9us/step - loss: 35465911.7294\n",
      "Epoch 270/500\n",
      "15316/15316 [==============================] - 0s 9us/step - loss: 35020661.0990\n",
      "Epoch 271/500\n",
      "15316/15316 [==============================] - 0s 8us/step - loss: 34801299.2881\n",
      "Epoch 272/500\n",
      "15316/15316 [==============================] - 0s 9us/step - loss: 34832364.3301\n",
      "Epoch 273/500\n",
      "15316/15316 [==============================] - 0s 8us/step - loss: 34360808.6372\n",
      "Epoch 274/500\n",
      "15316/15316 [==============================] - 0s 9us/step - loss: 34310633.1523\n",
      "Epoch 275/500\n",
      "15316/15316 [==============================] - 0s 9us/step - loss: 34878720.7375\n",
      "Epoch 276/500\n",
      "15316/15316 [==============================] - 0s 9us/step - loss: 33987286.0063\n",
      "Epoch 277/500\n",
      "15316/15316 [==============================] - 0s 9us/step - loss: 34365792.3970\n",
      "Epoch 278/500\n",
      "15316/15316 [==============================] - 0s 8us/step - loss: 34355287.3063\n",
      "Epoch 279/500\n",
      "15316/15316 [==============================] - 0s 9us/step - loss: 34212025.0781\n",
      "Epoch 280/500\n",
      "15316/15316 [==============================] - 0s 8us/step - loss: 33610714.5072\n",
      "Epoch 281/500\n",
      "15316/15316 [==============================] - 0s 9us/step - loss: 33692290.2293\n",
      "Epoch 282/500\n",
      "15316/15316 [==============================] - 0s 9us/step - loss: 33503042.1755\n",
      "Epoch 283/500\n",
      "15316/15316 [==============================] - 0s 9us/step - loss: 33564695.9227\n",
      "Epoch 284/500\n",
      "15316/15316 [==============================] - 0s 9us/step - loss: 33536886.7166\n",
      "Epoch 285/500\n",
      "15316/15316 [==============================] - 0s 9us/step - loss: 33298799.5163\n",
      "Epoch 286/500\n",
      "15316/15316 [==============================] - 0s 9us/step - loss: 32967535.0514\n",
      "Epoch 287/500\n",
      "15316/15316 [==============================] - 0s 9us/step - loss: 33112770.8519\n",
      "Epoch 288/500\n",
      "15316/15316 [==============================] - 0s 9us/step - loss: 32939591.6427\n",
      "Epoch 289/500\n",
      "15316/15316 [==============================] - 0s 9us/step - loss: 32966081.8992\n",
      "Epoch 290/500\n",
      "15316/15316 [==============================] - 0s 8us/step - loss: 34551478.4999\n",
      "Epoch 291/500\n",
      "15316/15316 [==============================] - 0s 9us/step - loss: 32746097.9227\n",
      "Epoch 292/500\n",
      "15316/15316 [==============================] - 0s 8us/step - loss: 32065338.0037\n",
      "Epoch 293/500\n",
      "15316/15316 [==============================] - 0s 8us/step - loss: 31976807.5309\n",
      "Epoch 294/500\n",
      "15316/15316 [==============================] - 0s 9us/step - loss: 32076114.1604\n",
      "Epoch 295/500\n",
      "15316/15316 [==============================] - 0s 9us/step - loss: 32164197.8548\n",
      "Epoch 296/500\n",
      "15316/15316 [==============================] - 0s 9us/step - loss: 31733336.9929\n",
      "Epoch 297/500\n",
      "15316/15316 [==============================] - 0s 9us/step - loss: 31832214.5197\n",
      "Epoch 298/500\n",
      "15316/15316 [==============================] - 0s 8us/step - loss: 32215086.7527\n",
      "Epoch 299/500\n",
      "15316/15316 [==============================] - 0s 8us/step - loss: 31803853.3131\n",
      "Epoch 300/500\n",
      "15316/15316 [==============================] - 0s 8us/step - loss: 31366578.3406\n",
      "Epoch 301/500\n",
      "15316/15316 [==============================] - 0s 8us/step - loss: 31586815.2442\n",
      "Epoch 302/500\n",
      "15316/15316 [==============================] - 0s 9us/step - loss: 31733330.4926\n",
      "Epoch 303/500\n",
      "15316/15316 [==============================] - 0s 9us/step - loss: 31889866.1175\n",
      "Epoch 304/500\n",
      "15316/15316 [==============================] - 0s 8us/step - loss: 31215404.3066\n",
      "Epoch 305/500\n",
      "15316/15316 [==============================] - 0s 9us/step - loss: 30965413.4646\n",
      "Epoch 306/500\n",
      "15316/15316 [==============================] - 0s 8us/step - loss: 30852190.6728\n",
      "Epoch 307/500\n",
      "15316/15316 [==============================] - 0s 8us/step - loss: 30627183.9802\n",
      "Epoch 308/500\n",
      "15316/15316 [==============================] - 0s 8us/step - loss: 30604766.9929\n",
      "Epoch 309/500\n",
      "15316/15316 [==============================] - 0s 9us/step - loss: 30404663.4970\n",
      "Epoch 310/500\n",
      "15316/15316 [==============================] - 0s 8us/step - loss: 30593134.3129\n",
      "Epoch 311/500\n",
      "15316/15316 [==============================] - 0s 8us/step - loss: 30124306.5385\n",
      "Epoch 312/500\n",
      "15316/15316 [==============================] - 0s 9us/step - loss: 30175619.0650\n",
      "Epoch 313/500\n",
      "15316/15316 [==============================] - 0s 8us/step - loss: 30307758.1729\n",
      "Epoch 314/500\n",
      "15316/15316 [==============================] - 0s 9us/step - loss: 29860827.2426\n",
      "Epoch 315/500\n",
      "15316/15316 [==============================] - 0s 9us/step - loss: 29658724.8759\n",
      "Epoch 316/500\n",
      "15316/15316 [==============================] - 0s 8us/step - loss: 29949292.9402\n",
      "Epoch 317/500\n",
      "15316/15316 [==============================] - 0s 8us/step - loss: 31181647.7127\n",
      "Epoch 318/500\n",
      "15316/15316 [==============================] - 0s 8us/step - loss: 30529213.0024\n",
      "Epoch 319/500\n",
      "15316/15316 [==============================] - 0s 9us/step - loss: 31015337.8961\n",
      "Epoch 320/500\n",
      "15316/15316 [==============================] - 0s 8us/step - loss: 30342117.6892\n",
      "Epoch 321/500\n",
      "15316/15316 [==============================] - 0s 9us/step - loss: 29833598.2178\n",
      "Epoch 322/500\n",
      "15316/15316 [==============================] - 0s 8us/step - loss: 28944421.5320\n",
      "Epoch 323/500\n",
      "15316/15316 [==============================] - 0s 9us/step - loss: 29151313.8114\n",
      "Epoch 324/500\n",
      "15316/15316 [==============================] - 0s 8us/step - loss: 28721430.8592\n",
      "Epoch 325/500\n",
      "15316/15316 [==============================] - 0s 8us/step - loss: 28749394.4403\n",
      "Epoch 326/500\n",
      "15316/15316 [==============================] - 0s 8us/step - loss: 28640081.4437\n",
      "Epoch 327/500\n",
      "15316/15316 [==============================] - 0s 9us/step - loss: 28713142.0068\n",
      "Epoch 328/500\n",
      "15316/15316 [==============================] - 0s 9us/step - loss: 28602038.8488\n",
      "Epoch 329/500\n",
      "15316/15316 [==============================] - 0s 9us/step - loss: 28621252.6331\n",
      "Epoch 330/500\n",
      "15316/15316 [==============================] - 0s 9us/step - loss: 29198905.3648\n",
      "Epoch 331/500\n",
      "15316/15316 [==============================] - 0s 9us/step - loss: 28626775.4476\n",
      "Epoch 332/500\n",
      "15316/15316 [==============================] - 0s 9us/step - loss: 28632329.6333\n",
      "Epoch 333/500\n",
      "15316/15316 [==============================] - 0s 8us/step - loss: 29106756.0580\n",
      "Epoch 334/500\n",
      "15316/15316 [==============================] - 0s 8us/step - loss: 28218214.4508\n",
      "Epoch 335/500\n",
      "15316/15316 [==============================] - 0s 8us/step - loss: 28092553.4171\n",
      "Epoch 336/500\n",
      "15316/15316 [==============================] - 0s 9us/step - loss: 27936355.0311\n",
      "Epoch 337/500\n",
      "15316/15316 [==============================] - 0s 9us/step - loss: 27729091.0703\n",
      "Epoch 338/500\n",
      "15316/15316 [==============================] - 0s 9us/step - loss: 27668126.3322\n",
      "Epoch 339/500\n",
      "15316/15316 [==============================] - 0s 9us/step - loss: 27802682.9726\n",
      "Epoch 340/500\n",
      "15316/15316 [==============================] - 0s 8us/step - loss: 27704804.0157\n",
      "Epoch 341/500\n",
      "15316/15316 [==============================] - 0s 9us/step - loss: 27372166.9125\n",
      "Epoch 342/500\n",
      "15316/15316 [==============================] - 0s 9us/step - loss: 27243497.4489\n",
      "Epoch 343/500\n",
      "15316/15316 [==============================] - 0s 9us/step - loss: 27157165.4087\n",
      "Epoch 344/500\n"
     ]
    },
    {
     "name": "stdout",
     "output_type": "stream",
     "text": [
      "15316/15316 [==============================] - 0s 8us/step - loss: 27027781.3163\n",
      "Epoch 345/500\n",
      "15316/15316 [==============================] - 0s 8us/step - loss: 26885751.9013\n",
      "Epoch 346/500\n",
      "15316/15316 [==============================] - 0s 8us/step - loss: 27173000.1520\n",
      "Epoch 347/500\n",
      "15316/15316 [==============================] - 0s 9us/step - loss: 26856139.1011\n",
      "Epoch 348/500\n",
      "15316/15316 [==============================] - 0s 8us/step - loss: 26671743.1559\n",
      "Epoch 349/500\n",
      "15316/15316 [==============================] - 0s 9us/step - loss: 26803963.3351\n",
      "Epoch 350/500\n",
      "15316/15316 [==============================] - 0s 9us/step - loss: 26792839.9185\n",
      "Epoch 351/500\n",
      "15316/15316 [==============================] - 0s 9us/step - loss: 26710640.3181\n",
      "Epoch 352/500\n",
      "15316/15316 [==============================] - 0s 9us/step - loss: 26619829.2358\n",
      "Epoch 353/500\n",
      "15316/15316 [==============================] - 0s 9us/step - loss: 26707770.2173\n",
      "Epoch 354/500\n",
      "15316/15316 [==============================] - 0s 9us/step - loss: 27068735.9436\n",
      "Epoch 355/500\n",
      "15316/15316 [==============================] - 0s 9us/step - loss: 27077711.3534\n",
      "Epoch 356/500\n",
      "15316/15316 [==============================] - 0s 9us/step - loss: 26877414.0005\n",
      "Epoch 357/500\n",
      "15316/15316 [==============================] - 0s 9us/step - loss: 26859874.3259\n",
      "Epoch 358/500\n",
      "15316/15316 [==============================] - 0s 9us/step - loss: 27072574.1269\n",
      "Epoch 359/500\n",
      "15316/15316 [==============================] - 0s 9us/step - loss: 26918576.5516\n",
      "Epoch 360/500\n",
      "15316/15316 [==============================] - 0s 9us/step - loss: 27188651.6177\n",
      "Epoch 361/500\n",
      "15316/15316 [==============================] - 0s 9us/step - loss: 26223979.3090\n",
      "Epoch 362/500\n",
      "15316/15316 [==============================] - 0s 9us/step - loss: 25929951.1517\n",
      "Epoch 363/500\n",
      "15316/15316 [==============================] - 0s 9us/step - loss: 25905182.0820\n",
      "Epoch 364/500\n",
      "15316/15316 [==============================] - 0s 9us/step - loss: 25611186.6466\n",
      "Epoch 365/500\n",
      "15316/15316 [==============================] - 0s 9us/step - loss: 25999173.6579\n",
      "Epoch 366/500\n",
      "15316/15316 [==============================] - 0s 9us/step - loss: 25741902.3087\n",
      "Epoch 367/500\n",
      "15316/15316 [==============================] - 0s 9us/step - loss: 26393852.7307\n",
      "Epoch 368/500\n",
      "15316/15316 [==============================] - 0s 9us/step - loss: 25718106.4999\n",
      "Epoch 369/500\n",
      "15316/15316 [==============================] - 0s 9us/step - loss: 25382111.4766\n",
      "Epoch 370/500\n",
      "15316/15316 [==============================] - 0s 9us/step - loss: 25431609.0812\n",
      "Epoch 371/500\n",
      "15316/15316 [==============================] - 0s 9us/step - loss: 26040899.2729\n",
      "Epoch 372/500\n",
      "15316/15316 [==============================] - 0s 9us/step - loss: 25560562.7480: 0s - loss: 25798776.76\n",
      "Epoch 373/500\n",
      "15316/15316 [==============================] - 0s 9us/step - loss: 25766907.1632\n",
      "Epoch 374/500\n",
      "15316/15316 [==============================] - 0s 9us/step - loss: 25368768.3186\n",
      "Epoch 375/500\n",
      "15316/15316 [==============================] - 0s 9us/step - loss: 27458314.6080\n",
      "Epoch 376/500\n",
      "15316/15316 [==============================] - 0s 9us/step - loss: 26592604.8874\n",
      "Epoch 377/500\n",
      "15316/15316 [==============================] - 0s 9us/step - loss: 25942554.3395\n",
      "Epoch 378/500\n",
      "15316/15316 [==============================] - 0s 9us/step - loss: 24816812.3275\n",
      "Epoch 379/500\n",
      "15316/15316 [==============================] - 0s 9us/step - loss: 24716223.3539\n",
      "Epoch 380/500\n",
      "15316/15316 [==============================] - 0s 9us/step - loss: 24859573.9478\n",
      "Epoch 381/500\n",
      "15316/15316 [==============================] - 0s 9us/step - loss: 26113559.8950\n",
      "Epoch 382/500\n",
      "15316/15316 [==============================] - 0s 9us/step - loss: 26481927.7253\n",
      "Epoch 383/500\n",
      "15316/15316 [==============================] - 0s 9us/step - loss: 24942785.7963\n",
      "Epoch 384/500\n",
      "15316/15316 [==============================] - 0s 9us/step - loss: 24726988.1985\n",
      "Epoch 385/500\n",
      "15316/15316 [==============================] - 0s 9us/step - loss: 25163972.5652\n",
      "Epoch 386/500\n",
      "15316/15316 [==============================] - 0s 9us/step - loss: 24530206.3134\n",
      "Epoch 387/500\n",
      "15316/15316 [==============================] - 0s 9us/step - loss: 24120845.0849\n",
      "Epoch 388/500\n",
      "15316/15316 [==============================] - 0s 9us/step - loss: 24086009.7926\n",
      "Epoch 389/500\n",
      "15316/15316 [==============================] - 0s 9us/step - loss: 24233103.0577\n",
      "Epoch 390/500\n",
      "15316/15316 [==============================] - 0s 9us/step - loss: 24253176.6738\n",
      "Epoch 391/500\n",
      "15316/15316 [==============================] - 0s 9us/step - loss: 23993672.3761\n",
      "Epoch 392/500\n",
      "15316/15316 [==============================] - 0s 9us/step - loss: 23763438.3588\n",
      "Epoch 393/500\n",
      "15316/15316 [==============================] - 0s 9us/step - loss: 24013221.7012\n",
      "Epoch 394/500\n",
      "15316/15316 [==============================] - 0s 9us/step - loss: 23813954.2262\n",
      "Epoch 395/500\n",
      "15316/15316 [==============================] - 0s 9us/step - loss: 23623574.1463\n",
      "Epoch 396/500\n",
      "15316/15316 [==============================] - 0s 9us/step - loss: 23743342.6252\n",
      "Epoch 397/500\n",
      "15316/15316 [==============================] - 0s 9us/step - loss: 24179220.7417\n",
      "Epoch 398/500\n",
      "15316/15316 [==============================] - 0s 9us/step - loss: 23735971.7811\n",
      "Epoch 399/500\n",
      "15316/15316 [==============================] - 0s 9us/step - loss: 23432869.6715\n",
      "Epoch 400/500\n",
      "15316/15316 [==============================] - 0s 9us/step - loss: 23506274.9501\n",
      "Epoch 401/500\n",
      "15316/15316 [==============================] - 0s 9us/step - loss: 23409906.3061\n",
      "Epoch 402/500\n",
      "15316/15316 [==============================] - 0s 9us/step - loss: 23217408.8143\n",
      "Epoch 403/500\n",
      "15316/15316 [==============================] - 0s 9us/step - loss: 23282660.5928\n",
      "Epoch 404/500\n",
      "15316/15316 [==============================] - 0s 9us/step - loss: 23181380.2747\n",
      "Epoch 405/500\n",
      "15316/15316 [==============================] - 0s 8us/step - loss: 23073415.2452\n",
      "Epoch 406/500\n",
      "15316/15316 [==============================] - 0s 9us/step - loss: 23256941.5680\n",
      "Epoch 407/500\n",
      "15316/15316 [==============================] - 0s 9us/step - loss: 23056244.2774\n",
      "Epoch 408/500\n",
      "15316/15316 [==============================] - 0s 9us/step - loss: 23143699.7885\n",
      "Epoch 409/500\n",
      "15316/15316 [==============================] - 0s 9us/step - loss: 22967178.8232\n",
      "Epoch 410/500\n",
      "15316/15316 [==============================] - 0s 8us/step - loss: 22902310.3348\n",
      "Epoch 411/500\n",
      "15316/15316 [==============================] - 0s 9us/step - loss: 22894348.1948\n",
      "Epoch 412/500\n",
      "15316/15316 [==============================] - 0s 8us/step - loss: 22889220.4032\n",
      "Epoch 413/500\n",
      "15316/15316 [==============================] - 0s 8us/step - loss: 23718141.8658\n",
      "Epoch 414/500\n",
      "15316/15316 [==============================] - 0s 8us/step - loss: 24749081.1387\n",
      "Epoch 415/500\n",
      "15316/15316 [==============================] - 0s 9us/step - loss: 24291738.1624\n",
      "Epoch 416/500\n",
      "15316/15316 [==============================] - 0s 9us/step - loss: 23434702.7856\n",
      "Epoch 417/500\n",
      "15316/15316 [==============================] - 0s 9us/step - loss: 23306273.5706\n",
      "Epoch 418/500\n",
      "15316/15316 [==============================] - 0s 9us/step - loss: 26257495.0274\n",
      "Epoch 419/500\n",
      "15316/15316 [==============================] - 0s 9us/step - loss: 25193915.4087\n",
      "Epoch 420/500\n",
      "15316/15316 [==============================] - 0s 8us/step - loss: 23018747.2661\n",
      "Epoch 421/500\n",
      "15316/15316 [==============================] - 0s 9us/step - loss: 22262853.0692\n",
      "Epoch 422/500\n",
      "15316/15316 [==============================] - 0s 8us/step - loss: 22146082.5814\n",
      "Epoch 423/500\n",
      "15316/15316 [==============================] - 0s 9us/step - loss: 21930669.2343\n",
      "Epoch 424/500\n",
      "15316/15316 [==============================] - 0s 8us/step - loss: 21899701.6960\n",
      "Epoch 425/500\n",
      "15316/15316 [==============================] - 0s 8us/step - loss: 21979303.7670\n",
      "Epoch 426/500\n",
      "15316/15316 [==============================] - 0s 9us/step - loss: 21909030.7344\n",
      "Epoch 427/500\n",
      "15316/15316 [==============================] - 0s 8us/step - loss: 22423623.8793\n",
      "Epoch 428/500\n",
      "15316/15316 [==============================] - 0s 9us/step - loss: 22378445.8856\n",
      "Epoch 429/500\n",
      "15316/15316 [==============================] - 0s 9us/step - loss: 22197238.5153\n",
      "Epoch 430/500\n"
     ]
    },
    {
     "name": "stdout",
     "output_type": "stream",
     "text": [
      "15316/15316 [==============================] - 0s 8us/step - loss: 22189199.9846\n",
      "Epoch 431/500\n",
      "15316/15316 [==============================] - 0s 8us/step - loss: 21951513.8180\n",
      "Epoch 432/500\n",
      "15316/15316 [==============================] - 0s 8us/step - loss: 21626985.5069\n",
      "Epoch 433/500\n",
      "15316/15316 [==============================] - 0s 8us/step - loss: 21837335.5628\n",
      "Epoch 434/500\n",
      "15316/15316 [==============================] - 0s 8us/step - loss: 21710839.5511\n",
      "Epoch 435/500\n",
      "15316/15316 [==============================] - 0s 8us/step - loss: 22363215.3220\n",
      "Epoch 436/500\n",
      "15316/15316 [==============================] - 0s 8us/step - loss: 21622023.6819\n",
      "Epoch 437/500\n",
      "15316/15316 [==============================] - 0s 8us/step - loss: 21441101.2823\n",
      "Epoch 438/500\n",
      "15316/15316 [==============================] - 0s 8us/step - loss: 21274060.1995\n",
      "Epoch 439/500\n",
      "15316/15316 [==============================] - 0s 8us/step - loss: 21480760.3382\n",
      "Epoch 440/500\n",
      "15316/15316 [==============================] - 0s 8us/step - loss: 21314572.1496\n",
      "Epoch 441/500\n",
      "15316/15316 [==============================] - 0s 8us/step - loss: 21283160.6122\n",
      "Epoch 442/500\n",
      "15316/15316 [==============================] - 0s 8us/step - loss: 21311867.1951\n",
      "Epoch 443/500\n",
      "15316/15316 [==============================] - 0s 8us/step - loss: 20996958.3160\n",
      "Epoch 444/500\n",
      "15316/15316 [==============================] - 0s 9us/step - loss: 20984700.9945\n",
      "Epoch 445/500\n",
      "15316/15316 [==============================] - 0s 9us/step - loss: 20818138.1995\n",
      "Epoch 446/500\n",
      "15316/15316 [==============================] - 0s 9us/step - loss: 20903920.3228\n",
      "Epoch 447/500\n",
      "15316/15316 [==============================] - 0s 8us/step - loss: 20769548.2241\n",
      "Epoch 448/500\n",
      "15316/15316 [==============================] - 0s 8us/step - loss: 20954158.2220\n",
      "Epoch 449/500\n",
      "15316/15316 [==============================] - 0s 8us/step - loss: 21977308.0044\n",
      "Epoch 450/500\n",
      "15316/15316 [==============================] - 0s 8us/step - loss: 22268050.8253\n",
      "Epoch 451/500\n",
      "15316/15316 [==============================] - 0s 9us/step - loss: 21366439.8292\n",
      "Epoch 452/500\n",
      "15316/15316 [==============================] - 0s 9us/step - loss: 21038890.0878\n",
      "Epoch 453/500\n",
      "15316/15316 [==============================] - 0s 9us/step - loss: 20708782.3583\n",
      "Epoch 454/500\n",
      "15316/15316 [==============================] - 0s 8us/step - loss: 21562169.5722\n",
      "Epoch 455/500\n",
      "15316/15316 [==============================] - 0s 8us/step - loss: 22566195.2949\n",
      "Epoch 456/500\n",
      "15316/15316 [==============================] - 0s 9us/step - loss: 21451396.1593\n",
      "Epoch 457/500\n",
      "15316/15316 [==============================] - 0s 8us/step - loss: 20659291.0185\n",
      "Epoch 458/500\n",
      "15316/15316 [==============================] - 0s 9us/step - loss: 20732694.9303\n",
      "Epoch 459/500\n",
      "15316/15316 [==============================] - 0s 9us/step - loss: 20184031.0739\n",
      "Epoch 460/500\n",
      "15316/15316 [==============================] - 0s 8us/step - loss: 20670278.1243\n",
      "Epoch 461/500\n",
      "15316/15316 [==============================] - 0s 9us/step - loss: 20497826.0893\n",
      "Epoch 462/500\n",
      "15316/15316 [==============================] - 0s 8us/step - loss: 20202687.7044\n",
      "Epoch 463/500\n",
      "15316/15316 [==============================] - 0s 8us/step - loss: 20328739.2061\n",
      "Epoch 464/500\n",
      "15316/15316 [==============================] - 0s 8us/step - loss: 20636605.2954\n",
      "Epoch 465/500\n",
      "15316/15316 [==============================] - 0s 8us/step - loss: 20570333.6192\n",
      "Epoch 466/500\n",
      "15316/15316 [==============================] - 0s 9us/step - loss: 20349745.6506\n",
      "Epoch 467/500\n",
      "15316/15316 [==============================] - 0s 8us/step - loss: 20391057.8031\n",
      "Epoch 468/500\n",
      "15316/15316 [==============================] - 0s 8us/step - loss: 20683510.4450\n",
      "Epoch 469/500\n",
      "15316/15316 [==============================] - 0s 8us/step - loss: 20213892.8107\n",
      "Epoch 470/500\n",
      "15316/15316 [==============================] - 0s 9us/step - loss: 20016740.2105\n",
      "Epoch 471/500\n",
      "15316/15316 [==============================] - 0s 8us/step - loss: 19913788.6338\n",
      "Epoch 472/500\n",
      "15316/15316 [==============================] - 0s 9us/step - loss: 19868717.6782\n",
      "Epoch 473/500\n",
      "15316/15316 [==============================] - 0s 8us/step - loss: 19762122.1820\n",
      "Epoch 474/500\n",
      "15316/15316 [==============================] - 0s 9us/step - loss: 19934607.2562\n",
      "Epoch 475/500\n",
      "15316/15316 [==============================] - 0s 9us/step - loss: 19890375.6631\n",
      "Epoch 476/500\n",
      "15316/15316 [==============================] - 0s 8us/step - loss: 19565933.3513\n",
      "Epoch 477/500\n",
      "15316/15316 [==============================] - 0s 8us/step - loss: 19452574.8660\n",
      "Epoch 478/500\n",
      "15316/15316 [==============================] - 0s 8us/step - loss: 19320904.5229\n",
      "Epoch 479/500\n",
      "15316/15316 [==============================] - 0s 8us/step - loss: 19287089.9483\n",
      "Epoch 480/500\n",
      "15316/15316 [==============================] - 0s 9us/step - loss: 19291430.9663\n",
      "Epoch 481/500\n",
      "15316/15316 [==============================] - 0s 9us/step - loss: 19898459.3972\n",
      "Epoch 482/500\n",
      "15316/15316 [==============================] - 0s 9us/step - loss: 21004770.3171\n",
      "Epoch 483/500\n",
      "15316/15316 [==============================] - 0s 10us/step - loss: 19695534.3395\n",
      "Epoch 484/500\n",
      "15316/15316 [==============================] - 0s 9us/step - loss: 19235508.6500\n",
      "Epoch 485/500\n",
      "15316/15316 [==============================] - 0s 9us/step - loss: 19142960.3928\n",
      "Epoch 486/500\n",
      "15316/15316 [==============================] - 0s 9us/step - loss: 19461236.5610\n",
      "Epoch 487/500\n",
      "15316/15316 [==============================] - 0s 8us/step - loss: 19009093.4385\n",
      "Epoch 488/500\n",
      "15316/15316 [==============================] - 0s 9us/step - loss: 20310774.5359\n",
      "Epoch 489/500\n",
      "15316/15316 [==============================] - 0s 9us/step - loss: 19545970.6871\n",
      "Epoch 490/500\n",
      "15316/15316 [==============================] - 0s 9us/step - loss: 18986564.5140\n",
      "Epoch 491/500\n",
      "15316/15316 [==============================] - 0s 9us/step - loss: 18993799.7853\n",
      "Epoch 492/500\n",
      "15316/15316 [==============================] - 0s 8us/step - loss: 19025629.2259\n",
      "Epoch 493/500\n",
      "15316/15316 [==============================] - 0s 8us/step - loss: 19010514.0585\n",
      "Epoch 494/500\n",
      "15316/15316 [==============================] - 0s 9us/step - loss: 18819571.6485\n",
      "Epoch 495/500\n",
      "15316/15316 [==============================] - 0s 8us/step - loss: 18914205.1510\n",
      "Epoch 496/500\n",
      "15316/15316 [==============================] - 0s 9us/step - loss: 18797326.4283\n",
      "Epoch 497/500\n",
      "15316/15316 [==============================] - 0s 8us/step - loss: 18979784.5161\n",
      "Epoch 498/500\n",
      "15316/15316 [==============================] - 0s 8us/step - loss: 19289026.4022\n",
      "Epoch 499/500\n",
      "15316/15316 [==============================] - 0s 9us/step - loss: 19751316.0982\n",
      "Epoch 500/500\n",
      "15316/15316 [==============================] - 0s 9us/step - loss: 19776075.2178\n"
     ]
    }
   ],
   "source": [
    "hist = model.fit(train_prepared, labels, epochs=500,batch_size=512)"
   ]
  },
  {
   "cell_type": "code",
   "execution_count": null,
   "metadata": {},
   "outputs": [],
   "source": []
  },
  {
   "cell_type": "code",
   "execution_count": null,
   "metadata": {},
   "outputs": [],
   "source": []
  },
  {
   "cell_type": "code",
   "execution_count": null,
   "metadata": {},
   "outputs": [],
   "source": []
  },
  {
   "cell_type": "code",
   "execution_count": null,
   "metadata": {},
   "outputs": [],
   "source": []
  },
  {
   "cell_type": "code",
   "execution_count": null,
   "metadata": {},
   "outputs": [],
   "source": []
  },
  {
   "cell_type": "code",
   "execution_count": null,
   "metadata": {},
   "outputs": [],
   "source": []
  },
  {
   "cell_type": "code",
   "execution_count": null,
   "metadata": {},
   "outputs": [],
   "source": []
  },
  {
   "cell_type": "code",
   "execution_count": null,
   "metadata": {},
   "outputs": [],
   "source": []
  },
  {
   "cell_type": "code",
   "execution_count": null,
   "metadata": {},
   "outputs": [],
   "source": []
  },
  {
   "cell_type": "code",
   "execution_count": null,
   "metadata": {},
   "outputs": [],
   "source": []
  },
  {
   "cell_type": "code",
   "execution_count": null,
   "metadata": {},
   "outputs": [],
   "source": []
  },
  {
   "cell_type": "code",
   "execution_count": null,
   "metadata": {},
   "outputs": [],
   "source": []
  },
  {
   "cell_type": "code",
   "execution_count": null,
   "metadata": {},
   "outputs": [],
   "source": []
  },
  {
   "cell_type": "code",
   "execution_count": null,
   "metadata": {},
   "outputs": [],
   "source": []
  },
  {
   "cell_type": "code",
   "execution_count": null,
   "metadata": {},
   "outputs": [],
   "source": []
  },
  {
   "cell_type": "code",
   "execution_count": null,
   "metadata": {},
   "outputs": [],
   "source": []
  },
  {
   "cell_type": "code",
   "execution_count": null,
   "metadata": {},
   "outputs": [],
   "source": []
  },
  {
   "cell_type": "code",
   "execution_count": null,
   "metadata": {},
   "outputs": [],
   "source": []
  },
  {
   "cell_type": "code",
   "execution_count": null,
   "metadata": {},
   "outputs": [],
   "source": []
  },
  {
   "cell_type": "code",
   "execution_count": null,
   "metadata": {},
   "outputs": [],
   "source": []
  },
  {
   "cell_type": "code",
   "execution_count": null,
   "metadata": {},
   "outputs": [],
   "source": []
  },
  {
   "cell_type": "code",
   "execution_count": null,
   "metadata": {},
   "outputs": [],
   "source": []
  },
  {
   "cell_type": "code",
   "execution_count": null,
   "metadata": {},
   "outputs": [],
   "source": []
  }
 ],
 "metadata": {
  "kernelspec": {
   "display_name": "Python 3",
   "language": "python",
   "name": "python3"
  },
  "language_info": {
   "codemirror_mode": {
    "name": "ipython",
    "version": 3
   },
   "file_extension": ".py",
   "mimetype": "text/x-python",
   "name": "python",
   "nbconvert_exporter": "python",
   "pygments_lexer": "ipython3",
   "version": "3.6.7"
  }
 },
 "nbformat": 4,
 "nbformat_minor": 2
}
