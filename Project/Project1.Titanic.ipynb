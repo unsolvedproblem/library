{
 "cells": [
  {
   "cell_type": "markdown",
   "metadata": {},
   "source": [
    "# 0. 기본 설정"
   ]
  },
  {
   "cell_type": "code",
   "execution_count": 1,
   "metadata": {},
   "outputs": [],
   "source": [
    "import numpy as np ##배열, 3장에서는 DataFrame은 다루지 않음\n",
    "import os  ##사실 3장에서는 필요 없음\n",
    "import matplotlib ##그림용\n",
    "import matplotlib.pyplot as plt ##그림용\n",
    "import sklearn ##사이킷런\n",
    "import pandas as pd\n",
    "\n",
    "np.random.seed(42) ##랜덤시드 \n",
    "\n",
    "matplotlib.rc('font', family='NanumBarunGothic') ##matplotlib 한글을 위해\n",
    "plt.rcParams['axes.unicode_minus'] = False ##한글을 위해"
   ]
  },
  {
   "cell_type": "markdown",
   "metadata": {},
   "source": [
    "# 1. 데이터 불러오기"
   ]
  },
  {
   "cell_type": "markdown",
   "metadata": {},
   "source": [
    "캐글에서 원하는 데이터를 다운받고, 원하는 폴더에 넣기"
   ]
  },
  {
   "cell_type": "code",
   "execution_count": 2,
   "metadata": {},
   "outputs": [],
   "source": [
    "TITANIC_PATH = 'datasets/titanic'\n",
    "\n",
    "def load_titanic_data_train(titanic_path=TITANIC_PATH):\n",
    "    csv_path = os.path.join(titanic_path, \"train.csv\")\n",
    "    return pd.read_csv(csv_path)\n",
    "\n",
    "def load_titanic_data_submission(titanic_path=TITANIC_PATH):\n",
    "    csv_path = os.path.join(titanic_path, \"test.csv\")\n",
    "    return pd.read_csv(csv_path)"
   ]
  },
  {
   "cell_type": "code",
   "execution_count": 3,
   "metadata": {},
   "outputs": [],
   "source": [
    "titanic = load_titanic_data_train()\n",
    "titanic_submission = load_titanic_data_submission()"
   ]
  },
  {
   "cell_type": "code",
   "execution_count": 4,
   "metadata": {},
   "outputs": [
    {
     "data": {
      "text/html": [
       "<div>\n",
       "<style scoped>\n",
       "    .dataframe tbody tr th:only-of-type {\n",
       "        vertical-align: middle;\n",
       "    }\n",
       "\n",
       "    .dataframe tbody tr th {\n",
       "        vertical-align: top;\n",
       "    }\n",
       "\n",
       "    .dataframe thead th {\n",
       "        text-align: right;\n",
       "    }\n",
       "</style>\n",
       "<table border=\"1\" class=\"dataframe\">\n",
       "  <thead>\n",
       "    <tr style=\"text-align: right;\">\n",
       "      <th></th>\n",
       "      <th>PassengerId</th>\n",
       "      <th>Survived</th>\n",
       "      <th>Pclass</th>\n",
       "      <th>Name</th>\n",
       "      <th>Sex</th>\n",
       "      <th>Age</th>\n",
       "      <th>SibSp</th>\n",
       "      <th>Parch</th>\n",
       "      <th>Ticket</th>\n",
       "      <th>Fare</th>\n",
       "      <th>Cabin</th>\n",
       "      <th>Embarked</th>\n",
       "    </tr>\n",
       "  </thead>\n",
       "  <tbody>\n",
       "    <tr>\n",
       "      <th>0</th>\n",
       "      <td>1</td>\n",
       "      <td>0</td>\n",
       "      <td>3</td>\n",
       "      <td>Braund, Mr. Owen Harris</td>\n",
       "      <td>male</td>\n",
       "      <td>22.0</td>\n",
       "      <td>1</td>\n",
       "      <td>0</td>\n",
       "      <td>A/5 21171</td>\n",
       "      <td>7.2500</td>\n",
       "      <td>NaN</td>\n",
       "      <td>S</td>\n",
       "    </tr>\n",
       "    <tr>\n",
       "      <th>1</th>\n",
       "      <td>2</td>\n",
       "      <td>1</td>\n",
       "      <td>1</td>\n",
       "      <td>Cumings, Mrs. John Bradley (Florence Briggs Th...</td>\n",
       "      <td>female</td>\n",
       "      <td>38.0</td>\n",
       "      <td>1</td>\n",
       "      <td>0</td>\n",
       "      <td>PC 17599</td>\n",
       "      <td>71.2833</td>\n",
       "      <td>C85</td>\n",
       "      <td>C</td>\n",
       "    </tr>\n",
       "    <tr>\n",
       "      <th>2</th>\n",
       "      <td>3</td>\n",
       "      <td>1</td>\n",
       "      <td>3</td>\n",
       "      <td>Heikkinen, Miss. Laina</td>\n",
       "      <td>female</td>\n",
       "      <td>26.0</td>\n",
       "      <td>0</td>\n",
       "      <td>0</td>\n",
       "      <td>STON/O2. 3101282</td>\n",
       "      <td>7.9250</td>\n",
       "      <td>NaN</td>\n",
       "      <td>S</td>\n",
       "    </tr>\n",
       "    <tr>\n",
       "      <th>3</th>\n",
       "      <td>4</td>\n",
       "      <td>1</td>\n",
       "      <td>1</td>\n",
       "      <td>Futrelle, Mrs. Jacques Heath (Lily May Peel)</td>\n",
       "      <td>female</td>\n",
       "      <td>35.0</td>\n",
       "      <td>1</td>\n",
       "      <td>0</td>\n",
       "      <td>113803</td>\n",
       "      <td>53.1000</td>\n",
       "      <td>C123</td>\n",
       "      <td>S</td>\n",
       "    </tr>\n",
       "    <tr>\n",
       "      <th>4</th>\n",
       "      <td>5</td>\n",
       "      <td>0</td>\n",
       "      <td>3</td>\n",
       "      <td>Allen, Mr. William Henry</td>\n",
       "      <td>male</td>\n",
       "      <td>35.0</td>\n",
       "      <td>0</td>\n",
       "      <td>0</td>\n",
       "      <td>373450</td>\n",
       "      <td>8.0500</td>\n",
       "      <td>NaN</td>\n",
       "      <td>S</td>\n",
       "    </tr>\n",
       "  </tbody>\n",
       "</table>\n",
       "</div>"
      ],
      "text/plain": [
       "   PassengerId  Survived  Pclass  \\\n",
       "0            1         0       3   \n",
       "1            2         1       1   \n",
       "2            3         1       3   \n",
       "3            4         1       1   \n",
       "4            5         0       3   \n",
       "\n",
       "                                                Name     Sex   Age  SibSp  \\\n",
       "0                            Braund, Mr. Owen Harris    male  22.0      1   \n",
       "1  Cumings, Mrs. John Bradley (Florence Briggs Th...  female  38.0      1   \n",
       "2                             Heikkinen, Miss. Laina  female  26.0      0   \n",
       "3       Futrelle, Mrs. Jacques Heath (Lily May Peel)  female  35.0      1   \n",
       "4                           Allen, Mr. William Henry    male  35.0      0   \n",
       "\n",
       "   Parch            Ticket     Fare Cabin Embarked  \n",
       "0      0         A/5 21171   7.2500   NaN        S  \n",
       "1      0          PC 17599  71.2833   C85        C  \n",
       "2      0  STON/O2. 3101282   7.9250   NaN        S  \n",
       "3      0            113803  53.1000  C123        S  \n",
       "4      0            373450   8.0500   NaN        S  "
      ]
     },
     "execution_count": 4,
     "metadata": {},
     "output_type": "execute_result"
    }
   ],
   "source": [
    "titanic.head()"
   ]
  },
  {
   "cell_type": "markdown",
   "metadata": {},
   "source": [
    "- 타깃 값은 어떤건지 알아보기"
   ]
  },
  {
   "cell_type": "code",
   "execution_count": 5,
   "metadata": {},
   "outputs": [
    {
     "name": "stdout",
     "output_type": "stream",
     "text": [
      "PassengerId\n",
      "Survived  is not in test data \n",
      "Pclass\n",
      "Name\n",
      "Sex\n",
      "Age\n",
      "SibSp\n",
      "Parch\n",
      "Ticket\n",
      "Fare\n",
      "Cabin\n",
      "Embarked\n"
     ]
    }
   ],
   "source": [
    "for column in titanic.columns:\n",
    "    if column not in titanic_submission.columns:\n",
    "        print(column, \" is not in test data \")\n",
    "    else:\n",
    "        print(column)"
   ]
  },
  {
   "cell_type": "markdown",
   "metadata": {},
   "source": [
    "# 2. 자료 둘러보기"
   ]
  },
  {
   "cell_type": "markdown",
   "metadata": {},
   "source": [
    "## 1. 자료 둘러보기"
   ]
  },
  {
   "cell_type": "code",
   "execution_count": 6,
   "metadata": {},
   "outputs": [
    {
     "name": "stdout",
     "output_type": "stream",
     "text": [
      "<class 'pandas.core.frame.DataFrame'>\n",
      "RangeIndex: 891 entries, 0 to 890\n",
      "Data columns (total 12 columns):\n",
      "PassengerId    891 non-null int64\n",
      "Survived       891 non-null int64\n",
      "Pclass         891 non-null int64\n",
      "Name           891 non-null object\n",
      "Sex            891 non-null object\n",
      "Age            714 non-null float64\n",
      "SibSp          891 non-null int64\n",
      "Parch          891 non-null int64\n",
      "Ticket         891 non-null object\n",
      "Fare           891 non-null float64\n",
      "Cabin          204 non-null object\n",
      "Embarked       889 non-null object\n",
      "dtypes: float64(2), int64(5), object(5)\n",
      "memory usage: 83.6+ KB\n"
     ]
    }
   ],
   "source": [
    "titanic.info()  ##1. 누락값 체크 2. 저장된 자료형 체크"
   ]
  },
  {
   "cell_type": "markdown",
   "metadata": {},
   "source": [
    "- object 값이 category인지 아닌지 체크"
   ]
  },
  {
   "cell_type": "code",
   "execution_count": 7,
   "metadata": {},
   "outputs": [
    {
     "data": {
      "text/plain": [
       "Meyer, Mr. Edgar Joseph                                      1\n",
       "Ibrahim Shawah, Mr. Yousseff                                 1\n",
       "Hansen, Mr. Claus Peter                                      1\n",
       "Chronopoulos, Mr. Apostolos                                  1\n",
       "Dahl, Mr. Karl Edwart                                        1\n",
       "Morrow, Mr. Thomas Rowan                                     1\n",
       "Bystrom, Mrs. (Karolina)                                     1\n",
       "Eklund, Mr. Hans Linus                                       1\n",
       "Ward, Miss. Anna                                             1\n",
       "Soholt, Mr. Peter Andreas Lauritz Andersen                   1\n",
       "Horgan, Mr. John                                             1\n",
       "Hodges, Mr. Henry Price                                      1\n",
       "Harris, Mr. Henry Birkhardt                                  1\n",
       "Brown, Mr. Thomas William Solomon                            1\n",
       "Asplund, Mrs. Carl Oscar (Selma Augusta Emilia Johansson)    1\n",
       "Wiklund, Mr. Jakob Alfred                                    1\n",
       "Brocklebank, Mr. William Alfred                              1\n",
       "Lindell, Mr. Edvard Bengtsson                                1\n",
       "Quick, Mrs. Frederick Charles (Jane Richards)                1\n",
       "Hamalainen, Mrs. William (Anna)                              1\n",
       "Kent, Mr. Edward Austin                                      1\n",
       "Keefe, Mr. Arthur                                            1\n",
       "Watson, Mr. Ennis Hastings                                   1\n",
       "Oreskovic, Miss. Marija                                      1\n",
       "Harper, Miss. Annie Jessie \"Nina\"                            1\n",
       "Risien, Mr. Samuel Beard                                     1\n",
       "Allum, Mr. Owen George                                       1\n",
       "Panula, Mr. Jaako Arnold                                     1\n",
       "Aubart, Mme. Leontine Pauline                                1\n",
       "Wheadon, Mr. Edward H                                        1\n",
       "                                                            ..\n",
       "Murdlin, Mr. Joseph                                          1\n",
       "Barbara, Miss. Saiide                                        1\n",
       "Morley, Mr. William                                          1\n",
       "Mack, Mrs. (Mary)                                            1\n",
       "Gilnagh, Miss. Katherine \"Katie\"                             1\n",
       "Petroff, Mr. Pastcho (\"Pentcho\")                             1\n",
       "Fox, Mr. Stanley Hubert                                      1\n",
       "Simonius-Blumer, Col. Oberst Alfons                          1\n",
       "Hart, Mr. Benjamin                                           1\n",
       "Turja, Miss. Anna Sofia                                      1\n",
       "Richards, Master. William Rowe                               1\n",
       "O'Brien, Mr. Timothy                                         1\n",
       "Salkjelsvik, Miss. Anna Kristine                             1\n",
       "Widegren, Mr. Carl/Charles Peter                             1\n",
       "Andersson, Miss. Ingeborg Constanzia                         1\n",
       "Vander Cruyssen, Mr. Victor                                  1\n",
       "Flynn, Mr. John Irwin (\"Irving\")                             1\n",
       "Meanwell, Miss. (Marion Ogden)                               1\n",
       "Frolicher, Miss. Hedwig Margaritha                           1\n",
       "Svensson, Mr. Johan                                          1\n",
       "Crosby, Capt. Edward Gifford                                 1\n",
       "Stoytcheff, Mr. Ilia                                         1\n",
       "Olsen, Mr. Ole Martin                                        1\n",
       "Carr, Miss. Helen \"Ellen\"                                    1\n",
       "Thorneycroft, Mrs. Percival (Florence Kate White)            1\n",
       "Parkes, Mr. Francis \"Frank\"                                  1\n",
       "Renouf, Mrs. Peter Henry (Lillian Jefferys)                  1\n",
       "Meo, Mr. Alfonzo                                             1\n",
       "Pekoniemi, Mr. Edvard                                        1\n",
       "Scanlan, Mr. James                                           1\n",
       "Name: Name, Length: 891, dtype: int64"
      ]
     },
     "execution_count": 7,
     "metadata": {},
     "output_type": "execute_result"
    }
   ],
   "source": [
    "titanic[\"Name\"].value_counts()"
   ]
  },
  {
   "cell_type": "code",
   "execution_count": 8,
   "metadata": {},
   "outputs": [
    {
     "data": {
      "text/plain": [
       "male      577\n",
       "female    314\n",
       "Name: Sex, dtype: int64"
      ]
     },
     "execution_count": 8,
     "metadata": {},
     "output_type": "execute_result"
    }
   ],
   "source": [
    "titanic[\"Sex\"].value_counts()"
   ]
  },
  {
   "cell_type": "code",
   "execution_count": 9,
   "metadata": {},
   "outputs": [
    {
     "data": {
      "text/plain": [
       "347082               7\n",
       "1601                 7\n",
       "CA. 2343             7\n",
       "CA 2144              6\n",
       "3101295              6\n",
       "347088               6\n",
       "S.O.C. 14879         5\n",
       "382652               5\n",
       "W./C. 6608           4\n",
       "349909               4\n",
       "17421                4\n",
       "19950                4\n",
       "2666                 4\n",
       "LINE                 4\n",
       "4133                 4\n",
       "113781               4\n",
       "113760               4\n",
       "347077               4\n",
       "PC 17757             4\n",
       "29106                3\n",
       "24160                3\n",
       "F.C.C. 13529         3\n",
       "PC 17572             3\n",
       "248727               3\n",
       "110152               3\n",
       "SC/Paris 2123        3\n",
       "230080               3\n",
       "35273                3\n",
       "363291               3\n",
       "C.A. 31921           3\n",
       "                    ..\n",
       "PC 17599             1\n",
       "C.A. 31026           1\n",
       "26707                1\n",
       "324669               1\n",
       "113056               1\n",
       "113787               1\n",
       "112053               1\n",
       "PC 17601             1\n",
       "392092               1\n",
       "113784               1\n",
       "STON/O 2. 3101286    1\n",
       "372622               1\n",
       "350035               1\n",
       "C 17369              1\n",
       "336439               1\n",
       "113794               1\n",
       "PC 17483             1\n",
       "244361               1\n",
       "3411                 1\n",
       "3101276              1\n",
       "347069               1\n",
       "65303                1\n",
       "370370               1\n",
       "113510               1\n",
       "345765               1\n",
       "371060               1\n",
       "6563                 1\n",
       "349257               1\n",
       "2629                 1\n",
       "A/5. 851             1\n",
       "Name: Ticket, Length: 681, dtype: int64"
      ]
     },
     "execution_count": 9,
     "metadata": {},
     "output_type": "execute_result"
    }
   ],
   "source": [
    "titanic[\"Ticket\"].value_counts()"
   ]
  },
  {
   "cell_type": "code",
   "execution_count": 10,
   "metadata": {},
   "outputs": [
    {
     "data": {
      "text/plain": [
       "B96 B98            4\n",
       "G6                 4\n",
       "C23 C25 C27        4\n",
       "D                  3\n",
       "F33                3\n",
       "C22 C26            3\n",
       "F2                 3\n",
       "E101               3\n",
       "C93                2\n",
       "C123               2\n",
       "C83                2\n",
       "C124               2\n",
       "B51 B53 B55        2\n",
       "F4                 2\n",
       "C92                2\n",
       "C65                2\n",
       "D35                2\n",
       "E25                2\n",
       "D20                2\n",
       "B49                2\n",
       "D33                2\n",
       "E44                2\n",
       "B5                 2\n",
       "B35                2\n",
       "B57 B59 B63 B66    2\n",
       "D17                2\n",
       "C125               2\n",
       "E24                2\n",
       "C2                 2\n",
       "B77                2\n",
       "                  ..\n",
       "E12                1\n",
       "B94                1\n",
       "C104               1\n",
       "C87                1\n",
       "C118               1\n",
       "E46                1\n",
       "C30                1\n",
       "B101               1\n",
       "C110               1\n",
       "B19                1\n",
       "T                  1\n",
       "C111               1\n",
       "B38                1\n",
       "D56                1\n",
       "C85                1\n",
       "A24                1\n",
       "B80                1\n",
       "E38                1\n",
       "D50                1\n",
       "C99                1\n",
       "A10                1\n",
       "C103               1\n",
       "D10 D12            1\n",
       "C46                1\n",
       "D45                1\n",
       "B4                 1\n",
       "A26                1\n",
       "C95                1\n",
       "A32                1\n",
       "C50                1\n",
       "Name: Cabin, Length: 147, dtype: int64"
      ]
     },
     "execution_count": 10,
     "metadata": {},
     "output_type": "execute_result"
    }
   ],
   "source": [
    "titanic[\"Cabin\"].value_counts()"
   ]
  },
  {
   "cell_type": "code",
   "execution_count": 11,
   "metadata": {},
   "outputs": [
    {
     "data": {
      "text/plain": [
       "S    644\n",
       "C    168\n",
       "Q     77\n",
       "Name: Embarked, dtype: int64"
      ]
     },
     "execution_count": 11,
     "metadata": {},
     "output_type": "execute_result"
    }
   ],
   "source": [
    "titanic[\"Embarked\"].value_counts()"
   ]
  },
  {
   "cell_type": "markdown",
   "metadata": {},
   "source": [
    "- 숫자형 자료의 통계치 체크"
   ]
  },
  {
   "cell_type": "code",
   "execution_count": 12,
   "metadata": {},
   "outputs": [
    {
     "data": {
      "text/html": [
       "<div>\n",
       "<style scoped>\n",
       "    .dataframe tbody tr th:only-of-type {\n",
       "        vertical-align: middle;\n",
       "    }\n",
       "\n",
       "    .dataframe tbody tr th {\n",
       "        vertical-align: top;\n",
       "    }\n",
       "\n",
       "    .dataframe thead th {\n",
       "        text-align: right;\n",
       "    }\n",
       "</style>\n",
       "<table border=\"1\" class=\"dataframe\">\n",
       "  <thead>\n",
       "    <tr style=\"text-align: right;\">\n",
       "      <th></th>\n",
       "      <th>PassengerId</th>\n",
       "      <th>Survived</th>\n",
       "      <th>Pclass</th>\n",
       "      <th>Age</th>\n",
       "      <th>SibSp</th>\n",
       "      <th>Parch</th>\n",
       "      <th>Fare</th>\n",
       "    </tr>\n",
       "  </thead>\n",
       "  <tbody>\n",
       "    <tr>\n",
       "      <th>count</th>\n",
       "      <td>891.000000</td>\n",
       "      <td>891.000000</td>\n",
       "      <td>891.000000</td>\n",
       "      <td>714.000000</td>\n",
       "      <td>891.000000</td>\n",
       "      <td>891.000000</td>\n",
       "      <td>891.000000</td>\n",
       "    </tr>\n",
       "    <tr>\n",
       "      <th>mean</th>\n",
       "      <td>446.000000</td>\n",
       "      <td>0.383838</td>\n",
       "      <td>2.308642</td>\n",
       "      <td>29.699118</td>\n",
       "      <td>0.523008</td>\n",
       "      <td>0.381594</td>\n",
       "      <td>32.204208</td>\n",
       "    </tr>\n",
       "    <tr>\n",
       "      <th>std</th>\n",
       "      <td>257.353842</td>\n",
       "      <td>0.486592</td>\n",
       "      <td>0.836071</td>\n",
       "      <td>14.526497</td>\n",
       "      <td>1.102743</td>\n",
       "      <td>0.806057</td>\n",
       "      <td>49.693429</td>\n",
       "    </tr>\n",
       "    <tr>\n",
       "      <th>min</th>\n",
       "      <td>1.000000</td>\n",
       "      <td>0.000000</td>\n",
       "      <td>1.000000</td>\n",
       "      <td>0.420000</td>\n",
       "      <td>0.000000</td>\n",
       "      <td>0.000000</td>\n",
       "      <td>0.000000</td>\n",
       "    </tr>\n",
       "    <tr>\n",
       "      <th>25%</th>\n",
       "      <td>223.500000</td>\n",
       "      <td>0.000000</td>\n",
       "      <td>2.000000</td>\n",
       "      <td>20.125000</td>\n",
       "      <td>0.000000</td>\n",
       "      <td>0.000000</td>\n",
       "      <td>7.910400</td>\n",
       "    </tr>\n",
       "    <tr>\n",
       "      <th>50%</th>\n",
       "      <td>446.000000</td>\n",
       "      <td>0.000000</td>\n",
       "      <td>3.000000</td>\n",
       "      <td>28.000000</td>\n",
       "      <td>0.000000</td>\n",
       "      <td>0.000000</td>\n",
       "      <td>14.454200</td>\n",
       "    </tr>\n",
       "    <tr>\n",
       "      <th>75%</th>\n",
       "      <td>668.500000</td>\n",
       "      <td>1.000000</td>\n",
       "      <td>3.000000</td>\n",
       "      <td>38.000000</td>\n",
       "      <td>1.000000</td>\n",
       "      <td>0.000000</td>\n",
       "      <td>31.000000</td>\n",
       "    </tr>\n",
       "    <tr>\n",
       "      <th>max</th>\n",
       "      <td>891.000000</td>\n",
       "      <td>1.000000</td>\n",
       "      <td>3.000000</td>\n",
       "      <td>80.000000</td>\n",
       "      <td>8.000000</td>\n",
       "      <td>6.000000</td>\n",
       "      <td>512.329200</td>\n",
       "    </tr>\n",
       "  </tbody>\n",
       "</table>\n",
       "</div>"
      ],
      "text/plain": [
       "       PassengerId    Survived      Pclass         Age       SibSp  \\\n",
       "count   891.000000  891.000000  891.000000  714.000000  891.000000   \n",
       "mean    446.000000    0.383838    2.308642   29.699118    0.523008   \n",
       "std     257.353842    0.486592    0.836071   14.526497    1.102743   \n",
       "min       1.000000    0.000000    1.000000    0.420000    0.000000   \n",
       "25%     223.500000    0.000000    2.000000   20.125000    0.000000   \n",
       "50%     446.000000    0.000000    3.000000   28.000000    0.000000   \n",
       "75%     668.500000    1.000000    3.000000   38.000000    1.000000   \n",
       "max     891.000000    1.000000    3.000000   80.000000    8.000000   \n",
       "\n",
       "            Parch        Fare  \n",
       "count  891.000000  891.000000  \n",
       "mean     0.381594   32.204208  \n",
       "std      0.806057   49.693429  \n",
       "min      0.000000    0.000000  \n",
       "25%      0.000000    7.910400  \n",
       "50%      0.000000   14.454200  \n",
       "75%      0.000000   31.000000  \n",
       "max      6.000000  512.329200  "
      ]
     },
     "execution_count": 12,
     "metadata": {},
     "output_type": "execute_result"
    }
   ],
   "source": [
    "titanic.describe()"
   ]
  },
  {
   "cell_type": "markdown",
   "metadata": {},
   "source": [
    "- 그림을 통한 인사이트 얻기 시도"
   ]
  },
  {
   "cell_type": "code",
   "execution_count": 13,
   "metadata": {},
   "outputs": [
    {
     "data": {
      "text/plain": [
       "array([[<matplotlib.axes._subplots.AxesSubplot object at 0x00000245A5253748>,\n",
       "        <matplotlib.axes._subplots.AxesSubplot object at 0x00000245A729A940>,\n",
       "        <matplotlib.axes._subplots.AxesSubplot object at 0x00000245A72C1BA8>],\n",
       "       [<matplotlib.axes._subplots.AxesSubplot object at 0x00000245A72ECE10>,\n",
       "        <matplotlib.axes._subplots.AxesSubplot object at 0x00000245A731E0B8>,\n",
       "        <matplotlib.axes._subplots.AxesSubplot object at 0x00000245A7347208>],\n",
       "       [<matplotlib.axes._subplots.AxesSubplot object at 0x00000245A736E470>,\n",
       "        <matplotlib.axes._subplots.AxesSubplot object at 0x00000245A7397710>,\n",
       "        <matplotlib.axes._subplots.AxesSubplot object at 0x00000245A7397748>]],\n",
       "      dtype=object)"
      ]
     },
     "execution_count": 13,
     "metadata": {},
     "output_type": "execute_result"
    },
    {
     "data": {
      "image/png": "[encoded data removed]",
      "text/plain": [
       "<Figure size 1440x1080 with 9 Axes>"
      ]
     },
     "metadata": {
      "needs_background": "light"
     },
     "output_type": "display_data"
    }
   ],
   "source": [
    "titanic.hist(bins=50, figsize=(20,15))"
   ]
  },
  {
   "cell_type": "markdown",
   "metadata": {},
   "source": [
    "## 2. train set과 test set으로 나누기"
   ]
  },
  {
   "cell_type": "markdown",
   "metadata": {},
   "source": [
    "가정1. 나이와 생존의 상관관계가 높을 것 같아서 나이를 기준으로 나눔"
   ]
  },
  {
   "cell_type": "markdown",
   "metadata": {},
   "source": [
    "하지만 그 중 나이의 누락값이 있으므로  \n",
    "나이가 있는 데이터 0.2  \n",
    "나이가 없는 데이터 0.2  \n",
    "를 test set에 넣음"
   ]
  },
  {
   "cell_type": "code",
   "execution_count": 14,
   "metadata": {},
   "outputs": [],
   "source": [
    "titanic_age_exist = titanic.iloc[titanic['Age'].dropna().index]\n",
    "titanic_age_nonexist = titanic[titanic['Age'].apply(np.isnan)]"
   ]
  },
  {
   "cell_type": "code",
   "execution_count": 15,
   "metadata": {},
   "outputs": [
    {
     "name": "stdout",
     "output_type": "stream",
     "text": [
      "<class 'pandas.core.frame.DataFrame'>\n",
      "Int64Index: 714 entries, 0 to 890\n",
      "Data columns (total 12 columns):\n",
      "PassengerId    714 non-null int64\n",
      "Survived       714 non-null int64\n",
      "Pclass         714 non-null int64\n",
      "Name           714 non-null object\n",
      "Sex            714 non-null object\n",
      "Age            714 non-null float64\n",
      "SibSp          714 non-null int64\n",
      "Parch          714 non-null int64\n",
      "Ticket         714 non-null object\n",
      "Fare           714 non-null float64\n",
      "Cabin          185 non-null object\n",
      "Embarked       712 non-null object\n",
      "dtypes: float64(2), int64(5), object(5)\n",
      "memory usage: 72.5+ KB\n"
     ]
    }
   ],
   "source": [
    "titanic_age_exist.info()"
   ]
  },
  {
   "cell_type": "code",
   "execution_count": 16,
   "metadata": {},
   "outputs": [
    {
     "name": "stdout",
     "output_type": "stream",
     "text": [
      "<class 'pandas.core.frame.DataFrame'>\n",
      "Int64Index: 177 entries, 5 to 888\n",
      "Data columns (total 12 columns):\n",
      "PassengerId    177 non-null int64\n",
      "Survived       177 non-null int64\n",
      "Pclass         177 non-null int64\n",
      "Name           177 non-null object\n",
      "Sex            177 non-null object\n",
      "Age            0 non-null float64\n",
      "SibSp          177 non-null int64\n",
      "Parch          177 non-null int64\n",
      "Ticket         177 non-null object\n",
      "Fare           177 non-null float64\n",
      "Cabin          19 non-null object\n",
      "Embarked       177 non-null object\n",
      "dtypes: float64(2), int64(5), object(5)\n",
      "memory usage: 18.0+ KB\n"
     ]
    }
   ],
   "source": [
    "titanic_age_nonexist.info()"
   ]
  },
  {
   "cell_type": "markdown",
   "metadata": {},
   "source": [
    "그 중 나이가 있는 데이터를 category화 해서 데이터를 쪼갬"
   ]
  },
  {
   "cell_type": "code",
   "execution_count": 17,
   "metadata": {},
   "outputs": [
    {
     "name": "stderr",
     "output_type": "stream",
     "text": [
      "c:\\python\\lib\\site-packages\\ipykernel_launcher.py:1: SettingWithCopyWarning: \n",
      "A value is trying to be set on a copy of a slice from a DataFrame.\n",
      "Try using .loc[row_indexer,col_indexer] = value instead\n",
      "\n",
      "See the caveats in the documentation: http://pandas.pydata.org/pandas-docs/stable/indexing.html#indexing-view-versus-copy\n",
      "  \"\"\"Entry point for launching an IPython kernel.\n",
      "c:\\python\\lib\\site-packages\\pandas\\core\\generic.py:7626: SettingWithCopyWarning: \n",
      "A value is trying to be set on a copy of a slice from a DataFrame\n",
      "\n",
      "See the caveats in the documentation: http://pandas.pydata.org/pandas-docs/stable/indexing.html#indexing-view-versus-copy\n",
      "  self._update_inplace(new_data)\n"
     ]
    }
   ],
   "source": [
    "titanic_age_exist[\"Age_cat\"] = np.ceil(titanic_age_exist[\"Age\"] / 8)\n",
    "titanic_age_exist[\"Age_cat\"].where(titanic_age_exist[\"Age_cat\"] < 7, 7.0, inplace=True)"
   ]
  },
  {
   "cell_type": "markdown",
   "metadata": {},
   "source": [
    "이렇게 쪼개면 인덱스가 원래 상태가 아니기 때문에 인덱스를 다시 정리해줘야함  \n",
    "인덱스가 원래 상태 가 아니면 StratifiedShuffleSplit이 잘 돌아가지 않음"
   ]
  },
  {
   "cell_type": "code",
   "execution_count": 18,
   "metadata": {},
   "outputs": [
    {
     "data": {
      "text/html": [
       "<div>\n",
       "<style scoped>\n",
       "    .dataframe tbody tr th:only-of-type {\n",
       "        vertical-align: middle;\n",
       "    }\n",
       "\n",
       "    .dataframe tbody tr th {\n",
       "        vertical-align: top;\n",
       "    }\n",
       "\n",
       "    .dataframe thead th {\n",
       "        text-align: right;\n",
       "    }\n",
       "</style>\n",
       "<table border=\"1\" class=\"dataframe\">\n",
       "  <thead>\n",
       "    <tr style=\"text-align: right;\">\n",
       "      <th></th>\n",
       "      <th>index</th>\n",
       "      <th>PassengerId</th>\n",
       "      <th>Survived</th>\n",
       "      <th>Pclass</th>\n",
       "      <th>Name</th>\n",
       "      <th>Sex</th>\n",
       "      <th>Age</th>\n",
       "      <th>SibSp</th>\n",
       "      <th>Parch</th>\n",
       "      <th>Ticket</th>\n",
       "      <th>Fare</th>\n",
       "      <th>Cabin</th>\n",
       "      <th>Embarked</th>\n",
       "      <th>Age_cat</th>\n",
       "    </tr>\n",
       "  </thead>\n",
       "  <tbody>\n",
       "    <tr>\n",
       "      <th>0</th>\n",
       "      <td>0</td>\n",
       "      <td>1</td>\n",
       "      <td>0</td>\n",
       "      <td>3</td>\n",
       "      <td>Braund, Mr. Owen Harris</td>\n",
       "      <td>male</td>\n",
       "      <td>22.0</td>\n",
       "      <td>1</td>\n",
       "      <td>0</td>\n",
       "      <td>A/5 21171</td>\n",
       "      <td>7.2500</td>\n",
       "      <td>NaN</td>\n",
       "      <td>S</td>\n",
       "      <td>3.0</td>\n",
       "    </tr>\n",
       "    <tr>\n",
       "      <th>1</th>\n",
       "      <td>1</td>\n",
       "      <td>2</td>\n",
       "      <td>1</td>\n",
       "      <td>1</td>\n",
       "      <td>Cumings, Mrs. John Bradley (Florence Briggs Th...</td>\n",
       "      <td>female</td>\n",
       "      <td>38.0</td>\n",
       "      <td>1</td>\n",
       "      <td>0</td>\n",
       "      <td>PC 17599</td>\n",
       "      <td>71.2833</td>\n",
       "      <td>C85</td>\n",
       "      <td>C</td>\n",
       "      <td>5.0</td>\n",
       "    </tr>\n",
       "    <tr>\n",
       "      <th>2</th>\n",
       "      <td>2</td>\n",
       "      <td>3</td>\n",
       "      <td>1</td>\n",
       "      <td>3</td>\n",
       "      <td>Heikkinen, Miss. Laina</td>\n",
       "      <td>female</td>\n",
       "      <td>26.0</td>\n",
       "      <td>0</td>\n",
       "      <td>0</td>\n",
       "      <td>STON/O2. 3101282</td>\n",
       "      <td>7.9250</td>\n",
       "      <td>NaN</td>\n",
       "      <td>S</td>\n",
       "      <td>4.0</td>\n",
       "    </tr>\n",
       "    <tr>\n",
       "      <th>3</th>\n",
       "      <td>3</td>\n",
       "      <td>4</td>\n",
       "      <td>1</td>\n",
       "      <td>1</td>\n",
       "      <td>Futrelle, Mrs. Jacques Heath (Lily May Peel)</td>\n",
       "      <td>female</td>\n",
       "      <td>35.0</td>\n",
       "      <td>1</td>\n",
       "      <td>0</td>\n",
       "      <td>113803</td>\n",
       "      <td>53.1000</td>\n",
       "      <td>C123</td>\n",
       "      <td>S</td>\n",
       "      <td>5.0</td>\n",
       "    </tr>\n",
       "    <tr>\n",
       "      <th>4</th>\n",
       "      <td>4</td>\n",
       "      <td>5</td>\n",
       "      <td>0</td>\n",
       "      <td>3</td>\n",
       "      <td>Allen, Mr. William Henry</td>\n",
       "      <td>male</td>\n",
       "      <td>35.0</td>\n",
       "      <td>0</td>\n",
       "      <td>0</td>\n",
       "      <td>373450</td>\n",
       "      <td>8.0500</td>\n",
       "      <td>NaN</td>\n",
       "      <td>S</td>\n",
       "      <td>5.0</td>\n",
       "    </tr>\n",
       "  </tbody>\n",
       "</table>\n",
       "</div>"
      ],
      "text/plain": [
       "   index  PassengerId  Survived  Pclass  \\\n",
       "0      0            1         0       3   \n",
       "1      1            2         1       1   \n",
       "2      2            3         1       3   \n",
       "3      3            4         1       1   \n",
       "4      4            5         0       3   \n",
       "\n",
       "                                                Name     Sex   Age  SibSp  \\\n",
       "0                            Braund, Mr. Owen Harris    male  22.0      1   \n",
       "1  Cumings, Mrs. John Bradley (Florence Briggs Th...  female  38.0      1   \n",
       "2                             Heikkinen, Miss. Laina  female  26.0      0   \n",
       "3       Futrelle, Mrs. Jacques Heath (Lily May Peel)  female  35.0      1   \n",
       "4                           Allen, Mr. William Henry    male  35.0      0   \n",
       "\n",
       "   Parch            Ticket     Fare Cabin Embarked  Age_cat  \n",
       "0      0         A/5 21171   7.2500   NaN        S      3.0  \n",
       "1      0          PC 17599  71.2833   C85        C      5.0  \n",
       "2      0  STON/O2. 3101282   7.9250   NaN        S      4.0  \n",
       "3      0            113803  53.1000  C123        S      5.0  \n",
       "4      0            373450   8.0500   NaN        S      5.0  "
      ]
     },
     "execution_count": 18,
     "metadata": {},
     "output_type": "execute_result"
    }
   ],
   "source": [
    "titanic_age_exist = titanic_age_exist.reset_index()\n",
    "titanic_age_exist.head()"
   ]
  },
  {
   "cell_type": "code",
   "execution_count": 19,
   "metadata": {},
   "outputs": [],
   "source": [
    "from sklearn.model_selection import StratifiedShuffleSplit\n",
    "split = StratifiedShuffleSplit(n_splits=1, test_size=0.2, random_state=42)\n",
    "for train_index, test_index in split.split(titanic_age_exist, titanic_age_exist['Age_cat']):\n",
    "    strat_train_set = titanic_age_exist.loc[train_index]\n",
    "    strat_test_set = titanic_age_exist.loc[test_index]"
   ]
  },
  {
   "cell_type": "code",
   "execution_count": 20,
   "metadata": {},
   "outputs": [],
   "source": [
    "strat_train_set.drop(['Age_cat'], axis=1)\n",
    "del strat_train_set.index.name"
   ]
  },
  {
   "cell_type": "code",
   "execution_count": 21,
   "metadata": {},
   "outputs": [],
   "source": [
    "for set in (strat_train_set, strat_test_set):\n",
    "    set.set_index(\"index\", inplace=True)    \n",
    "    set.drop(['Age_cat'], axis=1, inplace=True)\n",
    "    del set.index.name"
   ]
  },
  {
   "cell_type": "code",
   "execution_count": 22,
   "metadata": {},
   "outputs": [],
   "source": [
    "from sklearn.model_selection import train_test_split\n",
    "train_set, test_set = train_test_split(titanic_age_nonexist, test_size=0.2, random_state=42)"
   ]
  },
  {
   "cell_type": "code",
   "execution_count": 23,
   "metadata": {},
   "outputs": [],
   "source": [
    "final_train_set = strat_train_set.append(train_set)\n",
    "final_test_set = strat_test_set.append(test_set)"
   ]
  },
  {
   "cell_type": "code",
   "execution_count": 24,
   "metadata": {},
   "outputs": [
    {
     "data": {
      "text/html": [
       "<div>\n",
       "<style scoped>\n",
       "    .dataframe tbody tr th:only-of-type {\n",
       "        vertical-align: middle;\n",
       "    }\n",
       "\n",
       "    .dataframe tbody tr th {\n",
       "        vertical-align: top;\n",
       "    }\n",
       "\n",
       "    .dataframe thead th {\n",
       "        text-align: right;\n",
       "    }\n",
       "</style>\n",
       "<table border=\"1\" class=\"dataframe\">\n",
       "  <thead>\n",
       "    <tr style=\"text-align: right;\">\n",
       "      <th></th>\n",
       "      <th>PassengerId</th>\n",
       "      <th>Survived</th>\n",
       "      <th>Pclass</th>\n",
       "      <th>Name</th>\n",
       "      <th>Sex</th>\n",
       "      <th>Age</th>\n",
       "      <th>SibSp</th>\n",
       "      <th>Parch</th>\n",
       "      <th>Ticket</th>\n",
       "      <th>Fare</th>\n",
       "      <th>Cabin</th>\n",
       "      <th>Embarked</th>\n",
       "    </tr>\n",
       "  </thead>\n",
       "  <tbody>\n",
       "    <tr>\n",
       "      <th>383</th>\n",
       "      <td>384</td>\n",
       "      <td>1</td>\n",
       "      <td>1</td>\n",
       "      <td>Holverson, Mrs. Alexander Oskar (Mary Aline To...</td>\n",
       "      <td>female</td>\n",
       "      <td>35.0</td>\n",
       "      <td>1</td>\n",
       "      <td>0</td>\n",
       "      <td>113789</td>\n",
       "      <td>52.000</td>\n",
       "      <td>NaN</td>\n",
       "      <td>S</td>\n",
       "    </tr>\n",
       "    <tr>\n",
       "      <th>742</th>\n",
       "      <td>743</td>\n",
       "      <td>1</td>\n",
       "      <td>1</td>\n",
       "      <td>Ryerson, Miss. Susan Parker \"Suzette\"</td>\n",
       "      <td>female</td>\n",
       "      <td>21.0</td>\n",
       "      <td>2</td>\n",
       "      <td>2</td>\n",
       "      <td>PC 17608</td>\n",
       "      <td>262.375</td>\n",
       "      <td>B57 B59 B63 B66</td>\n",
       "      <td>C</td>\n",
       "    </tr>\n",
       "    <tr>\n",
       "      <th>147</th>\n",
       "      <td>148</td>\n",
       "      <td>0</td>\n",
       "      <td>3</td>\n",
       "      <td>Ford, Miss. Robina Maggie \"Ruby\"</td>\n",
       "      <td>female</td>\n",
       "      <td>9.0</td>\n",
       "      <td>2</td>\n",
       "      <td>2</td>\n",
       "      <td>W./C. 6608</td>\n",
       "      <td>34.375</td>\n",
       "      <td>NaN</td>\n",
       "      <td>S</td>\n",
       "    </tr>\n",
       "    <tr>\n",
       "      <th>480</th>\n",
       "      <td>481</td>\n",
       "      <td>0</td>\n",
       "      <td>3</td>\n",
       "      <td>Goodwin, Master. Harold Victor</td>\n",
       "      <td>male</td>\n",
       "      <td>9.0</td>\n",
       "      <td>5</td>\n",
       "      <td>2</td>\n",
       "      <td>CA 2144</td>\n",
       "      <td>46.900</td>\n",
       "      <td>NaN</td>\n",
       "      <td>S</td>\n",
       "    </tr>\n",
       "    <tr>\n",
       "      <th>770</th>\n",
       "      <td>771</td>\n",
       "      <td>0</td>\n",
       "      <td>3</td>\n",
       "      <td>Lievens, Mr. Rene Aime</td>\n",
       "      <td>male</td>\n",
       "      <td>24.0</td>\n",
       "      <td>0</td>\n",
       "      <td>0</td>\n",
       "      <td>345781</td>\n",
       "      <td>9.500</td>\n",
       "      <td>NaN</td>\n",
       "      <td>S</td>\n",
       "    </tr>\n",
       "  </tbody>\n",
       "</table>\n",
       "</div>"
      ],
      "text/plain": [
       "     PassengerId  Survived  Pclass  \\\n",
       "383          384         1       1   \n",
       "742          743         1       1   \n",
       "147          148         0       3   \n",
       "480          481         0       3   \n",
       "770          771         0       3   \n",
       "\n",
       "                                                  Name     Sex   Age  SibSp  \\\n",
       "383  Holverson, Mrs. Alexander Oskar (Mary Aline To...  female  35.0      1   \n",
       "742              Ryerson, Miss. Susan Parker \"Suzette\"  female  21.0      2   \n",
       "147                   Ford, Miss. Robina Maggie \"Ruby\"  female   9.0      2   \n",
       "480                     Goodwin, Master. Harold Victor    male   9.0      5   \n",
       "770                             Lievens, Mr. Rene Aime    male  24.0      0   \n",
       "\n",
       "     Parch      Ticket     Fare            Cabin Embarked  \n",
       "383      0      113789   52.000              NaN        S  \n",
       "742      2    PC 17608  262.375  B57 B59 B63 B66        C  \n",
       "147      2  W./C. 6608   34.375              NaN        S  \n",
       "480      2     CA 2144   46.900              NaN        S  \n",
       "770      0      345781    9.500              NaN        S  "
      ]
     },
     "execution_count": 24,
     "metadata": {},
     "output_type": "execute_result"
    }
   ],
   "source": [
    "final_train_set.head()"
   ]
  },
  {
   "cell_type": "markdown",
   "metadata": {},
   "source": [
    "# 3. 데이터 이해를 위한 탐색"
   ]
  },
  {
   "cell_type": "code",
   "execution_count": 25,
   "metadata": {},
   "outputs": [],
   "source": [
    "titanic = final_train_set"
   ]
  },
  {
   "cell_type": "markdown",
   "metadata": {},
   "source": [
    "## 1. 상관관계 조사"
   ]
  },
  {
   "cell_type": "code",
   "execution_count": 26,
   "metadata": {},
   "outputs": [],
   "source": [
    "corr_matrix = titanic.corr()"
   ]
  },
  {
   "cell_type": "code",
   "execution_count": 27,
   "metadata": {},
   "outputs": [
    {
     "data": {
      "text/plain": [
       "Survived       1.000000\n",
       "Fare           0.275139\n",
       "Parch          0.086822\n",
       "SibSp         -0.012085\n",
       "PassengerId   -0.014321\n",
       "Age           -0.093724\n",
       "Pclass        -0.346018\n",
       "Name: Survived, dtype: float64"
      ]
     },
     "execution_count": 27,
     "metadata": {},
     "output_type": "execute_result"
    }
   ],
   "source": [
    "corr_matrix['Survived'].sort_values(ascending=False)"
   ]
  },
  {
   "cell_type": "code",
   "execution_count": 28,
   "metadata": {},
   "outputs": [
    {
     "data": {
      "text/plain": [
       "array([[<matplotlib.axes._subplots.AxesSubplot object at 0x00000245A957F748>,\n",
       "        <matplotlib.axes._subplots.AxesSubplot object at 0x00000245A95DFBA8>,\n",
       "        <matplotlib.axes._subplots.AxesSubplot object at 0x00000245A9607E10>,\n",
       "        <matplotlib.axes._subplots.AxesSubplot object at 0x00000245A963B160>],\n",
       "       [<matplotlib.axes._subplots.AxesSubplot object at 0x00000245A96606D8>,\n",
       "        <matplotlib.axes._subplots.AxesSubplot object at 0x00000245A9688C18>,\n",
       "        <matplotlib.axes._subplots.AxesSubplot object at 0x00000245A96B71D0>,\n",
       "        <matplotlib.axes._subplots.AxesSubplot object at 0x00000245A96E0780>],\n",
       "       [<matplotlib.axes._subplots.AxesSubplot object at 0x00000245A96E07B8>,\n",
       "        <matplotlib.axes._subplots.AxesSubplot object at 0x00000245A9738278>,\n",
       "        <matplotlib.axes._subplots.AxesSubplot object at 0x00000245A97627F0>,\n",
       "        <matplotlib.axes._subplots.AxesSubplot object at 0x00000245A978AD68>],\n",
       "       [<matplotlib.axes._subplots.AxesSubplot object at 0x00000245A97BA320>,\n",
       "        <matplotlib.axes._subplots.AxesSubplot object at 0x00000245A97E2898>,\n",
       "        <matplotlib.axes._subplots.AxesSubplot object at 0x00000245A980CE10>,\n",
       "        <matplotlib.axes._subplots.AxesSubplot object at 0x00000245A983C3C8>]],\n",
       "      dtype=object)"
      ]
     },
     "execution_count": 28,
     "metadata": {},
     "output_type": "execute_result"
    },
    {
     "data": {
      "image/png": "[encoded data removed]",
      "text/plain": [
       "<Figure size 864x576 with 16 Axes>"
      ]
     },
     "metadata": {
      "needs_background": "light"
     },
     "output_type": "display_data"
    }
   ],
   "source": [
    "from pandas.plotting import scatter_matrix\n",
    "\n",
    "attributes = [\"Survived\", \"Parch\", \"Age\", \"Pclass\"]\n",
    "scatter_matrix(titanic[attributes], figsize=(12,8))"
   ]
  },
  {
   "cell_type": "markdown",
   "metadata": {},
   "source": [
    "무엇인가를 알아내기 어려움"
   ]
  },
  {
   "cell_type": "code",
   "execution_count": 29,
   "metadata": {},
   "outputs": [
    {
     "data": {
      "text/plain": [
       "<matplotlib.axes._subplots.AxesSubplot at 0x245a9c4e860>"
      ]
     },
     "execution_count": 29,
     "metadata": {},
     "output_type": "execute_result"
    },
    {
     "data": {
      "image/png": "[encoded data removed]",
      "text/plain": [
       "<Figure size 432x288 with 1 Axes>"
      ]
     },
     "metadata": {
      "needs_background": "light"
     },
     "output_type": "display_data"
    }
   ],
   "source": [
    "titanic.plot(kind=\"scatter\", x=\"Age\", y=\"Survived\", alpha=0.1)"
   ]
  },
  {
   "cell_type": "markdown",
   "metadata": {},
   "source": [
    "target value가 regression처럼 연속적인 숫자가 아니여서 상관관계 조사로는 많은 정보를 얻을 수 없음"
   ]
  },
  {
   "cell_type": "markdown",
   "metadata": {},
   "source": [
    "## 2. 특성 조합"
   ]
  },
  {
   "cell_type": "code",
   "execution_count": 30,
   "metadata": {},
   "outputs": [],
   "source": [
    "titanic[\"Age_per_Pclass\"] = titanic[\"Age\"]/titanic[\"Pclass\"]\n",
    "titanic[\"Fare_per_Pclass\"] = titanic[\"Fare\"]/titanic[\"Pclass\"]\n",
    "titanic[\"Parch_per_Pclass\"] = titanic[\"Parch\"]/titanic[\"Pclass\"]\n",
    "titanic[\"SibSp_per_Pclass\"] = titanic[\"SibSp\"]/titanic[\"Pclass\"]\n",
    "titanic[\"Pclass_per_Fare\"] = titanic[\"Pclass\"]/titanic[\"Fare\"]"
   ]
  },
  {
   "cell_type": "code",
   "execution_count": 31,
   "metadata": {},
   "outputs": [],
   "source": [
    "corr_matrix = titanic.corr()"
   ]
  },
  {
   "cell_type": "code",
   "execution_count": 32,
   "metadata": {},
   "outputs": [
    {
     "data": {
      "text/plain": [
       "Survived            1.000000\n",
       "Fare_per_Pclass     0.281955\n",
       "Fare                0.275139\n",
       "Parch_per_Pclass    0.173965\n",
       "Age_per_Pclass      0.151289\n",
       "SibSp_per_Pclass    0.110139\n",
       "Parch               0.086822\n",
       "SibSp              -0.012085\n",
       "PassengerId        -0.014321\n",
       "Age                -0.093724\n",
       "Pclass_per_Fare    -0.344057\n",
       "Pclass             -0.346018\n",
       "Name: Survived, dtype: float64"
      ]
     },
     "execution_count": 32,
     "metadata": {},
     "output_type": "execute_result"
    }
   ],
   "source": [
    "corr_matrix['Survived'].sort_values(ascending=False)"
   ]
  },
  {
   "cell_type": "markdown",
   "metadata": {},
   "source": [
    "*인덱스 732인 Knight, Mr. Robert J는 the guarantee group의 멤버로서 티켓값을 안내고 탔었음  \n",
    "따라서 마지막 titanic[\"Plcass_per_Far\"]은 inf값을 하나 가짐  \n",
    "후에 오류를 발생시킴으로 Pclass_per_Fare행을 없앰 *"
   ]
  },
  {
   "cell_type": "code",
   "execution_count": 33,
   "metadata": {},
   "outputs": [],
   "source": [
    "titanic.drop(\"Pclass_per_Fare\", axis=1 , inplace = True)"
   ]
  },
  {
   "cell_type": "markdown",
   "metadata": {},
   "source": [
    "object 값이 많기 때문에 쉽게 특성조합을 하기 어려움"
   ]
  },
  {
   "cell_type": "markdown",
   "metadata": {},
   "source": [
    "딱히 좋은 상관관계를 갖는 지표를 찾기가 어려움"
   ]
  },
  {
   "cell_type": "markdown",
   "metadata": {},
   "source": [
    "이러한 문제에 대해서 시각화가 어떤 식으로 진행되야 되는지 모르겠음"
   ]
  },
  {
   "cell_type": "markdown",
   "metadata": {},
   "source": [
    "- 사실 위에 있는 수식은 원하는 바를 제대로 구현하지 못했음  \n",
    "- Pclass는 범주형 자료이기 때문에 특성조합을 하려면 다른 식의 특성조합을 해야함  "
   ]
  },
  {
   "cell_type": "code",
   "execution_count": 34,
   "metadata": {},
   "outputs": [],
   "source": [
    "titanic.drop([\"Age_per_Pclass\", \"Fare_per_Pclass\", \"Parch_per_Pclass\", \"SibSp_per_Pclass\"],axis=1 ,inplace=True)"
   ]
  },
  {
   "cell_type": "markdown",
   "metadata": {},
   "source": [
    "Q. 어떻게 하면 좋을까????"
   ]
  },
  {
   "cell_type": "markdown",
   "metadata": {},
   "source": [
    "# 3. 데이터 전처리"
   ]
  },
  {
   "cell_type": "markdown",
   "metadata": {},
   "source": [
    "## 1. 데이터 정제"
   ]
  },
  {
   "cell_type": "code",
   "execution_count": 35,
   "metadata": {},
   "outputs": [],
   "source": [
    "titanic = final_train_set.drop(\"Survived\", axis=1)"
   ]
  },
  {
   "cell_type": "code",
   "execution_count": 36,
   "metadata": {},
   "outputs": [],
   "source": [
    "titanic_labels = final_train_set[\"Survived\"].copy()"
   ]
  },
  {
   "cell_type": "code",
   "execution_count": 37,
   "metadata": {
    "scrolled": true
   },
   "outputs": [
    {
     "name": "stdout",
     "output_type": "stream",
     "text": [
      "<class 'pandas.core.frame.DataFrame'>\n",
      "Int64Index: 712 entries, 383 to 502\n",
      "Data columns (total 11 columns):\n",
      "PassengerId    712 non-null int64\n",
      "Pclass         712 non-null int64\n",
      "Name           712 non-null object\n",
      "Sex            712 non-null object\n",
      "Age            571 non-null float64\n",
      "SibSp          712 non-null int64\n",
      "Parch          712 non-null int64\n",
      "Ticket         712 non-null object\n",
      "Fare           712 non-null float64\n",
      "Cabin          171 non-null object\n",
      "Embarked       711 non-null object\n",
      "dtypes: float64(2), int64(4), object(5)\n",
      "memory usage: 66.8+ KB\n"
     ]
    }
   ],
   "source": [
    "titanic.info()"
   ]
  },
  {
   "cell_type": "markdown",
   "metadata": {},
   "source": [
    "3가지 선택지가 있음\n",
    "- 해당 구역 제거\n",
    "- 전체 특성 삭제\n",
    "- 어떤 값으로 채움  \n",
    " \n",
    "이 중  \n",
    "Age는 옵션 3  \n",
    "Cabin은 옵션 1  \n",
    "Embared는 옵션 1  \n",
    "을 쓰도록 함"
   ]
  },
  {
   "cell_type": "markdown",
   "metadata": {},
   "source": [
    "- Cabin 처리"
   ]
  },
  {
   "cell_type": "code",
   "execution_count": 38,
   "metadata": {
    "scrolled": true
   },
   "outputs": [],
   "source": [
    "titanic.drop(\"Cabin\", axis=1, inplace=True)"
   ]
  },
  {
   "cell_type": "markdown",
   "metadata": {},
   "source": [
    "***"
   ]
  },
  {
   "cell_type": "markdown",
   "metadata": {},
   "source": [
    "- Age 처리"
   ]
  },
  {
   "cell_type": "markdown",
   "metadata": {},
   "source": [
    "가정2. 나이와 좌석의 상관관계  \n",
    "passenger class에 따라 나이의 평균을 구해 nan값에 집어넣음"
   ]
  },
  {
   "cell_type": "code",
   "execution_count": 39,
   "metadata": {
    "scrolled": false
   },
   "outputs": [
    {
     "data": {
      "text/html": [
       "<div>\n",
       "<style scoped>\n",
       "    .dataframe tbody tr th:only-of-type {\n",
       "        vertical-align: middle;\n",
       "    }\n",
       "\n",
       "    .dataframe tbody tr th {\n",
       "        vertical-align: top;\n",
       "    }\n",
       "\n",
       "    .dataframe thead th {\n",
       "        text-align: right;\n",
       "    }\n",
       "</style>\n",
       "<table border=\"1\" class=\"dataframe\">\n",
       "  <thead>\n",
       "    <tr style=\"text-align: right;\">\n",
       "      <th></th>\n",
       "      <th>PassengerId</th>\n",
       "      <th>Pclass</th>\n",
       "      <th>Age</th>\n",
       "      <th>SibSp</th>\n",
       "      <th>Parch</th>\n",
       "      <th>Fare</th>\n",
       "    </tr>\n",
       "  </thead>\n",
       "  <tbody>\n",
       "    <tr>\n",
       "      <th>383</th>\n",
       "      <td>384</td>\n",
       "      <td>1</td>\n",
       "      <td>35.0</td>\n",
       "      <td>1</td>\n",
       "      <td>0</td>\n",
       "      <td>52.000</td>\n",
       "    </tr>\n",
       "    <tr>\n",
       "      <th>742</th>\n",
       "      <td>743</td>\n",
       "      <td>1</td>\n",
       "      <td>21.0</td>\n",
       "      <td>2</td>\n",
       "      <td>2</td>\n",
       "      <td>262.375</td>\n",
       "    </tr>\n",
       "    <tr>\n",
       "      <th>147</th>\n",
       "      <td>148</td>\n",
       "      <td>3</td>\n",
       "      <td>9.0</td>\n",
       "      <td>2</td>\n",
       "      <td>2</td>\n",
       "      <td>34.375</td>\n",
       "    </tr>\n",
       "    <tr>\n",
       "      <th>480</th>\n",
       "      <td>481</td>\n",
       "      <td>3</td>\n",
       "      <td>9.0</td>\n",
       "      <td>5</td>\n",
       "      <td>2</td>\n",
       "      <td>46.900</td>\n",
       "    </tr>\n",
       "    <tr>\n",
       "      <th>770</th>\n",
       "      <td>771</td>\n",
       "      <td>3</td>\n",
       "      <td>24.0</td>\n",
       "      <td>0</td>\n",
       "      <td>0</td>\n",
       "      <td>9.500</td>\n",
       "    </tr>\n",
       "  </tbody>\n",
       "</table>\n",
       "</div>"
      ],
      "text/plain": [
       "     PassengerId  Pclass   Age  SibSp  Parch     Fare\n",
       "383          384       1  35.0      1      0   52.000\n",
       "742          743       1  21.0      2      2  262.375\n",
       "147          148       3   9.0      2      2   34.375\n",
       "480          481       3   9.0      5      2   46.900\n",
       "770          771       3  24.0      0      0    9.500"
      ]
     },
     "execution_count": 39,
     "metadata": {},
     "output_type": "execute_result"
    }
   ],
   "source": [
    "from sklearn.impute import SimpleImputer\n",
    "imputer = SimpleImputer(strategy='median')\n",
    "titanic_num_including_Pclass = titanic.drop([\"Name\",\"Sex\",\"Ticket\",'Embarked'], axis=1)\n",
    "titanic_num_including_Pclass.head()"
   ]
  },
  {
   "cell_type": "code",
   "execution_count": 40,
   "metadata": {},
   "outputs": [],
   "source": [
    "def num_tr(X):\n",
    "    X = X.reset_index()  ##나중에 인덱스를 살리기 위해\n",
    "    num_tr= pd.DataFrame()  ##빈 데이터프레임을 넣기\n",
    "    for n in range(3):\n",
    "        num_Pclass = X[X['Pclass'] == n+1] \n",
    "        imputer.fit(num_Pclass) ##n+1번째 Pclass에 있는 나이의 중위값을 찾음\n",
    "        num_Pclass_tr = imputer.transform(num_Pclass) ## 넣음\n",
    "        num_tr = num_tr.append(pd.DataFrame(num_Pclass_tr, columns = X.columns)) ##빈 데이터 프레임을 늘려감\n",
    "\n",
    "    num_tr.set_index('index', inplace = True)\n",
    "    del num_tr.index.name\n",
    "    num_tr.drop(\"Pclass\", axis=1, inplace =True)\n",
    "    return num_tr"
   ]
  },
  {
   "cell_type": "code",
   "execution_count": 41,
   "metadata": {
    "scrolled": true
   },
   "outputs": [],
   "source": [
    "titanic_tr = num_tr(titanic_num_including_Pclass)"
   ]
  },
  {
   "cell_type": "markdown",
   "metadata": {},
   "source": [
    "***"
   ]
  },
  {
   "cell_type": "markdown",
   "metadata": {},
   "source": [
    "- Embarked 처리"
   ]
  },
  {
   "cell_type": "code",
   "execution_count": 42,
   "metadata": {},
   "outputs": [],
   "source": [
    "titanic[\"Embarked\"].fillna('S', inplace=True) ##최빈값"
   ]
  },
  {
   "cell_type": "code",
   "execution_count": 43,
   "metadata": {},
   "outputs": [
    {
     "name": "stdout",
     "output_type": "stream",
     "text": [
      "<class 'pandas.core.frame.DataFrame'>\n",
      "Float64Index: 712 entries, 383.0 to 502.0\n",
      "Data columns (total 5 columns):\n",
      "PassengerId    712 non-null float64\n",
      "Age            712 non-null float64\n",
      "SibSp          712 non-null float64\n",
      "Parch          712 non-null float64\n",
      "Fare           712 non-null float64\n",
      "dtypes: float64(5)\n",
      "memory usage: 33.4 KB\n"
     ]
    }
   ],
   "source": [
    "titanic_tr.info()"
   ]
  },
  {
   "cell_type": "markdown",
   "metadata": {},
   "source": [
    "## 2. 텍스트와 범주형 특성 다루기"
   ]
  },
  {
   "cell_type": "code",
   "execution_count": 44,
   "metadata": {},
   "outputs": [
    {
     "name": "stdout",
     "output_type": "stream",
     "text": [
      "<class 'pandas.core.frame.DataFrame'>\n",
      "Int64Index: 712 entries, 383 to 502\n",
      "Data columns (total 10 columns):\n",
      "PassengerId    712 non-null int64\n",
      "Pclass         712 non-null int64\n",
      "Name           712 non-null object\n",
      "Sex            712 non-null object\n",
      "Age            571 non-null float64\n",
      "SibSp          712 non-null int64\n",
      "Parch          712 non-null int64\n",
      "Ticket         712 non-null object\n",
      "Fare           712 non-null float64\n",
      "Embarked       712 non-null object\n",
      "dtypes: float64(2), int64(4), object(4)\n",
      "memory usage: 61.2+ KB\n"
     ]
    }
   ],
   "source": [
    "titanic.info()"
   ]
  },
  {
   "cell_type": "code",
   "execution_count": 45,
   "metadata": {},
   "outputs": [
    {
     "data": {
      "text/html": [
       "<div>\n",
       "<style scoped>\n",
       "    .dataframe tbody tr th:only-of-type {\n",
       "        vertical-align: middle;\n",
       "    }\n",
       "\n",
       "    .dataframe tbody tr th {\n",
       "        vertical-align: top;\n",
       "    }\n",
       "\n",
       "    .dataframe thead th {\n",
       "        text-align: right;\n",
       "    }\n",
       "</style>\n",
       "<table border=\"1\" class=\"dataframe\">\n",
       "  <thead>\n",
       "    <tr style=\"text-align: right;\">\n",
       "      <th></th>\n",
       "      <th>Name</th>\n",
       "      <th>Sex</th>\n",
       "      <th>Ticket</th>\n",
       "      <th>Embarked</th>\n",
       "      <th>Pclass</th>\n",
       "    </tr>\n",
       "  </thead>\n",
       "  <tbody>\n",
       "    <tr>\n",
       "      <th>383</th>\n",
       "      <td>Holverson, Mrs. Alexander Oskar (Mary Aline To...</td>\n",
       "      <td>female</td>\n",
       "      <td>113789</td>\n",
       "      <td>S</td>\n",
       "      <td>1</td>\n",
       "    </tr>\n",
       "    <tr>\n",
       "      <th>742</th>\n",
       "      <td>Ryerson, Miss. Susan Parker \"Suzette\"</td>\n",
       "      <td>female</td>\n",
       "      <td>PC 17608</td>\n",
       "      <td>C</td>\n",
       "      <td>1</td>\n",
       "    </tr>\n",
       "    <tr>\n",
       "      <th>147</th>\n",
       "      <td>Ford, Miss. Robina Maggie \"Ruby\"</td>\n",
       "      <td>female</td>\n",
       "      <td>W./C. 6608</td>\n",
       "      <td>S</td>\n",
       "      <td>3</td>\n",
       "    </tr>\n",
       "    <tr>\n",
       "      <th>480</th>\n",
       "      <td>Goodwin, Master. Harold Victor</td>\n",
       "      <td>male</td>\n",
       "      <td>CA 2144</td>\n",
       "      <td>S</td>\n",
       "      <td>3</td>\n",
       "    </tr>\n",
       "    <tr>\n",
       "      <th>770</th>\n",
       "      <td>Lievens, Mr. Rene Aime</td>\n",
       "      <td>male</td>\n",
       "      <td>345781</td>\n",
       "      <td>S</td>\n",
       "      <td>3</td>\n",
       "    </tr>\n",
       "    <tr>\n",
       "      <th>558</th>\n",
       "      <td>Taussig, Mrs. Emil (Tillie Mandelbaum)</td>\n",
       "      <td>female</td>\n",
       "      <td>110413</td>\n",
       "      <td>S</td>\n",
       "      <td>1</td>\n",
       "    </tr>\n",
       "    <tr>\n",
       "      <th>440</th>\n",
       "      <td>Hart, Mrs. Benjamin (Esther Ada Bloomfield)</td>\n",
       "      <td>female</td>\n",
       "      <td>F.C.C. 13529</td>\n",
       "      <td>S</td>\n",
       "      <td>2</td>\n",
       "    </tr>\n",
       "    <tr>\n",
       "      <th>594</th>\n",
       "      <td>Chapman, Mr. John Henry</td>\n",
       "      <td>male</td>\n",
       "      <td>SC/AH 29037</td>\n",
       "      <td>S</td>\n",
       "      <td>2</td>\n",
       "    </tr>\n",
       "    <tr>\n",
       "      <th>24</th>\n",
       "      <td>Palsson, Miss. Torborg Danira</td>\n",
       "      <td>female</td>\n",
       "      <td>349909</td>\n",
       "      <td>S</td>\n",
       "      <td>3</td>\n",
       "    </tr>\n",
       "    <tr>\n",
       "      <th>635</th>\n",
       "      <td>Davis, Miss. Mary</td>\n",
       "      <td>female</td>\n",
       "      <td>237668</td>\n",
       "      <td>S</td>\n",
       "      <td>2</td>\n",
       "    </tr>\n",
       "  </tbody>\n",
       "</table>\n",
       "</div>"
      ],
      "text/plain": [
       "                                                  Name     Sex        Ticket  \\\n",
       "383  Holverson, Mrs. Alexander Oskar (Mary Aline To...  female        113789   \n",
       "742              Ryerson, Miss. Susan Parker \"Suzette\"  female      PC 17608   \n",
       "147                   Ford, Miss. Robina Maggie \"Ruby\"  female    W./C. 6608   \n",
       "480                     Goodwin, Master. Harold Victor    male       CA 2144   \n",
       "770                             Lievens, Mr. Rene Aime    male        345781   \n",
       "558             Taussig, Mrs. Emil (Tillie Mandelbaum)  female        110413   \n",
       "440        Hart, Mrs. Benjamin (Esther Ada Bloomfield)  female  F.C.C. 13529   \n",
       "594                            Chapman, Mr. John Henry    male   SC/AH 29037   \n",
       "24                       Palsson, Miss. Torborg Danira  female        349909   \n",
       "635                                  Davis, Miss. Mary  female        237668   \n",
       "\n",
       "    Embarked  Pclass  \n",
       "383        S       1  \n",
       "742        C       1  \n",
       "147        S       3  \n",
       "480        S       3  \n",
       "770        S       3  \n",
       "558        S       1  \n",
       "440        S       2  \n",
       "594        S       2  \n",
       "24         S       3  \n",
       "635        S       2  "
      ]
     },
     "execution_count": 45,
     "metadata": {},
     "output_type": "execute_result"
    }
   ],
   "source": [
    "titanic_cat = titanic[[\"Name\", \"Sex\", 'Ticket', \"Embarked\", \"Pclass\"]]\n",
    "titanic_cat.head(10)"
   ]
  },
  {
   "cell_type": "code",
   "execution_count": 46,
   "metadata": {
    "scrolled": false
   },
   "outputs": [
    {
     "name": "stdout",
     "output_type": "stream",
     "text": [
      "<class 'pandas.core.frame.DataFrame'>\n",
      "Int64Index: 712 entries, 383 to 502\n",
      "Data columns (total 5 columns):\n",
      "Name        712 non-null object\n",
      "Sex         712 non-null object\n",
      "Ticket      712 non-null object\n",
      "Embarked    712 non-null object\n",
      "Pclass      712 non-null int64\n",
      "dtypes: int64(1), object(4)\n",
      "memory usage: 33.4+ KB\n"
     ]
    }
   ],
   "source": [
    "titanic_cat.info()"
   ]
  },
  {
   "cell_type": "code",
   "execution_count": 47,
   "metadata": {
    "scrolled": true
   },
   "outputs": [
    {
     "data": {
      "text/plain": [
       "array([[304.,   0.,  36.,   2.,   0.],\n",
       "       [577.,   0., 500.,   0.,   0.],\n",
       "       [209.,   0., 565.,   2.,   2.],\n",
       "       [243.,   1., 471.,   2.,   2.],\n",
       "       [388.,   1., 258.,   2.,   2.],\n",
       "       [637.,   0.,   1.,   2.,   0.],\n",
       "       [283.,   0., 475.,   2.,   1.],\n",
       "       [129.,   1., 521.,   2.,   1.],\n",
       "       [507.,   0., 324.,   2.,   2.],\n",
       "       [172.,   0., 104.,   2.,   1.]])"
      ]
     },
     "execution_count": 47,
     "metadata": {},
     "output_type": "execute_result"
    }
   ],
   "source": [
    "from sklearn.preprocessing import OrdinalEncoder\n",
    "ordinal_encoder = OrdinalEncoder()\n",
    "titanic_cat_encoded = ordinal_encoder.fit_transform(titanic_cat)\n",
    "titanic_cat_encoded[:10]"
   ]
  },
  {
   "cell_type": "code",
   "execution_count": 48,
   "metadata": {},
   "outputs": [
    {
     "data": {
      "text/plain": [
       "[array(['Abbott, Mrs. Stanton (Rosa Hunt)', 'Abelson, Mr. Samuel',\n",
       "        'Abelson, Mrs. Samuel (Hannah Wizosky)', 'Adams, Mr. John',\n",
       "        'Ahlin, Mrs. Johan (Johanna Persdotter Larsson)',\n",
       "        'Aks, Mrs. Sam (Leah Rosen)', 'Alexander, Mr. William',\n",
       "        'Alhomaki, Mr. Ilmari Rudolf', 'Ali, Mr. Ahmed',\n",
       "        'Ali, Mr. William', 'Allen, Miss. Elisabeth Walton',\n",
       "        'Allen, Mr. William Henry', 'Allison, Miss. Helen Loraine',\n",
       "        'Allison, Mrs. Hudson J C (Bessie Waldo Daniels)',\n",
       "        'Allum, Mr. Owen George',\n",
       "        'Andersen-Jensen, Miss. Carla Christine Nielsine',\n",
       "        'Anderson, Mr. Harry', 'Andersson, Master. Sigvard Harald Elias',\n",
       "        'Andersson, Miss. Ebba Iris Alfrida',\n",
       "        'Andersson, Miss. Ellis Anna Maria',\n",
       "        'Andersson, Miss. Sigrid Elisabeth', 'Andersson, Mr. Anders Johan',\n",
       "        'Andersson, Mr. August Edvard (\"Wennerstrom\")',\n",
       "        'Andersson, Mrs. Anders Johan (Alfrida Konstantia Brogren)',\n",
       "        'Andreasson, Mr. Paul Edvin', 'Andrew, Mr. Edgardo Samuel',\n",
       "        'Andrews, Mr. Thomas Jr',\n",
       "        'Appleton, Mrs. Edward Dale (Charlotte Lamson)',\n",
       "        'Arnold-Franchi, Mr. Josef',\n",
       "        'Arnold-Franchi, Mrs. Josef (Josefine Franchi)',\n",
       "        'Artagaveytia, Mr. Ramon', 'Asim, Mr. Adola',\n",
       "        'Asplund, Master. Edvin Rojj Felix',\n",
       "        'Asplund, Miss. Lillian Gertrud',\n",
       "        'Asplund, Mrs. Carl Oscar (Selma Augusta Emilia Johansson)',\n",
       "        'Astor, Mrs. John Jacob (Madeleine Talmadge Force)',\n",
       "        'Attalah, Miss. Malake', 'Attalah, Mr. Sleiman',\n",
       "        'Aubart, Mme. Leontine Pauline', 'Augustsson, Mr. Albert',\n",
       "        'Ayoub, Miss. Banoura', 'Backstrom, Mr. Karl Alfred',\n",
       "        'Backstrom, Mrs. Karl Alfred (Maria Mathilda Gustafsson)',\n",
       "        'Baclini, Miss. Helene Barbara', 'Baclini, Miss. Marie Catherine',\n",
       "        'Bailey, Mr. Percy Andrew', 'Balkic, Mr. Cerin',\n",
       "        'Ball, Mrs. (Ada E Hall)', 'Banfield, Mr. Frederick James',\n",
       "        'Barah, Mr. Hanna Assi', 'Barbara, Miss. Saiide',\n",
       "        'Barbara, Mrs. (Catherine David)', 'Barber, Miss. Ellen \"Nellie\"',\n",
       "        'Barkworth, Mr. Algernon Henry Wilson', 'Barton, Mr. David John',\n",
       "        'Bateman, Rev. Robert James', 'Baumann, Mr. John D',\n",
       "        'Baxter, Mr. Quigg Edmond',\n",
       "        'Baxter, Mrs. James (Helene DeLaudeniere Chaput)',\n",
       "        'Bazzani, Miss. Albina', 'Beane, Mrs. Edward (Ethel Clarke)',\n",
       "        'Beavan, Mr. William Thomas', 'Becker, Master. Richard F',\n",
       "        'Becker, Miss. Marion Louise', 'Beckwith, Mr. Richard Leonard',\n",
       "        'Beckwith, Mrs. Richard Leonard (Sallie Monypeny)',\n",
       "        'Beesley, Mr. Lawrence', 'Behr, Mr. Karl Howell',\n",
       "        'Betros, Mr. Tannous', 'Bidois, Miss. Rosalie', 'Bing, Mr. Lee',\n",
       "        'Bishop, Mr. Dickinson H',\n",
       "        'Bishop, Mrs. Dickinson H (Helen Walton)',\n",
       "        'Bissette, Miss. Amelia', 'Blackwell, Mr. Stephen Weart',\n",
       "        'Blank, Mr. Henry', 'Bonnell, Miss. Elizabeth',\n",
       "        'Bostandyeff, Mr. Guentcho', 'Boulos, Miss. Nourelain',\n",
       "        'Boulos, Mr. Hanna', 'Boulos, Mrs. Joseph (Sultana)',\n",
       "        'Bourke, Miss. Mary', 'Bourke, Mr. John',\n",
       "        'Bourke, Mrs. John (Catherine)', 'Bowen, Mr. David John \"Dai\"',\n",
       "        'Bowerman, Miss. Elsie Edith', 'Bracken, Mr. James H',\n",
       "        'Bradley, Mr. George (\"George Arthur Brayton\")',\n",
       "        'Braund, Mr. Lewis Richard', 'Brewe, Dr. Arthur Jackson',\n",
       "        'Brocklebank, Mr. William Alfred', 'Brown, Miss. Amelia \"Mildred\"',\n",
       "        'Brown, Mr. Thomas William Solomon',\n",
       "        'Brown, Mrs. James Joseph (Margaret Tobin)',\n",
       "        'Bryhl, Mr. Kurt Arnold Gottfrid',\n",
       "        'Burns, Miss. Elizabeth Margaret', 'Buss, Miss. Kate',\n",
       "        'Butler, Mr. Reginald Fenton', 'Butt, Major. Archibald Willingham',\n",
       "        'Byles, Rev. Thomas Roussel Davids', 'Bystrom, Mrs. (Karolina)',\n",
       "        'Cacic, Mr. Luka', 'Cairns, Mr. Alexander',\n",
       "        'Calderhead, Mr. Edward Pennington',\n",
       "        'Caldwell, Master. Alden Gates',\n",
       "        'Caldwell, Mrs. Albert Francis (Sylvia Mae Harbaugh)',\n",
       "        'Calic, Mr. Jovo', 'Calic, Mr. Petar',\n",
       "        'Cameron, Miss. Clear Annie', 'Campbell, Mr. William',\n",
       "        'Canavan, Miss. Mary', 'Cann, Mr. Ernest Charles',\n",
       "        'Caram, Mrs. Joseph (Maria Elias)',\n",
       "        'Cardeza, Mr. Thomas Drake Martinez',\n",
       "        'Carlsson, Mr. August Sigfrid', 'Carlsson, Mr. Frans Olof',\n",
       "        'Carr, Miss. Helen \"Ellen\"', 'Carrau, Mr. Francisco M',\n",
       "        'Carter, Master. William Thornton II', 'Carter, Miss. Lucile Polk',\n",
       "        'Carter, Mr. William Ernest',\n",
       "        'Carter, Mrs. Ernest Courtenay (Lilian Hughes)',\n",
       "        'Carter, Mrs. William Ernest (Lucile Polk)',\n",
       "        'Carter, Rev. Ernest Courtenay', 'Celotti, Mr. Francesco',\n",
       "        'Chaffee, Mr. Herbert Fuller', 'Chambers, Mr. Norman Campbell',\n",
       "        'Chambers, Mrs. Norman Campbell (Bertha Griggs)',\n",
       "        'Chapman, Mr. Charles Henry', 'Chapman, Mr. John Henry',\n",
       "        'Charters, Mr. David', 'Cherry, Miss. Gladys',\n",
       "        'Chibnall, Mrs. (Edith Martha Bowerman)', 'Christmann, Mr. Emil',\n",
       "        'Christy, Miss. Julie Rachel', 'Chronopoulos, Mr. Apostolos',\n",
       "        'Clarke, Mrs. Charles V (Ada Maria Winfield)',\n",
       "        'Cleaver, Miss. Alice', 'Clifford, Mr. George Quincy',\n",
       "        'Coelho, Mr. Domingos Fernandeo', 'Cohen, Mr. Gurshon \"Gus\"',\n",
       "        'Coleff, Mr. Peju', 'Coleff, Mr. Satio',\n",
       "        'Coleridge, Mr. Reginald Charles', 'Collander, Mr. Erik Gustaf',\n",
       "        'Colley, Mr. Edward Pomeroy',\n",
       "        'Collyer, Mrs. Harvey (Charlotte Annie Tate)',\n",
       "        'Connaghton, Mr. Michael', 'Connolly, Miss. Kate',\n",
       "        'Connors, Mr. Patrick', 'Cook, Mr. Jacob', 'Corn, Mr. Harry',\n",
       "        'Coutts, Master. Eden Leslie \"Neville\"',\n",
       "        'Coutts, Master. William Loch \"William\"', 'Coxon, Mr. Daniel',\n",
       "        'Crease, Mr. Ernest James', 'Cribb, Mr. John Hatfield',\n",
       "        'Crosby, Capt. Edward Gifford', 'Crosby, Miss. Harriet R',\n",
       "        'Culumovic, Mr. Jeso',\n",
       "        'Cumings, Mrs. John Bradley (Florence Briggs Thayer)',\n",
       "        'Cunningham, Mr. Alfred Fleming', 'Dahl, Mr. Karl Edwart',\n",
       "        'Dahlberg, Miss. Gerda Ulrika', 'Daly, Mr. Eugene Patrick',\n",
       "        'Daly, Mr. Peter Denis ', 'Danbom, Mr. Ernst Gilbert',\n",
       "        'Danbom, Mrs. Ernst Gilbert (Anna Sigrid Maria Brogren)',\n",
       "        'Daniel, Mr. Robert Williams', 'Danoff, Mr. Yoto',\n",
       "        'Davies, Master. John Morgan Jr', 'Davies, Mr. Alfred J',\n",
       "        'Davis, Miss. Mary', 'Dean, Master. Bertram Vere',\n",
       "        'Dean, Mr. Bertram Frank', 'Dennis, Mr. Samuel',\n",
       "        'Devaney, Miss. Margaret Delia', 'Dick, Mr. Albert Adrian',\n",
       "        'Dick, Mrs. Albert Adrian (Vera Gillespie)', 'Dimic, Mr. Jovan',\n",
       "        'Dodge, Master. Washington', 'Doling, Miss. Elsie',\n",
       "        'Doling, Mrs. John T (Ada Julia Bone)', 'Dooley, Mr. Patrick',\n",
       "        'Dorking, Mr. Edward Arthur', 'Dowdell, Miss. Elizabeth',\n",
       "        'Downton, Mr. William James', 'Drazenoic, Mr. Jozef',\n",
       "        'Drew, Mrs. James Vivian (Lulu Thorne Christian)',\n",
       "        'Duane, Mr. Frank',\n",
       "        'Duff Gordon, Lady. (Lucille Christiana Sutherland) (\"Mrs Morgan\")',\n",
       "        'Duran y More, Miss. Asuncion', 'Edvardsson, Mr. Gustaf Hjalmar',\n",
       "        'Eklund, Mr. Hans Linus', 'Elias, Mr. Dibo',\n",
       "        'Elias, Mr. Joseph Jr', 'Elias, Mr. Tannous',\n",
       "        'Elsbury, Mr. William James', 'Emanuel, Miss. Virginia Ethel',\n",
       "        'Emir, Mr. Farred Chehab', 'Endres, Miss. Caroline Louise',\n",
       "        'Fahlstrom, Mr. Arne Jonas', 'Farthing, Mr. John',\n",
       "        'Faunthorpe, Mrs. Lizzie (Elizabeth Anne Wilkinson)',\n",
       "        'Fischer, Mr. Eberhard Thelander', 'Fleming, Miss. Margaret',\n",
       "        'Flynn, Mr. James', 'Flynn, Mr. John', 'Foo, Mr. Choong',\n",
       "        'Ford, Miss. Robina Maggie \"Ruby\"',\n",
       "        'Ford, Mrs. Edward (Margaret Ann Watson)',\n",
       "        'Foreman, Mr. Benjamin Laventall',\n",
       "        'Fortune, Miss. Alice Elizabeth', 'Fortune, Miss. Mabel Helen',\n",
       "        'Fortune, Mr. Charles Alexander', 'Fox, Mr. Stanley Hubert',\n",
       "        'Frolicher, Miss. Hedwig Margaritha',\n",
       "        'Frolicher-Stehli, Mr. Maxmillian',\n",
       "        'Frost, Mr. Anthony Wood \"Archie\"', 'Fry, Mr. Richard',\n",
       "        'Futrelle, Mr. Jacques Heath',\n",
       "        'Futrelle, Mrs. Jacques Heath (Lily May Peel)',\n",
       "        'Fynney, Mr. Joseph J', 'Gale, Mr. Shadrach',\n",
       "        'Gallagher, Mr. Martin', 'Garfirth, Mr. John',\n",
       "        'Garside, Miss. Ethel', 'Gaskell, Mr. Alfred',\n",
       "        'Gheorgheff, Mr. Stanio', 'Giglio, Mr. Victor',\n",
       "        'Giles, Mr. Frederick Edward', 'Gilinski, Mr. Eliezer',\n",
       "        'Gillespie, Mr. William Henry', 'Gilnagh, Miss. Katherine \"Katie\"',\n",
       "        'Givard, Mr. Hans Kristensen', 'Glynn, Miss. Mary Agatha',\n",
       "        'Goldenberg, Mr. Samuel L',\n",
       "        'Goldenberg, Mrs. Samuel L (Edwiga Grabowska)',\n",
       "        'Goldschmidt, Mr. George B',\n",
       "        'Goldsmith, Master. Frank John William \"Frankie\"',\n",
       "        'Goldsmith, Mr. Frank John',\n",
       "        'Goldsmith, Mrs. Frank John (Emily Alice Brown)',\n",
       "        'Goncalves, Mr. Manuel Estanslas',\n",
       "        'Goodwin, Master. Harold Victor',\n",
       "        'Goodwin, Master. Sidney Leonard',\n",
       "        'Goodwin, Master. William Frederick', 'Goodwin, Miss. Lillian Amy',\n",
       "        'Goodwin, Mr. Charles Edward',\n",
       "        'Goodwin, Mrs. Frederick (Augusta Tyler)',\n",
       "        'Graham, Miss. Margaret Edith', 'Graham, Mr. George Edward',\n",
       "        'Graham, Mrs. William Thompson (Edith Junkins)',\n",
       "        'Green, Mr. George Henry', 'Greenberg, Mr. Samuel',\n",
       "        'Greenfield, Mr. William Bertram', 'Guggenheim, Mr. Benjamin',\n",
       "        'Gustafsson, Mr. Alfred Ossian', 'Gustafsson, Mr. Anders Vilhelm',\n",
       "        'Gustafsson, Mr. Johan Birger', 'Gustafsson, Mr. Karl Gideon',\n",
       "        'Haas, Miss. Aloisia', 'Hagland, Mr. Ingvald Olai Olsen',\n",
       "        'Hagland, Mr. Konrad Mathias Reiersen',\n",
       "        'Hakkarainen, Mr. Pekka Pietari',\n",
       "        'Hakkarainen, Mrs. Pekka Pietari (Elin Matilda Dolck)',\n",
       "        'Hale, Mr. Reginald', 'Hamalainen, Master. Viljo',\n",
       "        'Hamalainen, Mrs. William (Anna)', 'Hampe, Mr. Leon',\n",
       "        'Hansen, Mr. Henrik Juul', 'Hansen, Mr. Henry Damsgaard',\n",
       "        'Harder, Mr. George Achilles',\n",
       "        'Harmer, Mr. Abraham (David Lishin)',\n",
       "        'Harper, Miss. Annie Jessie \"Nina\"', 'Harper, Mr. Henry Sleeper',\n",
       "        'Harper, Mrs. Henry Sleeper (Myna Haxtun)', 'Harris, Mr. George',\n",
       "        'Harris, Mr. Henry Birkhardt',\n",
       "        'Harris, Mrs. Henry Birkhardt (Irene Wallach)',\n",
       "        'Harrison, Mr. William', 'Hart, Miss. Eva Miriam',\n",
       "        'Hart, Mr. Benjamin', 'Hart, Mr. Henry',\n",
       "        'Hart, Mrs. Benjamin (Esther Ada Bloomfield)',\n",
       "        'Hassab, Mr. Hammad', 'Hawksford, Mr. Walter James',\n",
       "        'Hays, Miss. Margaret Bechstein',\n",
       "        'Hays, Mrs. Charles Melville (Clara Jennings Gregg)',\n",
       "        'Healy, Miss. Hanora \"Nora\"', 'Hedman, Mr. Oskar Arvid',\n",
       "        'Heikkinen, Miss. Laina', 'Heininen, Miss. Wendla Maria',\n",
       "        'Hendekovic, Mr. Ignjac', 'Henry, Miss. Delia',\n",
       "        'Hewlett, Mrs. (Mary D Kingcome) ', 'Hickman, Mr. Lewis',\n",
       "        'Hippach, Miss. Jean Gertrude',\n",
       "        'Hippach, Mrs. Louis Albert (Ida Sophia Fischer)',\n",
       "        'Hirvonen, Miss. Hildur E', 'Hocking, Mr. Richard George',\n",
       "        'Hocking, Mrs. Elizabeth (Eliza Needs)', 'Hodges, Mr. Henry Price',\n",
       "        'Holm, Mr. John Fredrik Alexander',\n",
       "        'Holverson, Mr. Alexander Oskar',\n",
       "        'Holverson, Mrs. Alexander Oskar (Mary Aline Towner)',\n",
       "        'Homer, Mr. Harry (\"Mr E Haven\")', 'Honkanen, Miss. Eliina',\n",
       "        'Hood, Mr. Ambrose Jr', 'Horgan, Mr. John', 'Hosono, Mr. Masabumi',\n",
       "        'Hoyt, Mr. William Fisher',\n",
       "        'Hoyt, Mrs. Frederick Maxfield (Jane Anne Forby)',\n",
       "        'Humblen, Mr. Adolf Mathias Nicolai Olsen',\n",
       "        'Hunt, Mr. George Henry', 'Ibrahim Shawah, Mr. Yousseff',\n",
       "        'Ilmakangas, Miss. Pieta Sofia', 'Isham, Miss. Ann Elizabeth',\n",
       "        'Jacobsohn, Mr. Sidney Samuel',\n",
       "        'Jacobsohn, Mrs. Sidney Samuel (Amy Frances Christy)',\n",
       "        'Jalsevac, Mr. Ivan', 'Jansson, Mr. Carl Olof',\n",
       "        'Jardin, Mr. Jose Neto', 'Jenkin, Mr. Stephen Curnow',\n",
       "        'Jensen, Mr. Hans Peder', 'Jensen, Mr. Niels Peder',\n",
       "        'Jensen, Mr. Svend Lauritz', 'Jermyn, Miss. Annie',\n",
       "        'Johannesen-Bratthammer, Mr. Bernt', 'Johanson, Mr. Jakob Alfred',\n",
       "        'Johansson, Mr. Erik', 'Johansson, Mr. Gustaf Joel',\n",
       "        'Johansson, Mr. Karl Johan', 'Johnson, Miss. Eleanor Ileen',\n",
       "        'Johnson, Mr. Alfred', 'Johnson, Mr. Malkolm Joackim',\n",
       "        'Johnson, Mrs. Oscar W (Elisabeth Vilhelmina Berg)',\n",
       "        'Johnston, Miss. Catherine Helen \"Carrie\"',\n",
       "        'Johnston, Mr. Andrew G', 'Jonkoff, Mr. Lalio',\n",
       "        'Jonsson, Mr. Carl', 'Jussila, Miss. Katriina',\n",
       "        'Jussila, Miss. Mari Aina', 'Jussila, Mr. Eiriik',\n",
       "        'Kallio, Mr. Nikolai Erland', 'Kalvik, Mr. Johannes Halvorsen',\n",
       "        'Kantor, Mr. Sinai', 'Kantor, Mrs. Sinai (Miriam Sternin)',\n",
       "        'Karaic, Mr. Milan', 'Karun, Miss. Manca', 'Kassem, Mr. Fared',\n",
       "        'Keane, Mr. Andrew \"Andy\"', 'Keefe, Mr. Arthur',\n",
       "        'Kelly, Miss. Anna Katherine \"Annie Kate\"', 'Kelly, Mr. James',\n",
       "        'Kent, Mr. Edward Austin', 'Kilgannon, Mr. Thomas J',\n",
       "        'Kimball, Mr. Edwin Nelson Jr', 'Kink, Mr. Vincenz',\n",
       "        'Klaber, Mr. Herman', 'Knight, Mr. Robert J',\n",
       "        'Kvillner, Mr. Johan Henrik Johannesson', 'Lahoud, Mr. Sarkis',\n",
       "        'Lahtinen, Mrs. William (Anna Sylfven)',\n",
       "        'Laitinen, Miss. Kristina Sofia', 'Laleff, Mr. Kristo',\n",
       "        'Lam, Mr. Ali', 'Lam, Mr. Len', 'Landergren, Miss. Aurora Adelia',\n",
       "        'Laroche, Miss. Simonne Marie Anne Andree',\n",
       "        'Laroche, Mr. Joseph Philippe Lemercier',\n",
       "        'Larsson, Mr. Bengt Edvin', 'LeRoy, Miss. Bertha',\n",
       "        'Leader, Dr. Alice (Farnham)', 'Leeni, Mr. Fahim (\"Philip Zenni\")',\n",
       "        'Lefebre, Master. Henry Forbes', 'Lefebre, Miss. Ida',\n",
       "        'Lefebre, Miss. Jeannie', 'Lefebre, Miss. Mathilde',\n",
       "        'Lehmann, Miss. Bertha', 'Leinonen, Mr. Antti Gustaf',\n",
       "        'Leitch, Miss. Jessie Wills', 'Lemberopolous, Mr. Peter L',\n",
       "        'Lemore, Mrs. (Amelia Milley)', 'Lennon, Mr. Denis',\n",
       "        'Lesurer, Mr. Gustave J', 'Levy, Mr. Rene Jacques',\n",
       "        'Lewy, Mr. Ervin G', 'Leyson, Mr. Robert William Norman',\n",
       "        'Lievens, Mr. Rene Aime', 'Lindahl, Miss. Agda Thorilda Viktoria',\n",
       "        'Lindblom, Miss. Augusta Charlotta', 'Lindqvist, Mr. Eino William',\n",
       "        'Lines, Miss. Mary Conover', 'Lobb, Mr. William Arthur',\n",
       "        'Lobb, Mrs. William Arthur (Cordelia K Stanlick)',\n",
       "        'Longley, Miss. Gretchen Fiske',\n",
       "        'Louch, Mrs. Charles Alexander (Alice Adelaide Slow)',\n",
       "        'Lovell, Mr. John Hall (\"Henry\")', 'Lulic, Mr. Nikola',\n",
       "        'Lundahl, Mr. Johan Svensson', 'Lurette, Miss. Elise',\n",
       "        'Mack, Mrs. (Mary)', 'Madigan, Miss. Margaret \"Maggie\"',\n",
       "        'Madill, Miss. Georgette Alexandra',\n",
       "        'Maenpaa, Mr. Matti Alexanteri', 'Maioni, Miss. Roberta',\n",
       "        'Maisner, Mr. Simon', 'Mallet, Master. Andre', 'Mamee, Mr. Hanna',\n",
       "        'Mangan, Miss. Mary', 'Mannion, Miss. Margareth',\n",
       "        'Marechal, Mr. Pierre', 'Markoff, Mr. Marin', 'Markun, Mr. Johann',\n",
       "        'Marvin, Mr. Daniel Warner', 'Masselmani, Mrs. Fatima',\n",
       "        'Matthews, Mr. William John',\n",
       "        'Mayne, Mlle. Berthe Antonine (\"Mrs de Villiers\")',\n",
       "        'McCarthy, Mr. Timothy J', 'McCormack, Mr. Thomas Joseph',\n",
       "        'McCoy, Miss. Agnes', 'McCoy, Mr. Bernard', 'McEvoy, Mr. Michael',\n",
       "        'McGough, Mr. James Robert', 'McGovern, Miss. Mary',\n",
       "        'McGowan, Miss. Anna \"Annie\"', 'McKane, Mr. Peter David',\n",
       "        'McMahon, Mr. Martin', 'McNamee, Mr. Neal',\n",
       "        'Mellinger, Miss. Madeleine Violet',\n",
       "        'Mellinger, Mrs. (Elizabeth Anne Maidment)',\n",
       "        'Mellors, Mr. William John', 'Meo, Mr. Alfonzo',\n",
       "        'Mernagh, Mr. Robert', 'Meyer, Mr. Edgar Joseph',\n",
       "        'Meyer, Mrs. Edgar Joseph (Leila Saks)',\n",
       "        'Milling, Mr. Jacob Christian', 'Minahan, Dr. William Edward',\n",
       "        'Minahan, Miss. Daisy E', 'Mineff, Mr. Ivan',\n",
       "        'Mitchell, Mr. Henry Michael', 'Mitkoff, Mr. Mito',\n",
       "        'Mockler, Miss. Helen Mary \"Ellie\"', 'Moen, Mr. Sigurd Hansen',\n",
       "        'Molson, Mr. Harry Markland', 'Montvila, Rev. Juozas',\n",
       "        'Moor, Mrs. (Beila)', 'Moore, Mr. Leonard Charles',\n",
       "        'Moran, Mr. Daniel J', 'Moran, Mr. James', 'Moraweck, Dr. Ernest',\n",
       "        'Morley, Mr. Henry Samuel (\"Mr Henry Marshall\")',\n",
       "        'Morley, Mr. William', 'Morrow, Mr. Thomas Rowan',\n",
       "        'Moss, Mr. Albert Johan',\n",
       "        'Moubarek, Master. Halim Gonios (\"William George\")',\n",
       "        'Moussa, Mrs. (Mantoura Boulos)', 'Mudd, Mr. Thomas Charles',\n",
       "        'Murdlin, Mr. Joseph', 'Murphy, Miss. Katherine \"Kate\"',\n",
       "        'Murphy, Miss. Margaret Jane',\n",
       "        'Myhrman, Mr. Pehr Fabian Oliver Malkolm', 'Naidenoff, Mr. Penko',\n",
       "        'Najib, Miss. Adele Kiamie \"Jane\"', 'Nakid, Miss. Maria (\"Mary\")',\n",
       "        'Nakid, Mr. Sahid', 'Nankoff, Mr. Minko', 'Nasser, Mr. Nicholas',\n",
       "        'Nasser, Mrs. Nicholas (Adele Achem)', 'Natsch, Mr. Charles H',\n",
       "        'Navratil, Master. Edmond Roger', 'Navratil, Master. Michel M',\n",
       "        'Navratil, Mr. Michel (\"Louis M Hoffman\")', 'Nenkoff, Mr. Christo',\n",
       "        'Newell, Miss. Madeleine', 'Newell, Miss. Marjorie',\n",
       "        'Newell, Mr. Arthur Webster', 'Newsom, Miss. Helen Monypeny',\n",
       "        'Nicholson, Mr. Arthur Ernest', 'Nicola-Yarred, Master. Elias',\n",
       "        'Nicola-Yarred, Miss. Jamila', 'Nilsson, Miss. Helmina Josefina',\n",
       "        'Niskanen, Mr. Juha', 'Norman, Mr. Robert Douglas',\n",
       "        'Nosworthy, Mr. Richard Cater', 'Nye, Mrs. (Elizabeth Ramell)',\n",
       "        'Nysveen, Mr. Johan Hansen', \"O'Brien, Mr. Thomas\",\n",
       "        'O\\'Brien, Mrs. Thomas (Johanna \"Hannah\" Godfrey)',\n",
       "        \"O'Connell, Mr. Patrick D\", \"O'Connor, Mr. Maurice\",\n",
       "        'O\\'Dwyer, Miss. Ellen \"Nellie\"', 'O\\'Leary, Miss. Hanora \"Norah\"',\n",
       "        \"O'Sullivan, Miss. Bridget Mary\", 'Ohman, Miss. Velin',\n",
       "        'Olsen, Mr. Henry Margido', 'Olsen, Mr. Karl Siegwart Andreas',\n",
       "        'Olsson, Miss. Elina', 'Olsson, Mr. Nils Johan Goransson',\n",
       "        'Olsvigen, Mr. Thor Anderson', 'Oreskovic, Miss. Marija',\n",
       "        'Oreskovic, Mr. Luka', 'Osen, Mr. Olaf Elon',\n",
       "        'Padro y Manent, Mr. Julian', 'Pain, Dr. Alfred',\n",
       "        'Palsson, Master. Gosta Leonard', 'Palsson, Miss. Stina Viola',\n",
       "        'Palsson, Miss. Torborg Danira',\n",
       "        'Palsson, Mrs. Nils (Alma Cornelia Berglund)',\n",
       "        'Panula, Master. Juha Niilo', 'Panula, Master. Urho Abraham',\n",
       "        'Panula, Mr. Jaako Arnold',\n",
       "        'Panula, Mrs. Juha (Maria Emilia Ojala)',\n",
       "        'Parkes, Mr. Francis \"Frank\"', 'Parr, Mr. William Henry Marsh',\n",
       "        'Parrish, Mrs. (Lutie Davis)', 'Pasic, Mr. Jakob',\n",
       "        'Patchett, Mr. George', 'Paulner, Mr. Uscher',\n",
       "        'Pavlovic, Mr. Stefo', 'Pears, Mr. Thomas Clinton',\n",
       "        'Pears, Mrs. Thomas (Edith Wearne)', 'Peduzzi, Mr. Joseph',\n",
       "        'Pekoniemi, Mr. Edvard',\n",
       "        'Penasco y Castellana, Mr. Victor de Satode',\n",
       "        'Penasco y Castellana, Mrs. Victor de Satode (Maria Josefa Perez de Soto y Vallejo)',\n",
       "        'Pengelly, Mr. Frederick William', 'Perkin, Mr. John Henry',\n",
       "        'Pernot, Mr. Rene', 'Perreault, Miss. Anne', 'Peter, Miss. Anna',\n",
       "        'Peter, Mrs. Catherine (Catherine Rizk)', 'Peters, Miss. Katie',\n",
       "        'Petranec, Miss. Matilda', 'Petroff, Mr. Pastcho (\"Pentcho\")',\n",
       "        'Petterson, Mr. Johan Emil', 'Peuchen, Major. Arthur Godfrey',\n",
       "        'Phillips, Miss. Kate Florence (\"Mrs Kate Louise Phillips Marshall\")',\n",
       "        'Pickard, Mr. Berk (Berk Trembisky)', 'Plotcharsky, Mr. Vasil',\n",
       "        'Ponesell, Mr. Martin', 'Porter, Mr. Walter Chamberlain',\n",
       "        'Potter, Mrs. Thomas Jr (Lily Alexenia Wilson)',\n",
       "        'Quick, Miss. Phyllis May',\n",
       "        'Quick, Mrs. Frederick Charles (Jane Richards)',\n",
       "        'Radeff, Mr. Alexander', 'Razi, Mr. Raihed',\n",
       "        'Reed, Mr. James George', 'Reeves, Mr. David',\n",
       "        'Renouf, Mr. Peter Henry',\n",
       "        'Renouf, Mrs. Peter Henry (Lillian Jefferys)',\n",
       "        'Reuchlin, Jonkheer. John George', 'Reynaldo, Ms. Encarnacion',\n",
       "        'Rice, Master. Arthur', 'Rice, Master. Eugene',\n",
       "        'Rice, Master. George Hugh',\n",
       "        'Rice, Mrs. William (Margaret Norton)', 'Richard, Mr. Emile',\n",
       "        'Richards, Mrs. Sidney (Emily Hocking)', 'Ridsdale, Miss. Lucy',\n",
       "        'Ringhini, Mr. Sante', 'Rintamaki, Mr. Matti',\n",
       "        'Robert, Mrs. Edward Scott (Elisabeth Walton McMillan)',\n",
       "        'Robins, Mrs. Alexander A (Grace Charity Laury)',\n",
       "        'Roebling, Mr. Washington Augustus II', 'Rogers, Mr. William John',\n",
       "        'Romaine, Mr. Charles Hallace (\"Mr C Rolmane\")',\n",
       "        'Rood, Mr. Hugh Roscoe', 'Rosblom, Mr. Viktor Richard',\n",
       "        'Rosblom, Mrs. Viktor (Helena Wilhelmina)', 'Ross, Mr. John Hugo',\n",
       "        'Rothes, the Countess. of (Lucy Noel Martha Dyer-Edwards)',\n",
       "        'Rouse, Mr. Richard Henry', 'Rugg, Miss. Emily',\n",
       "        'Rush, Mr. Alfred George John', 'Ryan, Mr. Patrick',\n",
       "        'Ryerson, Miss. Emily Borie',\n",
       "        'Ryerson, Miss. Susan Parker \"Suzette\"', 'Saad, Mr. Amin',\n",
       "        'Saad, Mr. Khalil', 'Saalfeld, Mr. Adolphe',\n",
       "        'Sadlier, Mr. Matthew', 'Sage, Miss. Constance Gladys',\n",
       "        'Sage, Mr. George John Jr', 'Sagesser, Mlle. Emma',\n",
       "        'Salkjelsvik, Miss. Anna Kristine', 'Salonen, Mr. Johan Werner',\n",
       "        'Samaan, Mr. Youssef', 'Sandstrom, Miss. Marguerite Rut',\n",
       "        'Sandstrom, Mrs. Hjalmar (Agnes Charlotta Bengtsson)',\n",
       "        'Saundercock, Mr. William Henry', 'Sawyer, Mr. Frederick Charles',\n",
       "        'Scanlan, Mr. James', 'Sdycoff, Mr. Todor',\n",
       "        'Sedgwick, Mr. Charles Frederick Waddington',\n",
       "        'Serepeca, Miss. Augusta', 'Sharp, Mr. Percival James R',\n",
       "        'Sheerlinck, Mr. Jan Baptist', 'Shellard, Mr. Frederick William',\n",
       "        'Shorney, Mr. Charles Joseph', 'Silven, Miss. Lyyli Karoliina',\n",
       "        'Simmons, Mr. John', 'Sinkkonen, Miss. Anna',\n",
       "        'Sirayanian, Mr. Orsen', 'Sivic, Mr. Husein',\n",
       "        'Sivola, Mr. Antti Wilhelm', 'Skoog, Master. Karl Thorsten',\n",
       "        'Skoog, Miss. Mabel', 'Skoog, Miss. Margit Elizabeth',\n",
       "        'Skoog, Mrs. William (Anna Bernhardina Karlsson)',\n",
       "        'Slabenoff, Mr. Petco', 'Slayter, Miss. Hilda Mary',\n",
       "        'Slocovski, Mr. Selman Francis', 'Sloper, Mr. William Thompson',\n",
       "        'Smith, Miss. Marion Elsie', 'Smith, Mr. James Clinch',\n",
       "        'Smith, Mr. Thomas', 'Sobey, Mr. Samuel James Hayden',\n",
       "        'Soholt, Mr. Peter Andreas Lauritz Andersen',\n",
       "        'Somerton, Mr. Francis William',\n",
       "        'Spedden, Mrs. Frederic Oakley (Margaretta Corning Stone)',\n",
       "        'Spencer, Mrs. William Augustus (Marie Eugenie)',\n",
       "        'Staneff, Mr. Ivan', 'Stanley, Miss. Amy Zillah Elsie',\n",
       "        'Stephenson, Mrs. Walter Bertram (Martha Eustis)',\n",
       "        'Stone, Mrs. George Nelson (Martha Evelyn)',\n",
       "        'Stoytcheff, Mr. Ilia', 'Strandberg, Miss. Ida Sofia',\n",
       "        'Strom, Miss. Telma Matilda',\n",
       "        'Strom, Mrs. Wilhelm (Elna Matilda Persson)',\n",
       "        'Sunderland, Mr. Victor Francis', 'Sutehall, Mr. Henry Jr',\n",
       "        'Sutton, Mr. Frederick', 'Svensson, Mr. Johan',\n",
       "        'Swift, Mrs. Frederick Joel (Margaret Welles Barron)',\n",
       "        'Taussig, Miss. Ruth', 'Taussig, Mr. Emil',\n",
       "        'Taussig, Mrs. Emil (Tillie Mandelbaum)',\n",
       "        'Taylor, Mr. Elmer Zebley', 'Thayer, Mr. John Borland',\n",
       "        'Thayer, Mr. John Borland Jr',\n",
       "        'Thayer, Mrs. John Borland (Marian Longstreth Morris)',\n",
       "        'Theobald, Mr. Thomas Leonard', 'Thomas, Master. Assad Alexander',\n",
       "        'Thorne, Mrs. Gertrude Maybelle', 'Thorneycroft, Mr. Percival',\n",
       "        'Thorneycroft, Mrs. Percival (Florence Kate White)',\n",
       "        'Tikkanen, Mr. Juho', 'Tobin, Mr. Roger', 'Todoroff, Mr. Lalio',\n",
       "        'Toomey, Miss. Ellen', 'Torber, Mr. Ernst William',\n",
       "        'Tornquist, Mr. William Henry',\n",
       "        'Touma, Mrs. Darwis (Hanne Youssef Razi)',\n",
       "        'Troupiansky, Mr. Moses Aaron', 'Trout, Mrs. William H (Jessie L)',\n",
       "        'Troutt, Miss. Edwina Celia \"Winnie\"', 'Turcin, Mr. Stjepan',\n",
       "        'Turja, Miss. Anna Sofia', 'Turkula, Mrs. (Hedwig)',\n",
       "        'Turpin, Mrs. William John Robert (Dorothy Ann Wonnacott)',\n",
       "        'Uruchurtu, Don. Manuel E', 'Van Impe, Miss. Catharina',\n",
       "        'Van Impe, Mr. Jean Baptiste', 'Van der hoef, Mr. Wyckoff',\n",
       "        'Vande Velde, Mr. Johannes Joseph',\n",
       "        'Vande Walle, Mr. Nestor Cyriel', 'Vanden Steen, Mr. Leo Peter',\n",
       "        'Vander Planke, Mrs. Julius (Emelia Maria Vandemoortele)',\n",
       "        'Vovk, Mr. Janko', 'Waelens, Mr. Achille',\n",
       "        'Walker, Mr. William Anderson',\n",
       "        'Warren, Mrs. Frank Manley (Anna Sophia Atkinson)',\n",
       "        'Watson, Mr. Ennis Hastings',\n",
       "        'Watt, Mrs. James (Elizabeth \"Bessie\" Inglis Milne)',\n",
       "        'Webber, Miss. Susan', 'Webber, Mr. James', 'Weir, Col. John',\n",
       "        'Weisz, Mrs. Leopold (Mathilde Francoise Pede)',\n",
       "        'Wells, Miss. Joan', 'West, Miss. Constance Mirium',\n",
       "        'West, Mr. Edwy Arthur', 'Wheadon, Mr. Edward H',\n",
       "        'White, Mr. Percival Wayland', 'White, Mr. Richard Frasar',\n",
       "        'Wick, Miss. Mary Natalie',\n",
       "        'Wick, Mrs. George Dennick (Mary Hitchcock)',\n",
       "        'Widegren, Mr. Carl/Charles Peter', 'Widener, Mr. Harry Elkins',\n",
       "        'Wiklund, Mr. Jakob Alfred', 'Wilhelms, Mr. Charles',\n",
       "        'Willey, Mr. Edward', 'Williams, Mr. Charles Duane',\n",
       "        'Williams, Mr. Charles Eugene',\n",
       "        'Williams, Mr. Howard Hugh \"Harry\"',\n",
       "        'Williams-Lambert, Mr. Fletcher Fellows', 'Windelov, Mr. Einar',\n",
       "        'Wiseman, Mr. Phillippe', 'Woolner, Mr. Hugh',\n",
       "        'Wright, Mr. George', 'Yasbeck, Mrs. Antoni (Selini Alexander)',\n",
       "        'Young, Miss. Marie Grice', 'Yousif, Mr. Wazli',\n",
       "        'Yousseff, Mr. Gerious', 'Yrois, Miss. Henriette (\"Mrs Harbeck\")',\n",
       "        'Zabour, Miss. Thamine', 'Zimmerman, Mr. Leo',\n",
       "        'de Messemaeker, Mrs. Guillaume Joseph (Emma)',\n",
       "        'de Pelsmaeker, Mr. Alfons', 'del Carlo, Mr. Sebastiano',\n",
       "        'van Billiard, Mr. Austin Blyler', 'van Melkebeke, Mr. Philemon'],\n",
       "       dtype=object),\n",
       " array(['female', 'male'], dtype=object),\n",
       " array(['110152', '110413', '110465', '110813', '111240', '111361',\n",
       "        '111369', '111426', '111427', '111428', '112050', '112052',\n",
       "        '112053', '112058', '112059', '112277', '112379', '113028',\n",
       "        '113050', '113051', '113055', '113059', '113503', '113505',\n",
       "        '113510', '113572', '113760', '113767', '113773', '113776',\n",
       "        '113781', '113783', '113784', '113786', '113787', '113788',\n",
       "        '113789', '113798', '113800', '113803', '113804', '113806',\n",
       "        '113807', '11668', '11751', '11752', '11753', '11755', '11765',\n",
       "        '11767', '11769', '11771', '11774', '11813', '11967', '12233',\n",
       "        '12460', '12749', '13049', '13502', '13567', '13568', '14313',\n",
       "        '14973', '1601', '16966', '16988', '17421', '17453', '17463',\n",
       "        '17465', '17466', '17474', '17764', '19877', '19928', '19943',\n",
       "        '19947', '19950', '19952', '19972', '19988', '19996', '2003',\n",
       "        '211536', '21440', '218629', '220367', '2223', '228414', '229236',\n",
       "        '230080', '230136', '230433', '230434', '231919', '231945',\n",
       "        '233639', '234360', '234686', '234818', '236171', '236852',\n",
       "        '236853', '237668', '237736', '237789', '237798', '239853',\n",
       "        '239854', '239855', '239856', '239865', '240929', '24160',\n",
       "        '243847', '243880', '244252', '244270', '244278', '244310',\n",
       "        '244358', '244361', '244367', '244373', '248698', '248706',\n",
       "        '248727', '248731', '248733', '248738', '248740', '248747',\n",
       "        '250643', '250644', '250646', '250647', '250648', '250649',\n",
       "        '250651', '250652', '250653', '250655', '2620', '2624', '2625',\n",
       "        '2626', '2627', '2629', '2631', '26360', '2647', '2648', '2649',\n",
       "        '2650', '2651', '2653', '2659', '2661', '2662', '2663', '2664',\n",
       "        '2665', '2666', '2667', '2668', '2669', '2671', '2672', '2674',\n",
       "        '2677', '2678', '2680', '2683', '2685', '2687', '2689', '2690',\n",
       "        '2691', '2694', '2695', '2700', '27042', '27267', '27849', '28134',\n",
       "        '28220', '28228', '28403', '28551', '28664', '28665', '29011',\n",
       "        '2908', '29103', '29104', '29105', '29106', '29108', '2926',\n",
       "        '29750', '3101264', '3101267', '3101276', '3101277', '3101278',\n",
       "        '3101295', '3101296', '3101298', '31027', '312991', '31418',\n",
       "        '315082', '315086', '315088', '315089', '315090', '315093',\n",
       "        '315094', '315096', '315097', '315098', '315151', '323592',\n",
       "        '323951', '324669', '330877', '330909', '330919', '330923',\n",
       "        '330931', '330935', '330958', '330959', '330980', '334912',\n",
       "        '335097', '335677', '33638', '336439', '3411', '341826', '34218',\n",
       "        '342826', '343120', '343275', '343276', '345364', '345572',\n",
       "        '345763', '345767', '345769', '345770', '345773', '345777',\n",
       "        '345778', '345779', '345780', '345781', '345783', '3460', '347054',\n",
       "        '347060', '347062', '347063', '347064', '347067', '347069',\n",
       "        '347071', '347073', '347074', '347076', '347077', '347078',\n",
       "        '347080', '347082', '347085', '347088', '347089', '3474', '347464',\n",
       "        '347466', '347468', '347470', '347742', '347743', '348121',\n",
       "        '348123', '348124', '349204', '349205', '349206', '349208',\n",
       "        '349209', '349210', '349213', '349214', '349215', '349216',\n",
       "        '349217', '349218', '349219', '349221', '349222', '349223',\n",
       "        '349224', '349227', '349233', '349234', '349236', '349237',\n",
       "        '349240', '349241', '349242', '349243', '349245', '349246',\n",
       "        '349247', '349248', '349251', '349252', '349254', '349256',\n",
       "        '349257', '349909', '349912', '350025', '350029', '350034',\n",
       "        '350036', '350042', '350043', '350046', '350047', '350048',\n",
       "        '350050', '350052', '350407', '350417', '35273', '35281', '35851',\n",
       "        '358585', '36209', '362316', '363291', '363294', '363592',\n",
       "        '364500', '364506', '364511', '364512', '364516', '364846',\n",
       "        '364848', '364849', '364850', '364851', '36568', '367226',\n",
       "        '367228', '367230', '367231', '367655', '368323', '36864', '36865',\n",
       "        '36866', '368703', '36928', '36947', '36963', '36967', '36973',\n",
       "        '370129', '370365', '370369', '370370', '370371', '370372',\n",
       "        '370373', '370375', '370376', '370377', '371060', '371110',\n",
       "        '371362', '372622', '373450', '374887', '374910', '376564',\n",
       "        '376566', '382649', '382651', '382652', '383121', '384461',\n",
       "        '392091', '392096', '394140', '4133', '4134', '4135', '4136',\n",
       "        '4137', '4138', '4579', '54636', '5727', '65303', '65304', '65306',\n",
       "        '6563', '693', '695', '7534', '7540', '7546', '7552', '7553',\n",
       "        '7598', '8475', '9234', 'A./5. 2152', 'A./5. 3235', 'A.5. 11206',\n",
       "        'A.5. 18509', 'A/4 48871', 'A/4. 20589', 'A/4. 34244',\n",
       "        'A/4. 39886', 'A/5 21172', 'A/5 21173', 'A/5 21174', 'A/5 2466',\n",
       "        'A/5 2817', 'A/5 3536', 'A/5 3540', 'A/5 3594', 'A/5 3902',\n",
       "        'A/5. 10482', 'A/5. 13032', 'A/5. 2151', 'A/5. 3336', 'A/5. 3337',\n",
       "        'A/5. 851', 'A/S 2816', 'A4. 54510', 'C 4001', 'C 7075', 'C 7077',\n",
       "        'C.A. 17248', 'C.A. 18723', 'C.A. 2315', 'C.A. 24579',\n",
       "        'C.A. 24580', 'C.A. 2673', 'C.A. 29178', 'C.A. 29395',\n",
       "        'C.A. 29566', 'C.A. 31026', 'C.A. 31921', 'C.A. 33111',\n",
       "        'C.A. 33112', 'C.A. 33595', 'C.A. 34260', 'C.A. 34651',\n",
       "        'C.A. 37671', 'C.A. 6212', 'C.A./SOTON 34068', 'CA 2144',\n",
       "        'CA. 2314', 'CA. 2343', 'F.C.C. 13528', 'F.C.C. 13529',\n",
       "        'F.C.C. 13531', 'LINE', 'P/PP 3381', 'PC 17318', 'PC 17473',\n",
       "        'PC 17476', 'PC 17477', 'PC 17482', 'PC 17483', 'PC 17558',\n",
       "        'PC 17569', 'PC 17572', 'PC 17582', 'PC 17585', 'PC 17590',\n",
       "        'PC 17592', 'PC 17593', 'PC 17595', 'PC 17596', 'PC 17597',\n",
       "        'PC 17599', 'PC 17600', 'PC 17601', 'PC 17604', 'PC 17608',\n",
       "        'PC 17609', 'PC 17610', 'PC 17612', 'PC 17754', 'PC 17755',\n",
       "        'PC 17757', 'PC 17758', 'PC 17759', 'PC 17760', 'PC 17761',\n",
       "        'PP 9549', 'S.C./A.4. 23567', 'S.C./PARIS 2079', 'S.O./P.P. 3',\n",
       "        'S.O./P.P. 751', 'S.O.C. 14879', 'S.O.P. 1166', 'S.P. 3464',\n",
       "        'S.W./PP 752', 'SC 1748', 'SC/AH 29037', 'SC/AH 3085',\n",
       "        'SC/PARIS 2131', 'SC/PARIS 2133', 'SC/PARIS 2146', 'SC/PARIS 2149',\n",
       "        'SC/PARIS 2167', 'SC/Paris 2123', 'SC/Paris 2163', 'SCO/W 1585',\n",
       "        'SOTON/O.Q. 3101305', 'SOTON/O.Q. 3101306', 'SOTON/O.Q. 3101307',\n",
       "        'SOTON/O.Q. 3101310', 'SOTON/O.Q. 3101311', 'SOTON/O.Q. 3101312',\n",
       "        'SOTON/O.Q. 392078', 'SOTON/O2 3101287', 'SOTON/OQ 3101316',\n",
       "        'SOTON/OQ 3101317', 'SOTON/OQ 392076', 'SOTON/OQ 392082',\n",
       "        'SOTON/OQ 392086', 'SOTON/OQ 392089', 'SOTON/OQ 392090',\n",
       "        'STON/O 2. 3101273', 'STON/O 2. 3101274', 'STON/O 2. 3101275',\n",
       "        'STON/O 2. 3101280', 'STON/O 2. 3101285', 'STON/O 2. 3101286',\n",
       "        'STON/O 2. 3101289', 'STON/O 2. 3101292', 'STON/O 2. 3101293',\n",
       "        'STON/O 2. 3101294', 'STON/O2. 3101271', 'STON/O2. 3101279',\n",
       "        'STON/O2. 3101282', 'STON/O2. 3101283', 'STON/O2. 3101290',\n",
       "        'SW/PP 751', 'W./C. 14258', 'W./C. 14263', 'W./C. 6607',\n",
       "        'W./C. 6608', 'W.E.P. 5734', 'WE/P 5735'], dtype=object),\n",
       " array(['C', 'Q', 'S'], dtype=object),\n",
       " array([1, 2, 3], dtype=object)]"
      ]
     },
     "execution_count": 48,
     "metadata": {},
     "output_type": "execute_result"
    }
   ],
   "source": [
    "ordinal_encoder.categories_"
   ]
  },
  {
   "cell_type": "code",
   "execution_count": 49,
   "metadata": {},
   "outputs": [
    {
     "name": "stderr",
     "output_type": "stream",
     "text": [
      "c:\\python\\lib\\site-packages\\sklearn\\preprocessing\\_encoders.py:363: FutureWarning: The handling of integer data will change in version 0.22. Currently, the categories are determined based on the range [0, max(values)], while in the future they will be determined based on the unique values.\n",
      "If you want the future behaviour and silence this warning, you can specify \"categories='auto'\".\n",
      "In case you used a LabelEncoder before this OneHotEncoder to convert the categories to integers, then you can now use the OneHotEncoder directly.\n",
      "  warnings.warn(msg, FutureWarning)\n"
     ]
    }
   ],
   "source": [
    "from sklearn.preprocessing import OneHotEncoder\n",
    "encoder = OneHotEncoder()\n",
    "housing_cat_1hot = encoder.fit_transform(titanic_cat_encoded)"
   ]
  },
  {
   "cell_type": "code",
   "execution_count": null,
   "metadata": {},
   "outputs": [],
   "source": []
  },
  {
   "cell_type": "code",
   "execution_count": null,
   "metadata": {},
   "outputs": [],
   "source": []
  },
  {
   "cell_type": "code",
   "execution_count": null,
   "metadata": {},
   "outputs": [],
   "source": []
  },
  {
   "cell_type": "code",
   "execution_count": null,
   "metadata": {},
   "outputs": [],
   "source": []
  },
  {
   "cell_type": "code",
   "execution_count": null,
   "metadata": {},
   "outputs": [],
   "source": []
  },
  {
   "cell_type": "code",
   "execution_count": null,
   "metadata": {},
   "outputs": [],
   "source": []
  },
  {
   "cell_type": "code",
   "execution_count": null,
   "metadata": {},
   "outputs": [],
   "source": []
  },
  {
   "cell_type": "code",
   "execution_count": null,
   "metadata": {},
   "outputs": [],
   "source": []
  },
  {
   "cell_type": "code",
   "execution_count": null,
   "metadata": {},
   "outputs": [],
   "source": []
  },
  {
   "cell_type": "code",
   "execution_count": null,
   "metadata": {},
   "outputs": [],
   "source": []
  },
  {
   "cell_type": "markdown",
   "metadata": {},
   "source": [
    "## 3. 나만의 변환기"
   ]
  },
  {
   "cell_type": "code",
   "execution_count": 50,
   "metadata": {},
   "outputs": [],
   "source": [
    "from sklearn.base import BaseEstimator, TransformerMixin\n",
    "\n",
    "class NumberTransformer(BaseEstimator, TransformerMixin):\n",
    "    def __init__(self, imputer_strategy='median'):\n",
    "        self.imputer = SimpleImputer(strategy=imputer_strategy)\n",
    "    def fit(self, X, y=None):\n",
    "        return (self)\n",
    "    def transform(self, X, y=None):\n",
    "        X = X.reset_index()\n",
    "        num_tr= pd.DataFrame()  ##빈 데이터프레임을 넣기\n",
    "        for n in range(3):\n",
    "            num_Pclass = X[X.loc[: ,'Pclass'] == n+1] \n",
    "            self.imputer.fit(num_Pclass) ##n+1번째 Pclass에 있는 나이의 중위값을 찾음\n",
    "            num_Pclass_tr = self.imputer.transform(num_Pclass) ## 넣음\n",
    "            num_tr = num_tr.append(pd.DataFrame(num_Pclass_tr, columns = X.columns)) ##빈 데이터 프레임을 늘려감\n",
    "            \n",
    "        num_tr.set_index('index', inplace = True)\n",
    "        del num_tr.index.name\n",
    "        num_tr.drop(\"Pclass\", axis=1, inplace=True) ##Pclass는 사실 범주형 자료임으로 drop\n",
    "        return num_tr\n"
   ]
  },
  {
   "cell_type": "markdown",
   "metadata": {},
   "source": [
    "특성의 조합이 있다면 더 사용할 수 있겠지만 지금은 특성 조합을 어떻게 실행해야 될지 모르겠음"
   ]
  },
  {
   "cell_type": "markdown",
   "metadata": {},
   "source": [
    "## 4. 변환 파이프라인"
   ]
  },
  {
   "cell_type": "code",
   "execution_count": 51,
   "metadata": {},
   "outputs": [],
   "source": [
    "from sklearn.pipeline import Pipeline\n",
    "from sklearn.preprocessing import StandardScaler\n",
    "\n",
    "num_pipeline = Pipeline([\n",
    "    ('imputer', NumberTransformer()),\n",
    "    ('std_scaler', StandardScaler()),\n",
    "    ])\n",
    "\n"
   ]
  },
  {
   "cell_type": "code",
   "execution_count": 52,
   "metadata": {},
   "outputs": [],
   "source": [
    "titanic_num_tr = num_pipeline.fit_transform(titanic_num_including_Pclass)"
   ]
  },
  {
   "cell_type": "code",
   "execution_count": 53,
   "metadata": {},
   "outputs": [
    {
     "data": {
      "text/plain": [
       "(712, 5)"
      ]
     },
     "execution_count": 53,
     "metadata": {},
     "output_type": "execute_result"
    }
   ],
   "source": [
    "titanic_num_tr.shape"
   ]
  },
  {
   "cell_type": "markdown",
   "metadata": {},
   "source": [
    "데이터 뽑기"
   ]
  },
  {
   "cell_type": "code",
   "execution_count": 54,
   "metadata": {},
   "outputs": [],
   "source": [
    "from sklearn.base import BaseEstimator, TransformerMixin\n",
    "\n",
    "class DataFrameSelector(BaseEstimator, TransformerMixin):\n",
    "    def __init__(self, attribute_names):\n",
    "        self.attribute_names = attribute_names\n",
    "    def fit(self, X, y=None):\n",
    "        return self\n",
    "    def transform(self, X):\n",
    "        return X[self.attribute_names] ##2장에서는 .value가 있지만 우리의 NumberTransformer는 데이터 프레임을 다룸"
   ]
  },
  {
   "cell_type": "code",
   "execution_count": 55,
   "metadata": {},
   "outputs": [],
   "source": [
    "num_attribs = list(titanic_num_including_Pclass)\n",
    "cat_attribs = list(titanic_cat)\n",
    "\n",
    "num_pipeline = Pipeline([\n",
    "    ('selector', DataFrameSelector(num_attribs)),\n",
    "    ('imputer', NumberTransformer()),\n",
    "    ('std_scaler', StandardScaler()),\n",
    "    ])\n",
    "\n",
    "cat_pipeline = Pipeline([\n",
    "    ('selector', DataFrameSelector(cat_attribs)),\n",
    "    ('cat_pipeline', OneHotEncoder(sparse=False)),    \n",
    "    ])"
   ]
  },
  {
   "cell_type": "code",
   "execution_count": 56,
   "metadata": {},
   "outputs": [],
   "source": [
    "titanic_cat_tr = cat_pipeline.fit_transform(titanic)"
   ]
  },
  {
   "cell_type": "code",
   "execution_count": 57,
   "metadata": {},
   "outputs": [
    {
     "data": {
      "text/plain": [
       "['Name', 'Sex', 'Ticket', 'Embarked', 'Pclass']"
      ]
     },
     "execution_count": 57,
     "metadata": {},
     "output_type": "execute_result"
    }
   ],
   "source": [
    "cat_attribs"
   ]
  },
  {
   "cell_type": "code",
   "execution_count": 58,
   "metadata": {},
   "outputs": [
    {
     "data": {
      "text/plain": [
       "(712, 1288)"
      ]
     },
     "execution_count": 58,
     "metadata": {},
     "output_type": "execute_result"
    }
   ],
   "source": [
    "titanic_cat_tr.shape  ##아마 sparse 때문에 그런 듯"
   ]
  },
  {
   "cell_type": "code",
   "execution_count": 59,
   "metadata": {},
   "outputs": [],
   "source": [
    "from sklearn.pipeline import FeatureUnion\n",
    "\n",
    "full_pipeline = FeatureUnion(transformer_list=[\n",
    "    ('num_pipeline', num_pipeline),\n",
    "    ('cat_pipeline', cat_pipeline),\n",
    "    ])"
   ]
  },
  {
   "cell_type": "code",
   "execution_count": 60,
   "metadata": {},
   "outputs": [],
   "source": [
    "titanic_prepared = full_pipeline.fit_transform(titanic)"
   ]
  },
  {
   "cell_type": "code",
   "execution_count": 65,
   "metadata": {},
   "outputs": [
    {
     "data": {
      "text/plain": [
       "(712, 1293)"
      ]
     },
     "execution_count": 65,
     "metadata": {},
     "output_type": "execute_result"
    }
   ],
   "source": [
    "titanic_prepared.shape"
   ]
  },
  {
   "cell_type": "markdown",
   "metadata": {},
   "source": [
    "파이프 라인 완성!"
   ]
  },
  {
   "cell_type": "markdown",
   "metadata": {},
   "source": [
    "# 4. 모델 선택"
   ]
  },
  {
   "cell_type": "code",
   "execution_count": 77,
   "metadata": {},
   "outputs": [
    {
     "data": {
      "text/plain": [
       "RandomForestClassifier(bootstrap=True, class_weight=None, criterion='gini',\n",
       "            max_depth=None, max_features='auto', max_leaf_nodes=None,\n",
       "            min_impurity_decrease=0.0, min_impurity_split=None,\n",
       "            min_samples_leaf=1, min_samples_split=2,\n",
       "            min_weight_fraction_leaf=0.0, n_estimators=500, n_jobs=-1,\n",
       "            oob_score=False, random_state=None, verbose=0,\n",
       "            warm_start=False)"
      ]
     },
     "execution_count": 77,
     "metadata": {},
     "output_type": "execute_result"
    }
   ],
   "source": [
    "from sklearn.ensemble import RandomForestClassifier\n",
    "\n",
    "forest_clf = RandomForestClassifier(n_estimators=500, n_jobs=-1)\n",
    "forest_clf.fit(titanic_prepared, titanic_labels)"
   ]
  },
  {
   "cell_type": "code",
   "execution_count": 78,
   "metadata": {},
   "outputs": [
    {
     "name": "stderr",
     "output_type": "stream",
     "text": [
      "c:\\python\\lib\\site-packages\\sklearn\\model_selection\\_split.py:1943: FutureWarning: You should specify a value for 'cv' instead of relying on the default value. The default value will change from 3 to 5 in version 0.22.\n",
      "  warnings.warn(CV_WARNING, FutureWarning)\n"
     ]
    }
   ],
   "source": [
    "from sklearn.model_selection import cross_val_predict\n",
    "\n",
    "titanic_train_pred = cross_val_predict(forest_clf, titanic_prepared, titanic_labels)"
   ]
  },
  {
   "cell_type": "code",
   "execution_count": 80,
   "metadata": {
    "collapsed": true
   },
   "outputs": [
    {
     "data": {
      "text/plain": [
       "array([1, 1, 0, 0, 0, 1, 1, 0, 0, 1, 0, 0, 1, 0, 0, 1, 0, 1, 1, 0, 1, 1,\n",
       "       0, 1, 0, 0, 0, 1, 0, 0, 1, 0, 0, 0, 0, 0, 0, 1, 0, 0, 0, 1, 0, 0,\n",
       "       0, 0, 0, 0, 0, 0, 1, 1, 1, 0, 0, 0, 1, 0, 0, 1, 1, 0, 0, 0, 0, 0,\n",
       "       1, 1, 0, 0, 0, 0, 0, 0, 0, 0, 0, 0, 1, 1, 0, 0, 1, 1, 0, 1, 0, 1,\n",
       "       0, 0, 0, 1, 1, 0, 0, 1, 0, 0, 1, 0, 1, 1, 0, 0, 0, 0, 1, 0, 0, 0,\n",
       "       0, 0, 1, 1, 1, 1, 0, 0, 0, 1, 1, 0, 0, 0, 1, 0, 0, 0, 0, 1, 0, 0,\n",
       "       0, 0, 0, 0, 0, 0, 0, 0, 1, 1, 0, 0, 0, 1, 1, 1, 1, 0, 0, 0, 0, 0,\n",
       "       1, 0, 0, 0, 0, 1, 0, 0, 0, 0, 1, 0, 0, 0, 1, 0, 0, 0, 1, 0, 1, 1,\n",
       "       0, 0, 1, 1, 0, 0, 0, 0, 0, 1, 0, 0, 1, 1, 0, 0, 0, 0, 0, 0, 1, 0,\n",
       "       0, 0, 1, 1, 1, 0, 0, 1, 0, 1, 1, 1, 0, 0, 1, 0, 1, 0, 0, 0, 0, 0,\n",
       "       1, 0, 0, 1, 1, 0, 0, 0, 0, 0, 1, 1, 1, 0, 0, 1, 0, 1, 1, 0, 0, 0,\n",
       "       0, 0, 0, 0, 1, 0, 0, 1, 0, 0, 0, 0, 0, 0, 1, 1, 0, 0, 0, 0, 0, 1,\n",
       "       0, 0, 0, 1, 0, 1, 0, 0, 0, 1, 0, 1, 0, 1, 1, 1, 1, 1, 0, 1, 0, 1,\n",
       "       0, 0, 0, 1, 0, 0, 0, 1, 0, 0, 0, 0, 0, 1, 0, 0, 1, 1, 1, 0, 0, 0,\n",
       "       0, 1, 0, 0, 0, 0, 1, 0, 1, 0, 1, 0, 0, 0, 1, 0, 0, 0, 0, 0, 0, 1,\n",
       "       0, 1, 0, 1, 0, 0, 0, 0, 0, 0, 0, 1, 0, 0, 1, 0, 0, 0, 0, 1, 0, 0,\n",
       "       0, 0, 1, 0, 0, 0, 0, 0, 1, 0, 0, 0, 0, 0, 0, 0, 0, 0, 0, 0, 0, 1,\n",
       "       0, 0, 0, 0, 0, 0, 0, 0, 0, 0, 0, 1, 0, 1, 1, 0, 0, 0, 0, 1, 1, 0,\n",
       "       0, 0, 1, 0, 1, 0, 1, 0, 1, 0, 0, 0, 1, 0, 1, 0, 0, 0, 0, 0, 1, 0,\n",
       "       0, 1, 0, 1, 1, 0, 1, 0, 0, 0, 0, 0, 0, 0, 1, 0, 0, 0, 0, 1, 0, 0,\n",
       "       0, 0, 0, 1, 0, 0, 0, 0, 0, 0, 0, 1, 0, 1, 1, 0, 0, 0, 0, 0, 0, 0,\n",
       "       0, 0, 0, 0, 1, 1, 1, 0, 0, 0, 0, 0, 0, 1, 0, 0, 0, 0, 1, 0, 1, 0,\n",
       "       0, 0, 0, 0, 0, 0, 1, 1, 0, 1, 0, 0, 0, 0, 1, 0, 0, 1, 0, 0, 1, 0,\n",
       "       0, 0, 1, 1, 0, 1, 0, 0, 0, 0, 1, 0, 0, 0, 1, 0, 1, 0, 1, 1, 0, 1,\n",
       "       0, 0, 0, 1, 0, 0, 0, 1, 0, 0, 0, 0, 0, 0, 1, 0, 0, 0, 0, 0, 1, 1,\n",
       "       0, 0, 1, 0, 0, 1, 1, 0, 0, 1, 0, 0, 0, 0, 0, 1, 0, 1, 0, 0, 0, 0,\n",
       "       0, 1, 0, 0, 0, 0, 0, 1, 1, 0, 0, 0, 0, 0, 0, 0, 0, 0, 0, 0, 0, 0,\n",
       "       0, 0, 0, 0, 0, 0, 1, 1, 0, 0, 1, 0, 0, 1, 0, 0, 1, 0, 0, 0, 1, 0,\n",
       "       0, 0, 1, 0, 0, 0, 1, 0, 0, 0, 0, 0, 0, 1, 0, 1, 0, 0, 0, 0, 0, 1,\n",
       "       0, 1, 0, 0, 1, 0, 0, 0, 0, 0, 0, 0, 0, 0, 1, 1, 0, 0, 0, 1, 1, 0,\n",
       "       0, 0, 1, 0, 0, 0, 0, 0, 0, 0, 0, 0, 0, 0, 0, 0, 0, 0, 0, 0, 0, 0,\n",
       "       0, 0, 0, 0, 0, 0, 0, 1, 0, 0, 0, 0, 0, 0, 0, 0, 0, 0, 0, 0, 0, 1,\n",
       "       0, 1, 0, 0, 0, 0, 0, 1], dtype=int64)"
      ]
     },
     "execution_count": 80,
     "metadata": {},
     "output_type": "execute_result"
    }
   ],
   "source": [
    "titanic_train_pred"
   ]
  },
  {
   "cell_type": "code",
   "execution_count": 82,
   "metadata": {},
   "outputs": [
    {
     "data": {
      "text/plain": [
       "array([[402,  31],\n",
       "       [113, 166]], dtype=int64)"
      ]
     },
     "execution_count": 82,
     "metadata": {},
     "output_type": "execute_result"
    }
   ],
   "source": [
    "from sklearn.metrics import confusion_matrix\n",
    "\n",
    "confusion_matrix(titanic_labels, titanic_train_pred)"
   ]
  },
  {
   "cell_type": "code",
   "execution_count": 83,
   "metadata": {},
   "outputs": [
    {
     "data": {
      "text/plain": [
       "0.8116110590902372"
      ]
     },
     "execution_count": 83,
     "metadata": {},
     "output_type": "execute_result"
    }
   ],
   "source": [
    "from sklearn.metrics import roc_auc_score\n",
    "\n",
    "roc_auc_score(titanic_train_pred, titanic_labels)"
   ]
  },
  {
   "cell_type": "code",
   "execution_count": 86,
   "metadata": {},
   "outputs": [
    {
     "name": "stdout",
     "output_type": "stream",
     "text": [
      "0.5949820788530465\n",
      "0.8426395939086294\n"
     ]
    }
   ],
   "source": [
    "from sklearn.metrics import precision_score, recall_score\n",
    "\n",
    "print(precision_score(titanic_train_pred, titanic_labels))\n",
    "print(recall_score(titanic_train_pred, titanic_labels))"
   ]
  },
  {
   "cell_type": "code",
   "execution_count": null,
   "metadata": {},
   "outputs": [],
   "source": []
  },
  {
   "cell_type": "code",
   "execution_count": null,
   "metadata": {},
   "outputs": [],
   "source": []
  },
  {
   "cell_type": "code",
   "execution_count": null,
   "metadata": {},
   "outputs": [],
   "source": []
  },
  {
   "cell_type": "code",
   "execution_count": null,
   "metadata": {},
   "outputs": [],
   "source": []
  }
 ],
 "metadata": {
  "kernelspec": {
   "display_name": "Python 3",
   "language": "python",
   "name": "python3"
  },
  "language_info": {
   "codemirror_mode": {
    "name": "ipython",
    "version": 3
   },
   "file_extension": ".py",
   "mimetype": "text/x-python",
   "name": "python",
   "nbconvert_exporter": "python",
   "pygments_lexer": "ipython3",
   "version": "3.6.4"
  }
 },
 "nbformat": 4,
 "nbformat_minor": 2
}
