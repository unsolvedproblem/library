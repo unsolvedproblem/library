{
 "cells": [
  {
   "cell_type": "code",
   "execution_count": 3,
   "metadata": {},
   "outputs": [],
   "source": [
    "import numpy as np\n",
    "np.random.seed(42)\n",
    "import matplotlib\n",
    "import matplotlib.pyplot as plt"
   ]
  },
  {
   "cell_type": "code",
   "execution_count": 9,
   "metadata": {},
   "outputs": [
    {
     "data": {
      "text/plain": [
       "array([[10.03458937],\n",
       "       [ 7.09208457],\n",
       "       [ 7.67248753],\n",
       "       [ 4.48533327],\n",
       "       [ 2.84873365],\n",
       "       [ 4.97674197],\n",
       "       [ 4.01192429],\n",
       "       [ 3.48916245],\n",
       "       [ 4.18639015],\n",
       "       [ 6.76370047],\n",
       "       [ 6.77842214],\n",
       "       [ 6.95564346],\n",
       "       [ 9.37275782],\n",
       "       [ 8.32371398],\n",
       "       [ 8.08271474],\n",
       "       [ 4.17263503],\n",
       "       [ 6.67685819],\n",
       "       [ 4.78412174],\n",
       "       [ 3.97636422],\n",
       "       [ 5.48120336],\n",
       "       [ 4.18644465],\n",
       "       [ 3.14941547],\n",
       "       [ 5.64999277],\n",
       "       [ 8.67408925],\n",
       "       [ 3.83943474],\n",
       "       [ 6.7485884 ],\n",
       "       [ 6.36986106],\n",
       "       [ 7.65524359],\n",
       "       [ 3.64347891],\n",
       "       [ 7.93247162],\n",
       "       [ 7.81592396],\n",
       "       [ 3.65960408],\n",
       "       [ 9.51192857],\n",
       "       [ 9.47499629],\n",
       "       [ 4.12751971],\n",
       "       [ 4.75370223],\n",
       "       [ 8.26043635],\n",
       "       [ 9.24494937],\n",
       "       [ 5.6080433 ],\n",
       "       [ 4.2785407 ],\n",
       "       [ 6.32216492],\n",
       "       [ 7.65852503],\n",
       "       [ 6.04012335],\n",
       "       [ 6.75684203],\n",
       "       [ 6.11258454],\n",
       "       [ 9.0554243 ],\n",
       "       [ 3.45684006],\n",
       "       [ 3.70973957],\n",
       "       [ 6.65255508],\n",
       "       [ 9.41932597]])"
      ]
     },
     "metadata": {},
     "output_type": "display_data"
    },
    {
     "data": {
      "text/plain": [
       "array([10.03458937,  7.09208457,  7.67248753,  4.48533327,  2.84873365,\n",
       "        4.97674197,  4.01192429,  3.48916245,  4.18639015,  6.76370047,\n",
       "        6.77842214,  6.95564346,  9.37275782,  8.32371398,  8.08271474,\n",
       "        4.17263503,  6.67685819,  4.78412174,  3.97636422,  5.48120336,\n",
       "        4.18644465,  3.14941547,  5.64999277,  8.67408925,  3.83943474,\n",
       "        6.7485884 ,  6.36986106,  7.65524359,  3.64347891,  7.93247162,\n",
       "        7.81592396,  3.65960408,  9.51192857,  9.47499629,  4.12751971,\n",
       "        4.75370223,  8.26043635,  9.24494937,  5.6080433 ,  4.2785407 ,\n",
       "        6.32216492,  7.65852503,  6.04012335,  6.75684203,  6.11258454,\n",
       "        9.0554243 ,  3.45684006,  3.70973957,  6.65255508,  9.41932597])"
      ]
     },
     "metadata": {},
     "output_type": "display_data"
    }
   ],
   "source": [
    "m = 50\n",
    "X = 2 * np.random.rand(m, 1)\n",
    "y = (4 + 3 * X + np.random.randn(m, 1))\n",
    "display(y)\n",
    "y = y.ravel()\n",
    "display(y)"
   ]
  },
  {
   "cell_type": "code",
   "execution_count": 10,
   "metadata": {},
   "outputs": [
    {
     "ename": "ImportError",
     "evalue": "cannot import name 'SVC'",
     "output_type": "error",
     "traceback": [
      "\u001b[1;31m---------------------------------------------------------------------------\u001b[0m",
      "\u001b[1;31mImportError\u001b[0m                               Traceback (most recent call last)",
      "\u001b[1;32m<ipython-input-10-26da739725d4>\u001b[0m in \u001b[0;36m<module>\u001b[1;34m\u001b[0m\n\u001b[0;32m      1\u001b[0m \u001b[1;32mfrom\u001b[0m \u001b[0msklearn\u001b[0m\u001b[1;33m.\u001b[0m\u001b[0mpreprocessing\u001b[0m \u001b[1;32mimport\u001b[0m \u001b[0mStandardScaler\u001b[0m\u001b[1;33m\u001b[0m\u001b[0m\n\u001b[1;32m----> 2\u001b[1;33m \u001b[1;32mfrom\u001b[0m \u001b[0msklearn\u001b[0m \u001b[1;32mimport\u001b[0m \u001b[0mSVC\u001b[0m\u001b[1;33m\u001b[0m\u001b[0m\n\u001b[0m\u001b[0;32m      3\u001b[0m \u001b[1;32mfrom\u001b[0m \u001b[0msklearn\u001b[0m\u001b[1;33m.\u001b[0m\u001b[0msvm\u001b[0m \u001b[1;32mimport\u001b[0m \u001b[0mLinearSVC\u001b[0m\u001b[1;33m\u001b[0m\u001b[0m\n\u001b[0;32m      4\u001b[0m \u001b[0mhelp\u001b[0m\u001b[1;33m(\u001b[0m\u001b[0mSVC\u001b[0m\u001b[1;33m)\u001b[0m \u001b[1;31m# kernel, C, probability, degree, coef0\u001b[0m\u001b[1;33m\u001b[0m\u001b[0m\n\u001b[0;32m      5\u001b[0m \u001b[0mhelp\u001b[0m\u001b[1;33m(\u001b[0m\u001b[0mLinearSVC\u001b[0m\u001b[1;33m)\u001b[0m \u001b[1;31m# loss (hinge?), decision_function, coef_\u001b[0m\u001b[1;33m\u001b[0m\u001b[0m\n",
      "\u001b[1;31mImportError\u001b[0m: cannot import name 'SVC'"
     ]
    }
   ],
   "source": [
    "from sklearn.preprocessing import StandardScaler\n",
    "from sklearn import SVC\n",
    "from sklearn.svm import LinearSVC\n",
    "help(SVC) # kernel, C, probability, degree, coef0\n",
    "help(LinearSVC) # loss (hinge?), decision_function, coef_\n",
    "help(StandardScaler())\n",
    "#이상치 탐지"
   ]
  },
  {
   "cell_type": "code",
   "execution_count": null,
   "metadata": {},
   "outputs": [],
   "source": []
  }
 ],
 "metadata": {
  "kernelspec": {
   "display_name": "Python 3",
   "language": "python",
   "name": "python3"
  },
  "language_info": {
   "codemirror_mode": {
    "name": "ipython",
    "version": 3
   },
   "file_extension": ".py",
   "mimetype": "text/x-python",
   "name": "python",
   "nbconvert_exporter": "python",
   "pygments_lexer": "ipython3",
   "version": "3.6.6"
  }
 },
 "nbformat": 4,
 "nbformat_minor": 2
}
