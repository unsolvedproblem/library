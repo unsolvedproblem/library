{
 "cells": [
  {
   "cell_type": "markdown",
   "metadata": {},
   "source": [
    "# First Contact with TensorFlow\n",
    "\n",
    " 1. 텐서플로우 기본다지기\n",
    " 2. 텐서플로우 선형회귀분석 \n",
    " 3. 텐서플로우 클러스터링\n",
    " 4. 텐서플로우 단일 레이어 뉴럴 네트워크\n",
    " 5. 텐서플로우 다중 레이어 뉴럴 네트워크\n",
    " 6. 병렬처리"
   ]
  },
  {
   "cell_type": "markdown",
   "metadata": {},
   "source": [
    "## 1. 텐서플로우 기본다지기"
   ]
  },
  {
   "cell_type": "code",
   "execution_count": null,
   "metadata": {},
   "outputs": [],
   "source": [
    "### 기본설정\n",
    "import tensorflow as tf\n",
    "import numpy as np\n",
    "import matplotlib.pyplot as plt\n",
    "\n",
    "def reset_graph(seed=42):\n",
    "    tf.reset_default_graph()\n",
    "    tf.set_random_seed(seed)\n",
    "    np.random.seed(seed)"
   ]
  },
  {
   "cell_type": "code",
   "execution_count": null,
   "metadata": {},
   "outputs": [],
   "source": [
    "reset_graph()\n",
    "\n",
    "a = tf.placeholder(\"float\")\n",
    "b = tf.placeholder(\"float\")\n",
    "\n",
    "y = tf.multiply(a, b)\n",
    "\n",
    "sess = tf.Session()\n",
    "\n",
    "print(sess.run(y, feed_dict={a: 3, b: 3}))\n",
    "sess.close()"
   ]
  },
  {
   "cell_type": "markdown",
   "metadata": {},
   "source": [
    "tensorflow operations  \n",
    "  \n",
    "tf.add  \n",
    "tf.subtract  \n",
    "tf.multiply  \n",
    "tf.truediv  \n",
    "tf.mod  \n",
    "tf.abs  \n",
    "tf.negative  \n",
    "tf.sign  \n",
    "tf.reciprocal ##역수 tf.reciprocal(3) = 1/3  \n",
    "tf.square  \n",
    "tf.round ##반올림 값  \n",
    "tf.sqrt ##제곱근  \n",
    "tf.pow ## 거듭제곱  \n",
    "tf.exp ## 지수 값 y = e^x  \n",
    "tf.log ## 로그 랎 y = ln e  \n",
    "tf.maximum  \n",
    "tf.minimum  \n",
    "tf.cos  \n",
    "tf.sin  "
   ]
  },
  {
   "cell_type": "code",
   "execution_count": null,
   "metadata": {},
   "outputs": [],
   "source": [
    "reset_graph()\n",
    "\n",
    "a = tf.diag([1,2,3,4,5])\n",
    "\n",
    "sess = tf.Session()\n",
    "print(sess.run(a))\n",
    "sess.close()"
   ]
  },
  {
   "cell_type": "code",
   "execution_count": null,
   "metadata": {},
   "outputs": [],
   "source": [
    "with tf.Session() as sess:\n",
    "    t = a.eval()\n",
    "t"
   ]
  },
  {
   "cell_type": "markdown",
   "metadata": {},
   "source": [
    "행렬 연산  \n",
    "\n",
    "tf.daig  \n",
    "tf.transpose  \n",
    "tf.matmul  \n",
    "tf.matrix_determinant  \n",
    "tf.matrix_inverse  "
   ]
  },
  {
   "cell_type": "markdown",
   "metadata": {},
   "source": [
    "## 2. 텐서플로우 선형 회귀분석"
   ]
  },
  {
   "cell_type": "code",
   "execution_count": null,
   "metadata": {},
   "outputs": [],
   "source": [
    "import numpy as np\n",
    "\n",
    "\n",
    "num_points = 1000\n",
    "vectors_set = []\n",
    "for i in range(num_points):\n",
    "    x1 = np.random.normal(0.0, 0.55)\n",
    "    y1 = x1 * 0.1 + 0.3 + np.random.normal(0.0, 0.03)\n",
    "    vectors_set.append([x1, y1])\n",
    "\n",
    "x_data = [v[0] for v in vectors_set]\n",
    "y_data = [v[1] for v in vectors_set]\n",
    "\n",
    "import matplotlib.pyplot as plt\n",
    "\n",
    "plt.plot(x_data, y_data, 'ro',label ='Original data', alpha=0.5)\n",
    "plt.legend()"
   ]
  },
  {
   "cell_type": "code",
   "execution_count": null,
   "metadata": {},
   "outputs": [],
   "source": [
    "reset_graph()\n",
    "\n",
    "### 1 = 랜덤 숫자 개수\n",
    "W = tf.Variable(tf.random_uniform([1], -1.0, 1.0))\n",
    "b = tf.Variable(tf.zeros([1]))\n",
    "\n",
    "y = W * x_data + b\n",
    "\n",
    "## reduce_mean 차원을 줄이면서 계산함\n",
    "## axis를 통해 축을 결정해줄 수 있음\n",
    "loss = tf.reduce_mean(tf.square(y - y_data))\n",
    "\n",
    "optimizer = tf.train.GradientDescentOptimizer(0.5)\n",
    "train = optimizer.minimize(loss)\n",
    "\n",
    "\n",
    "## 변수보다 아래에 정의되어야 함\n",
    "init = tf.global_variables_initializer()\n",
    "\n",
    "with tf.Session() as sess:\n",
    "    init.run()\n",
    "    \n",
    "    for step in range(8):\n",
    "        sess.run(train)\n",
    "        print(step, W.eval(), b.eval())\n",
    "        print(step, loss.eval())\n",
    "        \n",
    "        print(W.eval(), b.eval())\n",
    "        plt.plot(x_data, y_data, 'ro')\n",
    "        plt.plot(x_data, W.eval() * x_data + b.eval())\n",
    "        plt.xlabel('x')\n",
    "        plt.xlim(-2,2)\n",
    "        plt.ylim(0.1,0.6)\n",
    "        plt.ylabel('y')\n",
    "    "
   ]
  },
  {
   "cell_type": "markdown",
   "metadata": {},
   "source": [
    "## 3. 텐서플로우 클러스터링"
   ]
  },
  {
   "cell_type": "markdown",
   "metadata": {},
   "source": [
    "tensor 타입에 관련된 함수  \n",
    "\n",
    "tf.shape \n",
    "tf.size  \n",
    "tf.rank  \n",
    "tf.reshape  \n",
    "tf.squeeze  \n",
    "tf.expand_dims  \n",
    "tf.slice  \n",
    "tf.split  \n",
    "tf.tile  \n",
    "tf.concat  \n",
    "tf.reverse  \n",
    "tf.transpose  \n",
    "tf.gather  \n"
   ]
  },
  {
   "cell_type": "code",
   "execution_count": null,
   "metadata": {},
   "outputs": [],
   "source": [
    "reset_graph()\n",
    "\n",
    "vectors = tf.constant([[1,2,3,4],[5,6,7,8]])\n",
    "expanded_vectors = tf.expand_dims(vectors, 0)\n",
    "##두번째 인자는 추가하는 차원의 위치\n",
    "##2는 필요없는 이유가 텐서를 그냥 늘리면 되기 때문인듯\n",
    "##ex tf.concat으로\n",
    "\n",
    "print(expanded_vectors.get_shape())"
   ]
  },
  {
   "cell_type": "markdown",
   "metadata": {},
   "source": [
    "상수를 생성할 수 있는 여러가지 도구들\n",
    "\n",
    "tf.zeros_like  \n",
    "tf.ones_like  \n",
    "tf.fill  \n",
    "tf.constant  \n",
    "\n",
    "\n",
    "tf.random_normal 정규 분포 형태를 갖는 난수 텐서  \n",
    "tf.truncated_normal 2표준편차 밖에 있는 값은 제외한 정규 분포 형태를 갖는 난수 텐서  \n",
    "tf.random_uniform 균등 분포 형태의 난수 텐서를 생성  \n",
    "tf.random_shuffle 첫번째 차원을 기준으로 하여 텐서의 엘리먼트를 섞음  \n",
    "tf.set_random_seed 난수 시드를 제공  "
   ]
  },
  {
   "cell_type": "code",
   "execution_count": null,
   "metadata": {},
   "outputs": [],
   "source": [
    "reset_graph()\n",
    "\n",
    "vectors_ones = tf.zeros_like([1,2])\n",
    "\n",
    "with tf.Session() as sess:\n",
    "    print(vectors_ones.eval())"
   ]
  },
  {
   "cell_type": "code",
   "execution_count": null,
   "metadata": {},
   "outputs": [],
   "source": [
    "reset_graph()\n",
    "\n",
    "a = tf.placeholder(\"float\")\n",
    "b = tf.placeholder(\"float\")\n",
    "y = tf.multiply(a, b)\n",
    "\n",
    "with tf.Session() as sess:\n",
    "    print(y.eval(feed_dict={a: 3, b: 3}))"
   ]
  },
  {
   "cell_type": "markdown",
   "metadata": {},
   "source": [
    "### kmeans clustering 코드따라가 보기"
   ]
  },
  {
   "cell_type": "code",
   "execution_count": null,
   "metadata": {},
   "outputs": [],
   "source": [
    "reset_graph()\n",
    "\n",
    "num_puntos = 2000\n",
    "conjunto_puntos = []\n",
    "for i in range(num_puntos):\n",
    "    if np.random.random() > 0.5:\n",
    "        conjunto_puntos.append([np.random.normal(0.0, 0.9),\n",
    "                               np.random.normal(0.0, 0.9)])\n",
    "    else:\n",
    "        conjunto_puntos.append([np.random.normal(3.0, 0.5), np.random.normal(1.0, 0.5)])"
   ]
  },
  {
   "cell_type": "code",
   "execution_count": null,
   "metadata": {},
   "outputs": [],
   "source": [
    "import matplotlib.pyplot as plt\n",
    "import pandas as pd\n",
    "import seaborn as sns\n",
    "\n",
    "df = pd.DataFrame({\"x\": [v[0] for v in conjunto_puntos],\n",
    "                  \"y\": [v[1] for v in conjunto_puntos]})\n",
    "sns.lmplot(\"x\", \"y\", data=df, fit_reg=False, size=6)"
   ]
  },
  {
   "cell_type": "code",
   "execution_count": null,
   "metadata": {},
   "outputs": [],
   "source": [
    "## kmeans 가자\n",
    "vectors = tf.constant(conjunto_puntos)\n",
    "k = 4\n",
    "centroides = tf.Variable(tf.slice(tf.random_shuffle(vectors),[0,0],[k,-1]))\n",
    "##centroides는 2차원 배열인데 이 것을 섞고 그 중 0,0 부터 3,1까지 가져옴\n"
   ]
  },
  {
   "cell_type": "code",
   "execution_count": null,
   "metadata": {},
   "outputs": [],
   "source": [
    "expanded_vectors = tf.expand_dims(vectors, 0) ##2000개\n",
    "expanded_centroides = tf.expand_dims(centroides, 1) ## 4개\n",
    "##브로드캐스팅을 위해서\n",
    "\n",
    "diff = tf.subtract(expanded_vectors, expanded_centroides)\n",
    "sqr = tf.square(diff)\n",
    "distances = tf.reduce_sum(sqr, 2) ## 2는 axis\n",
    "assignments = tf.argmin(distances, 0) ## 0는 axis"
   ]
  },
  {
   "cell_type": "markdown",
   "metadata": {},
   "source": [
    "tf.reduce_sum처럼 텐서의 차원을 감소시키는 수학연산들  \n",
    "tf.reduce_sum  \n",
    "tf.reduce_prod  \n",
    "tf.reduce_min  \n",
    "tf.reduce_max  \n",
    "tf.reduce_mean  \n",
    "\n",
    "가장 작거나 큰 값의 인덱스를 리턴하는 함수\n",
    "\n",
    "tf.argmin  \n",
    "tf.argmax  "
   ]
  },
  {
   "cell_type": "code",
   "execution_count": null,
   "metadata": {},
   "outputs": [],
   "source": [
    "print(expanded_centroides.get_shape())\n",
    "print(expanded_vectors.get_shape())"
   ]
  },
  {
   "cell_type": "code",
   "execution_count": null,
   "metadata": {},
   "outputs": [],
   "source": [
    "means = tf.concat([tf.reduce_mean(tf.gather(vectors, tf.reshape(tf.where(tf.equal(assignments, c)),\n",
    "                                                                [1, -1])), reduction_indices=[1]) for c in range(k)], 0)"
   ]
  },
  {
   "cell_type": "code",
   "execution_count": null,
   "metadata": {},
   "outputs": [],
   "source": [
    "updata_centroides = tf.assign(centroides, means)"
   ]
  },
  {
   "cell_type": "code",
   "execution_count": null,
   "metadata": {},
   "outputs": [],
   "source": [
    "init = tf.global_variables_initializer()\n",
    "\n",
    "with tf.Session() as sess:\n",
    "    init.run()\n",
    "    for step in range(100):\n",
    "        _, centroid_values, assignment_values = updata_centroides.eval(), centroides.eval(), assignments.eval()"
   ]
  },
  {
   "cell_type": "code",
   "execution_count": null,
   "metadata": {
    "scrolled": true
   },
   "outputs": [],
   "source": [
    "print(centroid_values)"
   ]
  },
  {
   "cell_type": "code",
   "execution_count": null,
   "metadata": {},
   "outputs": [],
   "source": [
    "data = {\"x\": [], \"y\": [], \"cluster\": []}\n",
    "for i in range(len(assignment_values)):\n",
    "    data[\"x\"].append(conjunto_puntos[i][0])\n",
    "    data[\"y\"].append(conjunto_puntos[i][1])\n",
    "    data[\"cluster\"].append(assignment_values[i])\n",
    "df = pd.DataFrame(data)\n",
    "sns.lmplot(\"x\", \"y\", data=df, \n",
    "           fit_reg=False, size=7, \n",
    "           hue=\"cluster\", legend=False)"
   ]
  },
  {
   "cell_type": "markdown",
   "metadata": {},
   "source": [
    "## 4. 텐서플로우 단일 레이어 뉴럴 네트워크"
   ]
  },
  {
   "cell_type": "code",
   "execution_count": null,
   "metadata": {},
   "outputs": [],
   "source": [
    "reset_graph()\n",
    "\n",
    "from tensorflow.examples.tutorials.mnist import input_data\n",
    "mnist = input_data.read_data_sets(\"MNIST_data/\", one_hot=True)"
   ]
  },
  {
   "cell_type": "code",
   "execution_count": null,
   "metadata": {},
   "outputs": [],
   "source": [
    "tf.convert_to_tensor(mnist.train.images).get_shape()"
   ]
  },
  {
   "cell_type": "code",
   "execution_count": null,
   "metadata": {},
   "outputs": [],
   "source": [
    "W = tf.Variable(tf.zeros([784,10]))\n",
    "b = tf.Variable(tf.zeros([10]))\n",
    "\n",
    "x = tf.placeholder(\"float\", [None, 784])\n",
    "y = tf.nn.softmax(tf.matmul(x,W) + b) ## 예측값의 소프트맥스"
   ]
  },
  {
   "cell_type": "code",
   "execution_count": null,
   "metadata": {},
   "outputs": [],
   "source": [
    "y_ = tf.placeholder(\"float\", [None, 10])\n",
    "cross_entropy = -tf.reduce_sum(y_ * tf.log(y))\n",
    "train_step = tf.train.GradientDescentOptimizer(0.01).minimize(cross_entropy)"
   ]
  },
  {
   "cell_type": "code",
   "execution_count": null,
   "metadata": {},
   "outputs": [],
   "source": [
    "init = tf.global_variables_initializer()\n",
    "\n",
    "with tf.Session() as sess:\n",
    "    init.run()\n",
    "    for i in  range(1000):\n",
    "        batch_xs, batch_ys = mnist.train.next_batch(100)\n",
    "        train_step.run(feed_dict={x: batch_xs, y_: batch_ys})\n",
    "        correct_prediction = tf.equal(tf.argmax(y,1), tf.argmax(y_,1))\n",
    "        accuracy = tf.reduce_mean(tf.cast(correct_prediction, \"float\"))\n",
    "        if i % 10 == 0: \n",
    "            print(accuracy.eval(feed_dict={x: mnist.test.images, y_:mnist.test.labels}))"
   ]
  }
 ],
 "metadata": {
  "kernelspec": {
   "display_name": "Python 3",
   "language": "python",
   "name": "python3"
  },
  "language_info": {
   "codemirror_mode": {
    "name": "ipython",
    "version": 3
   },
   "file_extension": ".py",
   "mimetype": "text/x-python",
   "name": "python",
   "nbconvert_exporter": "python",
   "pygments_lexer": "ipython3",
   "version": "3.6.4"
  }
 },
 "nbformat": 4,
 "nbformat_minor": 2
}
