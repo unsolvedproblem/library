{
 "cells": [
  {
   "cell_type": "markdown",
   "metadata": {},
   "source": [
    "__1. Notation__  \n",
    "    Data: $(x_1, y_1), \\dots, (x_N, y_N)$ where $y_i \\in \\{1, -1\\}$, $i = 1, \\dots, N$.  \n",
    "    Classifier: $k_1, k_2, \\dots, k_L$. (These classifiers could be a various kind of classifiers. However, in the book, we only consider Decision Trees)  \n",
    "    Weight for classifier: $\\alpha_1, \\alpha_2, \\dots, \\alpha_m $   \n",
    "    Weight for data: $w_1, w_2, \\dots, w_m$  \n",
    "    Error function: $E(k_m, \\alpha_m) = \\sum^N_{i=1} e^{-y_i C_m (x_i)} $  \n",
    "    Boosted classifier: $C_{m}(X_i) = \\alpha_1k_1(x_i) + \\dots + \\alpha_{m}k_{m}(x_i)$  \n",
    "\n",
    "__Purpose__: For each iteration, we will try to find $k_m, \\alpha_m$ which minimize $E(k_m, \\alpha_m)$      "
   ]
  },
  {
   "cell_type": "markdown",
   "metadata": {},
   "source": [
    "__2. 1-th iteration__  \n",
    "    __a)__\n",
    "    $$\\begin{align}    E(k_1, \\alpha_1) & = \\sum^N_{i=1} e^{-y_iC_1(x_i)} = \\sum^N_{i=1}e^{-y_i\\alpha_1k_1(x_i)} \\\\\\\\\n",
    "                       & = \\sum_{y_i = k_1(x_i)} e^{-\\alpha_1} + \\sum_{y\\neq k_1(x_i)} e^{\\alpha_1} \\\\\\\\ \n",
    "                       & = \\sum^N_{i=1}e^{-\\alpha_1} + \\sum_{y\\neq k_1(x_i)} (e^{\\alpha_1} - e^{-\\alpha_1})\n",
    "                       \\end{align}$$\n",
    "                       \n",
    "Set $k_1$ which minimizes $\\sum_{y \\neq k_1(x_i)}1$.\n",
    "\n",
    "__b)__  \n",
    "To find the proper $\\alpha_1$, consider  $\\partial E/\\partial \\alpha_1$\n",
    "$$\\frac{\\partial E}{\\partial \\alpha_1} = \\sum_{y_i = k_i(x_i}(-e^{-\\alpha_1}) + \\sum_{y_i \\neq k_1(x_i)}e^{\\alpha_1} = 0 \\\\\\\\\n",
    "    \\Leftrightarrow \\alpha_1 = \\frac{1}{2}\\ln \\frac{\\sum_{y_i = k_1 (x_i) }1}{\\sum_{y_i \\neq k_1(x_i)}1}$$"
   ]
  },
  {
   "cell_type": "markdown",
   "metadata": {},
   "source": [
    "3. m-th iteration   \n",
    "    Set $w^{(1)}_i = 1,  w^{(m)}_i = e^{-y_iC_{m-1}(x_i)}$ where $m$ > 1. \n",
    "    \n",
    "    In this case, $$\n",
    "    \\begin{align}    E(k_m, \\alpha_m) & = \\sum^N_{i=1} e^{-y_iC_m(x_i)} \\\\\\\\ \n",
    "                       & = \\sum^N_{i=1}e^{-y_i(C_{m-1}(x_i) + \\alpha_mk_m(x_i))} \\\\\\\\\n",
    "                       & = \\sum^N_{i=1}w^{(m)}_ie^{-y_i\\alpha_mk_m(x_i)} \\\\\\\\\n",
    "                       & = \\sum_{y_i = k_m(x_i)}w^{(m)}_i e^{-\\alpha_m} + \\sum_{y\\neq k_m(x_i)}w^{(m)}_i e^{\\alpha_m} \\\\\\\\ \n",
    "                       & = \\sum^N_{i=1}w^{(m)}_ie^{-\\alpha_m} + \\sum_{y\\neq k_m(x_i)} w^{(m)}_i (e^{\\alpha_m} - e^{-\\alpha_m})\n",
    "                       \\end{align}\n",
    "    $$  \n",
    "    We should minimize $$\\sum_{y\\neq k_m(x_i)} w^{(m)}_i = \\sum_{y\\neq k_m(x_i)} e^{-y_iC_{m-1}(x_i)}$$"
   ]
  },
  {
   "cell_type": "markdown",
   "metadata": {},
   "source": [
    "$k_m$을 잘 선택해서 $y \\neq k_m(x_i) $를 만족하는 $e^{-y_i C_{m-1}(x_i)}$들의 합을 최소화해야함"
   ]
  }
 ],
 "metadata": {
  "kernelspec": {
   "display_name": "Python 3",
   "language": "python",
   "name": "python3"
  },
  "language_info": {
   "codemirror_mode": {
    "name": "ipython",
    "version": 3
   },
   "file_extension": ".py",
   "mimetype": "text/x-python",
   "name": "python",
   "nbconvert_exporter": "python",
   "pygments_lexer": "ipython3",
   "version": "3.6.4"
  }
 },
 "nbformat": 4,
 "nbformat_minor": 2
}
