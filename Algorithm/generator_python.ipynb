{
 "cells": [
  {
   "cell_type": "markdown",
   "metadata": {},
   "source": [
    "### 기회가 됐으니 제너레이터 사용 방법을 배워보자!(generator)  \n",
    "참고 사이트 https://dojang.io/mod/page/view.php?id=2412  \n",
    "\n",
    "제너레이터(generator)는 이터레이터(iterator)를 생성해주는 함수이다. 제너레이터는 함수 안에서 yield라는 키워드만 사용하면 된다(yield라는 키워드가 하나라도 있으면 제너레이터가 된다).   "
   ]
  },
  {
   "cell_type": "code",
   "execution_count": 1,
   "metadata": {},
   "outputs": [
    {
     "name": "stdout",
     "output_type": "stream",
     "text": [
      "0\n",
      "1\n",
      "2\n"
     ]
    }
   ],
   "source": [
    "def number_generator():\n",
    "    yield 0\n",
    "    yield 1\n",
    "    yield 2\n",
    "    \n",
    "for i in number_generator():\n",
    "    print(i)"
   ]
  },
  {
   "cell_type": "markdown",
   "metadata": {},
   "source": [
    "### yield의 동작 과정 알아보기"
   ]
  },
  {
   "cell_type": "code",
   "execution_count": 2,
   "metadata": {},
   "outputs": [
    {
     "name": "stdout",
     "output_type": "stream",
     "text": [
      "0\n",
      "1\n",
      "2\n"
     ]
    }
   ],
   "source": [
    "def number_generator():\n",
    "    yield 0 # 0을 함수 바깥으로 전달하면서 코드 실행을 함수 바깥에 양보\n",
    "    yield 1 # 1을 함수 바깥으로 전달하면서 코드 실행을 함수 바깥에 양보\n",
    "    yield 2 # 2을 함수 바깥으로 전달하면서 코드 실행을 함수 바깥에 양보\n",
    "    \n",
    "g = number_generator()\n",
    "\n",
    "a = next(g)\n",
    "print(a)\n",
    "\n",
    "b = next(g)\n",
    "print(b)\n",
    "\n",
    "c = next(g)\n",
    "print(c)\n",
    "\n",
    "for i in range(4):"
   ]
  },
  {
   "cell_type": "markdown",
   "metadata": {},
   "source": [
    "참고사이트에 정말 좋은 그림이 있었다."
   ]
  },
  {
   "attachments": {},
   "cell_type": "markdown",
   "metadata": {},
   "source": [
    "![yield.png](./images/yield.png)"
   ]
  },
  {
   "cell_type": "markdown",
   "metadata": {},
   "source": [
    "그림을 보게 되면 yield의 동작원리를 쉽게 알 수 있다.  \n",
    "~~~\n",
    "a = next(g)\n",
    "~~~ \n",
    "가 실행되면 g에서 첫 yield를 실행하고 g는 대기상태가 된다.\n",
    "그 후에 함수 바깥으로 0을 전달하고 실행을 양보한다.  \n",
    "그렇게 되면서 print(a)가 동작 할 수 있고, b=next(g)가 동작할 수 있게 된다.  \n",
    "~~~\n",
    "b = nex(g)\n",
    "~~~\n",
    "가 실행되면 함수는 대기 상태에서 yield 0 이후 코드를 실행한다.\n",
    "\n",
    "같은 방식으로 계속 진행되는 것을 볼 수 있다."
   ]
  },
  {
   "cell_type": "markdown",
   "metadata": {},
   "source": [
    "### 제너레이터 만들기"
   ]
  },
  {
   "cell_type": "code",
   "execution_count": 3,
   "metadata": {},
   "outputs": [
    {
     "name": "stdout",
     "output_type": "stream",
     "text": [
      "0\n",
      "1\n",
      "2\n"
     ]
    }
   ],
   "source": [
    "def number_generator(stop):\n",
    "    n = 0\n",
    "    while n < stop:\n",
    "        yield n\n",
    "        n += 1\n",
    "        \n",
    "for i in  number_generator(3):\n",
    "    print(i)"
   ]
  },
  {
   "cell_type": "markdown",
   "metadata": {},
   "source": [
    "이 경우는 함수 안에서  n = 0가 선언된 이후에 while문에 들어가지만 동작 원리는 위와 같다.  \n",
    "~~~\n",
    "for i in number_generator(3):\n",
    "    print(i)\n",
    "~~~\n",
    "가 실행되면 number_generator(3)이 실행된다. \n",
    "- 그러면 n = 0이 선언된 후에 while문에 진입하고 yield n 이 실행된다. \n",
    "- 그 후에 number_generator()를 빠져나오고, i에 n이 입력되고 print(i)를 만나 0이 출력된다. \n",
    "- 그 후 for문을 다시 들어가서 number_generator()에 yield n 다음 코드가 실행된다. \n",
    "- 그러면 n = 1이 되고 while문 안으로 다시 들어간다."
   ]
  },
  {
   "cell_type": "markdown",
   "metadata": {},
   "source": [
    "### yield에서 함수 호출하기"
   ]
  },
  {
   "cell_type": "code",
   "execution_count": 4,
   "metadata": {},
   "outputs": [
    {
     "name": "stdout",
     "output_type": "stream",
     "text": [
      "APPLE\n",
      "PEAR\n",
      "GRAPE\n",
      "PINEAPPLE\n",
      "ORANGE\n"
     ]
    }
   ],
   "source": [
    "def upper_generator(x):\n",
    "    for i in x:\n",
    "        yield i.upper()\n",
    "        \n",
    "fruits = ['apple','pear','grape','pineapple','orange']\n",
    "for i in upper_generator(fruits):\n",
    "    print(i)"
   ]
  },
  {
   "cell_type": "markdown",
   "metadata": {},
   "source": [
    "yield안에 함수를 넣어도 된다."
   ]
  },
  {
   "cell_type": "markdown",
   "metadata": {},
   "source": [
    "### yield from으로 값을 여러 번 바깥으로 전달하기\n",
    "지금까지 값을 여러 번 바깥으로 전달할 떄는 for 또는 while 반복문으로 반복하면서 yield를 사용했다."
   ]
  },
  {
   "cell_type": "code",
   "execution_count": 5,
   "metadata": {},
   "outputs": [
    {
     "name": "stdout",
     "output_type": "stream",
     "text": [
      "APPLE\n",
      "PEAR\n",
      "GRAPE\n",
      "PINEAPPLE\n",
      "ORANGE\n"
     ]
    }
   ],
   "source": [
    "def upper_generator(x):\n",
    "    for i in x:\n",
    "        yield i.upper()\n",
    "        \n",
    "fruits = ['apple','pear','grape','pineapple','orange']\n",
    "for i in upper_generator(fruits):\n",
    "    print(i)"
   ]
  },
  {
   "cell_type": "markdown",
   "metadata": {},
   "source": [
    "이런 경우에는 매번 반복문을 사용하지 않고, yield from을 사용한다. yield from에는 반복 가능한 객체, 이터레이터, 제너레이터 객체를 지정한다(파이썬 3.3 이상부터 사용 가능).  \n",
    "- yield from 반복가능한 객체\n",
    "- yield from 이터레이터\n",
    "- yield from 제너레이터 객체"
   ]
  },
  {
   "cell_type": "code",
   "execution_count": 6,
   "metadata": {},
   "outputs": [
    {
     "name": "stdout",
     "output_type": "stream",
     "text": [
      "APPLE\n",
      "PEAR\n",
      "GRAPE\n",
      "PINEAPPLE\n",
      "ORANGE\n"
     ]
    }
   ],
   "source": [
    "def upper_generator(x):\n",
    "    x = list(map(lambda x: x.upper(), x))\n",
    "    yield from x\n",
    "        \n",
    "fruits = ['apple','pear','grape','pineapple','orange']\n",
    "for i in upper_generator(fruits):\n",
    "    print(i)"
   ]
  },
  {
   "cell_type": "markdown",
   "metadata": {},
   "source": [
    "### yield from에 제너레이터 객체 지정하기"
   ]
  },
  {
   "cell_type": "code",
   "execution_count": 7,
   "metadata": {},
   "outputs": [
    {
     "name": "stdout",
     "output_type": "stream",
     "text": [
      "0\n",
      "1\n",
      "2\n"
     ]
    }
   ],
   "source": [
    "def number_generator(stop):\n",
    "    n = 0\n",
    "    while n < stop:\n",
    "        yield n\n",
    "        n += 1\n",
    "    \n",
    "def three_generator():\n",
    "    yield from number_generator(3)\n",
    "    \n",
    "for i in three_generator():\n",
    "    print(i)"
   ]
  }
 ],
 "metadata": {
  "kernelspec": {
   "display_name": "Python 3",
   "language": "python",
   "name": "python3"
  },
  "language_info": {
   "codemirror_mode": {
    "name": "ipython",
    "version": 3
   },
   "file_extension": ".py",
   "mimetype": "text/x-python",
   "name": "python",
   "nbconvert_exporter": "python",
   "pygments_lexer": "ipython3",
   "version": "3.6.4"
  }
 },
 "nbformat": 4,
 "nbformat_minor": 2
}
